{
  "cells": [
    {
      "cell_type": "markdown",
      "metadata": {
        "id": "OW7jQ_S9Uyoo"
      },
      "source": [
        "<h1 align=\"center\">CAS Analysis</h1>"
      ]
    },
    {
      "cell_type": "code",
      "execution_count": null,
      "metadata": {
        "id": "93daIPJwGrGy"
      },
      "outputs": [],
      "source": [
        "import numpy as np\n",
        "import pandas as pd\n",
        "import matplotlib.pyplot as plt\n",
        "import seaborn as sns\n",
        "import statsmodels.api as sm\n",
        "\n",
        "from sklearn.metrics import mean_squared_error \n",
        "\n",
        "import random\n",
        "sns.set_theme()"
      ]
    },
    {
      "cell_type": "code",
      "execution_count": null,
      "metadata": {
        "id": "YXZ-UuhAUyox"
      },
      "outputs": [],
      "source": [
        "pd.set_option('display.max_columns',None)"
      ]
    },
    {
      "cell_type": "code",
      "execution_count": null,
      "metadata": {
        "colab": {
          "base_uri": "https://localhost:8080/"
        },
        "id": "1bk70K6Zbwxc",
        "outputId": "6269725c-167c-432e-be45-e8312009b79f"
      },
      "outputs": [
        {
          "output_type": "stream",
          "name": "stdout",
          "text": [
            "Drive already mounted at /content/gdrive; to attempt to forcibly remount, call drive.mount(\"/content/gdrive\", force_remount=True).\n"
          ]
        }
      ],
      "source": [
        "from google.colab import drive\n",
        "\n",
        "drive.mount('/content/gdrive')"
      ]
    },
    {
      "cell_type": "code",
      "execution_count": null,
      "metadata": {
        "colab": {
          "base_uri": "https://localhost:8080/"
        },
        "id": "_ba3Z3GOb14H",
        "outputId": "282c3c9d-00e5-42c9-dfa5-1df7b14b42d3"
      },
      "outputs": [
        {
          "output_type": "stream",
          "name": "stdout",
          "text": [
            "[Errno 2] No such file or directory: 'gdrive/MyDrive'\n",
            "/content/gdrive/MyDrive\n"
          ]
        }
      ],
      "source": [
        "cd gdrive/MyDrive"
      ]
    },
    {
      "cell_type": "markdown",
      "metadata": {
        "id": "QWk7SGdFUyoy"
      },
      "source": [
        "## Importing data"
      ]
    },
    {
      "cell_type": "code",
      "execution_count": null,
      "metadata": {
        "colab": {
          "base_uri": "https://localhost:8080/",
          "height": 357
        },
        "id": "91cVGTrjG24A",
        "outputId": "373ff9fb-5036-4624-fc19-edcc02afd47b"
      },
      "outputs": [
        {
          "output_type": "execute_result",
          "data": {
            "text/plain": [
              "           X          Y  OBJECTID  advisorySpeed  areaUnitID  bicycle  bridge  \\\n",
              "0  1406914.0  4915023.0         1            NaN    602800.0      0.0     NaN   \n",
              "1  1799023.0  5814728.0         2            NaN    528900.0      0.0     NaN   \n",
              "2  1741193.0  5976099.0         3           55.0    506660.0      0.0     0.0   \n",
              "3  1790288.0  5837387.0         4            NaN    526601.0      0.0     0.0   \n",
              "4  1615675.0  5423627.0         5            NaN    584201.0      0.0     NaN   \n",
              "\n",
              "   bus  carStationWagon  cliffBank crashDirectionDescription  \\\n",
              "0  0.0              1.0        NaN                      Null   \n",
              "1  0.0              3.0        NaN                     North   \n",
              "2  0.0              1.0        1.0                     North   \n",
              "3  0.0              1.0        1.0                     North   \n",
              "4  0.0              2.0        NaN                      Null   \n",
              "\n",
              "  crashFinancialYear  crashLocation1    crashLocation2  crashRoadSideRoad  \\\n",
              "0          2000/2001      MIDLAND ST  PORTSMOUTH DRIVE                NaN   \n",
              "1          2011/2012           SH 1N    KILLARNEY ROAD                NaN   \n",
              "2          2006/2007           SH 1N     SAUNDERS ROAD                NaN   \n",
              "3          2006/2007  RIVERVIEW ROAD   HAKARIMATA ROAD                NaN   \n",
              "4          2003/2004       TALBOT ST      ELIZABETH ST                NaN   \n",
              "\n",
              "      crashSeverity crashSHDescription  crashYear  debris  \\\n",
              "0  Non-Injury Crash                 No       2000     NaN   \n",
              "1  Non-Injury Crash                Yes       2012     NaN   \n",
              "2  Non-Injury Crash                Yes       2007     0.0   \n",
              "3  Non-Injury Crash                 No       2006     0.0   \n",
              "4  Non-Injury Crash                 No       2003     NaN   \n",
              "\n",
              "  directionRoleDescription  ditch  fatalCount  fence flatHill  guardRail  \\\n",
              "0                     East    NaN         0.0    NaN     Flat        NaN   \n",
              "1                    South    NaN         0.0    NaN     Flat        NaN   \n",
              "2                    North    0.0         0.0    0.0     Flat        0.0   \n",
              "3                    North    0.0         0.0    0.0     Flat        0.0   \n",
              "4                     West    NaN         0.0    NaN     Flat        NaN   \n",
              "\n",
              "  holiday  houseOrBuilding  intersection  kerb       light  meshblockId  \\\n",
              "0     NaN              NaN           NaN   NaN    Overcast    2895200.0   \n",
              "1     NaN              NaN           NaN   NaN  Bright sun     915900.0   \n",
              "2     NaN              0.0           NaN   0.0    Twilight     136700.0   \n",
              "3     NaN              0.0           NaN   0.0    Overcast     852200.0   \n",
              "4     NaN              NaN           NaN   NaN    Overcast    2361500.0   \n",
              "\n",
              "   minorInjuryCount  moped  motorcycle  NumberOfLanes  objectThrownOrDropped  \\\n",
              "0               0.0    0.0         0.0            2.0                    NaN   \n",
              "1               0.0    0.0         0.0            4.0                    NaN   \n",
              "2               0.0    0.0         0.0            2.0                    0.0   \n",
              "3               0.0    0.0         0.0            2.0                    0.0   \n",
              "4               0.0    0.0         0.0            2.0                    NaN   \n",
              "\n",
              "   otherObject  otherVehicleType  overBank  parkedVehicle  pedestrian  \\\n",
              "0          NaN               0.0       NaN            NaN         NaN   \n",
              "1          NaN               0.0       NaN            NaN         NaN   \n",
              "2          0.0               0.0       0.0            0.0         NaN   \n",
              "3          0.0               0.0       0.0            0.0         NaN   \n",
              "4          NaN               0.0       NaN            NaN         NaN   \n",
              "\n",
              "   phoneBoxEtc  postOrPole           region roadCharacter roadLane  \\\n",
              "0          NaN         NaN     Otago Region           Nil    2-way   \n",
              "1          NaN         NaN   Waikato Region           Nil    2-way   \n",
              "2          0.0         0.0  Auckland Region        Bridge    2-way   \n",
              "3          0.0         0.0   Waikato Region           Nil    2-way   \n",
              "4          NaN         NaN    Tasman Region           Nil    2-way   \n",
              "\n",
              "  roadSurface  roadworks  schoolBus  seriousInjuryCount  slipOrFlood  \\\n",
              "0      Sealed        NaN        0.0                 0.0          NaN   \n",
              "1      Sealed        NaN        0.0                 0.0          NaN   \n",
              "2      Sealed        0.0        0.0                 0.0          0.0   \n",
              "3      Sealed        0.0        0.0                 0.0          0.0   \n",
              "4      Sealed        NaN        0.0                 0.0          NaN   \n",
              "\n",
              "   speedLimit  strayAnimal streetLight  suv  taxi  temporarySpeedLimit  tlaId  \\\n",
              "0        70.0          NaN        Null  0.0   0.0                  NaN   71.0   \n",
              "1        60.0          NaN        Null  0.0   0.0                  NaN   16.0   \n",
              "2       100.0          0.0        None  0.0   0.0                  NaN   76.0   \n",
              "3       100.0          0.0        None  0.0   0.0                  NaN   13.0   \n",
              "4        50.0          NaN        Null  0.0   0.0                  NaN   51.0   \n",
              "\n",
              "            tlaName trafficControl  trafficIsland  trafficSign  train  tree  \\\n",
              "0      Dunedin City       Give way            NaN          NaN    NaN   NaN   \n",
              "1     Hamilton City        Unknown            NaN          NaN    NaN   NaN   \n",
              "2          Auckland            Nil            0.0          0.0    0.0   0.0   \n",
              "3  Waikato District            Nil            0.0          0.0    0.0   0.0   \n",
              "4   Tasman District       Give way            NaN          NaN    NaN   NaN   \n",
              "\n",
              "   truck  unknownVehicleType  urban  vanOrUtility  vehicle  waterRiver  \\\n",
              "0    0.0                 0.0  Urban           1.0      NaN         NaN   \n",
              "1    0.0                 0.0  Urban           0.0      NaN         NaN   \n",
              "2    0.0                 0.0   Open           0.0      0.0         0.0   \n",
              "3    0.0                 0.0   Open           0.0      0.0         0.0   \n",
              "4    0.0                 0.0  Urban           0.0      NaN         NaN   \n",
              "\n",
              "     weatherA weatherB  \n",
              "0        Fine     Null  \n",
              "1        Fine     Null  \n",
              "2  Light rain     Null  \n",
              "3  Light rain     Null  \n",
              "4        Fine     Null  "
            ],
            "text/html": [
              "\n",
              "  <div id=\"df-23ca1d38-ed76-4395-95df-09d4c02951cc\">\n",
              "    <div class=\"colab-df-container\">\n",
              "      <div>\n",
              "<style scoped>\n",
              "    .dataframe tbody tr th:only-of-type {\n",
              "        vertical-align: middle;\n",
              "    }\n",
              "\n",
              "    .dataframe tbody tr th {\n",
              "        vertical-align: top;\n",
              "    }\n",
              "\n",
              "    .dataframe thead th {\n",
              "        text-align: right;\n",
              "    }\n",
              "</style>\n",
              "<table border=\"1\" class=\"dataframe\">\n",
              "  <thead>\n",
              "    <tr style=\"text-align: right;\">\n",
              "      <th></th>\n",
              "      <th>X</th>\n",
              "      <th>Y</th>\n",
              "      <th>OBJECTID</th>\n",
              "      <th>advisorySpeed</th>\n",
              "      <th>areaUnitID</th>\n",
              "      <th>bicycle</th>\n",
              "      <th>bridge</th>\n",
              "      <th>bus</th>\n",
              "      <th>carStationWagon</th>\n",
              "      <th>cliffBank</th>\n",
              "      <th>crashDirectionDescription</th>\n",
              "      <th>crashFinancialYear</th>\n",
              "      <th>crashLocation1</th>\n",
              "      <th>crashLocation2</th>\n",
              "      <th>crashRoadSideRoad</th>\n",
              "      <th>crashSeverity</th>\n",
              "      <th>crashSHDescription</th>\n",
              "      <th>crashYear</th>\n",
              "      <th>debris</th>\n",
              "      <th>directionRoleDescription</th>\n",
              "      <th>ditch</th>\n",
              "      <th>fatalCount</th>\n",
              "      <th>fence</th>\n",
              "      <th>flatHill</th>\n",
              "      <th>guardRail</th>\n",
              "      <th>holiday</th>\n",
              "      <th>houseOrBuilding</th>\n",
              "      <th>intersection</th>\n",
              "      <th>kerb</th>\n",
              "      <th>light</th>\n",
              "      <th>meshblockId</th>\n",
              "      <th>minorInjuryCount</th>\n",
              "      <th>moped</th>\n",
              "      <th>motorcycle</th>\n",
              "      <th>NumberOfLanes</th>\n",
              "      <th>objectThrownOrDropped</th>\n",
              "      <th>otherObject</th>\n",
              "      <th>otherVehicleType</th>\n",
              "      <th>overBank</th>\n",
              "      <th>parkedVehicle</th>\n",
              "      <th>pedestrian</th>\n",
              "      <th>phoneBoxEtc</th>\n",
              "      <th>postOrPole</th>\n",
              "      <th>region</th>\n",
              "      <th>roadCharacter</th>\n",
              "      <th>roadLane</th>\n",
              "      <th>roadSurface</th>\n",
              "      <th>roadworks</th>\n",
              "      <th>schoolBus</th>\n",
              "      <th>seriousInjuryCount</th>\n",
              "      <th>slipOrFlood</th>\n",
              "      <th>speedLimit</th>\n",
              "      <th>strayAnimal</th>\n",
              "      <th>streetLight</th>\n",
              "      <th>suv</th>\n",
              "      <th>taxi</th>\n",
              "      <th>temporarySpeedLimit</th>\n",
              "      <th>tlaId</th>\n",
              "      <th>tlaName</th>\n",
              "      <th>trafficControl</th>\n",
              "      <th>trafficIsland</th>\n",
              "      <th>trafficSign</th>\n",
              "      <th>train</th>\n",
              "      <th>tree</th>\n",
              "      <th>truck</th>\n",
              "      <th>unknownVehicleType</th>\n",
              "      <th>urban</th>\n",
              "      <th>vanOrUtility</th>\n",
              "      <th>vehicle</th>\n",
              "      <th>waterRiver</th>\n",
              "      <th>weatherA</th>\n",
              "      <th>weatherB</th>\n",
              "    </tr>\n",
              "  </thead>\n",
              "  <tbody>\n",
              "    <tr>\n",
              "      <th>0</th>\n",
              "      <td>1406914.0</td>\n",
              "      <td>4915023.0</td>\n",
              "      <td>1</td>\n",
              "      <td>NaN</td>\n",
              "      <td>602800.0</td>\n",
              "      <td>0.0</td>\n",
              "      <td>NaN</td>\n",
              "      <td>0.0</td>\n",
              "      <td>1.0</td>\n",
              "      <td>NaN</td>\n",
              "      <td>Null</td>\n",
              "      <td>2000/2001</td>\n",
              "      <td>MIDLAND ST</td>\n",
              "      <td>PORTSMOUTH DRIVE</td>\n",
              "      <td>NaN</td>\n",
              "      <td>Non-Injury Crash</td>\n",
              "      <td>No</td>\n",
              "      <td>2000</td>\n",
              "      <td>NaN</td>\n",
              "      <td>East</td>\n",
              "      <td>NaN</td>\n",
              "      <td>0.0</td>\n",
              "      <td>NaN</td>\n",
              "      <td>Flat</td>\n",
              "      <td>NaN</td>\n",
              "      <td>NaN</td>\n",
              "      <td>NaN</td>\n",
              "      <td>NaN</td>\n",
              "      <td>NaN</td>\n",
              "      <td>Overcast</td>\n",
              "      <td>2895200.0</td>\n",
              "      <td>0.0</td>\n",
              "      <td>0.0</td>\n",
              "      <td>0.0</td>\n",
              "      <td>2.0</td>\n",
              "      <td>NaN</td>\n",
              "      <td>NaN</td>\n",
              "      <td>0.0</td>\n",
              "      <td>NaN</td>\n",
              "      <td>NaN</td>\n",
              "      <td>NaN</td>\n",
              "      <td>NaN</td>\n",
              "      <td>NaN</td>\n",
              "      <td>Otago Region</td>\n",
              "      <td>Nil</td>\n",
              "      <td>2-way</td>\n",
              "      <td>Sealed</td>\n",
              "      <td>NaN</td>\n",
              "      <td>0.0</td>\n",
              "      <td>0.0</td>\n",
              "      <td>NaN</td>\n",
              "      <td>70.0</td>\n",
              "      <td>NaN</td>\n",
              "      <td>Null</td>\n",
              "      <td>0.0</td>\n",
              "      <td>0.0</td>\n",
              "      <td>NaN</td>\n",
              "      <td>71.0</td>\n",
              "      <td>Dunedin City</td>\n",
              "      <td>Give way</td>\n",
              "      <td>NaN</td>\n",
              "      <td>NaN</td>\n",
              "      <td>NaN</td>\n",
              "      <td>NaN</td>\n",
              "      <td>0.0</td>\n",
              "      <td>0.0</td>\n",
              "      <td>Urban</td>\n",
              "      <td>1.0</td>\n",
              "      <td>NaN</td>\n",
              "      <td>NaN</td>\n",
              "      <td>Fine</td>\n",
              "      <td>Null</td>\n",
              "    </tr>\n",
              "    <tr>\n",
              "      <th>1</th>\n",
              "      <td>1799023.0</td>\n",
              "      <td>5814728.0</td>\n",
              "      <td>2</td>\n",
              "      <td>NaN</td>\n",
              "      <td>528900.0</td>\n",
              "      <td>0.0</td>\n",
              "      <td>NaN</td>\n",
              "      <td>0.0</td>\n",
              "      <td>3.0</td>\n",
              "      <td>NaN</td>\n",
              "      <td>North</td>\n",
              "      <td>2011/2012</td>\n",
              "      <td>SH 1N</td>\n",
              "      <td>KILLARNEY ROAD</td>\n",
              "      <td>NaN</td>\n",
              "      <td>Non-Injury Crash</td>\n",
              "      <td>Yes</td>\n",
              "      <td>2012</td>\n",
              "      <td>NaN</td>\n",
              "      <td>South</td>\n",
              "      <td>NaN</td>\n",
              "      <td>0.0</td>\n",
              "      <td>NaN</td>\n",
              "      <td>Flat</td>\n",
              "      <td>NaN</td>\n",
              "      <td>NaN</td>\n",
              "      <td>NaN</td>\n",
              "      <td>NaN</td>\n",
              "      <td>NaN</td>\n",
              "      <td>Bright sun</td>\n",
              "      <td>915900.0</td>\n",
              "      <td>0.0</td>\n",
              "      <td>0.0</td>\n",
              "      <td>0.0</td>\n",
              "      <td>4.0</td>\n",
              "      <td>NaN</td>\n",
              "      <td>NaN</td>\n",
              "      <td>0.0</td>\n",
              "      <td>NaN</td>\n",
              "      <td>NaN</td>\n",
              "      <td>NaN</td>\n",
              "      <td>NaN</td>\n",
              "      <td>NaN</td>\n",
              "      <td>Waikato Region</td>\n",
              "      <td>Nil</td>\n",
              "      <td>2-way</td>\n",
              "      <td>Sealed</td>\n",
              "      <td>NaN</td>\n",
              "      <td>0.0</td>\n",
              "      <td>0.0</td>\n",
              "      <td>NaN</td>\n",
              "      <td>60.0</td>\n",
              "      <td>NaN</td>\n",
              "      <td>Null</td>\n",
              "      <td>0.0</td>\n",
              "      <td>0.0</td>\n",
              "      <td>NaN</td>\n",
              "      <td>16.0</td>\n",
              "      <td>Hamilton City</td>\n",
              "      <td>Unknown</td>\n",
              "      <td>NaN</td>\n",
              "      <td>NaN</td>\n",
              "      <td>NaN</td>\n",
              "      <td>NaN</td>\n",
              "      <td>0.0</td>\n",
              "      <td>0.0</td>\n",
              "      <td>Urban</td>\n",
              "      <td>0.0</td>\n",
              "      <td>NaN</td>\n",
              "      <td>NaN</td>\n",
              "      <td>Fine</td>\n",
              "      <td>Null</td>\n",
              "    </tr>\n",
              "    <tr>\n",
              "      <th>2</th>\n",
              "      <td>1741193.0</td>\n",
              "      <td>5976099.0</td>\n",
              "      <td>3</td>\n",
              "      <td>55.0</td>\n",
              "      <td>506660.0</td>\n",
              "      <td>0.0</td>\n",
              "      <td>0.0</td>\n",
              "      <td>0.0</td>\n",
              "      <td>1.0</td>\n",
              "      <td>1.0</td>\n",
              "      <td>North</td>\n",
              "      <td>2006/2007</td>\n",
              "      <td>SH 1N</td>\n",
              "      <td>SAUNDERS ROAD</td>\n",
              "      <td>NaN</td>\n",
              "      <td>Non-Injury Crash</td>\n",
              "      <td>Yes</td>\n",
              "      <td>2007</td>\n",
              "      <td>0.0</td>\n",
              "      <td>North</td>\n",
              "      <td>0.0</td>\n",
              "      <td>0.0</td>\n",
              "      <td>0.0</td>\n",
              "      <td>Flat</td>\n",
              "      <td>0.0</td>\n",
              "      <td>NaN</td>\n",
              "      <td>0.0</td>\n",
              "      <td>NaN</td>\n",
              "      <td>0.0</td>\n",
              "      <td>Twilight</td>\n",
              "      <td>136700.0</td>\n",
              "      <td>0.0</td>\n",
              "      <td>0.0</td>\n",
              "      <td>0.0</td>\n",
              "      <td>2.0</td>\n",
              "      <td>0.0</td>\n",
              "      <td>0.0</td>\n",
              "      <td>0.0</td>\n",
              "      <td>0.0</td>\n",
              "      <td>0.0</td>\n",
              "      <td>NaN</td>\n",
              "      <td>0.0</td>\n",
              "      <td>0.0</td>\n",
              "      <td>Auckland Region</td>\n",
              "      <td>Bridge</td>\n",
              "      <td>2-way</td>\n",
              "      <td>Sealed</td>\n",
              "      <td>0.0</td>\n",
              "      <td>0.0</td>\n",
              "      <td>0.0</td>\n",
              "      <td>0.0</td>\n",
              "      <td>100.0</td>\n",
              "      <td>0.0</td>\n",
              "      <td>None</td>\n",
              "      <td>0.0</td>\n",
              "      <td>0.0</td>\n",
              "      <td>NaN</td>\n",
              "      <td>76.0</td>\n",
              "      <td>Auckland</td>\n",
              "      <td>Nil</td>\n",
              "      <td>0.0</td>\n",
              "      <td>0.0</td>\n",
              "      <td>0.0</td>\n",
              "      <td>0.0</td>\n",
              "      <td>0.0</td>\n",
              "      <td>0.0</td>\n",
              "      <td>Open</td>\n",
              "      <td>0.0</td>\n",
              "      <td>0.0</td>\n",
              "      <td>0.0</td>\n",
              "      <td>Light rain</td>\n",
              "      <td>Null</td>\n",
              "    </tr>\n",
              "    <tr>\n",
              "      <th>3</th>\n",
              "      <td>1790288.0</td>\n",
              "      <td>5837387.0</td>\n",
              "      <td>4</td>\n",
              "      <td>NaN</td>\n",
              "      <td>526601.0</td>\n",
              "      <td>0.0</td>\n",
              "      <td>0.0</td>\n",
              "      <td>0.0</td>\n",
              "      <td>1.0</td>\n",
              "      <td>1.0</td>\n",
              "      <td>North</td>\n",
              "      <td>2006/2007</td>\n",
              "      <td>RIVERVIEW ROAD</td>\n",
              "      <td>HAKARIMATA ROAD</td>\n",
              "      <td>NaN</td>\n",
              "      <td>Non-Injury Crash</td>\n",
              "      <td>No</td>\n",
              "      <td>2006</td>\n",
              "      <td>0.0</td>\n",
              "      <td>North</td>\n",
              "      <td>0.0</td>\n",
              "      <td>0.0</td>\n",
              "      <td>0.0</td>\n",
              "      <td>Flat</td>\n",
              "      <td>0.0</td>\n",
              "      <td>NaN</td>\n",
              "      <td>0.0</td>\n",
              "      <td>NaN</td>\n",
              "      <td>0.0</td>\n",
              "      <td>Overcast</td>\n",
              "      <td>852200.0</td>\n",
              "      <td>0.0</td>\n",
              "      <td>0.0</td>\n",
              "      <td>0.0</td>\n",
              "      <td>2.0</td>\n",
              "      <td>0.0</td>\n",
              "      <td>0.0</td>\n",
              "      <td>0.0</td>\n",
              "      <td>0.0</td>\n",
              "      <td>0.0</td>\n",
              "      <td>NaN</td>\n",
              "      <td>0.0</td>\n",
              "      <td>0.0</td>\n",
              "      <td>Waikato Region</td>\n",
              "      <td>Nil</td>\n",
              "      <td>2-way</td>\n",
              "      <td>Sealed</td>\n",
              "      <td>0.0</td>\n",
              "      <td>0.0</td>\n",
              "      <td>0.0</td>\n",
              "      <td>0.0</td>\n",
              "      <td>100.0</td>\n",
              "      <td>0.0</td>\n",
              "      <td>None</td>\n",
              "      <td>0.0</td>\n",
              "      <td>0.0</td>\n",
              "      <td>NaN</td>\n",
              "      <td>13.0</td>\n",
              "      <td>Waikato District</td>\n",
              "      <td>Nil</td>\n",
              "      <td>0.0</td>\n",
              "      <td>0.0</td>\n",
              "      <td>0.0</td>\n",
              "      <td>0.0</td>\n",
              "      <td>0.0</td>\n",
              "      <td>0.0</td>\n",
              "      <td>Open</td>\n",
              "      <td>0.0</td>\n",
              "      <td>0.0</td>\n",
              "      <td>0.0</td>\n",
              "      <td>Light rain</td>\n",
              "      <td>Null</td>\n",
              "    </tr>\n",
              "    <tr>\n",
              "      <th>4</th>\n",
              "      <td>1615675.0</td>\n",
              "      <td>5423627.0</td>\n",
              "      <td>5</td>\n",
              "      <td>NaN</td>\n",
              "      <td>584201.0</td>\n",
              "      <td>0.0</td>\n",
              "      <td>NaN</td>\n",
              "      <td>0.0</td>\n",
              "      <td>2.0</td>\n",
              "      <td>NaN</td>\n",
              "      <td>Null</td>\n",
              "      <td>2003/2004</td>\n",
              "      <td>TALBOT ST</td>\n",
              "      <td>ELIZABETH ST</td>\n",
              "      <td>NaN</td>\n",
              "      <td>Non-Injury Crash</td>\n",
              "      <td>No</td>\n",
              "      <td>2003</td>\n",
              "      <td>NaN</td>\n",
              "      <td>West</td>\n",
              "      <td>NaN</td>\n",
              "      <td>0.0</td>\n",
              "      <td>NaN</td>\n",
              "      <td>Flat</td>\n",
              "      <td>NaN</td>\n",
              "      <td>NaN</td>\n",
              "      <td>NaN</td>\n",
              "      <td>NaN</td>\n",
              "      <td>NaN</td>\n",
              "      <td>Overcast</td>\n",
              "      <td>2361500.0</td>\n",
              "      <td>0.0</td>\n",
              "      <td>0.0</td>\n",
              "      <td>0.0</td>\n",
              "      <td>2.0</td>\n",
              "      <td>NaN</td>\n",
              "      <td>NaN</td>\n",
              "      <td>0.0</td>\n",
              "      <td>NaN</td>\n",
              "      <td>NaN</td>\n",
              "      <td>NaN</td>\n",
              "      <td>NaN</td>\n",
              "      <td>NaN</td>\n",
              "      <td>Tasman Region</td>\n",
              "      <td>Nil</td>\n",
              "      <td>2-way</td>\n",
              "      <td>Sealed</td>\n",
              "      <td>NaN</td>\n",
              "      <td>0.0</td>\n",
              "      <td>0.0</td>\n",
              "      <td>NaN</td>\n",
              "      <td>50.0</td>\n",
              "      <td>NaN</td>\n",
              "      <td>Null</td>\n",
              "      <td>0.0</td>\n",
              "      <td>0.0</td>\n",
              "      <td>NaN</td>\n",
              "      <td>51.0</td>\n",
              "      <td>Tasman District</td>\n",
              "      <td>Give way</td>\n",
              "      <td>NaN</td>\n",
              "      <td>NaN</td>\n",
              "      <td>NaN</td>\n",
              "      <td>NaN</td>\n",
              "      <td>0.0</td>\n",
              "      <td>0.0</td>\n",
              "      <td>Urban</td>\n",
              "      <td>0.0</td>\n",
              "      <td>NaN</td>\n",
              "      <td>NaN</td>\n",
              "      <td>Fine</td>\n",
              "      <td>Null</td>\n",
              "    </tr>\n",
              "  </tbody>\n",
              "</table>\n",
              "</div>\n",
              "      <button class=\"colab-df-convert\" onclick=\"convertToInteractive('df-23ca1d38-ed76-4395-95df-09d4c02951cc')\"\n",
              "              title=\"Convert this dataframe to an interactive table.\"\n",
              "              style=\"display:none;\">\n",
              "        \n",
              "  <svg xmlns=\"http://www.w3.org/2000/svg\" height=\"24px\"viewBox=\"0 0 24 24\"\n",
              "       width=\"24px\">\n",
              "    <path d=\"M0 0h24v24H0V0z\" fill=\"none\"/>\n",
              "    <path d=\"M18.56 5.44l.94 2.06.94-2.06 2.06-.94-2.06-.94-.94-2.06-.94 2.06-2.06.94zm-11 1L8.5 8.5l.94-2.06 2.06-.94-2.06-.94L8.5 2.5l-.94 2.06-2.06.94zm10 10l.94 2.06.94-2.06 2.06-.94-2.06-.94-.94-2.06-.94 2.06-2.06.94z\"/><path d=\"M17.41 7.96l-1.37-1.37c-.4-.4-.92-.59-1.43-.59-.52 0-1.04.2-1.43.59L10.3 9.45l-7.72 7.72c-.78.78-.78 2.05 0 2.83L4 21.41c.39.39.9.59 1.41.59.51 0 1.02-.2 1.41-.59l7.78-7.78 2.81-2.81c.8-.78.8-2.07 0-2.86zM5.41 20L4 18.59l7.72-7.72 1.47 1.35L5.41 20z\"/>\n",
              "  </svg>\n",
              "      </button>\n",
              "      \n",
              "  <style>\n",
              "    .colab-df-container {\n",
              "      display:flex;\n",
              "      flex-wrap:wrap;\n",
              "      gap: 12px;\n",
              "    }\n",
              "\n",
              "    .colab-df-convert {\n",
              "      background-color: #E8F0FE;\n",
              "      border: none;\n",
              "      border-radius: 50%;\n",
              "      cursor: pointer;\n",
              "      display: none;\n",
              "      fill: #1967D2;\n",
              "      height: 32px;\n",
              "      padding: 0 0 0 0;\n",
              "      width: 32px;\n",
              "    }\n",
              "\n",
              "    .colab-df-convert:hover {\n",
              "      background-color: #E2EBFA;\n",
              "      box-shadow: 0px 1px 2px rgba(60, 64, 67, 0.3), 0px 1px 3px 1px rgba(60, 64, 67, 0.15);\n",
              "      fill: #174EA6;\n",
              "    }\n",
              "\n",
              "    [theme=dark] .colab-df-convert {\n",
              "      background-color: #3B4455;\n",
              "      fill: #D2E3FC;\n",
              "    }\n",
              "\n",
              "    [theme=dark] .colab-df-convert:hover {\n",
              "      background-color: #434B5C;\n",
              "      box-shadow: 0px 1px 3px 1px rgba(0, 0, 0, 0.15);\n",
              "      filter: drop-shadow(0px 1px 2px rgba(0, 0, 0, 0.3));\n",
              "      fill: #FFFFFF;\n",
              "    }\n",
              "  </style>\n",
              "\n",
              "      <script>\n",
              "        const buttonEl =\n",
              "          document.querySelector('#df-23ca1d38-ed76-4395-95df-09d4c02951cc button.colab-df-convert');\n",
              "        buttonEl.style.display =\n",
              "          google.colab.kernel.accessAllowed ? 'block' : 'none';\n",
              "\n",
              "        async function convertToInteractive(key) {\n",
              "          const element = document.querySelector('#df-23ca1d38-ed76-4395-95df-09d4c02951cc');\n",
              "          const dataTable =\n",
              "            await google.colab.kernel.invokeFunction('convertToInteractive',\n",
              "                                                     [key], {});\n",
              "          if (!dataTable) return;\n",
              "\n",
              "          const docLinkHtml = 'Like what you see? Visit the ' +\n",
              "            '<a target=\"_blank\" href=https://colab.research.google.com/notebooks/data_table.ipynb>data table notebook</a>'\n",
              "            + ' to learn more about interactive tables.';\n",
              "          element.innerHTML = '';\n",
              "          dataTable['output_type'] = 'display_data';\n",
              "          await google.colab.output.renderOutput(dataTable, element);\n",
              "          const docLink = document.createElement('div');\n",
              "          docLink.innerHTML = docLinkHtml;\n",
              "          element.appendChild(docLink);\n",
              "        }\n",
              "      </script>\n",
              "    </div>\n",
              "  </div>\n",
              "  "
            ]
          },
          "metadata": {},
          "execution_count": 175
        }
      ],
      "source": [
        "df= pd.read_csv('cas_data.csv')\n",
        "df.head()"
      ]
    },
    {
      "cell_type": "code",
      "source": [
        "df['crashSeverity'].value_counts()"
      ],
      "metadata": {
        "colab": {
          "base_uri": "https://localhost:8080/"
        },
        "id": "fEaSLoDmbaCF",
        "outputId": "9547e54c-9d66-4298-eb36-d3b200211a54"
      },
      "execution_count": null,
      "outputs": [
        {
          "output_type": "execute_result",
          "data": {
            "text/plain": [
              "Non-Injury Crash    534058\n",
              "Minor Crash         174849\n",
              "Serious Crash        42884\n",
              "Fatal Crash           6966\n",
              "Name: crashSeverity, dtype: int64"
            ]
          },
          "metadata": {},
          "execution_count": 176
        }
      ]
    },
    {
      "cell_type": "code",
      "execution_count": null,
      "metadata": {
        "colab": {
          "base_uri": "https://localhost:8080/"
        },
        "id": "eWMer30rHEXq",
        "outputId": "c69e4bad-e968-492c-c488-cc4857578089"
      },
      "outputs": [
        {
          "output_type": "execute_result",
          "data": {
            "text/plain": [
              "(758757, 72)"
            ]
          },
          "metadata": {},
          "execution_count": 177
        }
      ],
      "source": [
        "df.shape"
      ]
    },
    {
      "cell_type": "code",
      "execution_count": null,
      "metadata": {
        "id": "O-OqgcaKHJbz",
        "colab": {
          "base_uri": "https://localhost:8080/"
        },
        "outputId": "8dfc1de9-5c01-4616-f45f-27d8d679cc59"
      },
      "outputs": [
        {
          "output_type": "stream",
          "name": "stdout",
          "text": [
            "<class 'pandas.core.frame.DataFrame'>\n",
            "RangeIndex: 758757 entries, 0 to 758756\n",
            "Data columns (total 72 columns):\n",
            " #   Column                     Non-Null Count   Dtype  \n",
            "---  ------                     --------------   -----  \n",
            " 0   X                          758757 non-null  float64\n",
            " 1   Y                          758757 non-null  float64\n",
            " 2   OBJECTID                   758757 non-null  int64  \n",
            " 3   advisorySpeed              28369 non-null   float64\n",
            " 4   areaUnitID                 758675 non-null  float64\n",
            " 5   bicycle                    758752 non-null  float64\n",
            " 6   bridge                     301585 non-null  float64\n",
            " 7   bus                        758752 non-null  float64\n",
            " 8   carStationWagon            758752 non-null  float64\n",
            " 9   cliffBank                  301585 non-null  float64\n",
            " 10  crashDirectionDescription  758757 non-null  object \n",
            " 11  crashFinancialYear         758757 non-null  object \n",
            " 12  crashLocation1             758757 non-null  object \n",
            " 13  crashLocation2             757973 non-null  object \n",
            " 14  crashRoadSideRoad          0 non-null       float64\n",
            " 15  crashSeverity              758757 non-null  object \n",
            " 16  crashSHDescription         758757 non-null  object \n",
            " 17  crashYear                  758757 non-null  int64  \n",
            " 18  debris                     301585 non-null  float64\n",
            " 19  directionRoleDescription   758676 non-null  object \n",
            " 20  ditch                      301585 non-null  float64\n",
            " 21  fatalCount                 758620 non-null  float64\n",
            " 22  fence                      301585 non-null  float64\n",
            " 23  flatHill                   758757 non-null  object \n",
            " 24  guardRail                  301585 non-null  float64\n",
            " 25  holiday                    40949 non-null   object \n",
            " 26  houseOrBuilding            301585 non-null  float64\n",
            " 27  intersection               0 non-null       float64\n",
            " 28  kerb                       301585 non-null  float64\n",
            " 29  light                      758757 non-null  object \n",
            " 30  meshblockId                758675 non-null  float64\n",
            " 31  minorInjuryCount           758620 non-null  float64\n",
            " 32  moped                      758752 non-null  float64\n",
            " 33  motorcycle                 758752 non-null  float64\n",
            " 34  NumberOfLanes              757345 non-null  float64\n",
            " 35  objectThrownOrDropped      301585 non-null  float64\n",
            " 36  otherObject                301585 non-null  float64\n",
            " 37  otherVehicleType           758752 non-null  float64\n",
            " 38  overBank                   301585 non-null  float64\n",
            " 39  parkedVehicle              301585 non-null  float64\n",
            " 40  pedestrian                 24196 non-null   float64\n",
            " 41  phoneBoxEtc                301585 non-null  float64\n",
            " 42  postOrPole                 301585 non-null  float64\n",
            " 43  region                     755835 non-null  object \n",
            " 44  roadCharacter              758757 non-null  object \n",
            " 45  roadLane                   758757 non-null  object \n",
            " 46  roadSurface                758757 non-null  object \n",
            " 47  roadworks                  301585 non-null  float64\n",
            " 48  schoolBus                  758752 non-null  float64\n",
            " 49  seriousInjuryCount         758620 non-null  float64\n",
            " 50  slipOrFlood                301585 non-null  float64\n",
            " 51  speedLimit                 758302 non-null  float64\n",
            " 52  strayAnimal                301585 non-null  float64\n",
            " 53  streetLight                758757 non-null  object \n",
            " 54  suv                        758752 non-null  float64\n",
            " 55  taxi                       758752 non-null  float64\n",
            " 56  temporarySpeedLimit        10723 non-null   float64\n",
            " 57  tlaId                      755835 non-null  float64\n",
            " 58  tlaName                    755835 non-null  object \n",
            " 59  trafficControl             758757 non-null  object \n",
            " 60  trafficIsland              301585 non-null  float64\n",
            " 61  trafficSign                301585 non-null  float64\n",
            " 62  train                      301585 non-null  float64\n",
            " 63  tree                       301585 non-null  float64\n",
            " 64  truck                      758752 non-null  float64\n",
            " 65  unknownVehicleType         758752 non-null  float64\n",
            " 66  urban                      758757 non-null  object \n",
            " 67  vanOrUtility               758752 non-null  float64\n",
            " 68  vehicle                    301585 non-null  float64\n",
            " 69  waterRiver                 301585 non-null  float64\n",
            " 70  weatherA                   758757 non-null  object \n",
            " 71  weatherB                   758757 non-null  object \n",
            "dtypes: float64(50), int64(2), object(20)\n",
            "memory usage: 416.8+ MB\n"
          ]
        }
      ],
      "source": [
        "df.info()"
      ]
    },
    {
      "cell_type": "code",
      "execution_count": null,
      "metadata": {
        "id": "NU2N2kA9Uyo3",
        "scrolled": true,
        "colab": {
          "base_uri": "https://localhost:8080/"
        },
        "outputId": "1bc14aa3-a0c0-4eeb-a3bb-6bf9d0ee5a10"
      },
      "outputs": [
        {
          "output_type": "execute_result",
          "data": {
            "text/plain": [
              "advisorySpeed                96.261122\n",
              "areaUnitID                    0.010807\n",
              "bicycle                       0.000659\n",
              "bridge                       60.252755\n",
              "bus                           0.000659\n",
              "carStationWagon               0.000659\n",
              "cliffBank                    60.252755\n",
              "crashLocation2                0.103327\n",
              "crashRoadSideRoad           100.000000\n",
              "debris                       60.252755\n",
              "directionRoleDescription      0.010675\n",
              "ditch                        60.252755\n",
              "fatalCount                    0.018056\n",
              "fence                        60.252755\n",
              "guardRail                    60.252755\n",
              "holiday                      94.603147\n",
              "houseOrBuilding              60.252755\n",
              "intersection                100.000000\n",
              "kerb                         60.252755\n",
              "meshblockId                   0.010807\n",
              "minorInjuryCount              0.018056\n",
              "moped                         0.000659\n",
              "motorcycle                    0.000659\n",
              "NumberOfLanes                 0.186094\n",
              "objectThrownOrDropped        60.252755\n",
              "otherObject                  60.252755\n",
              "otherVehicleType              0.000659\n",
              "overBank                     60.252755\n",
              "parkedVehicle                60.252755\n",
              "pedestrian                   96.811100\n",
              "phoneBoxEtc                  60.252755\n",
              "postOrPole                   60.252755\n",
              "region                        0.385104\n",
              "roadworks                    60.252755\n",
              "schoolBus                     0.000659\n",
              "seriousInjuryCount            0.018056\n",
              "slipOrFlood                  60.252755\n",
              "speedLimit                    0.059966\n",
              "strayAnimal                  60.252755\n",
              "suv                           0.000659\n",
              "taxi                          0.000659\n",
              "temporarySpeedLimit          98.586768\n",
              "tlaId                         0.385104\n",
              "tlaName                       0.385104\n",
              "trafficIsland                60.252755\n",
              "trafficSign                  60.252755\n",
              "train                        60.252755\n",
              "tree                         60.252755\n",
              "truck                         0.000659\n",
              "unknownVehicleType            0.000659\n",
              "vanOrUtility                  0.000659\n",
              "vehicle                      60.252755\n",
              "waterRiver                   60.252755\n",
              "dtype: float64"
            ]
          },
          "metadata": {},
          "execution_count": 179
        }
      ],
      "source": [
        "null_columns = df.columns[df.isnull().any()]\n",
        "(df[null_columns].isnull().sum()/len(df))*100"
      ]
    },
    {
      "cell_type": "markdown",
      "metadata": {
        "id": "byTShngsUyo4"
      },
      "source": [
        "## Pre-processing"
      ]
    },
    {
      "cell_type": "markdown",
      "metadata": {
        "id": "XZdTpmZyUyo6"
      },
      "source": [
        "### Replacing Null with NaN"
      ]
    },
    {
      "cell_type": "code",
      "execution_count": null,
      "metadata": {
        "id": "TdNO1GSjUyo7",
        "colab": {
          "base_uri": "https://localhost:8080/",
          "height": 357
        },
        "outputId": "b7055772-3e44-41dd-d035-57b6c97ffb7c"
      },
      "outputs": [
        {
          "output_type": "execute_result",
          "data": {
            "text/plain": [
              "           X          Y  OBJECTID  advisorySpeed  areaUnitID  bicycle  bridge  \\\n",
              "0  1406914.0  4915023.0         1            NaN    602800.0      0.0     NaN   \n",
              "1  1799023.0  5814728.0         2            NaN    528900.0      0.0     NaN   \n",
              "2  1741193.0  5976099.0         3           55.0    506660.0      0.0     0.0   \n",
              "3  1790288.0  5837387.0         4            NaN    526601.0      0.0     0.0   \n",
              "4  1615675.0  5423627.0         5            NaN    584201.0      0.0     NaN   \n",
              "\n",
              "   bus  carStationWagon  cliffBank crashDirectionDescription  \\\n",
              "0  0.0              1.0        NaN                       NaN   \n",
              "1  0.0              3.0        NaN                     North   \n",
              "2  0.0              1.0        1.0                     North   \n",
              "3  0.0              1.0        1.0                     North   \n",
              "4  0.0              2.0        NaN                       NaN   \n",
              "\n",
              "  crashFinancialYear  crashLocation1    crashLocation2  crashRoadSideRoad  \\\n",
              "0          2000/2001      MIDLAND ST  PORTSMOUTH DRIVE                NaN   \n",
              "1          2011/2012           SH 1N    KILLARNEY ROAD                NaN   \n",
              "2          2006/2007           SH 1N     SAUNDERS ROAD                NaN   \n",
              "3          2006/2007  RIVERVIEW ROAD   HAKARIMATA ROAD                NaN   \n",
              "4          2003/2004       TALBOT ST      ELIZABETH ST                NaN   \n",
              "\n",
              "      crashSeverity crashSHDescription  crashYear  debris  \\\n",
              "0  Non-Injury Crash                 No       2000     NaN   \n",
              "1  Non-Injury Crash                Yes       2012     NaN   \n",
              "2  Non-Injury Crash                Yes       2007     0.0   \n",
              "3  Non-Injury Crash                 No       2006     0.0   \n",
              "4  Non-Injury Crash                 No       2003     NaN   \n",
              "\n",
              "  directionRoleDescription  ditch  fatalCount  fence flatHill  guardRail  \\\n",
              "0                     East    NaN         0.0    NaN     Flat        NaN   \n",
              "1                    South    NaN         0.0    NaN     Flat        NaN   \n",
              "2                    North    0.0         0.0    0.0     Flat        0.0   \n",
              "3                    North    0.0         0.0    0.0     Flat        0.0   \n",
              "4                     West    NaN         0.0    NaN     Flat        NaN   \n",
              "\n",
              "  holiday  houseOrBuilding  intersection  kerb       light  meshblockId  \\\n",
              "0     NaN              NaN           NaN   NaN    Overcast    2895200.0   \n",
              "1     NaN              NaN           NaN   NaN  Bright sun     915900.0   \n",
              "2     NaN              0.0           NaN   0.0    Twilight     136700.0   \n",
              "3     NaN              0.0           NaN   0.0    Overcast     852200.0   \n",
              "4     NaN              NaN           NaN   NaN    Overcast    2361500.0   \n",
              "\n",
              "   minorInjuryCount  moped  motorcycle  NumberOfLanes  objectThrownOrDropped  \\\n",
              "0               0.0    0.0         0.0            2.0                    NaN   \n",
              "1               0.0    0.0         0.0            4.0                    NaN   \n",
              "2               0.0    0.0         0.0            2.0                    0.0   \n",
              "3               0.0    0.0         0.0            2.0                    0.0   \n",
              "4               0.0    0.0         0.0            2.0                    NaN   \n",
              "\n",
              "   otherObject  otherVehicleType  overBank  parkedVehicle  pedestrian  \\\n",
              "0          NaN               0.0       NaN            NaN         NaN   \n",
              "1          NaN               0.0       NaN            NaN         NaN   \n",
              "2          0.0               0.0       0.0            0.0         NaN   \n",
              "3          0.0               0.0       0.0            0.0         NaN   \n",
              "4          NaN               0.0       NaN            NaN         NaN   \n",
              "\n",
              "   phoneBoxEtc  postOrPole           region roadCharacter roadLane  \\\n",
              "0          NaN         NaN     Otago Region           Nil    2-way   \n",
              "1          NaN         NaN   Waikato Region           Nil    2-way   \n",
              "2          0.0         0.0  Auckland Region        Bridge    2-way   \n",
              "3          0.0         0.0   Waikato Region           Nil    2-way   \n",
              "4          NaN         NaN    Tasman Region           Nil    2-way   \n",
              "\n",
              "  roadSurface  roadworks  schoolBus  seriousInjuryCount  slipOrFlood  \\\n",
              "0      Sealed        NaN        0.0                 0.0          NaN   \n",
              "1      Sealed        NaN        0.0                 0.0          NaN   \n",
              "2      Sealed        0.0        0.0                 0.0          0.0   \n",
              "3      Sealed        0.0        0.0                 0.0          0.0   \n",
              "4      Sealed        NaN        0.0                 0.0          NaN   \n",
              "\n",
              "   speedLimit  strayAnimal streetLight  suv  taxi  temporarySpeedLimit  tlaId  \\\n",
              "0        70.0          NaN         NaN  0.0   0.0                  NaN   71.0   \n",
              "1        60.0          NaN         NaN  0.0   0.0                  NaN   16.0   \n",
              "2       100.0          0.0        None  0.0   0.0                  NaN   76.0   \n",
              "3       100.0          0.0        None  0.0   0.0                  NaN   13.0   \n",
              "4        50.0          NaN         NaN  0.0   0.0                  NaN   51.0   \n",
              "\n",
              "            tlaName trafficControl  trafficIsland  trafficSign  train  tree  \\\n",
              "0      Dunedin City       Give way            NaN          NaN    NaN   NaN   \n",
              "1     Hamilton City        Unknown            NaN          NaN    NaN   NaN   \n",
              "2          Auckland            Nil            0.0          0.0    0.0   0.0   \n",
              "3  Waikato District            Nil            0.0          0.0    0.0   0.0   \n",
              "4   Tasman District       Give way            NaN          NaN    NaN   NaN   \n",
              "\n",
              "   truck  unknownVehicleType  urban  vanOrUtility  vehicle  waterRiver  \\\n",
              "0    0.0                 0.0  Urban           1.0      NaN         NaN   \n",
              "1    0.0                 0.0  Urban           0.0      NaN         NaN   \n",
              "2    0.0                 0.0   Open           0.0      0.0         0.0   \n",
              "3    0.0                 0.0   Open           0.0      0.0         0.0   \n",
              "4    0.0                 0.0  Urban           0.0      NaN         NaN   \n",
              "\n",
              "     weatherA weatherB  \n",
              "0        Fine      NaN  \n",
              "1        Fine      NaN  \n",
              "2  Light rain      NaN  \n",
              "3  Light rain      NaN  \n",
              "4        Fine      NaN  "
            ],
            "text/html": [
              "\n",
              "  <div id=\"df-0ad3765f-cdc0-4191-b7d1-d3f3e6d45b98\">\n",
              "    <div class=\"colab-df-container\">\n",
              "      <div>\n",
              "<style scoped>\n",
              "    .dataframe tbody tr th:only-of-type {\n",
              "        vertical-align: middle;\n",
              "    }\n",
              "\n",
              "    .dataframe tbody tr th {\n",
              "        vertical-align: top;\n",
              "    }\n",
              "\n",
              "    .dataframe thead th {\n",
              "        text-align: right;\n",
              "    }\n",
              "</style>\n",
              "<table border=\"1\" class=\"dataframe\">\n",
              "  <thead>\n",
              "    <tr style=\"text-align: right;\">\n",
              "      <th></th>\n",
              "      <th>X</th>\n",
              "      <th>Y</th>\n",
              "      <th>OBJECTID</th>\n",
              "      <th>advisorySpeed</th>\n",
              "      <th>areaUnitID</th>\n",
              "      <th>bicycle</th>\n",
              "      <th>bridge</th>\n",
              "      <th>bus</th>\n",
              "      <th>carStationWagon</th>\n",
              "      <th>cliffBank</th>\n",
              "      <th>crashDirectionDescription</th>\n",
              "      <th>crashFinancialYear</th>\n",
              "      <th>crashLocation1</th>\n",
              "      <th>crashLocation2</th>\n",
              "      <th>crashRoadSideRoad</th>\n",
              "      <th>crashSeverity</th>\n",
              "      <th>crashSHDescription</th>\n",
              "      <th>crashYear</th>\n",
              "      <th>debris</th>\n",
              "      <th>directionRoleDescription</th>\n",
              "      <th>ditch</th>\n",
              "      <th>fatalCount</th>\n",
              "      <th>fence</th>\n",
              "      <th>flatHill</th>\n",
              "      <th>guardRail</th>\n",
              "      <th>holiday</th>\n",
              "      <th>houseOrBuilding</th>\n",
              "      <th>intersection</th>\n",
              "      <th>kerb</th>\n",
              "      <th>light</th>\n",
              "      <th>meshblockId</th>\n",
              "      <th>minorInjuryCount</th>\n",
              "      <th>moped</th>\n",
              "      <th>motorcycle</th>\n",
              "      <th>NumberOfLanes</th>\n",
              "      <th>objectThrownOrDropped</th>\n",
              "      <th>otherObject</th>\n",
              "      <th>otherVehicleType</th>\n",
              "      <th>overBank</th>\n",
              "      <th>parkedVehicle</th>\n",
              "      <th>pedestrian</th>\n",
              "      <th>phoneBoxEtc</th>\n",
              "      <th>postOrPole</th>\n",
              "      <th>region</th>\n",
              "      <th>roadCharacter</th>\n",
              "      <th>roadLane</th>\n",
              "      <th>roadSurface</th>\n",
              "      <th>roadworks</th>\n",
              "      <th>schoolBus</th>\n",
              "      <th>seriousInjuryCount</th>\n",
              "      <th>slipOrFlood</th>\n",
              "      <th>speedLimit</th>\n",
              "      <th>strayAnimal</th>\n",
              "      <th>streetLight</th>\n",
              "      <th>suv</th>\n",
              "      <th>taxi</th>\n",
              "      <th>temporarySpeedLimit</th>\n",
              "      <th>tlaId</th>\n",
              "      <th>tlaName</th>\n",
              "      <th>trafficControl</th>\n",
              "      <th>trafficIsland</th>\n",
              "      <th>trafficSign</th>\n",
              "      <th>train</th>\n",
              "      <th>tree</th>\n",
              "      <th>truck</th>\n",
              "      <th>unknownVehicleType</th>\n",
              "      <th>urban</th>\n",
              "      <th>vanOrUtility</th>\n",
              "      <th>vehicle</th>\n",
              "      <th>waterRiver</th>\n",
              "      <th>weatherA</th>\n",
              "      <th>weatherB</th>\n",
              "    </tr>\n",
              "  </thead>\n",
              "  <tbody>\n",
              "    <tr>\n",
              "      <th>0</th>\n",
              "      <td>1406914.0</td>\n",
              "      <td>4915023.0</td>\n",
              "      <td>1</td>\n",
              "      <td>NaN</td>\n",
              "      <td>602800.0</td>\n",
              "      <td>0.0</td>\n",
              "      <td>NaN</td>\n",
              "      <td>0.0</td>\n",
              "      <td>1.0</td>\n",
              "      <td>NaN</td>\n",
              "      <td>NaN</td>\n",
              "      <td>2000/2001</td>\n",
              "      <td>MIDLAND ST</td>\n",
              "      <td>PORTSMOUTH DRIVE</td>\n",
              "      <td>NaN</td>\n",
              "      <td>Non-Injury Crash</td>\n",
              "      <td>No</td>\n",
              "      <td>2000</td>\n",
              "      <td>NaN</td>\n",
              "      <td>East</td>\n",
              "      <td>NaN</td>\n",
              "      <td>0.0</td>\n",
              "      <td>NaN</td>\n",
              "      <td>Flat</td>\n",
              "      <td>NaN</td>\n",
              "      <td>NaN</td>\n",
              "      <td>NaN</td>\n",
              "      <td>NaN</td>\n",
              "      <td>NaN</td>\n",
              "      <td>Overcast</td>\n",
              "      <td>2895200.0</td>\n",
              "      <td>0.0</td>\n",
              "      <td>0.0</td>\n",
              "      <td>0.0</td>\n",
              "      <td>2.0</td>\n",
              "      <td>NaN</td>\n",
              "      <td>NaN</td>\n",
              "      <td>0.0</td>\n",
              "      <td>NaN</td>\n",
              "      <td>NaN</td>\n",
              "      <td>NaN</td>\n",
              "      <td>NaN</td>\n",
              "      <td>NaN</td>\n",
              "      <td>Otago Region</td>\n",
              "      <td>Nil</td>\n",
              "      <td>2-way</td>\n",
              "      <td>Sealed</td>\n",
              "      <td>NaN</td>\n",
              "      <td>0.0</td>\n",
              "      <td>0.0</td>\n",
              "      <td>NaN</td>\n",
              "      <td>70.0</td>\n",
              "      <td>NaN</td>\n",
              "      <td>NaN</td>\n",
              "      <td>0.0</td>\n",
              "      <td>0.0</td>\n",
              "      <td>NaN</td>\n",
              "      <td>71.0</td>\n",
              "      <td>Dunedin City</td>\n",
              "      <td>Give way</td>\n",
              "      <td>NaN</td>\n",
              "      <td>NaN</td>\n",
              "      <td>NaN</td>\n",
              "      <td>NaN</td>\n",
              "      <td>0.0</td>\n",
              "      <td>0.0</td>\n",
              "      <td>Urban</td>\n",
              "      <td>1.0</td>\n",
              "      <td>NaN</td>\n",
              "      <td>NaN</td>\n",
              "      <td>Fine</td>\n",
              "      <td>NaN</td>\n",
              "    </tr>\n",
              "    <tr>\n",
              "      <th>1</th>\n",
              "      <td>1799023.0</td>\n",
              "      <td>5814728.0</td>\n",
              "      <td>2</td>\n",
              "      <td>NaN</td>\n",
              "      <td>528900.0</td>\n",
              "      <td>0.0</td>\n",
              "      <td>NaN</td>\n",
              "      <td>0.0</td>\n",
              "      <td>3.0</td>\n",
              "      <td>NaN</td>\n",
              "      <td>North</td>\n",
              "      <td>2011/2012</td>\n",
              "      <td>SH 1N</td>\n",
              "      <td>KILLARNEY ROAD</td>\n",
              "      <td>NaN</td>\n",
              "      <td>Non-Injury Crash</td>\n",
              "      <td>Yes</td>\n",
              "      <td>2012</td>\n",
              "      <td>NaN</td>\n",
              "      <td>South</td>\n",
              "      <td>NaN</td>\n",
              "      <td>0.0</td>\n",
              "      <td>NaN</td>\n",
              "      <td>Flat</td>\n",
              "      <td>NaN</td>\n",
              "      <td>NaN</td>\n",
              "      <td>NaN</td>\n",
              "      <td>NaN</td>\n",
              "      <td>NaN</td>\n",
              "      <td>Bright sun</td>\n",
              "      <td>915900.0</td>\n",
              "      <td>0.0</td>\n",
              "      <td>0.0</td>\n",
              "      <td>0.0</td>\n",
              "      <td>4.0</td>\n",
              "      <td>NaN</td>\n",
              "      <td>NaN</td>\n",
              "      <td>0.0</td>\n",
              "      <td>NaN</td>\n",
              "      <td>NaN</td>\n",
              "      <td>NaN</td>\n",
              "      <td>NaN</td>\n",
              "      <td>NaN</td>\n",
              "      <td>Waikato Region</td>\n",
              "      <td>Nil</td>\n",
              "      <td>2-way</td>\n",
              "      <td>Sealed</td>\n",
              "      <td>NaN</td>\n",
              "      <td>0.0</td>\n",
              "      <td>0.0</td>\n",
              "      <td>NaN</td>\n",
              "      <td>60.0</td>\n",
              "      <td>NaN</td>\n",
              "      <td>NaN</td>\n",
              "      <td>0.0</td>\n",
              "      <td>0.0</td>\n",
              "      <td>NaN</td>\n",
              "      <td>16.0</td>\n",
              "      <td>Hamilton City</td>\n",
              "      <td>Unknown</td>\n",
              "      <td>NaN</td>\n",
              "      <td>NaN</td>\n",
              "      <td>NaN</td>\n",
              "      <td>NaN</td>\n",
              "      <td>0.0</td>\n",
              "      <td>0.0</td>\n",
              "      <td>Urban</td>\n",
              "      <td>0.0</td>\n",
              "      <td>NaN</td>\n",
              "      <td>NaN</td>\n",
              "      <td>Fine</td>\n",
              "      <td>NaN</td>\n",
              "    </tr>\n",
              "    <tr>\n",
              "      <th>2</th>\n",
              "      <td>1741193.0</td>\n",
              "      <td>5976099.0</td>\n",
              "      <td>3</td>\n",
              "      <td>55.0</td>\n",
              "      <td>506660.0</td>\n",
              "      <td>0.0</td>\n",
              "      <td>0.0</td>\n",
              "      <td>0.0</td>\n",
              "      <td>1.0</td>\n",
              "      <td>1.0</td>\n",
              "      <td>North</td>\n",
              "      <td>2006/2007</td>\n",
              "      <td>SH 1N</td>\n",
              "      <td>SAUNDERS ROAD</td>\n",
              "      <td>NaN</td>\n",
              "      <td>Non-Injury Crash</td>\n",
              "      <td>Yes</td>\n",
              "      <td>2007</td>\n",
              "      <td>0.0</td>\n",
              "      <td>North</td>\n",
              "      <td>0.0</td>\n",
              "      <td>0.0</td>\n",
              "      <td>0.0</td>\n",
              "      <td>Flat</td>\n",
              "      <td>0.0</td>\n",
              "      <td>NaN</td>\n",
              "      <td>0.0</td>\n",
              "      <td>NaN</td>\n",
              "      <td>0.0</td>\n",
              "      <td>Twilight</td>\n",
              "      <td>136700.0</td>\n",
              "      <td>0.0</td>\n",
              "      <td>0.0</td>\n",
              "      <td>0.0</td>\n",
              "      <td>2.0</td>\n",
              "      <td>0.0</td>\n",
              "      <td>0.0</td>\n",
              "      <td>0.0</td>\n",
              "      <td>0.0</td>\n",
              "      <td>0.0</td>\n",
              "      <td>NaN</td>\n",
              "      <td>0.0</td>\n",
              "      <td>0.0</td>\n",
              "      <td>Auckland Region</td>\n",
              "      <td>Bridge</td>\n",
              "      <td>2-way</td>\n",
              "      <td>Sealed</td>\n",
              "      <td>0.0</td>\n",
              "      <td>0.0</td>\n",
              "      <td>0.0</td>\n",
              "      <td>0.0</td>\n",
              "      <td>100.0</td>\n",
              "      <td>0.0</td>\n",
              "      <td>None</td>\n",
              "      <td>0.0</td>\n",
              "      <td>0.0</td>\n",
              "      <td>NaN</td>\n",
              "      <td>76.0</td>\n",
              "      <td>Auckland</td>\n",
              "      <td>Nil</td>\n",
              "      <td>0.0</td>\n",
              "      <td>0.0</td>\n",
              "      <td>0.0</td>\n",
              "      <td>0.0</td>\n",
              "      <td>0.0</td>\n",
              "      <td>0.0</td>\n",
              "      <td>Open</td>\n",
              "      <td>0.0</td>\n",
              "      <td>0.0</td>\n",
              "      <td>0.0</td>\n",
              "      <td>Light rain</td>\n",
              "      <td>NaN</td>\n",
              "    </tr>\n",
              "    <tr>\n",
              "      <th>3</th>\n",
              "      <td>1790288.0</td>\n",
              "      <td>5837387.0</td>\n",
              "      <td>4</td>\n",
              "      <td>NaN</td>\n",
              "      <td>526601.0</td>\n",
              "      <td>0.0</td>\n",
              "      <td>0.0</td>\n",
              "      <td>0.0</td>\n",
              "      <td>1.0</td>\n",
              "      <td>1.0</td>\n",
              "      <td>North</td>\n",
              "      <td>2006/2007</td>\n",
              "      <td>RIVERVIEW ROAD</td>\n",
              "      <td>HAKARIMATA ROAD</td>\n",
              "      <td>NaN</td>\n",
              "      <td>Non-Injury Crash</td>\n",
              "      <td>No</td>\n",
              "      <td>2006</td>\n",
              "      <td>0.0</td>\n",
              "      <td>North</td>\n",
              "      <td>0.0</td>\n",
              "      <td>0.0</td>\n",
              "      <td>0.0</td>\n",
              "      <td>Flat</td>\n",
              "      <td>0.0</td>\n",
              "      <td>NaN</td>\n",
              "      <td>0.0</td>\n",
              "      <td>NaN</td>\n",
              "      <td>0.0</td>\n",
              "      <td>Overcast</td>\n",
              "      <td>852200.0</td>\n",
              "      <td>0.0</td>\n",
              "      <td>0.0</td>\n",
              "      <td>0.0</td>\n",
              "      <td>2.0</td>\n",
              "      <td>0.0</td>\n",
              "      <td>0.0</td>\n",
              "      <td>0.0</td>\n",
              "      <td>0.0</td>\n",
              "      <td>0.0</td>\n",
              "      <td>NaN</td>\n",
              "      <td>0.0</td>\n",
              "      <td>0.0</td>\n",
              "      <td>Waikato Region</td>\n",
              "      <td>Nil</td>\n",
              "      <td>2-way</td>\n",
              "      <td>Sealed</td>\n",
              "      <td>0.0</td>\n",
              "      <td>0.0</td>\n",
              "      <td>0.0</td>\n",
              "      <td>0.0</td>\n",
              "      <td>100.0</td>\n",
              "      <td>0.0</td>\n",
              "      <td>None</td>\n",
              "      <td>0.0</td>\n",
              "      <td>0.0</td>\n",
              "      <td>NaN</td>\n",
              "      <td>13.0</td>\n",
              "      <td>Waikato District</td>\n",
              "      <td>Nil</td>\n",
              "      <td>0.0</td>\n",
              "      <td>0.0</td>\n",
              "      <td>0.0</td>\n",
              "      <td>0.0</td>\n",
              "      <td>0.0</td>\n",
              "      <td>0.0</td>\n",
              "      <td>Open</td>\n",
              "      <td>0.0</td>\n",
              "      <td>0.0</td>\n",
              "      <td>0.0</td>\n",
              "      <td>Light rain</td>\n",
              "      <td>NaN</td>\n",
              "    </tr>\n",
              "    <tr>\n",
              "      <th>4</th>\n",
              "      <td>1615675.0</td>\n",
              "      <td>5423627.0</td>\n",
              "      <td>5</td>\n",
              "      <td>NaN</td>\n",
              "      <td>584201.0</td>\n",
              "      <td>0.0</td>\n",
              "      <td>NaN</td>\n",
              "      <td>0.0</td>\n",
              "      <td>2.0</td>\n",
              "      <td>NaN</td>\n",
              "      <td>NaN</td>\n",
              "      <td>2003/2004</td>\n",
              "      <td>TALBOT ST</td>\n",
              "      <td>ELIZABETH ST</td>\n",
              "      <td>NaN</td>\n",
              "      <td>Non-Injury Crash</td>\n",
              "      <td>No</td>\n",
              "      <td>2003</td>\n",
              "      <td>NaN</td>\n",
              "      <td>West</td>\n",
              "      <td>NaN</td>\n",
              "      <td>0.0</td>\n",
              "      <td>NaN</td>\n",
              "      <td>Flat</td>\n",
              "      <td>NaN</td>\n",
              "      <td>NaN</td>\n",
              "      <td>NaN</td>\n",
              "      <td>NaN</td>\n",
              "      <td>NaN</td>\n",
              "      <td>Overcast</td>\n",
              "      <td>2361500.0</td>\n",
              "      <td>0.0</td>\n",
              "      <td>0.0</td>\n",
              "      <td>0.0</td>\n",
              "      <td>2.0</td>\n",
              "      <td>NaN</td>\n",
              "      <td>NaN</td>\n",
              "      <td>0.0</td>\n",
              "      <td>NaN</td>\n",
              "      <td>NaN</td>\n",
              "      <td>NaN</td>\n",
              "      <td>NaN</td>\n",
              "      <td>NaN</td>\n",
              "      <td>Tasman Region</td>\n",
              "      <td>Nil</td>\n",
              "      <td>2-way</td>\n",
              "      <td>Sealed</td>\n",
              "      <td>NaN</td>\n",
              "      <td>0.0</td>\n",
              "      <td>0.0</td>\n",
              "      <td>NaN</td>\n",
              "      <td>50.0</td>\n",
              "      <td>NaN</td>\n",
              "      <td>NaN</td>\n",
              "      <td>0.0</td>\n",
              "      <td>0.0</td>\n",
              "      <td>NaN</td>\n",
              "      <td>51.0</td>\n",
              "      <td>Tasman District</td>\n",
              "      <td>Give way</td>\n",
              "      <td>NaN</td>\n",
              "      <td>NaN</td>\n",
              "      <td>NaN</td>\n",
              "      <td>NaN</td>\n",
              "      <td>0.0</td>\n",
              "      <td>0.0</td>\n",
              "      <td>Urban</td>\n",
              "      <td>0.0</td>\n",
              "      <td>NaN</td>\n",
              "      <td>NaN</td>\n",
              "      <td>Fine</td>\n",
              "      <td>NaN</td>\n",
              "    </tr>\n",
              "  </tbody>\n",
              "</table>\n",
              "</div>\n",
              "      <button class=\"colab-df-convert\" onclick=\"convertToInteractive('df-0ad3765f-cdc0-4191-b7d1-d3f3e6d45b98')\"\n",
              "              title=\"Convert this dataframe to an interactive table.\"\n",
              "              style=\"display:none;\">\n",
              "        \n",
              "  <svg xmlns=\"http://www.w3.org/2000/svg\" height=\"24px\"viewBox=\"0 0 24 24\"\n",
              "       width=\"24px\">\n",
              "    <path d=\"M0 0h24v24H0V0z\" fill=\"none\"/>\n",
              "    <path d=\"M18.56 5.44l.94 2.06.94-2.06 2.06-.94-2.06-.94-.94-2.06-.94 2.06-2.06.94zm-11 1L8.5 8.5l.94-2.06 2.06-.94-2.06-.94L8.5 2.5l-.94 2.06-2.06.94zm10 10l.94 2.06.94-2.06 2.06-.94-2.06-.94-.94-2.06-.94 2.06-2.06.94z\"/><path d=\"M17.41 7.96l-1.37-1.37c-.4-.4-.92-.59-1.43-.59-.52 0-1.04.2-1.43.59L10.3 9.45l-7.72 7.72c-.78.78-.78 2.05 0 2.83L4 21.41c.39.39.9.59 1.41.59.51 0 1.02-.2 1.41-.59l7.78-7.78 2.81-2.81c.8-.78.8-2.07 0-2.86zM5.41 20L4 18.59l7.72-7.72 1.47 1.35L5.41 20z\"/>\n",
              "  </svg>\n",
              "      </button>\n",
              "      \n",
              "  <style>\n",
              "    .colab-df-container {\n",
              "      display:flex;\n",
              "      flex-wrap:wrap;\n",
              "      gap: 12px;\n",
              "    }\n",
              "\n",
              "    .colab-df-convert {\n",
              "      background-color: #E8F0FE;\n",
              "      border: none;\n",
              "      border-radius: 50%;\n",
              "      cursor: pointer;\n",
              "      display: none;\n",
              "      fill: #1967D2;\n",
              "      height: 32px;\n",
              "      padding: 0 0 0 0;\n",
              "      width: 32px;\n",
              "    }\n",
              "\n",
              "    .colab-df-convert:hover {\n",
              "      background-color: #E2EBFA;\n",
              "      box-shadow: 0px 1px 2px rgba(60, 64, 67, 0.3), 0px 1px 3px 1px rgba(60, 64, 67, 0.15);\n",
              "      fill: #174EA6;\n",
              "    }\n",
              "\n",
              "    [theme=dark] .colab-df-convert {\n",
              "      background-color: #3B4455;\n",
              "      fill: #D2E3FC;\n",
              "    }\n",
              "\n",
              "    [theme=dark] .colab-df-convert:hover {\n",
              "      background-color: #434B5C;\n",
              "      box-shadow: 0px 1px 3px 1px rgba(0, 0, 0, 0.15);\n",
              "      filter: drop-shadow(0px 1px 2px rgba(0, 0, 0, 0.3));\n",
              "      fill: #FFFFFF;\n",
              "    }\n",
              "  </style>\n",
              "\n",
              "      <script>\n",
              "        const buttonEl =\n",
              "          document.querySelector('#df-0ad3765f-cdc0-4191-b7d1-d3f3e6d45b98 button.colab-df-convert');\n",
              "        buttonEl.style.display =\n",
              "          google.colab.kernel.accessAllowed ? 'block' : 'none';\n",
              "\n",
              "        async function convertToInteractive(key) {\n",
              "          const element = document.querySelector('#df-0ad3765f-cdc0-4191-b7d1-d3f3e6d45b98');\n",
              "          const dataTable =\n",
              "            await google.colab.kernel.invokeFunction('convertToInteractive',\n",
              "                                                     [key], {});\n",
              "          if (!dataTable) return;\n",
              "\n",
              "          const docLinkHtml = 'Like what you see? Visit the ' +\n",
              "            '<a target=\"_blank\" href=https://colab.research.google.com/notebooks/data_table.ipynb>data table notebook</a>'\n",
              "            + ' to learn more about interactive tables.';\n",
              "          element.innerHTML = '';\n",
              "          dataTable['output_type'] = 'display_data';\n",
              "          await google.colab.output.renderOutput(dataTable, element);\n",
              "          const docLink = document.createElement('div');\n",
              "          docLink.innerHTML = docLinkHtml;\n",
              "          element.appendChild(docLink);\n",
              "        }\n",
              "      </script>\n",
              "    </div>\n",
              "  </div>\n",
              "  "
            ]
          },
          "metadata": {},
          "execution_count": 180
        }
      ],
      "source": [
        "df.replace(\"Null\",np.NaN,inplace=True)\n",
        "df.head()"
      ]
    },
    {
      "cell_type": "code",
      "execution_count": null,
      "metadata": {
        "id": "w9LPaCZ0_zt2",
        "colab": {
          "base_uri": "https://localhost:8080/"
        },
        "outputId": "1e9c2faa-6d88-49cc-c91d-976f5f2b81d2"
      },
      "outputs": [
        {
          "output_type": "execute_result",
          "data": {
            "text/plain": [
              "Auckland Region              266242\n",
              "Waikato Region                80199\n",
              "Canterbury Region             76127\n",
              "Wellington Region             73647\n",
              "Bay of Plenty Region          43058\n",
              "Manawatū-Whanganui Region     41873\n",
              "Otago Region                  41458\n",
              "Northland Region              30299\n",
              "Hawke's Bay Region            29586\n",
              "Southland Region              18787\n",
              "Taranaki Region               16918\n",
              "Gisborne Region                8878\n",
              "Marlborough Region             7633\n",
              "Nelson Region                  7495\n",
              "Tasman Region                  6904\n",
              "West Coast Region              6731\n",
              "Name: region, dtype: int64"
            ]
          },
          "metadata": {},
          "execution_count": 181
        }
      ],
      "source": [
        "df.region.value_counts()"
      ]
    },
    {
      "cell_type": "markdown",
      "metadata": {
        "id": "ea1vrbYYUyo8"
      },
      "source": [
        "### Droping attributes with more than 90% missing values"
      ]
    },
    {
      "cell_type": "code",
      "execution_count": null,
      "metadata": {
        "id": "mkYwSUslUyo9"
      },
      "outputs": [],
      "source": [
        "df.drop([\"OBJECTID\",\"advisorySpeed\",\"crashRoadSideRoad\",\"tlaId\",\"meshblockId\",\"intersection\",\"areaUnitID\",\"temporarySpeedLimit\",\"pedestrian\",\"holiday\",\"weatherB\"],axis=1,inplace=True)\n",
        "df.drop_duplicates(inplace=True)"
      ]
    },
    {
      "cell_type": "markdown",
      "metadata": {
        "id": "0AdaqlqXUyo9"
      },
      "source": [
        "### Droping null values in Region "
      ]
    },
    {
      "cell_type": "code",
      "execution_count": null,
      "metadata": {
        "id": "slJrxN4EUyo-"
      },
      "outputs": [],
      "source": [
        "df.dropna(subset=['crashSeverity'],inplace=True)"
      ]
    },
    {
      "cell_type": "code",
      "execution_count": null,
      "metadata": {
        "id": "3PlDam4gUyo-",
        "colab": {
          "base_uri": "https://localhost:8080/"
        },
        "outputId": "3101ba18-437b-4a7d-890e-387c234369ce"
      },
      "outputs": [
        {
          "output_type": "execute_result",
          "data": {
            "text/plain": [
              "(758006, 61)"
            ]
          },
          "metadata": {},
          "execution_count": 184
        }
      ],
      "source": [
        "df.shape"
      ]
    },
    {
      "cell_type": "markdown",
      "metadata": {
        "id": "GFy04VIkUyo_"
      },
      "source": [
        "### Null values count in each attribute"
      ]
    },
    {
      "cell_type": "markdown",
      "metadata": {
        "id": "WIXnoZx0Uyo_"
      },
      "source": [
        "### Handling missing values of fatal count"
      ]
    },
    {
      "cell_type": "code",
      "execution_count": null,
      "metadata": {
        "id": "wXKWUDWhUypA",
        "colab": {
          "base_uri": "https://localhost:8080/"
        },
        "outputId": "b180b899-6616-4bde-f370-89da1e6520a3"
      },
      "outputs": [
        {
          "output_type": "execute_result",
          "data": {
            "text/plain": [
              "137"
            ]
          },
          "metadata": {},
          "execution_count": 185
        }
      ],
      "source": [
        "df['fatalCount'].isna().sum()"
      ]
    },
    {
      "cell_type": "code",
      "execution_count": null,
      "metadata": {
        "id": "biZA_ExBUypA",
        "colab": {
          "base_uri": "https://localhost:8080/"
        },
        "outputId": "34a90050-9f35-4eef-b1e7-2f34e9db80b7"
      },
      "outputs": [
        {
          "output_type": "execute_result",
          "data": {
            "text/plain": [
              "0.0    750903\n",
              "1.0      6284\n",
              "2.0       524\n",
              "3.0       109\n",
              "4.0        37\n",
              "5.0         6\n",
              "6.0         3\n",
              "9.0         1\n",
              "7.0         1\n",
              "8.0         1\n",
              "Name: fatalCount, dtype: int64"
            ]
          },
          "metadata": {},
          "execution_count": 186
        }
      ],
      "source": [
        "df['fatalCount'].value_counts()"
      ]
    },
    {
      "cell_type": "code",
      "execution_count": null,
      "metadata": {
        "id": "30CPOOAyUypB"
      },
      "outputs": [],
      "source": [
        "df['fatalCount'] = df.apply(\n",
        "    lambda row: 1 if np.isnan(row['fatalCount']) and row['crashSeverity']=='Fatal Crash' else row['fatalCount'],\n",
        "    axis=1\n",
        ")\n",
        "df['fatalCount'].fillna(0,inplace=True)"
      ]
    },
    {
      "cell_type": "markdown",
      "metadata": {
        "id": "t49ez0csUypC"
      },
      "source": [
        "### Handling missing values of serious injury count"
      ]
    },
    {
      "cell_type": "code",
      "execution_count": null,
      "metadata": {
        "colab": {
          "base_uri": "https://localhost:8080/"
        },
        "id": "Yigm_P2hUypC",
        "outputId": "28bf1057-d8b0-40ea-fb39-6a00de13a399"
      },
      "outputs": [
        {
          "output_type": "execute_result",
          "data": {
            "text/plain": [
              "137"
            ]
          },
          "metadata": {},
          "execution_count": 188
        }
      ],
      "source": [
        "df['seriousInjuryCount'].isna().sum()"
      ]
    },
    {
      "cell_type": "code",
      "execution_count": null,
      "metadata": {
        "colab": {
          "base_uri": "https://localhost:8080/"
        },
        "id": "xP5ZLALcUypD",
        "outputId": "fc19043e-2542-4c17-9751-668c2c1695bb"
      },
      "outputs": [
        {
          "output_type": "execute_result",
          "data": {
            "text/plain": [
              "0.0     713031\n",
              "1.0      39345\n",
              "2.0       4270\n",
              "3.0        848\n",
              "4.0        252\n",
              "5.0         79\n",
              "6.0         26\n",
              "7.0          8\n",
              "8.0          5\n",
              "10.0         2\n",
              "9.0          1\n",
              "14.0         1\n",
              "12.0         1\n",
              "Name: seriousInjuryCount, dtype: int64"
            ]
          },
          "metadata": {},
          "execution_count": 189
        }
      ],
      "source": [
        "df['seriousInjuryCount'].value_counts()"
      ]
    },
    {
      "cell_type": "code",
      "execution_count": null,
      "metadata": {
        "id": "qEMD5rU8UypD"
      },
      "outputs": [],
      "source": [
        "df['seriousInjuryCount'] = df.apply(\n",
        "    lambda row: 1 if np.isnan(row['seriousInjuryCount']) and row['crashSeverity']=='Serious Crash' else row['seriousInjuryCount'],\n",
        "    axis=1\n",
        ")\n",
        "df['seriousInjuryCount'].fillna(0,inplace=True)"
      ]
    },
    {
      "cell_type": "markdown",
      "metadata": {
        "id": "BWqyKlFRUypE"
      },
      "source": [
        "### Handling missing values of Minor injury count"
      ]
    },
    {
      "cell_type": "code",
      "execution_count": null,
      "metadata": {
        "colab": {
          "base_uri": "https://localhost:8080/"
        },
        "id": "LLQfSPGcUypE",
        "outputId": "bed94347-a55e-464d-bcc7-286257a88f86"
      },
      "outputs": [
        {
          "output_type": "execute_result",
          "data": {
            "text/plain": [
              "137"
            ]
          },
          "metadata": {},
          "execution_count": 191
        }
      ],
      "source": [
        "df['minorInjuryCount'].isna().sum()"
      ]
    },
    {
      "cell_type": "code",
      "execution_count": null,
      "metadata": {
        "colab": {
          "base_uri": "https://localhost:8080/"
        },
        "id": "d6vOTv7iUypF",
        "outputId": "b8ea0c78-4151-4215-8f6b-e1ce5f546a1b"
      },
      "outputs": [
        {
          "output_type": "execute_result",
          "data": {
            "text/plain": [
              "0.0     569362\n",
              "1.0     151021\n",
              "2.0      27999\n",
              "3.0       6475\n",
              "4.0       2040\n",
              "5.0        615\n",
              "6.0        220\n",
              "7.0         80\n",
              "8.0         23\n",
              "9.0         13\n",
              "10.0         7\n",
              "11.0         2\n",
              "16.0         2\n",
              "18.0         2\n",
              "34.0         1\n",
              "12.0         1\n",
              "15.0         1\n",
              "14.0         1\n",
              "13.0         1\n",
              "26.0         1\n",
              "30.0         1\n",
              "21.0         1\n",
              "Name: minorInjuryCount, dtype: int64"
            ]
          },
          "metadata": {},
          "execution_count": 192
        }
      ],
      "source": [
        "df['minorInjuryCount'].value_counts()"
      ]
    },
    {
      "cell_type": "code",
      "execution_count": null,
      "metadata": {
        "id": "hunl_cstUypF"
      },
      "outputs": [],
      "source": [
        "df['minorInjuryCount'] = df.apply(\n",
        "    lambda row: 1 if np.isnan(row['minorInjuryCount']) and row['crashSeverity']=='Minor Crash' else row['minorInjuryCount'],\n",
        "    axis=1\n",
        ")\n",
        "df['minorInjuryCount'].fillna(0,inplace=True)"
      ]
    },
    {
      "cell_type": "markdown",
      "metadata": {
        "id": "H0t40LM_UypF"
      },
      "source": [
        "## Handling missing values in all numerical variables"
      ]
    },
    {
      "cell_type": "code",
      "execution_count": null,
      "metadata": {
        "id": "I1oT4FYlUypG"
      },
      "outputs": [],
      "source": [
        "df['bicycle'].fillna(0,inplace=True)\n",
        "df['bus'].fillna(0,inplace=True)\n",
        "df['carStationWagon'].fillna(0,inplace=True)\n",
        "df['moped'].fillna(0,inplace=True)\n",
        "df['motorcycle'].fillna(0,inplace=True)\n",
        "df['otherVehicleType'].fillna(0,inplace=True)\n",
        "df['schoolBus'].fillna(0,inplace=True)\n",
        "df['suv'].fillna(0,inplace=True)\n",
        "df['taxi'].fillna(0,inplace=True)\n",
        "df['truck'].fillna(0,inplace=True)\n",
        "df['unknownVehicleType'].fillna(0,inplace=True)\n",
        "df['vanOrUtility'].fillna(0,inplace=True)\n",
        "df['bridge'].fillna(0,inplace=True)\n",
        "df['cliffBank'].fillna(0,inplace=True)\n",
        "df['debris'].fillna(0,inplace=True)\n",
        "df['ditch'].fillna(0,inplace=True)\n",
        "df['fence'].fillna(0,inplace=True)\n",
        "df['truck'].fillna(0,inplace=True)\n",
        "df['guardRail'].fillna(0,inplace=True)\n",
        "df['houseOrBuilding'].fillna(0,inplace=True)\n",
        "df['kerb'].fillna(0,inplace=True)\n",
        "df['NumberOfLanes'].fillna(1,inplace=True)\n",
        "df['objectThrownOrDropped'].fillna(0,inplace=True)\n",
        "df['otherObject'].fillna(0,inplace=True)\n",
        "df['overBank'].fillna(0,inplace=True)\n",
        "df['parkedVehicle'].fillna(0,inplace=True)\n",
        "df['phoneBoxEtc'].fillna(0,inplace=True)\n",
        "df['postOrPole'].fillna(0,inplace=True)\n",
        "df['roadworks'].fillna(0,inplace=True)\n",
        "df['slipOrFlood'].fillna(0,inplace=True)\n",
        "df['speedLimit'].fillna(0,inplace=True)\n",
        "df['strayAnimal'].fillna(0,inplace=True)\n",
        "df['train'].fillna(0,inplace=True)\n",
        "df['tree'].fillna(0,inplace=True)\n",
        "df['vehicle'].fillna(0,inplace=True)\n",
        "df['trafficIsland'].fillna(0,inplace=True)\n",
        "df['trafficSign'].fillna(0,inplace=True)\n",
        "df['waterRiver'].fillna(0,inplace=True)"
      ]
    },
    {
      "cell_type": "code",
      "execution_count": null,
      "metadata": {
        "id": "YuFnmeDIUypG"
      },
      "outputs": [],
      "source": [
        "df['crashDirectionDescription'].fillna('None',inplace=True)\n",
        "df['crashLocation2'].fillna('None',inplace=True)\n",
        "df['directionRoleDescription'].fillna('None',inplace=True)\n",
        "df['flatHill'].fillna('None',inplace=True)\n",
        "df['region'].fillna('None',inplace=True)\n",
        "df['roadLane'].fillna('None',inplace=True)\n",
        "df['roadSurface'].fillna('None',inplace=True)\n",
        "df['streetLight'].fillna('None',inplace=True)\n",
        "df['tlaName'].fillna('None',inplace=True)\n",
        "df['weatherA'].fillna('None',inplace=True)"
      ]
    },
    {
      "cell_type": "code",
      "execution_count": null,
      "metadata": {
        "colab": {
          "base_uri": "https://localhost:8080/"
        },
        "id": "7GQz3JJHUypH",
        "outputId": "117cff93-e1ae-43dc-ad47-3703e8693444"
      },
      "outputs": [
        {
          "output_type": "execute_result",
          "data": {
            "text/plain": [
              "Series([], dtype: float64)"
            ]
          },
          "metadata": {},
          "execution_count": 196
        }
      ],
      "source": [
        "null_columns = df.columns[df.isnull().any()]\n",
        "df[null_columns].isnull().sum()"
      ]
    },
    {
      "cell_type": "code",
      "execution_count": null,
      "metadata": {
        "id": "-z1MnOFIUypH"
      },
      "outputs": [],
      "source": [
        "np.random.seed(108)\n",
        "df['claimAmount'] = df.apply(lambda row: (row['minorInjuryCount']*np.random.randint(2000000,5000000))+(row['fatalCount']*250000)+(row['seriousInjuryCount']*np.random.randint(5000000,10000000)), axis = 1)"
      ]
    },
    {
      "cell_type": "code",
      "execution_count": null,
      "metadata": {
        "id": "iaNS3-VtUypI"
      },
      "outputs": [],
      "source": [
        "#df = df[df['crashSeverity'] != 'Non-Injury Crash']\n",
        "#df = df[df['claimAmount'] > 0]\n",
        "#df['Log_claimAmount'] = np.log(df['claimAmount'])"
      ]
    },
    {
      "cell_type": "code",
      "execution_count": null,
      "metadata": {
        "id": "M_LdH9xIUypI",
        "scrolled": true,
        "colab": {
          "base_uri": "https://localhost:8080/",
          "height": 350
        },
        "outputId": "3e83999d-8e07-400c-c5e0-1b27d769f06a"
      },
      "outputs": [
        {
          "output_type": "display_data",
          "data": {
            "text/plain": [
              "<Figure size 720x360 with 1 Axes>"
            ],
            "image/png": "[encoded data removed]"
          },
          "metadata": {}
        }
      ],
      "source": [
        "plt.figure(figsize=(10,5))\n",
        "plt.xlabel('Claim Amount')\n",
        "plt.ylabel('Density')\n",
        "sns.kdeplot(df['claimAmount'],shade=True)\n",
        "plt.show()"
      ]
    },
    {
      "cell_type": "code",
      "execution_count": null,
      "metadata": {
        "id": "1-mOwj4_4IX9"
      },
      "outputs": [],
      "source": [
        "#df.set_index('crashYear')"
      ]
    },
    {
      "cell_type": "code",
      "execution_count": null,
      "metadata": {
        "id": "xef4ssMw5cAe"
      },
      "outputs": [],
      "source": [
        "#df1 = pd.get_dummies(df[['crashFinancialYear','crashSeverity', 'crashSHDescription', 'light', 'region', 'urban']])\n",
        "#df2 = df[['crashYear', 'X', 'Y', 'bicycle', 'bridge', 'bus', 'carStationWagon', 'cliffBank', 'debris', 'fatalCount', 'fence', 'guardRail', 'minorInjuryCount', 'NumberOfLanes', 'parkedVehicle', 'seriousInjuryCount', 'speedLimit', 'unknownVehicleType', 'claimAmount']]\n",
        "#df3 = pd.concat([df1, df2], axis=1, join='inner')\n",
        "#df3.shape"
      ]
    },
    {
      "cell_type": "code",
      "execution_count": null,
      "metadata": {
        "id": "dohS2VsPu-Jh"
      },
      "outputs": [],
      "source": [
        "#df1.shape"
      ]
    },
    {
      "cell_type": "code",
      "execution_count": null,
      "metadata": {
        "id": "9y01Z1ZVu_yF"
      },
      "outputs": [],
      "source": [
        "#df2.shape"
      ]
    },
    {
      "cell_type": "code",
      "execution_count": null,
      "metadata": {
        "id": "dd7zt8Uhtqu_"
      },
      "outputs": [],
      "source": [
        "#df3 = pd.concat([df1, df2])"
      ]
    },
    {
      "cell_type": "code",
      "execution_count": null,
      "metadata": {
        "id": "IpNwrog0vq_V"
      },
      "outputs": [],
      "source": [
        "from sklearn import preprocessing\n",
        "le = preprocessing.LabelEncoder()\n",
        "df['crashFinancialYear'] = le.fit_transform(df['crashFinancialYear'])\n"
      ]
    },
    {
      "cell_type": "code",
      "source": [
        "#1 for injury and 0 for non-injury\n",
        "df['injury'] = df.apply(\n",
        "    lambda row: 0 if row['crashSeverity']=='Non-Injury Crash' else 1,\n",
        "    axis=1\n",
        ")"
      ],
      "metadata": {
        "id": "fOHte6h4_8V2"
      },
      "execution_count": null,
      "outputs": []
    },
    {
      "cell_type": "code",
      "execution_count": null,
      "metadata": {
        "id": "cpc9yXYFGklv"
      },
      "outputs": [],
      "source": [
        "#df['crashSeverity'] = le.inverse_transform(df['crashSeverity'])"
      ]
    },
    {
      "cell_type": "code",
      "execution_count": null,
      "metadata": {
        "id": "baXXYCqBHVl3"
      },
      "outputs": [],
      "source": [
        "df['light'] = le.fit_transform(df['light'])"
      ]
    },
    {
      "cell_type": "code",
      "execution_count": null,
      "metadata": {
        "id": "scmO85z9QfK1"
      },
      "outputs": [],
      "source": [
        "df['roadLane'] = le.fit_transform(df['roadLane'])"
      ]
    },
    {
      "cell_type": "code",
      "source": [
        "df['crashSHDescription'] = le.fit_transform(df['crashSHDescription'])"
      ],
      "metadata": {
        "id": "aeBFMIhyVhzK"
      },
      "execution_count": null,
      "outputs": []
    },
    {
      "cell_type": "code",
      "execution_count": null,
      "metadata": {
        "id": "GPlAbwAPQ-FW"
      },
      "outputs": [],
      "source": [
        "df['flatHill'] = le.fit_transform(df['flatHill'])"
      ]
    },
    {
      "cell_type": "code",
      "execution_count": null,
      "metadata": {
        "id": "vDbKWuTWSiXz"
      },
      "outputs": [],
      "source": [
        "df['weatherA'] = le.fit_transform(df['weatherA'])"
      ]
    },
    {
      "cell_type": "code",
      "source": [
        "df['roadCharacter'] = le.fit_transform(df['roadCharacter'])"
      ],
      "metadata": {
        "id": "3fH-lHYqJYOi"
      },
      "execution_count": null,
      "outputs": []
    },
    {
      "cell_type": "code",
      "source": [
        "df['trafficControl'] = le.fit_transform(df['trafficControl'])"
      ],
      "metadata": {
        "id": "Z3URujq1KE07"
      },
      "execution_count": null,
      "outputs": []
    },
    {
      "cell_type": "code",
      "source": [
        "df['urban'] = le.fit_transform(df['urban'])"
      ],
      "metadata": {
        "id": "Q9PwopvZKSsG"
      },
      "execution_count": null,
      "outputs": []
    },
    {
      "cell_type": "code",
      "execution_count": null,
      "metadata": {
        "id": "Hnzz8_W8CWQO",
        "colab": {
          "base_uri": "https://localhost:8080/"
        },
        "outputId": "1fd9d7ea-5826-4af6-b401-5f42db060314"
      },
      "outputs": [
        {
          "output_type": "execute_result",
          "data": {
            "text/plain": [
              "0    535428\n",
              "2    222530\n",
              "1        48\n",
              "Name: crashSHDescription, dtype: int64"
            ]
          },
          "metadata": {},
          "execution_count": 216
        }
      ],
      "source": [
        "df['crashSHDescription'].value_counts()"
      ]
    },
    {
      "cell_type": "code",
      "source": [
        "#df['crashFinancialYear'] = df['crashFinancialYear'] - df.crashFinancialYear.mean()"
      ],
      "metadata": {
        "id": "uYIYbfClj1eU"
      },
      "execution_count": null,
      "outputs": []
    },
    {
      "cell_type": "code",
      "source": [
        "df['injury'].value_counts()"
      ],
      "metadata": {
        "colab": {
          "base_uri": "https://localhost:8080/"
        },
        "id": "LZRG3Uep_8Yc",
        "outputId": "05590b2b-6c9d-4e59-9a22-6f94ba83aa0d"
      },
      "execution_count": null,
      "outputs": [
        {
          "output_type": "execute_result",
          "data": {
            "text/plain": [
              "0    533356\n",
              "1    224650\n",
              "Name: injury, dtype: int64"
            ]
          },
          "metadata": {},
          "execution_count": 218
        }
      ]
    },
    {
      "cell_type": "code",
      "source": [
        "df.region"
      ],
      "metadata": {
        "colab": {
          "base_uri": "https://localhost:8080/"
        },
        "id": "Fu29sw-goCkS",
        "outputId": "a2dc3879-64ca-4f76-c780-be3b91f12a1a"
      },
      "execution_count": null,
      "outputs": [
        {
          "output_type": "execute_result",
          "data": {
            "text/plain": [
              "0                 Otago Region\n",
              "1               Waikato Region\n",
              "2              Auckland Region\n",
              "3               Waikato Region\n",
              "4                Tasman Region\n",
              "                  ...         \n",
              "758752    Bay of Plenty Region\n",
              "758753         Auckland Region\n",
              "758754          Waikato Region\n",
              "758755      Hawke's Bay Region\n",
              "758756       Wellington Region\n",
              "Name: region, Length: 758006, dtype: object"
            ]
          },
          "metadata": {},
          "execution_count": 219
        }
      ]
    },
    {
      "cell_type": "code",
      "source": [
        "#df = df[['bicycle', 'bridge', 'bus', 'carStationWagon', 'cliffBank', 'crashFinancialYear', 'debris', 'ditch', 'fence', 'flatHill', 'guardRail', 'houseOrBuilding', 'kerb', 'light', 'moped', 'motorcycle', 'NumberOfLanes', 'objectThrownOrDropped', 'otherObject', 'otherVehicleType', 'overBank', 'parkedVehicle', 'roadworks', 'schoolBus', 'slipOrFlood', 'speedLimit', 'strayAnimal', 'suv', 'taxi', 'trafficSign', 'trafficControl', 'train', 'tree', 'truck', 'urban', 'vehicle', 'injury']]"
      ],
      "metadata": {
        "id": "I2N3n0huHs1v"
      },
      "execution_count": null,
      "outputs": []
    },
    {
      "cell_type": "code",
      "execution_count": null,
      "metadata": {
        "id": "XizTYAW-UypJ"
      },
      "outputs": [],
      "source": [
        "np.random.seed(108)\n",
        "mask = np.random.rand(len(df)) <= 0.8\n",
        "df_train = df[mask]\n",
        "df_test = df[~mask]"
      ]
    },
    {
      "cell_type": "code",
      "source": [
        "df.shape"
      ],
      "metadata": {
        "colab": {
          "base_uri": "https://localhost:8080/"
        },
        "id": "rRZxrGRxdChd",
        "outputId": "27285b72-a20c-43f4-a27d-c3cff065fc13"
      },
      "execution_count": null,
      "outputs": [
        {
          "output_type": "execute_result",
          "data": {
            "text/plain": [
              "(758006, 63)"
            ]
          },
          "metadata": {},
          "execution_count": 222
        }
      ]
    },
    {
      "cell_type": "code",
      "execution_count": null,
      "metadata": {
        "id": "w77SJMizdp9C",
        "colab": {
          "base_uri": "https://localhost:8080/"
        },
        "outputId": "683b1919-a715-4508-eae1-9773fee69b74"
      },
      "outputs": [
        {
          "output_type": "execute_result",
          "data": {
            "text/plain": [
              "(606662, 63)"
            ]
          },
          "metadata": {},
          "execution_count": 223
        }
      ],
      "source": [
        "df_train.shape"
      ]
    },
    {
      "cell_type": "code",
      "execution_count": null,
      "metadata": {
        "id": "DtuLXRqiMpVw",
        "colab": {
          "base_uri": "https://localhost:8080/"
        },
        "outputId": "62885cb7-34cf-4354-b91b-fb40908d356e"
      },
      "outputs": [
        {
          "output_type": "execute_result",
          "data": {
            "text/plain": [
              "(151344, 63)"
            ]
          },
          "metadata": {},
          "execution_count": 224
        }
      ],
      "source": [
        "df_test.shape"
      ]
    },
    {
      "cell_type": "code",
      "source": [
        "x = df.iloc[:,:-1]"
      ],
      "metadata": {
        "id": "GiHFYbn8Cpmq"
      },
      "execution_count": null,
      "outputs": []
    },
    {
      "cell_type": "code",
      "source": [
        "x.shape"
      ],
      "metadata": {
        "colab": {
          "base_uri": "https://localhost:8080/"
        },
        "id": "8gAwT88xLYZg",
        "outputId": "4989c026-9f7a-4ad9-bd33-dd7c13655332"
      },
      "execution_count": null,
      "outputs": [
        {
          "output_type": "execute_result",
          "data": {
            "text/plain": [
              "(758006, 36)"
            ]
          },
          "metadata": {},
          "execution_count": 55
        }
      ]
    },
    {
      "cell_type": "code",
      "source": [
        "y = df.iloc[:, -1:]\n",
        "y.shape"
      ],
      "metadata": {
        "colab": {
          "base_uri": "https://localhost:8080/"
        },
        "id": "_95SQyXGKyFG",
        "outputId": "6d33ed9f-2f4a-4941-f761-a1d590b93d9f"
      },
      "execution_count": null,
      "outputs": [
        {
          "output_type": "execute_result",
          "data": {
            "text/plain": [
              "(758006, 1)"
            ]
          },
          "metadata": {},
          "execution_count": 56
        }
      ]
    },
    {
      "cell_type": "code",
      "source": [
        "y = np.ravel(y)"
      ],
      "metadata": {
        "id": "aZ6z57FuQ4iy"
      },
      "execution_count": null,
      "outputs": []
    },
    {
      "cell_type": "markdown",
      "source": [
        "# Logistic Regression"
      ],
      "metadata": {
        "id": "x2RInN2-_5CC"
      }
    },
    {
      "cell_type": "code",
      "source": [
        "from sklearn.feature_selection import RFE\n",
        "from sklearn.linear_model import LogisticRegression\n",
        "from sklearn.linear_model import PoissonRegressor\n",
        "from sklearn.model_selection import RepeatedStratifiedKFold\n",
        "from sklearn.model_selection import cross_val_score\n",
        "from sklearn.pipeline import Pipeline"
      ],
      "metadata": {
        "id": "ipwT-bus_8a3"
      },
      "execution_count": null,
      "outputs": []
    },
    {
      "cell_type": "code",
      "source": [
        "def get_models():\n",
        "\tmodels = dict()\n",
        "\tfor i in range(2, 39):\n",
        "\t\trfe = RFE(estimator=LogisticRegression(random_state = 0), n_features_to_select=i)\n",
        "\t\tmodel = LogisticRegression(random_state = 0)\n",
        "\t\tmodels[str(i)] = Pipeline(steps=[('s',rfe),('m',model)])\n",
        "\treturn models"
      ],
      "metadata": {
        "id": "L_E0vJt8_8dr"
      },
      "execution_count": null,
      "outputs": []
    },
    {
      "cell_type": "code",
      "source": [
        "def evaluate_model(model, X, y):\n",
        "\tcv = RepeatedStratifiedKFold(n_splits=10, n_repeats=3, random_state=1)\n",
        "\tscores = cross_val_score(model, X, y, scoring='accuracy', cv=cv, n_jobs=-1, error_score='raise')\n",
        "\treturn scores"
      ],
      "metadata": {
        "id": "bQq_beOn_8ig"
      },
      "execution_count": null,
      "outputs": []
    },
    {
      "cell_type": "code",
      "source": [
        "#classifier = LogisticRegression(random_state = 0)"
      ],
      "metadata": {
        "id": "o5cKWLGF_8gH"
      },
      "execution_count": null,
      "outputs": []
    },
    {
      "cell_type": "code",
      "source": [
        "models = get_models()"
      ],
      "metadata": {
        "id": "am3KqhBg_8kw"
      },
      "execution_count": null,
      "outputs": []
    },
    {
      "cell_type": "code",
      "source": [
        "results, names = list(), list()"
      ],
      "metadata": {
        "id": "z2KeB-bhL8aj"
      },
      "execution_count": null,
      "outputs": []
    },
    {
      "cell_type": "code",
      "source": [
        "for name, model in models.items():\n",
        "\tscores = evaluate_model(model, X, y)\n",
        "\tresults.append(scores)\n",
        "\tnames.append(name)\n",
        "\tprint('>%s %.3f (%.3f)' % (name, mean(scores), std(scores)))"
      ],
      "metadata": {
        "colab": {
          "base_uri": "https://localhost:8080/",
          "height": 383
        },
        "id": "HaBwOY_r_8nd",
        "outputId": "72d38ba2-ae10-4f10-86cc-0caec6a9fe79"
      },
      "execution_count": null,
      "outputs": [
        {
          "output_type": "error",
          "ename": "KeyboardInterrupt",
          "evalue": "ignored",
          "traceback": [
            "\u001b[0;31m---------------------------------------------------------------------------\u001b[0m",
            "\u001b[0;31mKeyboardInterrupt\u001b[0m                         Traceback (most recent call last)",
            "\u001b[0;32m<ipython-input-300-bfe71b79fe6f>\u001b[0m in \u001b[0;36m<module>\u001b[0;34m()\u001b[0m\n\u001b[1;32m      1\u001b[0m \u001b[0;32mfor\u001b[0m \u001b[0mname\u001b[0m\u001b[0;34m,\u001b[0m \u001b[0mmodel\u001b[0m \u001b[0;32min\u001b[0m \u001b[0mmodels\u001b[0m\u001b[0;34m.\u001b[0m\u001b[0mitems\u001b[0m\u001b[0;34m(\u001b[0m\u001b[0;34m)\u001b[0m\u001b[0;34m:\u001b[0m\u001b[0;34m\u001b[0m\u001b[0;34m\u001b[0m\u001b[0m\n\u001b[0;32m----> 2\u001b[0;31m         \u001b[0mscores\u001b[0m \u001b[0;34m=\u001b[0m \u001b[0mevaluate_model\u001b[0m\u001b[0;34m(\u001b[0m\u001b[0mmodel\u001b[0m\u001b[0;34m,\u001b[0m \u001b[0mX\u001b[0m\u001b[0;34m,\u001b[0m \u001b[0my\u001b[0m\u001b[0;34m)\u001b[0m\u001b[0;34m\u001b[0m\u001b[0;34m\u001b[0m\u001b[0m\n\u001b[0m\u001b[1;32m      3\u001b[0m         \u001b[0mresults\u001b[0m\u001b[0;34m.\u001b[0m\u001b[0mappend\u001b[0m\u001b[0;34m(\u001b[0m\u001b[0mscores\u001b[0m\u001b[0;34m)\u001b[0m\u001b[0;34m\u001b[0m\u001b[0;34m\u001b[0m\u001b[0m\n\u001b[1;32m      4\u001b[0m         \u001b[0mnames\u001b[0m\u001b[0;34m.\u001b[0m\u001b[0mappend\u001b[0m\u001b[0;34m(\u001b[0m\u001b[0mname\u001b[0m\u001b[0;34m)\u001b[0m\u001b[0;34m\u001b[0m\u001b[0;34m\u001b[0m\u001b[0m\n\u001b[1;32m      5\u001b[0m         \u001b[0mprint\u001b[0m\u001b[0;34m(\u001b[0m\u001b[0;34m'>%s %.3f (%.3f)'\u001b[0m \u001b[0;34m%\u001b[0m \u001b[0;34m(\u001b[0m\u001b[0mname\u001b[0m\u001b[0;34m,\u001b[0m \u001b[0mmean\u001b[0m\u001b[0;34m(\u001b[0m\u001b[0mscores\u001b[0m\u001b[0;34m)\u001b[0m\u001b[0;34m,\u001b[0m \u001b[0mstd\u001b[0m\u001b[0;34m(\u001b[0m\u001b[0mscores\u001b[0m\u001b[0;34m)\u001b[0m\u001b[0;34m)\u001b[0m\u001b[0;34m)\u001b[0m\u001b[0;34m\u001b[0m\u001b[0;34m\u001b[0m\u001b[0m\n",
            "\u001b[0;32m<ipython-input-296-9e04aee536c8>\u001b[0m in \u001b[0;36mevaluate_model\u001b[0;34m(model, X, y)\u001b[0m\n\u001b[1;32m      1\u001b[0m \u001b[0;32mdef\u001b[0m \u001b[0mevaluate_model\u001b[0m\u001b[0;34m(\u001b[0m\u001b[0mmodel\u001b[0m\u001b[0;34m,\u001b[0m \u001b[0mX\u001b[0m\u001b[0;34m,\u001b[0m \u001b[0my\u001b[0m\u001b[0;34m)\u001b[0m\u001b[0;34m:\u001b[0m\u001b[0;34m\u001b[0m\u001b[0;34m\u001b[0m\u001b[0m\n\u001b[1;32m      2\u001b[0m         \u001b[0mcv\u001b[0m \u001b[0;34m=\u001b[0m \u001b[0mRepeatedStratifiedKFold\u001b[0m\u001b[0;34m(\u001b[0m\u001b[0mn_splits\u001b[0m\u001b[0;34m=\u001b[0m\u001b[0;36m10\u001b[0m\u001b[0;34m,\u001b[0m \u001b[0mn_repeats\u001b[0m\u001b[0;34m=\u001b[0m\u001b[0;36m3\u001b[0m\u001b[0;34m,\u001b[0m \u001b[0mrandom_state\u001b[0m\u001b[0;34m=\u001b[0m\u001b[0;36m1\u001b[0m\u001b[0;34m)\u001b[0m\u001b[0;34m\u001b[0m\u001b[0;34m\u001b[0m\u001b[0m\n\u001b[0;32m----> 3\u001b[0;31m         \u001b[0mscores\u001b[0m \u001b[0;34m=\u001b[0m \u001b[0mcross_val_score\u001b[0m\u001b[0;34m(\u001b[0m\u001b[0mmodel\u001b[0m\u001b[0;34m,\u001b[0m \u001b[0mX\u001b[0m\u001b[0;34m,\u001b[0m \u001b[0my\u001b[0m\u001b[0;34m,\u001b[0m \u001b[0mscoring\u001b[0m\u001b[0;34m=\u001b[0m\u001b[0;34m'accuracy'\u001b[0m\u001b[0;34m,\u001b[0m \u001b[0mcv\u001b[0m\u001b[0;34m=\u001b[0m\u001b[0mcv\u001b[0m\u001b[0;34m,\u001b[0m \u001b[0mn_jobs\u001b[0m\u001b[0;34m=\u001b[0m\u001b[0;34m-\u001b[0m\u001b[0;36m1\u001b[0m\u001b[0;34m,\u001b[0m \u001b[0merror_score\u001b[0m\u001b[0;34m=\u001b[0m\u001b[0;34m'raise'\u001b[0m\u001b[0;34m)\u001b[0m\u001b[0;34m\u001b[0m\u001b[0;34m\u001b[0m\u001b[0m\n\u001b[0m\u001b[1;32m      4\u001b[0m         \u001b[0;32mreturn\u001b[0m \u001b[0mscores\u001b[0m\u001b[0;34m\u001b[0m\u001b[0;34m\u001b[0m\u001b[0m\n",
            "\u001b[0;32m/usr/local/lib/python3.7/dist-packages/sklearn/model_selection/_validation.py\u001b[0m in \u001b[0;36mcross_val_score\u001b[0;34m(estimator, X, y, groups, scoring, cv, n_jobs, verbose, fit_params, pre_dispatch, error_score)\u001b[0m\n\u001b[1;32m    518\u001b[0m         \u001b[0mfit_params\u001b[0m\u001b[0;34m=\u001b[0m\u001b[0mfit_params\u001b[0m\u001b[0;34m,\u001b[0m\u001b[0;34m\u001b[0m\u001b[0;34m\u001b[0m\u001b[0m\n\u001b[1;32m    519\u001b[0m         \u001b[0mpre_dispatch\u001b[0m\u001b[0;34m=\u001b[0m\u001b[0mpre_dispatch\u001b[0m\u001b[0;34m,\u001b[0m\u001b[0;34m\u001b[0m\u001b[0;34m\u001b[0m\u001b[0m\n\u001b[0;32m--> 520\u001b[0;31m         \u001b[0merror_score\u001b[0m\u001b[0;34m=\u001b[0m\u001b[0merror_score\u001b[0m\u001b[0;34m,\u001b[0m\u001b[0;34m\u001b[0m\u001b[0;34m\u001b[0m\u001b[0m\n\u001b[0m\u001b[1;32m    521\u001b[0m     )\n\u001b[1;32m    522\u001b[0m     \u001b[0;32mreturn\u001b[0m \u001b[0mcv_results\u001b[0m\u001b[0;34m[\u001b[0m\u001b[0;34m\"test_score\"\u001b[0m\u001b[0;34m]\u001b[0m\u001b[0;34m\u001b[0m\u001b[0;34m\u001b[0m\u001b[0m\n",
            "\u001b[0;32m/usr/local/lib/python3.7/dist-packages/sklearn/model_selection/_validation.py\u001b[0m in \u001b[0;36mcross_validate\u001b[0;34m(estimator, X, y, groups, scoring, cv, n_jobs, verbose, fit_params, pre_dispatch, return_train_score, return_estimator, error_score)\u001b[0m\n\u001b[1;32m    281\u001b[0m             \u001b[0merror_score\u001b[0m\u001b[0;34m=\u001b[0m\u001b[0merror_score\u001b[0m\u001b[0;34m,\u001b[0m\u001b[0;34m\u001b[0m\u001b[0;34m\u001b[0m\u001b[0m\n\u001b[1;32m    282\u001b[0m         )\n\u001b[0;32m--> 283\u001b[0;31m         \u001b[0;32mfor\u001b[0m \u001b[0mtrain\u001b[0m\u001b[0;34m,\u001b[0m \u001b[0mtest\u001b[0m \u001b[0;32min\u001b[0m \u001b[0mcv\u001b[0m\u001b[0;34m.\u001b[0m\u001b[0msplit\u001b[0m\u001b[0;34m(\u001b[0m\u001b[0mX\u001b[0m\u001b[0;34m,\u001b[0m \u001b[0my\u001b[0m\u001b[0;34m,\u001b[0m \u001b[0mgroups\u001b[0m\u001b[0;34m)\u001b[0m\u001b[0;34m\u001b[0m\u001b[0;34m\u001b[0m\u001b[0m\n\u001b[0m\u001b[1;32m    284\u001b[0m     )\n\u001b[1;32m    285\u001b[0m \u001b[0;34m\u001b[0m\u001b[0m\n",
            "\u001b[0;32m/usr/local/lib/python3.7/dist-packages/joblib/parallel.py\u001b[0m in \u001b[0;36m__call__\u001b[0;34m(self, iterable)\u001b[0m\n\u001b[1;32m   1054\u001b[0m \u001b[0;34m\u001b[0m\u001b[0m\n\u001b[1;32m   1055\u001b[0m             \u001b[0;32mwith\u001b[0m \u001b[0mself\u001b[0m\u001b[0;34m.\u001b[0m\u001b[0m_backend\u001b[0m\u001b[0;34m.\u001b[0m\u001b[0mretrieval_context\u001b[0m\u001b[0;34m(\u001b[0m\u001b[0;34m)\u001b[0m\u001b[0;34m:\u001b[0m\u001b[0;34m\u001b[0m\u001b[0;34m\u001b[0m\u001b[0m\n\u001b[0;32m-> 1056\u001b[0;31m                 \u001b[0mself\u001b[0m\u001b[0;34m.\u001b[0m\u001b[0mretrieve\u001b[0m\u001b[0;34m(\u001b[0m\u001b[0;34m)\u001b[0m\u001b[0;34m\u001b[0m\u001b[0;34m\u001b[0m\u001b[0m\n\u001b[0m\u001b[1;32m   1057\u001b[0m             \u001b[0;31m# Make sure that we get a last message telling us we are done\u001b[0m\u001b[0;34m\u001b[0m\u001b[0;34m\u001b[0m\u001b[0;34m\u001b[0m\u001b[0m\n\u001b[1;32m   1058\u001b[0m             \u001b[0melapsed_time\u001b[0m \u001b[0;34m=\u001b[0m \u001b[0mtime\u001b[0m\u001b[0;34m.\u001b[0m\u001b[0mtime\u001b[0m\u001b[0;34m(\u001b[0m\u001b[0;34m)\u001b[0m \u001b[0;34m-\u001b[0m \u001b[0mself\u001b[0m\u001b[0;34m.\u001b[0m\u001b[0m_start_time\u001b[0m\u001b[0;34m\u001b[0m\u001b[0;34m\u001b[0m\u001b[0m\n",
            "\u001b[0;32m/usr/local/lib/python3.7/dist-packages/joblib/parallel.py\u001b[0m in \u001b[0;36mretrieve\u001b[0;34m(self)\u001b[0m\n\u001b[1;32m    933\u001b[0m             \u001b[0;32mtry\u001b[0m\u001b[0;34m:\u001b[0m\u001b[0;34m\u001b[0m\u001b[0;34m\u001b[0m\u001b[0m\n\u001b[1;32m    934\u001b[0m                 \u001b[0;32mif\u001b[0m \u001b[0mgetattr\u001b[0m\u001b[0;34m(\u001b[0m\u001b[0mself\u001b[0m\u001b[0;34m.\u001b[0m\u001b[0m_backend\u001b[0m\u001b[0;34m,\u001b[0m \u001b[0;34m'supports_timeout'\u001b[0m\u001b[0;34m,\u001b[0m \u001b[0;32mFalse\u001b[0m\u001b[0;34m)\u001b[0m\u001b[0;34m:\u001b[0m\u001b[0;34m\u001b[0m\u001b[0;34m\u001b[0m\u001b[0m\n\u001b[0;32m--> 935\u001b[0;31m                     \u001b[0mself\u001b[0m\u001b[0;34m.\u001b[0m\u001b[0m_output\u001b[0m\u001b[0;34m.\u001b[0m\u001b[0mextend\u001b[0m\u001b[0;34m(\u001b[0m\u001b[0mjob\u001b[0m\u001b[0;34m.\u001b[0m\u001b[0mget\u001b[0m\u001b[0;34m(\u001b[0m\u001b[0mtimeout\u001b[0m\u001b[0;34m=\u001b[0m\u001b[0mself\u001b[0m\u001b[0;34m.\u001b[0m\u001b[0mtimeout\u001b[0m\u001b[0;34m)\u001b[0m\u001b[0;34m)\u001b[0m\u001b[0;34m\u001b[0m\u001b[0;34m\u001b[0m\u001b[0m\n\u001b[0m\u001b[1;32m    936\u001b[0m                 \u001b[0;32melse\u001b[0m\u001b[0;34m:\u001b[0m\u001b[0;34m\u001b[0m\u001b[0;34m\u001b[0m\u001b[0m\n\u001b[1;32m    937\u001b[0m                     \u001b[0mself\u001b[0m\u001b[0;34m.\u001b[0m\u001b[0m_output\u001b[0m\u001b[0;34m.\u001b[0m\u001b[0mextend\u001b[0m\u001b[0;34m(\u001b[0m\u001b[0mjob\u001b[0m\u001b[0;34m.\u001b[0m\u001b[0mget\u001b[0m\u001b[0;34m(\u001b[0m\u001b[0;34m)\u001b[0m\u001b[0;34m)\u001b[0m\u001b[0;34m\u001b[0m\u001b[0;34m\u001b[0m\u001b[0m\n",
            "\u001b[0;32m/usr/local/lib/python3.7/dist-packages/joblib/_parallel_backends.py\u001b[0m in \u001b[0;36mwrap_future_result\u001b[0;34m(future, timeout)\u001b[0m\n\u001b[1;32m    540\u001b[0m         AsyncResults.get from multiprocessing.\"\"\"\n\u001b[1;32m    541\u001b[0m         \u001b[0;32mtry\u001b[0m\u001b[0;34m:\u001b[0m\u001b[0;34m\u001b[0m\u001b[0;34m\u001b[0m\u001b[0m\n\u001b[0;32m--> 542\u001b[0;31m             \u001b[0;32mreturn\u001b[0m \u001b[0mfuture\u001b[0m\u001b[0;34m.\u001b[0m\u001b[0mresult\u001b[0m\u001b[0;34m(\u001b[0m\u001b[0mtimeout\u001b[0m\u001b[0;34m=\u001b[0m\u001b[0mtimeout\u001b[0m\u001b[0;34m)\u001b[0m\u001b[0;34m\u001b[0m\u001b[0;34m\u001b[0m\u001b[0m\n\u001b[0m\u001b[1;32m    543\u001b[0m         \u001b[0;32mexcept\u001b[0m \u001b[0mCfTimeoutError\u001b[0m \u001b[0;32mas\u001b[0m \u001b[0me\u001b[0m\u001b[0;34m:\u001b[0m\u001b[0;34m\u001b[0m\u001b[0;34m\u001b[0m\u001b[0m\n\u001b[1;32m    544\u001b[0m             \u001b[0;32mraise\u001b[0m \u001b[0mTimeoutError\u001b[0m \u001b[0;32mfrom\u001b[0m \u001b[0me\u001b[0m\u001b[0;34m\u001b[0m\u001b[0;34m\u001b[0m\u001b[0m\n",
            "\u001b[0;32m/usr/lib/python3.7/concurrent/futures/_base.py\u001b[0m in \u001b[0;36mresult\u001b[0;34m(self, timeout)\u001b[0m\n\u001b[1;32m    428\u001b[0m                 \u001b[0;32mreturn\u001b[0m \u001b[0mself\u001b[0m\u001b[0;34m.\u001b[0m\u001b[0m__get_result\u001b[0m\u001b[0;34m(\u001b[0m\u001b[0;34m)\u001b[0m\u001b[0;34m\u001b[0m\u001b[0;34m\u001b[0m\u001b[0m\n\u001b[1;32m    429\u001b[0m \u001b[0;34m\u001b[0m\u001b[0m\n\u001b[0;32m--> 430\u001b[0;31m             \u001b[0mself\u001b[0m\u001b[0;34m.\u001b[0m\u001b[0m_condition\u001b[0m\u001b[0;34m.\u001b[0m\u001b[0mwait\u001b[0m\u001b[0;34m(\u001b[0m\u001b[0mtimeout\u001b[0m\u001b[0;34m)\u001b[0m\u001b[0;34m\u001b[0m\u001b[0;34m\u001b[0m\u001b[0m\n\u001b[0m\u001b[1;32m    431\u001b[0m \u001b[0;34m\u001b[0m\u001b[0m\n\u001b[1;32m    432\u001b[0m             \u001b[0;32mif\u001b[0m \u001b[0mself\u001b[0m\u001b[0;34m.\u001b[0m\u001b[0m_state\u001b[0m \u001b[0;32min\u001b[0m \u001b[0;34m[\u001b[0m\u001b[0mCANCELLED\u001b[0m\u001b[0;34m,\u001b[0m \u001b[0mCANCELLED_AND_NOTIFIED\u001b[0m\u001b[0;34m]\u001b[0m\u001b[0;34m:\u001b[0m\u001b[0;34m\u001b[0m\u001b[0;34m\u001b[0m\u001b[0m\n",
            "\u001b[0;32m/usr/lib/python3.7/threading.py\u001b[0m in \u001b[0;36mwait\u001b[0;34m(self, timeout)\u001b[0m\n\u001b[1;32m    294\u001b[0m         \u001b[0;32mtry\u001b[0m\u001b[0;34m:\u001b[0m    \u001b[0;31m# restore state no matter what (e.g., KeyboardInterrupt)\u001b[0m\u001b[0;34m\u001b[0m\u001b[0;34m\u001b[0m\u001b[0m\n\u001b[1;32m    295\u001b[0m             \u001b[0;32mif\u001b[0m \u001b[0mtimeout\u001b[0m \u001b[0;32mis\u001b[0m \u001b[0;32mNone\u001b[0m\u001b[0;34m:\u001b[0m\u001b[0;34m\u001b[0m\u001b[0;34m\u001b[0m\u001b[0m\n\u001b[0;32m--> 296\u001b[0;31m                 \u001b[0mwaiter\u001b[0m\u001b[0;34m.\u001b[0m\u001b[0macquire\u001b[0m\u001b[0;34m(\u001b[0m\u001b[0;34m)\u001b[0m\u001b[0;34m\u001b[0m\u001b[0;34m\u001b[0m\u001b[0m\n\u001b[0m\u001b[1;32m    297\u001b[0m                 \u001b[0mgotit\u001b[0m \u001b[0;34m=\u001b[0m \u001b[0;32mTrue\u001b[0m\u001b[0;34m\u001b[0m\u001b[0;34m\u001b[0m\u001b[0m\n\u001b[1;32m    298\u001b[0m             \u001b[0;32melse\u001b[0m\u001b[0;34m:\u001b[0m\u001b[0;34m\u001b[0m\u001b[0;34m\u001b[0m\u001b[0m\n",
            "\u001b[0;31mKeyboardInterrupt\u001b[0m: "
          ]
        }
      ]
    },
    {
      "cell_type": "code",
      "source": [
        "y = np.ravel(y)"
      ],
      "metadata": {
        "id": "6EmcH-okM4bm"
      },
      "execution_count": null,
      "outputs": []
    },
    {
      "cell_type": "code",
      "source": [
        "rfe = RFE(estimator=PoissonRegressor(), n_features_to_select=10)\n",
        "# fit RFE\n",
        "rfe.fit(X, y)\n",
        "# summarize all features\n",
        "for i in range(X.shape[1]):\n",
        "\tprint('Column: %d, Selected %s, Rank: %.3f' % (i, rfe.support_[i], rfe.ranking_[i]))"
      ],
      "metadata": {
        "colab": {
          "base_uri": "https://localhost:8080/"
        },
        "id": "iBHMbvid_8qM",
        "outputId": "72206626-d53d-45f6-d1d1-88596de928fc"
      },
      "execution_count": null,
      "outputs": [
        {
          "output_type": "stream",
          "name": "stdout",
          "text": [
            "Column: 0, Selected True, Rank: 1.000\n",
            "Column: 1, Selected False, Rank: 17.000\n",
            "Column: 2, Selected False, Rank: 11.000\n",
            "Column: 3, Selected True, Rank: 1.000\n",
            "Column: 4, Selected False, Rank: 4.000\n",
            "Column: 5, Selected True, Rank: 1.000\n",
            "Column: 6, Selected False, Rank: 16.000\n",
            "Column: 7, Selected False, Rank: 7.000\n",
            "Column: 8, Selected False, Rank: 2.000\n",
            "Column: 9, Selected False, Rank: 13.000\n",
            "Column: 10, Selected False, Rank: 12.000\n",
            "Column: 11, Selected False, Rank: 10.000\n",
            "Column: 12, Selected False, Rank: 15.000\n",
            "Column: 13, Selected False, Rank: 18.000\n",
            "Column: 14, Selected True, Rank: 1.000\n",
            "Column: 15, Selected True, Rank: 1.000\n",
            "Column: 16, Selected False, Rank: 5.000\n",
            "Column: 17, Selected True, Rank: 1.000\n",
            "Column: 18, Selected True, Rank: 1.000\n",
            "Column: 19, Selected False, Rank: 20.000\n",
            "Column: 20, Selected False, Rank: 22.000\n",
            "Column: 21, Selected False, Rank: 28.000\n",
            "Column: 22, Selected False, Rank: 9.000\n",
            "Column: 23, Selected True, Rank: 1.000\n",
            "Column: 24, Selected False, Rank: 29.000\n",
            "Column: 25, Selected False, Rank: 26.000\n",
            "Column: 26, Selected True, Rank: 1.000\n",
            "Column: 27, Selected False, Rank: 27.000\n",
            "Column: 28, Selected True, Rank: 1.000\n",
            "Column: 29, Selected False, Rank: 24.000\n",
            "Column: 30, Selected False, Rank: 14.000\n",
            "Column: 31, Selected False, Rank: 19.000\n",
            "Column: 32, Selected False, Rank: 21.000\n",
            "Column: 33, Selected False, Rank: 8.000\n",
            "Column: 34, Selected False, Rank: 25.000\n",
            "Column: 35, Selected False, Rank: 3.000\n",
            "Column: 36, Selected False, Rank: 6.000\n",
            "Column: 37, Selected False, Rank: 30.000\n",
            "Column: 38, Selected False, Rank: 23.000\n"
          ]
        }
      ]
    },
    {
      "cell_type": "markdown",
      "source": [
        "# Decision Trees"
      ],
      "metadata": {
        "id": "dkfZSUJqQWKK"
      }
    },
    {
      "cell_type": "code",
      "source": [
        "from sklearn.model_selection import train_test_split\n",
        "from sklearn.model_selection import cross_val_score\n",
        "from sklearn.model_selection import GridSearchCV\n",
        "from sklearn.ensemble import RandomForestClassifier\n",
        "from sklearn.metrics import accuracy_score"
      ],
      "metadata": {
        "id": "1tVeUrW-_8vC"
      },
      "execution_count": null,
      "outputs": []
    },
    {
      "cell_type": "code",
      "source": [
        "x_train, x_test, y_train, y_test = train_test_split(x, y, test_size=0.1, random_state=42)"
      ],
      "metadata": {
        "id": "jefwOzHO_8xf"
      },
      "execution_count": null,
      "outputs": []
    },
    {
      "cell_type": "code",
      "source": [
        "rfc=RandomForestClassifier(random_state=42)"
      ],
      "metadata": {
        "id": "x7RNqbpm_80D"
      },
      "execution_count": null,
      "outputs": []
    },
    {
      "cell_type": "code",
      "source": [
        "param_grid = { \n",
        "    'n_estimators': [50,100,150,200],\n",
        "    'max_features': ['sqrt','log2'],\n",
        "    'max_depth' : [13,14,15,16],\n",
        "    'criterion' :['gini','entropy']\n",
        "}"
      ],
      "metadata": {
        "id": "vTs6ZyVt_82w"
      },
      "execution_count": null,
      "outputs": []
    },
    {
      "cell_type": "code",
      "source": [
        "CV_rfc = GridSearchCV(estimator=rfc, param_grid=param_grid, cv= 5)\n",
        "CV_rfc.fit(x_train,y_train)"
      ],
      "metadata": {
        "id": "MFLvUElk_84y"
      },
      "execution_count": null,
      "outputs": []
    },
    {
      "cell_type": "code",
      "source": [
        "CV_rfc.best_params_"
      ],
      "metadata": {
        "id": "lk-Uq5zY_87I"
      },
      "execution_count": null,
      "outputs": []
    },
    {
      "cell_type": "code",
      "source": [
        "rfc1=RandomForestClassifier(random_state=42, max_features='sqrt', n_estimators= 150, max_depth=13, criterion='gini')"
      ],
      "metadata": {
        "id": "QhY2IqJ4_8-U"
      },
      "execution_count": null,
      "outputs": []
    },
    {
      "cell_type": "code",
      "source": [
        "rfc1.fit(x_train, y_train)"
      ],
      "metadata": {
        "id": "SlHRqijO_9A3"
      },
      "execution_count": null,
      "outputs": []
    },
    {
      "cell_type": "code",
      "source": [
        "dataframe = pd.DataFrame({'columns': x_train.columns,\n",
        "                          'importance': rfc1.feature_importances_})\n",
        "\n",
        "dataframe.sort_values('importance', ascending=False)"
      ],
      "metadata": {
        "id": "smAIYLY4Q8TW"
      },
      "execution_count": null,
      "outputs": []
    },
    {
      "cell_type": "code",
      "source": [
        "from sklearn.metrics import confusion_matrix"
      ],
      "metadata": {
        "id": "GLVNCYKOQ8V5"
      },
      "execution_count": null,
      "outputs": []
    },
    {
      "cell_type": "code",
      "source": [
        "y_pred = rfc1.predict(x_test)\n",
        "cm = confusion_matrix(y_test,y_pred)"
      ],
      "metadata": {
        "id": "-2_UmxquQ8YR"
      },
      "execution_count": null,
      "outputs": []
    },
    {
      "cell_type": "code",
      "source": [
        "cm"
      ],
      "metadata": {
        "id": "rOpHhACjQ8ap"
      },
      "execution_count": null,
      "outputs": []
    },
    {
      "cell_type": "code",
      "source": [
        "from sklearn.metrics import precision_score,recall_score,f1_score\n",
        "from sklearn.metrics import classification_report"
      ],
      "metadata": {
        "id": "JeykTxxNQ8cr"
      },
      "execution_count": null,
      "outputs": []
    },
    {
      "cell_type": "code",
      "source": [
        "print(\"precision_score: \"+ str(precision_score(y_test,y_pred,average=\"micro\")))\n",
        "print(\"recall_score: \"+ str(recall_score(y_test,y_pred,average=\"micro\")))\n",
        "print(\"f1_score: \"+ str(f1_score(y_test,y_pred,average=\"micro\")))"
      ],
      "metadata": {
        "id": "9wEvV4hp_9Ds"
      },
      "execution_count": null,
      "outputs": []
    },
    {
      "cell_type": "code",
      "source": [
        "print(classification_report(y_test, y_pred, target_names=[\"injury\", \"non-injury\"]))"
      ],
      "metadata": {
        "id": "ZYPa-nFqRIH0"
      },
      "execution_count": null,
      "outputs": []
    },
    {
      "cell_type": "code",
      "source": [
        "print(\"precision_score: \"+ str(precision_score(y_test,y_pred,average=\"macro\")))\n",
        "print(\"recall_score: \"+ str(recall_score(y_test,y_pred,average=\"macro\")))\n",
        "print(\"f1_score: \"+ str(f1_score(y_test,y_pred,average=\"macro\")))"
      ],
      "metadata": {
        "id": "oHFoeTNrRIKa"
      },
      "execution_count": null,
      "outputs": []
    },
    {
      "cell_type": "code",
      "source": [
        "import lime\n",
        "import lime.lime_tabular"
      ],
      "metadata": {
        "id": "unkD8P-ARINC"
      },
      "execution_count": null,
      "outputs": []
    },
    {
      "cell_type": "code",
      "source": [
        "predict_fn_rf = lambda x: rfc1.predict_proba(x).astype(float)\n",
        "X = x_train.values\n",
        "explainer = lime.lime_tabular.LimeTabularExplainer(X,feature_names = x_train.columns,class_names=[\"injury\", \"non-injury\"],kernel_width=5)"
      ],
      "metadata": {
        "id": "Oi2DeI93RIO5"
      },
      "execution_count": null,
      "outputs": []
    },
    {
      "cell_type": "code",
      "source": [
        "x_test.iloc[[421]]"
      ],
      "metadata": {
        "id": "Xonn8ETvRYaT"
      },
      "execution_count": null,
      "outputs": []
    },
    {
      "cell_type": "code",
      "source": [
        "choosen_instance = x_test.iloc[[14569]].values[0]\n",
        "exp = explainer.explain_instance(choosen_instance, predict_fn_rf,num_features=10)\n",
        "exp.show_in_notebook(show_all=False)"
      ],
      "metadata": {
        "id": "f9pPBLfmRYco"
      },
      "execution_count": null,
      "outputs": []
    },
    {
      "cell_type": "code",
      "source": [
        ""
      ],
      "metadata": {
        "id": "1woZJQy3RYfQ"
      },
      "execution_count": null,
      "outputs": []
    },
    {
      "cell_type": "code",
      "source": [
        ""
      ],
      "metadata": {
        "id": "zzqRc1TNRYhi"
      },
      "execution_count": null,
      "outputs": []
    },
    {
      "cell_type": "code",
      "source": [
        ""
      ],
      "metadata": {
        "id": "h8gUcL7f_9F4"
      },
      "execution_count": null,
      "outputs": []
    },
    {
      "cell_type": "markdown",
      "source": [
        "# Arima"
      ],
      "metadata": {
        "id": "dSEc20pkFQtD"
      }
    },
    {
      "cell_type": "code",
      "source": [
        "from statsmodels.tsa.stattools import adfuller"
      ],
      "metadata": {
        "id": "h2_I4vo0Fvgi"
      },
      "execution_count": null,
      "outputs": []
    },
    {
      "cell_type": "code",
      "source": [
        "def adfuller_test(claim):\n",
        "    result=adfuller(claim)\n",
        "    labels = ['ADF Test Statistic','p-value','#Lags Used','Number of Observations']\n",
        "    for value,label in zip(result,labels):\n",
        "        print(label+' : '+str(value) )\n",
        "\n",
        "    if result[1] <= 0.05:\n",
        "        print(\"strong evidence against the null hypothesis(Ho), reject the null hypothesis. Data is stationary\")\n",
        "    else:\n",
        "        print(\"weak evidence against null hypothesis,indicating it is non-stationary \")\n",
        "\n",
        "adfuller_test(df_train['claimAmount'])"
      ],
      "metadata": {
        "colab": {
          "base_uri": "https://localhost:8080/"
        },
        "id": "3RRzKTRKFSle",
        "outputId": "ad486935-7482-4e00-a579-f2a62747c487"
      },
      "execution_count": null,
      "outputs": [
        {
          "output_type": "stream",
          "name": "stdout",
          "text": [
            "ADF Test Statistic : -46.330534491171576\n",
            "p-value : 0.0\n",
            "#Lags Used : 66\n",
            "Number of Observations : 179741\n",
            "strong evidence against the null hypothesis(Ho), reject the null hypothesis. Data is stationary\n"
          ]
        }
      ]
    },
    {
      "cell_type": "code",
      "source": [
        "from pandas.plotting import autocorrelation_plot\n",
        "autocorrelation_plot(df_train['claimAmount'])\n",
        "plt.show()"
      ],
      "metadata": {
        "id": "71LcaIK_GC2v"
      },
      "execution_count": null,
      "outputs": []
    },
    {
      "cell_type": "code",
      "source": [
        "import numpy as np, pandas as pd\n",
        "from statsmodels.graphics.tsaplots import plot_acf, plot_pacf\n",
        "import matplotlib.pyplot as plt\n",
        "plt.rcParams.update({'figure.figsize':(9,7), 'figure.dpi':120})\n",
        "\n",
        "\n",
        "# Original Series\n",
        "fig, axes = plt.subplots(3, 2, sharex=True)\n",
        "axes[0, 0].plot(df_train.claimAmount); axes[0, 0].set_title('Original Series')\n",
        "plot_acf(df_train.claimAmount, ax=axes[0, 1])\n",
        "\n",
        "# 1st Differencing\n",
        "axes[1, 0].plot(df_train.claimAmount.diff()); axes[1, 0].set_title('1st Order Differencing')\n",
        "plot_acf(df_train.claimAmount.diff().dropna(), ax=axes[1, 1])\n",
        "\n",
        "# 2nd Differencing\n",
        "axes[2, 0].plot(df_train.claimAmount.diff().diff()); axes[2, 0].set_title('2nd Order Differencing')\n",
        "plot_acf(df_train.claimAmount.diff().diff().dropna(), ax=axes[2, 1])\n",
        "\n",
        "plt.show()"
      ],
      "metadata": {
        "id": "w9JjvmgsHdVv"
      },
      "execution_count": null,
      "outputs": []
    },
    {
      "cell_type": "code",
      "source": [
        "from statsmodels.tsa.arima_model import ARIMA\n",
        "\n",
        "# 1,1,2 ARIMA Model\n",
        "model = ARIMA(df_train.claimAmount, order=(1,1,2))\n",
        "model_fit = model.fit(disp=0)\n",
        "print(model_fit.summary())"
      ],
      "metadata": {
        "colab": {
          "base_uri": "https://localhost:8080/"
        },
        "id": "yc0kzGccHdmJ",
        "outputId": "a2dcc50c-c7e7-40eb-bcbb-384f812731b7"
      },
      "execution_count": null,
      "outputs": [
        {
          "output_type": "stream",
          "name": "stderr",
          "text": [
            "/usr/local/lib/python3.7/dist-packages/statsmodels/tsa/base/tsa_model.py:215: ValueWarning: An unsupported index was provided and will be ignored when e.g. forecasting.\n",
            "  ' ignored when e.g. forecasting.', ValueWarning)\n",
            "/usr/local/lib/python3.7/dist-packages/statsmodels/tsa/base/tsa_model.py:215: ValueWarning: An unsupported index was provided and will be ignored when e.g. forecasting.\n",
            "  ' ignored when e.g. forecasting.', ValueWarning)\n",
            "/usr/local/lib/python3.7/dist-packages/statsmodels/base/model.py:492: HessianInversionWarning: Inverting hessian failed, no bse or cov_params available\n",
            "  'available', HessianInversionWarning)\n"
          ]
        },
        {
          "output_type": "stream",
          "name": "stdout",
          "text": [
            "                             ARIMA Model Results                              \n",
            "==============================================================================\n",
            "Dep. Variable:          D.claimAmount   No. Observations:               179807\n",
            "Model:                 ARIMA(1, 1, 2)   Log Likelihood            -2995298.496\n",
            "Method:                       css-mle   S.D. of innovations        4153440.264\n",
            "Date:                Mon, 11 Apr 2022   AIC                        5990606.993\n",
            "Time:                        05:50:55   BIC                        5990657.491\n",
            "Sample:                             1   HQIC                       5990621.924\n",
            "                                                                              \n",
            "=======================================================================================\n",
            "                          coef    std err          z      P>|z|      [0.025      0.975]\n",
            "---------------------------------------------------------------------------------------\n",
            "const                  -4.7298      1.476     -3.204      0.001      -7.623      -1.837\n",
            "ar.L1.D.claimAmount    -0.7187        nan        nan        nan         nan         nan\n",
            "ma.L1.D.claimAmount    -0.2822        nan        nan        nan         nan         nan\n",
            "ma.L2.D.claimAmount    -0.7176        nan        nan        nan         nan         nan\n",
            "                                    Roots                                    \n",
            "=============================================================================\n",
            "                  Real          Imaginary           Modulus         Frequency\n",
            "-----------------------------------------------------------------------------\n",
            "AR.1           -1.3913           +0.0000j            1.3913            0.5000\n",
            "MA.1            1.0001           +0.0000j            1.0001            0.0000\n",
            "MA.2           -1.3934           +0.0000j            1.3934            0.5000\n",
            "-----------------------------------------------------------------------------\n"
          ]
        },
        {
          "output_type": "stream",
          "name": "stderr",
          "text": [
            "/usr/local/lib/python3.7/dist-packages/statsmodels/tsa/arima_model.py:1441: RuntimeWarning: invalid value encountered in sqrt\n",
            "  return np.sqrt(np.diag(-inv(hess)))\n"
          ]
        }
      ]
    },
    {
      "cell_type": "code",
      "source": [
        "# Plot residual errors\n",
        "sns.distplot(model_fit.resid)"
      ],
      "metadata": {
        "id": "RM5y0Hg0Hdo2"
      },
      "execution_count": null,
      "outputs": []
    },
    {
      "cell_type": "code",
      "source": [
        "fc = model_fit.forecast(15, alpha=0.05)"
      ],
      "metadata": {
        "id": "8pZPbUJzHdrG"
      },
      "execution_count": null,
      "outputs": []
    },
    {
      "cell_type": "code",
      "source": [
        "fc"
      ],
      "metadata": {
        "id": "cK1qW-ybKNM8"
      },
      "execution_count": null,
      "outputs": []
    },
    {
      "cell_type": "code",
      "source": [
        ""
      ],
      "metadata": {
        "id": "T0t4PtRHMGSt"
      },
      "execution_count": null,
      "outputs": []
    },
    {
      "cell_type": "code",
      "source": [
        ""
      ],
      "metadata": {
        "id": "Vfynu8ARKNPm"
      },
      "execution_count": null,
      "outputs": []
    },
    {
      "cell_type": "code",
      "source": [
        ""
      ],
      "metadata": {
        "id": "X9wcArNAKNR6"
      },
      "execution_count": null,
      "outputs": []
    },
    {
      "cell_type": "markdown",
      "metadata": {
        "id": "vvknSTAouT8T"
      },
      "source": [
        "# LSTMs\n"
      ]
    },
    {
      "cell_type": "code",
      "execution_count": null,
      "metadata": {
        "id": "dMM3kDysx5Rn"
      },
      "outputs": [],
      "source": [
        "import scipy\n",
        "import numpy\n",
        "import tensorflow as tf\n",
        "from tensorflow import keras as k\n",
        "from tensorflow.keras import Sequential, layers, callbacks\n",
        "from tensorflow.keras.layers import Dense, LSTM, Dropout, GRU, Bidirectional\n",
        "import pandas as pd\n",
        "import numpy as np\n",
        "\n",
        "from sklearn.preprocessing import MinMaxScaler\n",
        "from sklearn.model_selection import train_test_split\n",
        "\n",
        "from matplotlib import pyplot as plt\n",
        "from IPython.core.pylabtools import figsize\n",
        "\n",
        "from pandas.plotting import register_matplotlib_converters\n",
        "register_matplotlib_converters()\n",
        "import seaborn as sns"
      ]
    },
    {
      "cell_type": "code",
      "execution_count": null,
      "metadata": {
        "id": "s_t6yScrvOFE"
      },
      "outputs": [],
      "source": [
        "# Split train data to X and y\n",
        "x_train = df_train.iloc[:, :-1].values\n",
        "y_train = df_train.loc[:,['claimAmount']]\n",
        "# Split test data to X and y\n",
        "x_test = df_test.iloc[:, :-1].values\n",
        "y_test = df_test.loc[:,['claimAmount']]"
      ]
    },
    {
      "cell_type": "code",
      "execution_count": null,
      "metadata": {
        "colab": {
          "base_uri": "https://localhost:8080/"
        },
        "id": "CYfDgCoizs4a",
        "outputId": "357a7abf-a8de-4f9a-b4cd-92dee5ce4931"
      },
      "outputs": [
        {
          "data": {
            "text/plain": [
              "(179808, 1)"
            ]
          },
          "execution_count": 49,
          "metadata": {},
          "output_type": "execute_result"
        }
      ],
      "source": [
        "y_train.shape"
      ]
    },
    {
      "cell_type": "code",
      "execution_count": null,
      "metadata": {
        "colab": {
          "base_uri": "https://localhost:8080/"
        },
        "id": "KJRNDsuExSzf",
        "outputId": "f7265fc7-2eb2-420a-9011-ae144fc96bdd"
      },
      "outputs": [
        {
          "name": "stdout",
          "output_type": "stream",
          "text": [
            "X_train.shape:  (44809, 30, 71)\n",
            "y_train.shape:  (179778, 1)\n",
            "X_test.shape:  (44809, 30, 71)\n",
            "y_test.shape:  (44809, 1)\n"
          ]
        }
      ],
      "source": [
        "# Create a 3D input\n",
        "def create_dataset (X, y, time_steps):\n",
        "    Xs, ys = [], []\n",
        "    for i in range(len(X)-time_steps):\n",
        "        v = X[i:i+time_steps, :]\n",
        "        Xs.append(v)\n",
        "        ys.append(y.iloc[i+time_steps])\n",
        "    return np.array(Xs), np.array(ys)\n",
        "    \n",
        "TIME_STEPS = 30\n",
        "\n",
        "X_test, y_test = create_dataset(x_test, y_test, TIME_STEPS)\n",
        "\n",
        "X_train, y_train = create_dataset(x_train, y_train, TIME_STEPS)\n",
        "\n",
        "print('X_train.shape: ', X_train.shape)\n",
        "print('y_train.shape: ', y_train.shape)\n",
        "print('X_test.shape: ', X_test.shape)\n",
        "print('y_test.shape: ', y_test.shape)"
      ]
    },
    {
      "cell_type": "code",
      "execution_count": null,
      "metadata": {
        "colab": {
          "base_uri": "https://localhost:8080/"
        },
        "id": "kt3XNohIxoYV",
        "outputId": "846594b8-2898-4c44-c67b-a0dfa76288a1"
      },
      "outputs": [
        {
          "data": {
            "text/plain": [
              "<tf.Tensor: shape=(30, 71), dtype=float32, numpy=\n",
              "array([[  0.,   0.,   0., ...,   0., 100.,   0.],\n",
              "       [  0.,   1.,   0., ...,   1.,  50.,   0.],\n",
              "       [  0.,   0.,   0., ...,   0.,  50.,   0.],\n",
              "       ...,\n",
              "       [  0.,   0.,   0., ...,   0.,  50.,   0.],\n",
              "       [  0.,   0.,   0., ...,   1., 100.,   0.],\n",
              "       [  0.,   0.,   0., ...,   0.,  50.,   0.]], dtype=float32)>"
            ]
          },
          "execution_count": 57,
          "metadata": {},
          "output_type": "execute_result"
        }
      ],
      "source": [
        "X_train[0]"
      ]
    },
    {
      "cell_type": "code",
      "execution_count": null,
      "metadata": {
        "id": "tOx224bmy2Z1"
      },
      "outputs": [],
      "source": [
        "X_train = tf.convert_to_tensor(X_train, dtype=tf.float32)\n",
        "y_train = tf.convert_to_tensor(y_train, dtype=tf.float32)\n",
        "X_test = tf.convert_to_tensor(X_test, dtype=tf.float32)\n",
        "y_test = tf.convert_to_tensor(y_test, dtype=tf.float32)"
      ]
    },
    {
      "cell_type": "code",
      "execution_count": null,
      "metadata": {
        "id": "yJcug4Hk9yYr"
      },
      "outputs": [],
      "source": [
        "def rmse(y_true, y_pred):\n",
        "  return k.backend.sqrt(k.backend.mean(k.backend.square(y_pred-y_true)))"
      ]
    },
    {
      "cell_type": "code",
      "execution_count": null,
      "metadata": {
        "id": "D1ud3NeW2GbG"
      },
      "outputs": [],
      "source": [
        "# Create BiLSTM model\n",
        "def create_model_bilstm(units):\n",
        "    model = Sequential()\n",
        "    model.add(Bidirectional(LSTM(units = units,                             \n",
        "              return_sequences=True),\n",
        "              input_shape=(X_train.shape[1], X_train.shape[2])))\n",
        "    model.add(Bidirectional(LSTM(units = units)))\n",
        "    model.add(Dense(1))\n",
        "    #Compile model\n",
        "    model.compile(loss=rmse, optimizer='adam')\n",
        "    return model# Create LSTM or GRU model\n",
        "def create_model(units, m):\n",
        "    model = Sequential()\n",
        "    model.add(m (units = units, return_sequences = True,\n",
        "                input_shape = [X_train.shape[1], X_train.shape[2]]))\n",
        "    model.add(Dropout(0.2))\n",
        "    model.add(m (units = units))\n",
        "    model.add(Dropout(0.2))\n",
        "    model.add(Dense(units = 1))\n",
        "    #Compile model\n",
        "    model.compile(loss=rmse, optimizer='adam')\n",
        "    return model# BiLSTM\n",
        "model_bilstm = create_model_bilstm(64)# GRU and LSTM\n",
        "model_gru = create_model(64, GRU)\n",
        "model_lstm = create_model(64, LSTM)"
      ]
    },
    {
      "cell_type": "code",
      "execution_count": null,
      "metadata": {
        "colab": {
          "base_uri": "https://localhost:8080/",
          "height": 626
        },
        "id": "RqqB0yyexw7a",
        "outputId": "04280212-48b4-4ed9-9ede-93d294ed70a1"
      },
      "outputs": [
        {
          "name": "stdout",
          "output_type": "stream",
          "text": [
            "Epoch 1/50\n",
            "4495/4495 [==============================] - 69s 13ms/step - loss: 6731305.5000 - val_loss: 6730757.5000\n",
            "Epoch 2/50\n",
            "4495/4495 [==============================] - 57s 13ms/step - loss: 6730832.0000 - val_loss: 6730280.5000\n",
            "Epoch 3/50\n",
            "4495/4495 [==============================] - 56s 12ms/step - loss: 6730363.0000 - val_loss: 6729796.0000\n",
            "Epoch 4/50\n",
            "4495/4495 [==============================] - 56s 13ms/step - loss: 6729871.0000 - val_loss: 6729326.0000\n",
            "Epoch 5/50\n",
            "4495/4495 [==============================] - 56s 12ms/step - loss: 6729393.5000 - val_loss: 6728849.5000\n",
            "Epoch 6/50\n",
            "4495/4495 [==============================] - 55s 12ms/step - loss: 6728925.5000 - val_loss: 6728368.5000\n",
            "Epoch 7/50\n",
            "4495/4495 [==============================] - ETA: 0s - loss: 6728442.5000"
          ]
        },
        {
          "ename": "KeyboardInterrupt",
          "evalue": "ignored",
          "output_type": "error",
          "traceback": [
            "\u001b[0;31m---------------------------------------------------------------------------\u001b[0m",
            "\u001b[0;31mKeyboardInterrupt\u001b[0m                         Traceback (most recent call last)",
            "\u001b[0;32m<ipython-input-54-38b0249a1f46>\u001b[0m in \u001b[0;36m<module>\u001b[0;34m()\u001b[0m\n\u001b[1;32m      9\u001b[0m     \u001b[0;32mreturn\u001b[0m \u001b[0mhistory\u001b[0m\u001b[0;34m\u001b[0m\u001b[0;34m\u001b[0m\u001b[0m\n\u001b[1;32m     10\u001b[0m \u001b[0;34m\u001b[0m\u001b[0m\n\u001b[0;32m---> 11\u001b[0;31m \u001b[0mhistory_bilstm\u001b[0m \u001b[0;34m=\u001b[0m \u001b[0mfit_model\u001b[0m\u001b[0;34m(\u001b[0m\u001b[0mmodel_bilstm\u001b[0m\u001b[0;34m)\u001b[0m\u001b[0;34m\u001b[0m\u001b[0;34m\u001b[0m\u001b[0m\n\u001b[0m\u001b[1;32m     12\u001b[0m \u001b[0;31m#history_lstm = fit_model(model_lstm)\u001b[0m\u001b[0;34m\u001b[0m\u001b[0;34m\u001b[0m\u001b[0;34m\u001b[0m\u001b[0m\n\u001b[1;32m     13\u001b[0m \u001b[0;31m#history_gru = fit_model(model_gru)\u001b[0m\u001b[0;34m\u001b[0m\u001b[0;34m\u001b[0m\u001b[0;34m\u001b[0m\u001b[0m\n",
            "\u001b[0;32m<ipython-input-54-38b0249a1f46>\u001b[0m in \u001b[0;36mfit_model\u001b[0;34m(model)\u001b[0m\n\u001b[1;32m      6\u001b[0m     \u001b[0;31m# shuffle = False because the order of the data matters\u001b[0m\u001b[0;34m\u001b[0m\u001b[0;34m\u001b[0m\u001b[0;34m\u001b[0m\u001b[0m\n\u001b[1;32m      7\u001b[0m     history = model.fit(X_train, y_train, epochs = 50, validation_split = 0.2,\n\u001b[0;32m----> 8\u001b[0;31m                     batch_size = 32, shuffle = False, callbacks = [early_stop])\n\u001b[0m\u001b[1;32m      9\u001b[0m     \u001b[0;32mreturn\u001b[0m \u001b[0mhistory\u001b[0m\u001b[0;34m\u001b[0m\u001b[0;34m\u001b[0m\u001b[0m\n\u001b[1;32m     10\u001b[0m \u001b[0;34m\u001b[0m\u001b[0m\n",
            "\u001b[0;32m/usr/local/lib/python3.7/dist-packages/keras/utils/traceback_utils.py\u001b[0m in \u001b[0;36merror_handler\u001b[0;34m(*args, **kwargs)\u001b[0m\n\u001b[1;32m     62\u001b[0m     \u001b[0mfiltered_tb\u001b[0m \u001b[0;34m=\u001b[0m \u001b[0;32mNone\u001b[0m\u001b[0;34m\u001b[0m\u001b[0;34m\u001b[0m\u001b[0m\n\u001b[1;32m     63\u001b[0m     \u001b[0;32mtry\u001b[0m\u001b[0;34m:\u001b[0m\u001b[0;34m\u001b[0m\u001b[0;34m\u001b[0m\u001b[0m\n\u001b[0;32m---> 64\u001b[0;31m       \u001b[0;32mreturn\u001b[0m \u001b[0mfn\u001b[0m\u001b[0;34m(\u001b[0m\u001b[0;34m*\u001b[0m\u001b[0margs\u001b[0m\u001b[0;34m,\u001b[0m \u001b[0;34m**\u001b[0m\u001b[0mkwargs\u001b[0m\u001b[0;34m)\u001b[0m\u001b[0;34m\u001b[0m\u001b[0;34m\u001b[0m\u001b[0m\n\u001b[0m\u001b[1;32m     65\u001b[0m     \u001b[0;32mexcept\u001b[0m \u001b[0mException\u001b[0m \u001b[0;32mas\u001b[0m \u001b[0me\u001b[0m\u001b[0;34m:\u001b[0m  \u001b[0;31m# pylint: disable=broad-except\u001b[0m\u001b[0;34m\u001b[0m\u001b[0;34m\u001b[0m\u001b[0m\n\u001b[1;32m     66\u001b[0m       \u001b[0mfiltered_tb\u001b[0m \u001b[0;34m=\u001b[0m \u001b[0m_process_traceback_frames\u001b[0m\u001b[0;34m(\u001b[0m\u001b[0me\u001b[0m\u001b[0;34m.\u001b[0m\u001b[0m__traceback__\u001b[0m\u001b[0;34m)\u001b[0m\u001b[0;34m\u001b[0m\u001b[0;34m\u001b[0m\u001b[0m\n",
            "\u001b[0;32m/usr/local/lib/python3.7/dist-packages/keras/engine/training.py\u001b[0m in \u001b[0;36mfit\u001b[0;34m(self, x, y, batch_size, epochs, verbose, callbacks, validation_split, validation_data, shuffle, class_weight, sample_weight, initial_epoch, steps_per_epoch, validation_steps, validation_batch_size, validation_freq, max_queue_size, workers, use_multiprocessing)\u001b[0m\n\u001b[1;32m   1429\u001b[0m               \u001b[0muse_multiprocessing\u001b[0m\u001b[0;34m=\u001b[0m\u001b[0muse_multiprocessing\u001b[0m\u001b[0;34m,\u001b[0m\u001b[0;34m\u001b[0m\u001b[0;34m\u001b[0m\u001b[0m\n\u001b[1;32m   1430\u001b[0m               \u001b[0mreturn_dict\u001b[0m\u001b[0;34m=\u001b[0m\u001b[0;32mTrue\u001b[0m\u001b[0;34m,\u001b[0m\u001b[0;34m\u001b[0m\u001b[0;34m\u001b[0m\u001b[0m\n\u001b[0;32m-> 1431\u001b[0;31m               _use_cached_eval_dataset=True)\n\u001b[0m\u001b[1;32m   1432\u001b[0m           \u001b[0mval_logs\u001b[0m \u001b[0;34m=\u001b[0m \u001b[0;34m{\u001b[0m\u001b[0;34m'val_'\u001b[0m \u001b[0;34m+\u001b[0m \u001b[0mname\u001b[0m\u001b[0;34m:\u001b[0m \u001b[0mval\u001b[0m \u001b[0;32mfor\u001b[0m \u001b[0mname\u001b[0m\u001b[0;34m,\u001b[0m \u001b[0mval\u001b[0m \u001b[0;32min\u001b[0m \u001b[0mval_logs\u001b[0m\u001b[0;34m.\u001b[0m\u001b[0mitems\u001b[0m\u001b[0;34m(\u001b[0m\u001b[0;34m)\u001b[0m\u001b[0;34m}\u001b[0m\u001b[0;34m\u001b[0m\u001b[0;34m\u001b[0m\u001b[0m\n\u001b[1;32m   1433\u001b[0m           \u001b[0mepoch_logs\u001b[0m\u001b[0;34m.\u001b[0m\u001b[0mupdate\u001b[0m\u001b[0;34m(\u001b[0m\u001b[0mval_logs\u001b[0m\u001b[0;34m)\u001b[0m\u001b[0;34m\u001b[0m\u001b[0;34m\u001b[0m\u001b[0m\n",
            "\u001b[0;32m/usr/local/lib/python3.7/dist-packages/keras/utils/traceback_utils.py\u001b[0m in \u001b[0;36merror_handler\u001b[0;34m(*args, **kwargs)\u001b[0m\n\u001b[1;32m     62\u001b[0m     \u001b[0mfiltered_tb\u001b[0m \u001b[0;34m=\u001b[0m \u001b[0;32mNone\u001b[0m\u001b[0;34m\u001b[0m\u001b[0;34m\u001b[0m\u001b[0m\n\u001b[1;32m     63\u001b[0m     \u001b[0;32mtry\u001b[0m\u001b[0;34m:\u001b[0m\u001b[0;34m\u001b[0m\u001b[0;34m\u001b[0m\u001b[0m\n\u001b[0;32m---> 64\u001b[0;31m       \u001b[0;32mreturn\u001b[0m \u001b[0mfn\u001b[0m\u001b[0;34m(\u001b[0m\u001b[0;34m*\u001b[0m\u001b[0margs\u001b[0m\u001b[0;34m,\u001b[0m \u001b[0;34m**\u001b[0m\u001b[0mkwargs\u001b[0m\u001b[0;34m)\u001b[0m\u001b[0;34m\u001b[0m\u001b[0;34m\u001b[0m\u001b[0m\n\u001b[0m\u001b[1;32m     65\u001b[0m     \u001b[0;32mexcept\u001b[0m \u001b[0mException\u001b[0m \u001b[0;32mas\u001b[0m \u001b[0me\u001b[0m\u001b[0;34m:\u001b[0m  \u001b[0;31m# pylint: disable=broad-except\u001b[0m\u001b[0;34m\u001b[0m\u001b[0;34m\u001b[0m\u001b[0m\n\u001b[1;32m     66\u001b[0m       \u001b[0mfiltered_tb\u001b[0m \u001b[0;34m=\u001b[0m \u001b[0m_process_traceback_frames\u001b[0m\u001b[0;34m(\u001b[0m\u001b[0me\u001b[0m\u001b[0;34m.\u001b[0m\u001b[0m__traceback__\u001b[0m\u001b[0;34m)\u001b[0m\u001b[0;34m\u001b[0m\u001b[0;34m\u001b[0m\u001b[0m\n",
            "\u001b[0;32m/usr/local/lib/python3.7/dist-packages/keras/engine/training.py\u001b[0m in \u001b[0;36mevaluate\u001b[0;34m(self, x, y, batch_size, verbose, sample_weight, steps, callbacks, max_queue_size, workers, use_multiprocessing, return_dict, **kwargs)\u001b[0m\n\u001b[1;32m   1714\u001b[0m             \u001b[0;32mwith\u001b[0m \u001b[0mtf\u001b[0m\u001b[0;34m.\u001b[0m\u001b[0mprofiler\u001b[0m\u001b[0;34m.\u001b[0m\u001b[0mexperimental\u001b[0m\u001b[0;34m.\u001b[0m\u001b[0mTrace\u001b[0m\u001b[0;34m(\u001b[0m\u001b[0;34m'test'\u001b[0m\u001b[0;34m,\u001b[0m \u001b[0mstep_num\u001b[0m\u001b[0;34m=\u001b[0m\u001b[0mstep\u001b[0m\u001b[0;34m,\u001b[0m \u001b[0m_r\u001b[0m\u001b[0;34m=\u001b[0m\u001b[0;36m1\u001b[0m\u001b[0;34m)\u001b[0m\u001b[0;34m:\u001b[0m\u001b[0;34m\u001b[0m\u001b[0;34m\u001b[0m\u001b[0m\n\u001b[1;32m   1715\u001b[0m               \u001b[0mcallbacks\u001b[0m\u001b[0;34m.\u001b[0m\u001b[0mon_test_batch_begin\u001b[0m\u001b[0;34m(\u001b[0m\u001b[0mstep\u001b[0m\u001b[0;34m)\u001b[0m\u001b[0;34m\u001b[0m\u001b[0;34m\u001b[0m\u001b[0m\n\u001b[0;32m-> 1716\u001b[0;31m               \u001b[0mtmp_logs\u001b[0m \u001b[0;34m=\u001b[0m \u001b[0mself\u001b[0m\u001b[0;34m.\u001b[0m\u001b[0mtest_function\u001b[0m\u001b[0;34m(\u001b[0m\u001b[0miterator\u001b[0m\u001b[0;34m)\u001b[0m\u001b[0;34m\u001b[0m\u001b[0;34m\u001b[0m\u001b[0m\n\u001b[0m\u001b[1;32m   1717\u001b[0m               \u001b[0;32mif\u001b[0m \u001b[0mdata_handler\u001b[0m\u001b[0;34m.\u001b[0m\u001b[0mshould_sync\u001b[0m\u001b[0;34m:\u001b[0m\u001b[0;34m\u001b[0m\u001b[0;34m\u001b[0m\u001b[0m\n\u001b[1;32m   1718\u001b[0m                 \u001b[0mcontext\u001b[0m\u001b[0;34m.\u001b[0m\u001b[0masync_wait\u001b[0m\u001b[0;34m(\u001b[0m\u001b[0;34m)\u001b[0m\u001b[0;34m\u001b[0m\u001b[0;34m\u001b[0m\u001b[0m\n",
            "\u001b[0;32m/usr/local/lib/python3.7/dist-packages/tensorflow/python/util/traceback_utils.py\u001b[0m in \u001b[0;36merror_handler\u001b[0;34m(*args, **kwargs)\u001b[0m\n\u001b[1;32m    148\u001b[0m     \u001b[0mfiltered_tb\u001b[0m \u001b[0;34m=\u001b[0m \u001b[0;32mNone\u001b[0m\u001b[0;34m\u001b[0m\u001b[0;34m\u001b[0m\u001b[0m\n\u001b[1;32m    149\u001b[0m     \u001b[0;32mtry\u001b[0m\u001b[0;34m:\u001b[0m\u001b[0;34m\u001b[0m\u001b[0;34m\u001b[0m\u001b[0m\n\u001b[0;32m--> 150\u001b[0;31m       \u001b[0;32mreturn\u001b[0m \u001b[0mfn\u001b[0m\u001b[0;34m(\u001b[0m\u001b[0;34m*\u001b[0m\u001b[0margs\u001b[0m\u001b[0;34m,\u001b[0m \u001b[0;34m**\u001b[0m\u001b[0mkwargs\u001b[0m\u001b[0;34m)\u001b[0m\u001b[0;34m\u001b[0m\u001b[0;34m\u001b[0m\u001b[0m\n\u001b[0m\u001b[1;32m    151\u001b[0m     \u001b[0;32mexcept\u001b[0m \u001b[0mException\u001b[0m \u001b[0;32mas\u001b[0m \u001b[0me\u001b[0m\u001b[0;34m:\u001b[0m\u001b[0;34m\u001b[0m\u001b[0;34m\u001b[0m\u001b[0m\n\u001b[1;32m    152\u001b[0m       \u001b[0mfiltered_tb\u001b[0m \u001b[0;34m=\u001b[0m \u001b[0m_process_traceback_frames\u001b[0m\u001b[0;34m(\u001b[0m\u001b[0me\u001b[0m\u001b[0;34m.\u001b[0m\u001b[0m__traceback__\u001b[0m\u001b[0;34m)\u001b[0m\u001b[0;34m\u001b[0m\u001b[0;34m\u001b[0m\u001b[0m\n",
            "\u001b[0;32m/usr/local/lib/python3.7/dist-packages/tensorflow/python/eager/def_function.py\u001b[0m in \u001b[0;36m__call__\u001b[0;34m(self, *args, **kwds)\u001b[0m\n\u001b[1;32m    913\u001b[0m \u001b[0;34m\u001b[0m\u001b[0m\n\u001b[1;32m    914\u001b[0m       \u001b[0;32mwith\u001b[0m \u001b[0mOptionalXlaContext\u001b[0m\u001b[0;34m(\u001b[0m\u001b[0mself\u001b[0m\u001b[0;34m.\u001b[0m\u001b[0m_jit_compile\u001b[0m\u001b[0;34m)\u001b[0m\u001b[0;34m:\u001b[0m\u001b[0;34m\u001b[0m\u001b[0;34m\u001b[0m\u001b[0m\n\u001b[0;32m--> 915\u001b[0;31m         \u001b[0mresult\u001b[0m \u001b[0;34m=\u001b[0m \u001b[0mself\u001b[0m\u001b[0;34m.\u001b[0m\u001b[0m_call\u001b[0m\u001b[0;34m(\u001b[0m\u001b[0;34m*\u001b[0m\u001b[0margs\u001b[0m\u001b[0;34m,\u001b[0m \u001b[0;34m**\u001b[0m\u001b[0mkwds\u001b[0m\u001b[0;34m)\u001b[0m\u001b[0;34m\u001b[0m\u001b[0;34m\u001b[0m\u001b[0m\n\u001b[0m\u001b[1;32m    916\u001b[0m \u001b[0;34m\u001b[0m\u001b[0m\n\u001b[1;32m    917\u001b[0m       \u001b[0mnew_tracing_count\u001b[0m \u001b[0;34m=\u001b[0m \u001b[0mself\u001b[0m\u001b[0;34m.\u001b[0m\u001b[0mexperimental_get_tracing_count\u001b[0m\u001b[0;34m(\u001b[0m\u001b[0;34m)\u001b[0m\u001b[0;34m\u001b[0m\u001b[0;34m\u001b[0m\u001b[0m\n",
            "\u001b[0;32m/usr/local/lib/python3.7/dist-packages/tensorflow/python/eager/def_function.py\u001b[0m in \u001b[0;36m_call\u001b[0;34m(self, *args, **kwds)\u001b[0m\n\u001b[1;32m    952\u001b[0m       \u001b[0;31m# In this case we have not created variables on the first call. So we can\u001b[0m\u001b[0;34m\u001b[0m\u001b[0;34m\u001b[0m\u001b[0;34m\u001b[0m\u001b[0m\n\u001b[1;32m    953\u001b[0m       \u001b[0;31m# run the first trace but we should fail if variables are created.\u001b[0m\u001b[0;34m\u001b[0m\u001b[0;34m\u001b[0m\u001b[0;34m\u001b[0m\u001b[0m\n\u001b[0;32m--> 954\u001b[0;31m       \u001b[0mresults\u001b[0m \u001b[0;34m=\u001b[0m \u001b[0mself\u001b[0m\u001b[0;34m.\u001b[0m\u001b[0m_stateful_fn\u001b[0m\u001b[0;34m(\u001b[0m\u001b[0;34m*\u001b[0m\u001b[0margs\u001b[0m\u001b[0;34m,\u001b[0m \u001b[0;34m**\u001b[0m\u001b[0mkwds\u001b[0m\u001b[0;34m)\u001b[0m\u001b[0;34m\u001b[0m\u001b[0;34m\u001b[0m\u001b[0m\n\u001b[0m\u001b[1;32m    955\u001b[0m       \u001b[0;32mif\u001b[0m \u001b[0mself\u001b[0m\u001b[0;34m.\u001b[0m\u001b[0m_created_variables\u001b[0m \u001b[0;32mand\u001b[0m \u001b[0;32mnot\u001b[0m \u001b[0mALLOW_DYNAMIC_VARIABLE_CREATION\u001b[0m\u001b[0;34m:\u001b[0m\u001b[0;34m\u001b[0m\u001b[0;34m\u001b[0m\u001b[0m\n\u001b[1;32m    956\u001b[0m         raise ValueError(\"Creating variables on a non-first call to a function\"\n",
            "\u001b[0;32m/usr/local/lib/python3.7/dist-packages/tensorflow/python/eager/function.py\u001b[0m in \u001b[0;36m__call__\u001b[0;34m(self, *args, **kwargs)\u001b[0m\n\u001b[1;32m   2955\u001b[0m        filtered_flat_args) = self._maybe_define_function(args, kwargs)\n\u001b[1;32m   2956\u001b[0m     return graph_function._call_flat(\n\u001b[0;32m-> 2957\u001b[0;31m         filtered_flat_args, captured_inputs=graph_function.captured_inputs)  # pylint: disable=protected-access\n\u001b[0m\u001b[1;32m   2958\u001b[0m \u001b[0;34m\u001b[0m\u001b[0m\n\u001b[1;32m   2959\u001b[0m   \u001b[0;34m@\u001b[0m\u001b[0mproperty\u001b[0m\u001b[0;34m\u001b[0m\u001b[0;34m\u001b[0m\u001b[0m\n",
            "\u001b[0;32m/usr/local/lib/python3.7/dist-packages/tensorflow/python/eager/function.py\u001b[0m in \u001b[0;36m_call_flat\u001b[0;34m(self, args, captured_inputs, cancellation_manager)\u001b[0m\n\u001b[1;32m   1852\u001b[0m       \u001b[0;31m# No tape is watching; skip to running the function.\u001b[0m\u001b[0;34m\u001b[0m\u001b[0;34m\u001b[0m\u001b[0;34m\u001b[0m\u001b[0m\n\u001b[1;32m   1853\u001b[0m       return self._build_call_outputs(self._inference_function.call(\n\u001b[0;32m-> 1854\u001b[0;31m           ctx, args, cancellation_manager=cancellation_manager))\n\u001b[0m\u001b[1;32m   1855\u001b[0m     forward_backward = self._select_forward_and_backward_functions(\n\u001b[1;32m   1856\u001b[0m         \u001b[0margs\u001b[0m\u001b[0;34m,\u001b[0m\u001b[0;34m\u001b[0m\u001b[0;34m\u001b[0m\u001b[0m\n",
            "\u001b[0;32m/usr/local/lib/python3.7/dist-packages/tensorflow/python/eager/function.py\u001b[0m in \u001b[0;36mcall\u001b[0;34m(self, ctx, args, cancellation_manager)\u001b[0m\n\u001b[1;32m    502\u001b[0m               \u001b[0minputs\u001b[0m\u001b[0;34m=\u001b[0m\u001b[0margs\u001b[0m\u001b[0;34m,\u001b[0m\u001b[0;34m\u001b[0m\u001b[0;34m\u001b[0m\u001b[0m\n\u001b[1;32m    503\u001b[0m               \u001b[0mattrs\u001b[0m\u001b[0;34m=\u001b[0m\u001b[0mattrs\u001b[0m\u001b[0;34m,\u001b[0m\u001b[0;34m\u001b[0m\u001b[0;34m\u001b[0m\u001b[0m\n\u001b[0;32m--> 504\u001b[0;31m               ctx=ctx)\n\u001b[0m\u001b[1;32m    505\u001b[0m         \u001b[0;32melse\u001b[0m\u001b[0;34m:\u001b[0m\u001b[0;34m\u001b[0m\u001b[0;34m\u001b[0m\u001b[0m\n\u001b[1;32m    506\u001b[0m           outputs = execute.execute_with_cancellation(\n",
            "\u001b[0;32m/usr/local/lib/python3.7/dist-packages/tensorflow/python/eager/execute.py\u001b[0m in \u001b[0;36mquick_execute\u001b[0;34m(op_name, num_outputs, inputs, attrs, ctx, name)\u001b[0m\n\u001b[1;32m     53\u001b[0m     \u001b[0mctx\u001b[0m\u001b[0;34m.\u001b[0m\u001b[0mensure_initialized\u001b[0m\u001b[0;34m(\u001b[0m\u001b[0;34m)\u001b[0m\u001b[0;34m\u001b[0m\u001b[0;34m\u001b[0m\u001b[0m\n\u001b[1;32m     54\u001b[0m     tensors = pywrap_tfe.TFE_Py_Execute(ctx._handle, device_name, op_name,\n\u001b[0;32m---> 55\u001b[0;31m                                         inputs, attrs, num_outputs)\n\u001b[0m\u001b[1;32m     56\u001b[0m   \u001b[0;32mexcept\u001b[0m \u001b[0mcore\u001b[0m\u001b[0;34m.\u001b[0m\u001b[0m_NotOkStatusException\u001b[0m \u001b[0;32mas\u001b[0m \u001b[0me\u001b[0m\u001b[0;34m:\u001b[0m\u001b[0;34m\u001b[0m\u001b[0;34m\u001b[0m\u001b[0m\n\u001b[1;32m     57\u001b[0m     \u001b[0;32mif\u001b[0m \u001b[0mname\u001b[0m \u001b[0;32mis\u001b[0m \u001b[0;32mnot\u001b[0m \u001b[0;32mNone\u001b[0m\u001b[0;34m:\u001b[0m\u001b[0;34m\u001b[0m\u001b[0;34m\u001b[0m\u001b[0m\n",
            "\u001b[0;31mKeyboardInterrupt\u001b[0m: "
          ]
        }
      ],
      "source": [
        "# Fit BiLSTM, LSTM and GRU\n",
        "def fit_model(model):\n",
        "    early_stop = k.callbacks.EarlyStopping(monitor = 'val_loss',\n",
        "                                               patience = 10)\n",
        "\n",
        "    # shuffle = False because the order of the data matters\n",
        "    history = model.fit(X_train, y_train, epochs = 50, validation_split = 0.2,\n",
        "                    batch_size = 32, shuffle = False, callbacks = [early_stop])\n",
        "    return history\n",
        "\n",
        "history_bilstm = fit_model(model_bilstm)\n",
        "#history_lstm = fit_model(model_lstm)\n",
        "#history_gru = fit_model(model_gru)"
      ]
    },
    {
      "cell_type": "markdown",
      "metadata": {
        "id": "1qBCI2T_xewR"
      },
      "source": [
        "# TGAN"
      ]
    },
    {
      "cell_type": "code",
      "execution_count": null,
      "metadata": {
        "id": "ADevj6hfxq-n"
      },
      "outputs": [],
      "source": [
        ""
      ]
    },
    {
      "cell_type": "markdown",
      "metadata": {
        "id": "ukp60Oosdf-b"
      },
      "source": [
        "# LMMs\n"
      ]
    },
    {
      "cell_type": "code",
      "source": [
        "df['crashSeverity'].value_counts()"
      ],
      "metadata": {
        "colab": {
          "base_uri": "https://localhost:8080/"
        },
        "id": "VakGpNtvW0yX",
        "outputId": "e4e797bc-a856-4326-b2f7-34088f5a1c4e"
      },
      "execution_count": null,
      "outputs": [
        {
          "output_type": "execute_result",
          "data": {
            "text/plain": [
              "1    174796\n",
              "3     42880\n",
              "0      6966\n",
              "2         5\n",
              "Name: crashSeverity, dtype: int64"
            ]
          },
          "metadata": {},
          "execution_count": 226
        }
      ]
    },
    {
      "cell_type": "markdown",
      "source": [
        "Non-Injury Crash    534058\n",
        "Minor Crash         174849\n",
        "Serious Crash        42884\n",
        "Fatal Crash           6966\n",
        "\n",
        "Severity wise claim modelling"
      ],
      "metadata": {
        "id": "4oySOy9bbliP"
      }
    },
    {
      "cell_type": "code",
      "source": [
        "df1 = df[df['crashSeverity'] == 1]\n",
        "df2 = df[df['crashSeverity'] == 0]\n",
        "df3 = df[df['crashSeverity'] == 3]\n",
        "df4 = df[df['crashSeverity'] == 2]"
      ],
      "metadata": {
        "id": "6vIYkihHWtNm"
      },
      "execution_count": null,
      "outputs": []
    },
    {
      "cell_type": "code",
      "source": [
        "np.random.seed(108)\n",
        "mask = np.random.rand(len(df1)) <= 0.8\n",
        "df1_train = df1[mask]\n",
        "df1_test = df1[~mask]"
      ],
      "metadata": {
        "id": "S4_l-MBCYmCa"
      },
      "execution_count": null,
      "outputs": []
    },
    {
      "cell_type": "code",
      "source": [
        "df1_train.shape"
      ],
      "metadata": {
        "colab": {
          "base_uri": "https://localhost:8080/"
        },
        "id": "JcVCPbuBZRlF",
        "outputId": "dee7586e-ed6d-4a8d-de30-ae5cc8a367cc"
      },
      "execution_count": null,
      "outputs": [
        {
          "output_type": "execute_result",
          "data": {
            "text/plain": [
              "(139791, 63)"
            ]
          },
          "metadata": {},
          "execution_count": 249
        }
      ]
    },
    {
      "cell_type": "code",
      "source": [
        "np.random.seed(108)\n",
        "mask = np.random.rand(len(df2)) <= 0.8\n",
        "df2_train = df2[mask]\n",
        "df2_test = df2[~mask]"
      ],
      "metadata": {
        "id": "zP7XwmwtYwdL"
      },
      "execution_count": null,
      "outputs": []
    },
    {
      "cell_type": "code",
      "source": [
        "np.random.seed(108)\n",
        "mask = np.random.rand(len(df3)) <= 0.8\n",
        "df3_train = df3[mask]\n",
        "df3_test = df3[~mask]"
      ],
      "metadata": {
        "id": "aqilnIrZY1JF"
      },
      "execution_count": null,
      "outputs": []
    },
    {
      "cell_type": "code",
      "source": [
        "np.random.seed(108)\n",
        "mask = np.random.rand(len(df4)) <= 0.6\n",
        "df4_train = df4[mask]\n",
        "df4_test = df4[~mask]"
      ],
      "metadata": {
        "id": "H9J6QUygabg1"
      },
      "execution_count": null,
      "outputs": []
    },
    {
      "cell_type": "code",
      "execution_count": null,
      "metadata": {
        "id": "SJ9XYCu_Ft5V"
      },
      "outputs": [],
      "source": [
        "import statsmodels.api as sm\n",
        "from sklearn.metrics import mean_absolute_error"
      ]
    },
    {
      "cell_type": "code",
      "source": [
        "from statsmodels.genmod.bayes_mixed_glm import PoissonBayesMixedGLM"
      ],
      "metadata": {
        "id": "WJ8ApQAVPqN-"
      },
      "execution_count": null,
      "outputs": []
    },
    {
      "cell_type": "code",
      "source": [
        "df_train.columns"
      ],
      "metadata": {
        "colab": {
          "base_uri": "https://localhost:8080/"
        },
        "id": "nuKbYhNPX2mt",
        "outputId": "2777d38e-c11e-436e-d6a4-7547ed7cf486"
      },
      "execution_count": null,
      "outputs": [
        {
          "output_type": "execute_result",
          "data": {
            "text/plain": [
              "Index(['X', 'Y', 'bicycle', 'bridge', 'bus', 'carStationWagon', 'cliffBank',\n",
              "       'crashDirectionDescription', 'crashFinancialYear', 'crashLocation1',\n",
              "       'crashLocation2', 'crashSeverity', 'crashSHDescription', 'crashYear',\n",
              "       'debris', 'directionRoleDescription', 'ditch', 'fatalCount', 'fence',\n",
              "       'flatHill', 'guardRail', 'houseOrBuilding', 'kerb', 'light',\n",
              "       'minorInjuryCount', 'moped', 'motorcycle', 'NumberOfLanes',\n",
              "       'objectThrownOrDropped', 'otherObject', 'otherVehicleType', 'overBank',\n",
              "       'parkedVehicle', 'phoneBoxEtc', 'postOrPole', 'region', 'roadCharacter',\n",
              "       'roadLane', 'roadSurface', 'roadworks', 'schoolBus',\n",
              "       'seriousInjuryCount', 'slipOrFlood', 'speedLimit', 'strayAnimal',\n",
              "       'streetLight', 'suv', 'taxi', 'tlaName', 'trafficControl',\n",
              "       'trafficIsland', 'trafficSign', 'train', 'tree', 'truck',\n",
              "       'unknownVehicleType', 'urban', 'vanOrUtility', 'vehicle', 'waterRiver',\n",
              "       'weatherA', 'claimAmount'],\n",
              "      dtype='object')"
            ]
          },
          "metadata": {},
          "execution_count": 227
        }
      ]
    },
    {
      "cell_type": "code",
      "source": [
        ""
      ],
      "metadata": {
        "id": "upe26xv_jvlP"
      },
      "execution_count": null,
      "outputs": []
    },
    {
      "cell_type": "code",
      "source": [
        "random = {\"a\": '0+C(region)', \"b\": '0+C(crashFinancialYear)'}"
      ],
      "metadata": {
        "id": "Xk4_1HwFSBwM"
      },
      "execution_count": null,
      "outputs": []
    },
    {
      "cell_type": "code",
      "source": [
        "model = PoissonBayesMixedGLM.from_formula(\"minorInjuryCount ~ crashFinancialYear+speedLimit+crashSeverity\", random, data=df_train)"
      ],
      "metadata": {
        "id": "HKGgfTz2PqQh"
      },
      "execution_count": null,
      "outputs": []
    },
    {
      "cell_type": "code",
      "source": [
        "model = model.fit_map()"
      ],
      "metadata": {
        "colab": {
          "base_uri": "https://localhost:8080/"
        },
        "id": "zOsaVybZPqb5",
        "outputId": "75480672-6718-4c92-c013-c149e5199b01"
      },
      "execution_count": null,
      "outputs": [
        {
          "output_type": "stream",
          "name": "stderr",
          "text": [
            "/usr/local/lib/python3.7/dist-packages/statsmodels/genmod/bayes_mixed_glm.py:521: UserWarning: Laplace fitting did not converge, |gradient|=2401.361892\n",
            "  warnings.warn(msg)\n"
          ]
        }
      ]
    },
    {
      "cell_type": "code",
      "source": [
        "model.summary()"
      ],
      "metadata": {
        "colab": {
          "base_uri": "https://localhost:8080/",
          "height": 169
        },
        "id": "tb5mSx_PPqey",
        "outputId": "715dae88-eceb-4f18-8727-fe290e5b7eee"
      },
      "execution_count": null,
      "outputs": [
        {
          "output_type": "execute_result",
          "data": {
            "text/plain": [
              "<class 'statsmodels.iolib.summary2.Summary'>\n",
              "\"\"\"\n",
              "                    Poisson Mixed GLM Results\n",
              "=================================================================\n",
              "                   Type Post. Mean Post. SD   SD  SD (LB) SD (UB)\n",
              "-----------------------------------------------------------------\n",
              "Intercept             M     0.4854   0.0123                      \n",
              "crashFinancialYear    M    -0.0053   0.0004                      \n",
              "speedLimit            M     0.0012   0.0001                      \n",
              "crashSeverity         M    -0.4107   0.0036                      \n",
              "a                     V    -3.4098   0.2206 0.033   0.021   0.051\n",
              "b                     V   -22.0000   1.0000 0.000   0.000   0.000\n",
              "=================================================================\n",
              "Parameter types are mean structure (M) and variance structure (V)\n",
              "Variance parameters are modeled as log standard deviations\n",
              "\"\"\""
            ],
            "text/html": [
              "<table class=\"simpletable\">\n",
              "<tr>\n",
              "           <td></td>          <th>Type</th> <th>Post. Mean</th> <th>Post. SD</th>  <th>SD</th>   <th>SD (LB)</th> <th>SD (UB)</th>\n",
              "</tr>\n",
              "<tr>\n",
              "  <th>Intercept</th>            <td>M</td>    <td>0.4854</td>    <td>0.0123</td>    <td></td>       <td></td>        <td></td>    \n",
              "</tr>\n",
              "<tr>\n",
              "  <th>crashFinancialYear</th>   <td>M</td>    <td>-0.0053</td>   <td>0.0004</td>    <td></td>       <td></td>        <td></td>    \n",
              "</tr>\n",
              "<tr>\n",
              "  <th>speedLimit</th>           <td>M</td>    <td>0.0012</td>    <td>0.0001</td>    <td></td>       <td></td>        <td></td>    \n",
              "</tr>\n",
              "<tr>\n",
              "  <th>crashSeverity</th>        <td>M</td>    <td>-0.4107</td>   <td>0.0036</td>    <td></td>       <td></td>        <td></td>    \n",
              "</tr>\n",
              "<tr>\n",
              "  <th>a</th>                    <td>V</td>    <td>-3.4098</td>   <td>0.2206</td>  <td>0.033</td>  <td>0.021</td>   <td>0.051</td> \n",
              "</tr>\n",
              "<tr>\n",
              "  <th>b</th>                    <td>V</td>   <td>-22.0000</td>   <td>1.0000</td>  <td>0.000</td>  <td>0.000</td>   <td>0.000</td> \n",
              "</tr>\n",
              "</table>"
            ]
          },
          "metadata": {},
          "execution_count": 52
        }
      ]
    },
    {
      "cell_type": "code",
      "source": [
        "pred = model.predict(df_test[['crashFinancialYear', 'speedLimit', 'crashSeverity']])"
      ],
      "metadata": {
        "id": "-kH5EHcKPqhH"
      },
      "execution_count": null,
      "outputs": []
    },
    {
      "cell_type": "code",
      "source": [
        "pred.shape"
      ],
      "metadata": {
        "colab": {
          "base_uri": "https://localhost:8080/"
        },
        "id": "nAMBOY5AsC22",
        "outputId": "388f28d9-a0f1-4f3c-997f-2be46c35d1fc"
      },
      "execution_count": null,
      "outputs": [
        {
          "output_type": "execute_result",
          "data": {
            "text/plain": [
              "(44839,)"
            ]
          },
          "metadata": {},
          "execution_count": 54
        }
      ]
    },
    {
      "cell_type": "code",
      "source": [
        "pd.Series(np.round(pred)).value_counts()"
      ],
      "metadata": {
        "colab": {
          "base_uri": "https://localhost:8080/"
        },
        "id": "Y4_HrnJZU4U2",
        "outputId": "516b06ee-baba-4f86-8309-155a38ddb1fe"
      },
      "execution_count": null,
      "outputs": [
        {
          "output_type": "execute_result",
          "data": {
            "text/plain": [
              "0.0      21183\n",
              "1.0       5157\n",
              "2.0       1868\n",
              "4.0       1609\n",
              "40.0      1214\n",
              "         ...  \n",
              "47.0         3\n",
              "111.0        3\n",
              "20.0         2\n",
              "126.0        2\n",
              "77.0         1\n",
              "Length: 71, dtype: int64"
            ]
          },
          "metadata": {},
          "execution_count": 55
        }
      ]
    },
    {
      "cell_type": "code",
      "source": [
        "df_test['minorInjuryCount'].value_counts()"
      ],
      "metadata": {
        "colab": {
          "base_uri": "https://localhost:8080/"
        },
        "id": "L7WwyCw7U4Wy",
        "outputId": "2a4e12c5-cf85-4e63-9ad0-5aa5b082e97a"
      },
      "execution_count": null,
      "outputs": [
        {
          "output_type": "execute_result",
          "data": {
            "text/plain": [
              "1.0     30113\n",
              "0.0      7151\n",
              "2.0      5700\n",
              "3.0      1295\n",
              "4.0       397\n",
              "5.0       116\n",
              "6.0        44\n",
              "7.0        14\n",
              "9.0         3\n",
              "34.0        1\n",
              "12.0        1\n",
              "10.0        1\n",
              "13.0        1\n",
              "8.0         1\n",
              "16.0        1\n",
              "Name: minorInjuryCount, dtype: int64"
            ]
          },
          "metadata": {},
          "execution_count": 56
        }
      ]
    },
    {
      "cell_type": "code",
      "source": [
        ""
      ],
      "metadata": {
        "id": "wymv4yEDU4Y5"
      },
      "execution_count": null,
      "outputs": []
    },
    {
      "cell_type": "code",
      "source": [
        ""
      ],
      "metadata": {
        "id": "aLlhVZqbkydI"
      },
      "execution_count": null,
      "outputs": []
    },
    {
      "cell_type": "code",
      "source": [
        ""
      ],
      "metadata": {
        "id": "Zxe3BtW7kyf4"
      },
      "execution_count": null,
      "outputs": []
    },
    {
      "cell_type": "code",
      "source": [
        "df_train.columns"
      ],
      "metadata": {
        "id": "1ecgW-Eukyii",
        "colab": {
          "base_uri": "https://localhost:8080/"
        },
        "outputId": "29bb145f-9537-498e-a85e-56bd93685eb5"
      },
      "execution_count": null,
      "outputs": [
        {
          "output_type": "execute_result",
          "data": {
            "text/plain": [
              "Index(['bicycle', 'bridge', 'bus', 'carStationWagon', 'cliffBank',\n",
              "       'crashFinancialYear', 'debris', 'ditch', 'fence', 'flatHill',\n",
              "       'guardRail', 'houseOrBuilding', 'kerb', 'light', 'moped', 'motorcycle',\n",
              "       'NumberOfLanes', 'objectThrownOrDropped', 'otherObject',\n",
              "       'otherVehicleType', 'overBank', 'parkedVehicle', 'roadworks',\n",
              "       'schoolBus', 'slipOrFlood', 'speedLimit', 'strayAnimal', 'suv', 'taxi',\n",
              "       'trafficSign', 'trafficControl', 'train', 'tree', 'truck', 'urban',\n",
              "       'vehicle', 'injury'],\n",
              "      dtype='object')"
            ]
          },
          "metadata": {},
          "execution_count": 114
        }
      ]
    },
    {
      "cell_type": "markdown",
      "source": [
        "model"
      ],
      "metadata": {
        "id": "8-oYw3uQZADp"
      }
    },
    {
      "cell_type": "code",
      "execution_count": null,
      "metadata": {
        "id": "dMi1BORfdMcF",
        "colab": {
          "base_uri": "https://localhost:8080/"
        },
        "outputId": "9115e981-a4d6-4054-ac46-4a510ae04dd1"
      },
      "outputs": [
        {
          "output_type": "stream",
          "name": "stdout",
          "text": [
            "RMSE:  1886096.8126986304\n",
            "MAE:  673543.3656655798\n"
          ]
        }
      ],
      "source": [
        "model = sm.MixedLM.from_formula(\"claimAmount ~ crashFinancialYear+speedLimit+crashSeverity+crashSHDescription+roadLane\", groups=df_train[\"region\"], data=df_train)\n",
        "result = model.fit()\n",
        "\n",
        "# The BLUPs\n",
        "re = result.random_effects\n",
        "\n",
        "# Multiply each BLUP by the random effects design matrix for one group\n",
        "rex = [np.dot(model.exog_re_li[j], re[k]) for (j, k) in enumerate(model.group_labels)]\n",
        "\n",
        "# Add the fixed and random terms to get the overall prediction\n",
        "rex = np.concatenate(rex)\n",
        "yp = result.fittedvalues + rex\n",
        "\n",
        "pred = result.predict(exog=df_test)\n",
        "print(\"RMSE: \", np.sqrt(np.mean(np.square(pred - df_test['claimAmount']))))\n",
        "print(\"MAE: \", mean_absolute_error(pred, df_test['claimAmount']))\n"
      ]
    },
    {
      "cell_type": "code",
      "execution_count": null,
      "metadata": {
        "id": "yuRxqtBAYrt9",
        "colab": {
          "base_uri": "https://localhost:8080/",
          "height": 363
        },
        "outputId": "a49ed973-7bf9-4d08-8131-3381918ebb47"
      },
      "outputs": [
        {
          "output_type": "execute_result",
          "data": {
            "text/plain": [
              "<class 'statsmodels.iolib.summary2.Summary'>\n",
              "\"\"\"\n",
              "                               Mixed Linear Model Regression Results\n",
              "===================================================================================================\n",
              "Model:                         MixedLM            Dependent Variable:            claimAmount       \n",
              "No. Observations:              606662             Method:                        REML              \n",
              "No. Groups:                    17                 Scale:                         3714829852119.3633\n",
              "Min. group size:               2308               Likelihood:                    -9640181.0864     \n",
              "Max. group size:               212883             Converged:                     Yes               \n",
              "Mean group size:               35686.0                                                             \n",
              "---------------------------------------------------------------------------------------------------\n",
              "                                      Coef.       Std.Err.    z     P>|z|    [0.025       0.975]   \n",
              "---------------------------------------------------------------------------------------------------\n",
              "Intercept                            5027809.165 33226.110  151.321 0.000  4962687.185  5092931.145\n",
              "crashSeverity[T.Minor Crash]         -899154.617 26390.288  -34.071 0.000  -950878.631  -847430.604\n",
              "crashSeverity[T.Non-Injury Crash]   -5257487.743 26098.365 -201.449 0.000 -5308639.597 -5206335.888\n",
              "crashSeverity[T.Serious Crash]       4750647.509 27843.707  170.618 0.000  4696074.845  4805220.172\n",
              "crashFinancialYear                     -8671.196   408.382  -21.233 0.000    -9471.610    -7870.783\n",
              "speedLimit                              3852.934   135.525   28.430 0.000     3587.310     4118.558\n",
              "crashSHDescription                     46079.753  3334.479   13.819 0.000    39544.293    52615.212\n",
              "roadLane                               46317.039  7026.842    6.591 0.000    32544.683    60089.396\n",
              "Group Var                         3573700059.259   712.314                                         \n",
              "===================================================================================================\n",
              "\n",
              "\"\"\""
            ],
            "text/html": [
              "<table class=\"simpletable\">\n",
              "<tr>\n",
              "       <td>Model:</td>       <td>MixedLM</td> <td>Dependent Variable:</td>     <td>claimAmount</td>   \n",
              "</tr>\n",
              "<tr>\n",
              "  <td>No. Observations:</td> <td>606662</td>        <td>Method:</td>              <td>REML</td>       \n",
              "</tr>\n",
              "<tr>\n",
              "     <td>No. Groups:</td>      <td>17</td>          <td>Scale:</td>        <td>3714829852119.3633</td>\n",
              "</tr>\n",
              "<tr>\n",
              "  <td>Min. group size:</td>   <td>2308</td>       <td>Likelihood:</td>        <td>-9640181.0864</td>  \n",
              "</tr>\n",
              "<tr>\n",
              "  <td>Max. group size:</td>  <td>212883</td>      <td>Converged:</td>              <td>Yes</td>       \n",
              "</tr>\n",
              "<tr>\n",
              "  <td>Mean group size:</td>  <td>35686.0</td>          <td></td>                    <td></td>         \n",
              "</tr>\n",
              "</table>\n",
              "<table class=\"simpletable\">\n",
              "<tr>\n",
              "                  <td></td>                       <th>Coef.</th>     <th>Std.Err.</th>      <th>z</th>    <th>P>|z|</th>    <th>[0.025</th>       <th>0.975]</th>   \n",
              "</tr>\n",
              "<tr>\n",
              "  <th>Intercept</th>                           <td>5027809.165</td>  <td>33226.110</td>  <td>151.321</td> <td>0.000</td>  <td>4962687.185</td>  <td>5092931.145</td>\n",
              "</tr>\n",
              "<tr>\n",
              "  <th>crashSeverity[T.Minor Crash]</th>        <td>-899154.617</td>  <td>26390.288</td>  <td>-34.071</td> <td>0.000</td>  <td>-950878.631</td>  <td>-847430.604</td>\n",
              "</tr>\n",
              "<tr>\n",
              "  <th>crashSeverity[T.Non-Injury Crash]</th>  <td>-5257487.743</td>  <td>26098.365</td> <td>-201.449</td> <td>0.000</td> <td>-5308639.597</td> <td>-5206335.888</td>\n",
              "</tr>\n",
              "<tr>\n",
              "  <th>crashSeverity[T.Serious Crash]</th>      <td>4750647.509</td>  <td>27843.707</td>  <td>170.618</td> <td>0.000</td>  <td>4696074.845</td>  <td>4805220.172</td>\n",
              "</tr>\n",
              "<tr>\n",
              "  <th>crashFinancialYear</th>                   <td>-8671.196</td>    <td>408.382</td>   <td>-21.233</td> <td>0.000</td>   <td>-9471.610</td>    <td>-7870.783</td> \n",
              "</tr>\n",
              "<tr>\n",
              "  <th>speedLimit</th>                           <td>3852.934</td>     <td>135.525</td>   <td>28.430</td>  <td>0.000</td>   <td>3587.310</td>     <td>4118.558</td>  \n",
              "</tr>\n",
              "<tr>\n",
              "  <th>crashSHDescription</th>                   <td>46079.753</td>   <td>3334.479</td>   <td>13.819</td>  <td>0.000</td>   <td>39544.293</td>    <td>52615.212</td> \n",
              "</tr>\n",
              "<tr>\n",
              "  <th>roadLane</th>                             <td>46317.039</td>   <td>7026.842</td>    <td>6.591</td>  <td>0.000</td>   <td>32544.683</td>    <td>60089.396</td> \n",
              "</tr>\n",
              "<tr>\n",
              "  <th>Group Var</th>                         <td>3573700059.259</td>  <td>712.314</td>      <td></td>       <td></td>          <td></td>             <td></td>      \n",
              "</tr>\n",
              "</table>"
            ]
          },
          "metadata": {},
          "execution_count": 228
        }
      ],
      "source": [
        "result.summary()"
      ]
    },
    {
      "cell_type": "code",
      "source": [
        "dir(result)"
      ],
      "metadata": {
        "id": "j9AXurgbe6_Z"
      },
      "execution_count": null,
      "outputs": []
    },
    {
      "cell_type": "code",
      "source": [
        "result.df_resid"
      ],
      "metadata": {
        "colab": {
          "base_uri": "https://localhost:8080/"
        },
        "id": "behXnlAIe7Hp",
        "outputId": "c4d0d6fd-d47f-45b2-a0ce-bc2710f5217e"
      },
      "execution_count": null,
      "outputs": [
        {
          "output_type": "execute_result",
          "data": {
            "text/plain": [
              "179802"
            ]
          },
          "metadata": {},
          "execution_count": 53
        }
      ]
    },
    {
      "cell_type": "code",
      "source": [
        ""
      ],
      "metadata": {
        "id": "FeTuIwWNe7MO"
      },
      "execution_count": null,
      "outputs": []
    },
    {
      "cell_type": "code",
      "source": [
        "sdf = df_train[['crashFinancialYear', 'speedLimit', 'crashSeverity', 'crashSHDescription', 'roadLane', 'claimAmount']]\n",
        "result.predict(exog=sdf)"
      ],
      "metadata": {
        "colab": {
          "base_uri": "https://localhost:8080/"
        },
        "id": "27AqGEesdq8i",
        "outputId": "41006b97-d99e-4b2e-e858-3b9b19558743"
      },
      "execution_count": null,
      "outputs": [
        {
          "output_type": "execute_result",
          "data": {
            "text/plain": [
              "5         4.795064e+06\n",
              "13        9.579495e+06\n",
              "17        4.186643e+06\n",
              "18        4.336197e+06\n",
              "20        4.336197e+06\n",
              "              ...     \n",
              "758738    4.485752e+06\n",
              "758741    4.974530e+06\n",
              "758744    4.396019e+06\n",
              "758746    5.183907e+06\n",
              "758747    5.549373e+06\n",
              "Length: 179808, dtype: float64"
            ]
          },
          "metadata": {},
          "execution_count": 62
        }
      ]
    },
    {
      "cell_type": "code",
      "source": [
        "sdf = sdf.sample(frac=1000.0, replace=True)\n",
        "sdf.shape"
      ],
      "metadata": {
        "id": "ALsvMKadcop3"
      },
      "execution_count": null,
      "outputs": []
    },
    {
      "cell_type": "code",
      "source": [
        "import time"
      ],
      "metadata": {
        "id": "Z_nyu3IvdYfA"
      },
      "execution_count": null,
      "outputs": []
    },
    {
      "cell_type": "code",
      "source": [
        "start = time.time()\n",
        "result.predict(sdf)\n",
        "print(\"time: \", time.time()-start)"
      ],
      "metadata": {
        "id": "IxvyydIsdYo1"
      },
      "execution_count": null,
      "outputs": []
    },
    {
      "cell_type": "code",
      "source": [
        ""
      ],
      "metadata": {
        "id": "BJo1aVEEdYwH"
      },
      "execution_count": null,
      "outputs": []
    },
    {
      "cell_type": "code",
      "source": [
        "pd.DataFrame(np.round(result.resid))"
      ],
      "metadata": {
        "colab": {
          "base_uri": "https://localhost:8080/",
          "height": 424
        },
        "id": "jowEjoZ8Z3S9",
        "outputId": "5864ad12-44ec-47cb-952a-24ad3b6cc709"
      },
      "execution_count": null,
      "outputs": [
        {
          "output_type": "execute_result",
          "data": {
            "text/plain": [
              "                0\n",
              "5      -2386786.0\n",
              "13       146390.0\n",
              "17      -496392.0\n",
              "18      4376428.0\n",
              "20      9385875.0\n",
              "...           ...\n",
              "758738 -1778714.0\n",
              "758741 -2642555.0\n",
              "758744  -554100.0\n",
              "758746 -3132009.0\n",
              "758747 -1184321.0\n",
              "\n",
              "[179808 rows x 1 columns]"
            ],
            "text/html": [
              "\n",
              "  <div id=\"df-6934f224-0c71-40f8-bcdf-de382768a87c\">\n",
              "    <div class=\"colab-df-container\">\n",
              "      <div>\n",
              "<style scoped>\n",
              "    .dataframe tbody tr th:only-of-type {\n",
              "        vertical-align: middle;\n",
              "    }\n",
              "\n",
              "    .dataframe tbody tr th {\n",
              "        vertical-align: top;\n",
              "    }\n",
              "\n",
              "    .dataframe thead th {\n",
              "        text-align: right;\n",
              "    }\n",
              "</style>\n",
              "<table border=\"1\" class=\"dataframe\">\n",
              "  <thead>\n",
              "    <tr style=\"text-align: right;\">\n",
              "      <th></th>\n",
              "      <th>0</th>\n",
              "    </tr>\n",
              "  </thead>\n",
              "  <tbody>\n",
              "    <tr>\n",
              "      <th>5</th>\n",
              "      <td>-2386786.0</td>\n",
              "    </tr>\n",
              "    <tr>\n",
              "      <th>13</th>\n",
              "      <td>146390.0</td>\n",
              "    </tr>\n",
              "    <tr>\n",
              "      <th>17</th>\n",
              "      <td>-496392.0</td>\n",
              "    </tr>\n",
              "    <tr>\n",
              "      <th>18</th>\n",
              "      <td>4376428.0</td>\n",
              "    </tr>\n",
              "    <tr>\n",
              "      <th>20</th>\n",
              "      <td>9385875.0</td>\n",
              "    </tr>\n",
              "    <tr>\n",
              "      <th>...</th>\n",
              "      <td>...</td>\n",
              "    </tr>\n",
              "    <tr>\n",
              "      <th>758738</th>\n",
              "      <td>-1778714.0</td>\n",
              "    </tr>\n",
              "    <tr>\n",
              "      <th>758741</th>\n",
              "      <td>-2642555.0</td>\n",
              "    </tr>\n",
              "    <tr>\n",
              "      <th>758744</th>\n",
              "      <td>-554100.0</td>\n",
              "    </tr>\n",
              "    <tr>\n",
              "      <th>758746</th>\n",
              "      <td>-3132009.0</td>\n",
              "    </tr>\n",
              "    <tr>\n",
              "      <th>758747</th>\n",
              "      <td>-1184321.0</td>\n",
              "    </tr>\n",
              "  </tbody>\n",
              "</table>\n",
              "<p>179808 rows × 1 columns</p>\n",
              "</div>\n",
              "      <button class=\"colab-df-convert\" onclick=\"convertToInteractive('df-6934f224-0c71-40f8-bcdf-de382768a87c')\"\n",
              "              title=\"Convert this dataframe to an interactive table.\"\n",
              "              style=\"display:none;\">\n",
              "        \n",
              "  <svg xmlns=\"http://www.w3.org/2000/svg\" height=\"24px\"viewBox=\"0 0 24 24\"\n",
              "       width=\"24px\">\n",
              "    <path d=\"M0 0h24v24H0V0z\" fill=\"none\"/>\n",
              "    <path d=\"M18.56 5.44l.94 2.06.94-2.06 2.06-.94-2.06-.94-.94-2.06-.94 2.06-2.06.94zm-11 1L8.5 8.5l.94-2.06 2.06-.94-2.06-.94L8.5 2.5l-.94 2.06-2.06.94zm10 10l.94 2.06.94-2.06 2.06-.94-2.06-.94-.94-2.06-.94 2.06-2.06.94z\"/><path d=\"M17.41 7.96l-1.37-1.37c-.4-.4-.92-.59-1.43-.59-.52 0-1.04.2-1.43.59L10.3 9.45l-7.72 7.72c-.78.78-.78 2.05 0 2.83L4 21.41c.39.39.9.59 1.41.59.51 0 1.02-.2 1.41-.59l7.78-7.78 2.81-2.81c.8-.78.8-2.07 0-2.86zM5.41 20L4 18.59l7.72-7.72 1.47 1.35L5.41 20z\"/>\n",
              "  </svg>\n",
              "      </button>\n",
              "      \n",
              "  <style>\n",
              "    .colab-df-container {\n",
              "      display:flex;\n",
              "      flex-wrap:wrap;\n",
              "      gap: 12px;\n",
              "    }\n",
              "\n",
              "    .colab-df-convert {\n",
              "      background-color: #E8F0FE;\n",
              "      border: none;\n",
              "      border-radius: 50%;\n",
              "      cursor: pointer;\n",
              "      display: none;\n",
              "      fill: #1967D2;\n",
              "      height: 32px;\n",
              "      padding: 0 0 0 0;\n",
              "      width: 32px;\n",
              "    }\n",
              "\n",
              "    .colab-df-convert:hover {\n",
              "      background-color: #E2EBFA;\n",
              "      box-shadow: 0px 1px 2px rgba(60, 64, 67, 0.3), 0px 1px 3px 1px rgba(60, 64, 67, 0.15);\n",
              "      fill: #174EA6;\n",
              "    }\n",
              "\n",
              "    [theme=dark] .colab-df-convert {\n",
              "      background-color: #3B4455;\n",
              "      fill: #D2E3FC;\n",
              "    }\n",
              "\n",
              "    [theme=dark] .colab-df-convert:hover {\n",
              "      background-color: #434B5C;\n",
              "      box-shadow: 0px 1px 3px 1px rgba(0, 0, 0, 0.15);\n",
              "      filter: drop-shadow(0px 1px 2px rgba(0, 0, 0, 0.3));\n",
              "      fill: #FFFFFF;\n",
              "    }\n",
              "  </style>\n",
              "\n",
              "      <script>\n",
              "        const buttonEl =\n",
              "          document.querySelector('#df-6934f224-0c71-40f8-bcdf-de382768a87c button.colab-df-convert');\n",
              "        buttonEl.style.display =\n",
              "          google.colab.kernel.accessAllowed ? 'block' : 'none';\n",
              "\n",
              "        async function convertToInteractive(key) {\n",
              "          const element = document.querySelector('#df-6934f224-0c71-40f8-bcdf-de382768a87c');\n",
              "          const dataTable =\n",
              "            await google.colab.kernel.invokeFunction('convertToInteractive',\n",
              "                                                     [key], {});\n",
              "          if (!dataTable) return;\n",
              "\n",
              "          const docLinkHtml = 'Like what you see? Visit the ' +\n",
              "            '<a target=\"_blank\" href=https://colab.research.google.com/notebooks/data_table.ipynb>data table notebook</a>'\n",
              "            + ' to learn more about interactive tables.';\n",
              "          element.innerHTML = '';\n",
              "          dataTable['output_type'] = 'display_data';\n",
              "          await google.colab.output.renderOutput(dataTable, element);\n",
              "          const docLink = document.createElement('div');\n",
              "          docLink.innerHTML = docLinkHtml;\n",
              "          element.appendChild(docLink);\n",
              "        }\n",
              "      </script>\n",
              "    </div>\n",
              "  </div>\n",
              "  "
            ]
          },
          "metadata": {},
          "execution_count": 73
        }
      ]
    },
    {
      "cell_type": "code",
      "source": [
        "result.resid"
      ],
      "metadata": {
        "colab": {
          "base_uri": "https://localhost:8080/"
        },
        "id": "BJ_CLoJN5_ED",
        "outputId": "9c5b5c65-6597-4d51-ad5f-1d059ffedf0c"
      },
      "execution_count": null,
      "outputs": [
        {
          "output_type": "execute_result",
          "data": {
            "text/plain": [
              "5        -2.386786e+06\n",
              "13        1.463896e+05\n",
              "17       -4.963915e+05\n",
              "18        4.376428e+06\n",
              "20        9.385875e+06\n",
              "              ...     \n",
              "758738   -1.778714e+06\n",
              "758741   -2.642555e+06\n",
              "758744   -5.540999e+05\n",
              "758746   -3.132009e+06\n",
              "758747   -1.184321e+06\n",
              "Length: 179808, dtype: float64"
            ]
          },
          "metadata": {},
          "execution_count": 99
        }
      ]
    },
    {
      "cell_type": "code",
      "source": [
        "df_train.claimAmount"
      ],
      "metadata": {
        "id": "Ebi0uTzTwYXz"
      },
      "execution_count": null,
      "outputs": []
    },
    {
      "cell_type": "code",
      "source": [
        "import seaborn as sns\n",
        "\n",
        "\n",
        "sns.set(rc={'figure.figsize':(12,8)})\n",
        "sns.distplot(result.resid)"
      ],
      "metadata": {
        "colab": {
          "base_uri": "https://localhost:8080/",
          "height": 581
        },
        "id": "KfLiIb8eZ3ac",
        "outputId": "6dacd150-22fa-46aa-f113-527535589199"
      },
      "execution_count": null,
      "outputs": [
        {
          "output_type": "stream",
          "name": "stderr",
          "text": [
            "/usr/local/lib/python3.7/dist-packages/seaborn/distributions.py:2619: FutureWarning: `distplot` is a deprecated function and will be removed in a future version. Please adapt your code to use either `displot` (a figure-level function with similar flexibility) or `histplot` (an axes-level function for histograms).\n",
            "  warnings.warn(msg, FutureWarning)\n"
          ]
        },
        {
          "output_type": "execute_result",
          "data": {
            "text/plain": [
              "<matplotlib.axes._subplots.AxesSubplot at 0x7f3801393c10>"
            ]
          },
          "metadata": {},
          "execution_count": 105
        },
        {
          "output_type": "display_data",
          "data": {
            "text/plain": [
              "<Figure size 864x576 with 1 Axes>"
            ],
            "image/png": "[encoded data removed]"
          },
          "metadata": {}
        }
      ]
    },
    {
      "cell_type": "code",
      "source": [
        "plt.hist(result.resid)"
      ],
      "metadata": {
        "colab": {
          "base_uri": "https://localhost:8080/",
          "height": 385
        },
        "id": "8e5UofoQ5acC",
        "outputId": "ab3ba032-9df0-4bf7-acf3-3f0d63e5d663"
      },
      "execution_count": null,
      "outputs": [
        {
          "output_type": "execute_result",
          "data": {
            "text/plain": [
              "(array([1.78362e+05, 1.38000e+03, 5.50000e+01, 8.00000e+00, 1.00000e+00,\n",
              "        1.00000e+00, 0.00000e+00, 0.00000e+00, 0.00000e+00, 1.00000e+00]),\n",
              " array([-7.20129412e+06,  1.54831944e+07,  3.81676829e+07,  6.08521714e+07,\n",
              "         8.35366599e+07,  1.06221148e+08,  1.28905637e+08,  1.51590125e+08,\n",
              "         1.74274614e+08,  1.96959102e+08,  2.19643591e+08]),\n",
              " <a list of 10 Patch objects>)"
            ]
          },
          "metadata": {},
          "execution_count": 95
        },
        {
          "output_type": "display_data",
          "data": {
            "text/plain": [
              "<Figure size 432x288 with 1 Axes>"
            ],
            "image/png": "[encoded data removed]"
          },
          "metadata": {
            "needs_background": "light"
          }
        }
      ]
    },
    {
      "cell_type": "code",
      "source": [
        "from scipy.stats import shapiro\n",
        "\n",
        "stat, p = shapiro(result.resid)\n",
        "print('Statistics=%.3f, p=%.3f' % (stat, p))\n",
        "# interpret\n",
        "alpha = 0.05\n",
        "if p > alpha:\n",
        "\tprint('Sample looks Gaussian (fail to reject H0)')\n",
        "else:\n",
        "\tprint('Sample does not look Gaussian (reject H0)')"
      ],
      "metadata": {
        "colab": {
          "base_uri": "https://localhost:8080/"
        },
        "id": "e4APvMWy5Gkw",
        "outputId": "45f8cb78-8cd7-4784-f61e-642a57d83f15"
      },
      "execution_count": null,
      "outputs": [
        {
          "output_type": "stream",
          "name": "stdout",
          "text": [
            "Statistics=0.664, p=0.000\n",
            "Sample does not look Gaussian (reject H0)\n"
          ]
        },
        {
          "output_type": "stream",
          "name": "stderr",
          "text": [
            "/usr/local/lib/python3.7/dist-packages/scipy/stats/morestats.py:1676: UserWarning: p-value may not be accurate for N > 5000.\n",
            "  warnings.warn(\"p-value may not be accurate for N > 5000.\")\n"
          ]
        }
      ]
    },
    {
      "cell_type": "code",
      "source": [
        "from scipy.stats import normaltest\n",
        "\n",
        "stat, p = normaltest(result.resid)\n",
        "print('Statistics=%.3f, p=%.3f' % (stat, p))\n",
        "# interpret\n",
        "alpha = 0.05\n",
        "if p > alpha:\n",
        "\tprint('Sample looks Gaussian (fail to reject H0)')\n",
        "else:\n",
        "\tprint('Sample does not look Gaussian (reject H0)')"
      ],
      "metadata": {
        "colab": {
          "base_uri": "https://localhost:8080/"
        },
        "id": "Fnmi3RIp52GV",
        "outputId": "a7be0571-2a93-4da2-98c8-dd8164a3da92"
      },
      "execution_count": null,
      "outputs": [
        {
          "output_type": "stream",
          "name": "stdout",
          "text": [
            "Statistics=209805.366, p=0.000\n",
            "Sample does not look Gaussian (reject H0)\n"
          ]
        }
      ]
    },
    {
      "cell_type": "code",
      "source": [
        "sm.qqplot(result.resid)\n",
        "plt.show()"
      ],
      "metadata": {
        "colab": {
          "base_uri": "https://localhost:8080/",
          "height": 528
        },
        "id": "bWuFGvViZ3ei",
        "outputId": "7a51665e-190d-48f4-cda0-0ea31efa823b"
      },
      "execution_count": null,
      "outputs": [
        {
          "output_type": "display_data",
          "data": {
            "text/plain": [
              "<Figure size 842.4x595.44 with 1 Axes>"
            ],
            "image/png": "[encoded data removed]"
          },
          "metadata": {}
        }
      ]
    },
    {
      "cell_type": "code",
      "source": [
        "#model1\n",
        "\n",
        "model = sm.MixedLM.from_formula(\"claimAmount ~ crashFinancialYear+speedLimit+crashSHDescription+roadLane\", groups=df1_train[\"region\"], data=df1_train)\n",
        "result = model.fit()\n",
        "\n",
        "# The BLUPs\n",
        "re = result.random_effects\n",
        "\n",
        "# Multiply each BLUP by the random effects design matrix for one group\n",
        "rex = [np.dot(model.exog_re_li[j], re[k]) for (j, k) in enumerate(model.group_labels)]\n",
        "\n",
        "# Add the fixed and random terms to get the overall prediction\n",
        "rex = np.concatenate(rex)\n",
        "yp = result.fittedvalues + rex\n",
        "\n",
        "pred = result.predict(exog=df1_test)\n",
        "print(\"RMSE: \", np.sqrt(np.mean(np.square(pred - df1_test['claimAmount']))))\n",
        "print(\"MAE: \", mean_absolute_error(pred, df1_test['claimAmount']))\n",
        "\n",
        "result.summary()"
      ],
      "metadata": {
        "colab": {
          "base_uri": "https://localhost:8080/",
          "height": 334
        },
        "id": "at_JcuRpZByY",
        "outputId": "27e3c9b5-17d7-4a34-a6d5-5c539c8c8030"
      },
      "execution_count": null,
      "outputs": [
        {
          "output_type": "stream",
          "name": "stdout",
          "text": [
            "RMSE:  2432088.8907627254\n",
            "MAE:  1542557.8356781972\n"
          ]
        },
        {
          "output_type": "execute_result",
          "data": {
            "text/plain": [
              "<class 'statsmodels.iolib.summary2.Summary'>\n",
              "\"\"\"\n",
              "                      Mixed Linear Model Regression Results\n",
              "==================================================================================\n",
              "Model:                  MixedLM       Dependent Variable:       claimAmount       \n",
              "No. Observations:       139791        Method:                   REML              \n",
              "No. Groups:             17            Scale:                    6068769341437.7314\n",
              "Min. group size:        517           Likelihood:               -2255642.8901     \n",
              "Max. group size:        43742         Converged:                Yes               \n",
              "Mean group size:        8223.0                                                    \n",
              "----------------------------------------------------------------------------------\n",
              "                        Coef.       Std.Err.    z    P>|z|    [0.025      0.975]  \n",
              "----------------------------------------------------------------------------------\n",
              "Intercept              4025525.160 45717.206  88.053 0.000 3935921.083 4115129.236\n",
              "crashFinancialYear      -20145.759  1082.369 -18.613 0.000  -22267.162  -18024.355\n",
              "speedLimit                6669.626   340.436  19.591 0.000    6002.383    7336.869\n",
              "crashSHDescription       74651.674  8589.187   8.691 0.000   57817.176   91486.171\n",
              "roadLane                 76633.476 19719.777   3.886 0.000   37983.423  115283.528\n",
              "Group Var          12919363253.929  2098.367                                      \n",
              "==================================================================================\n",
              "\n",
              "\"\"\""
            ],
            "text/html": [
              "<table class=\"simpletable\">\n",
              "<tr>\n",
              "       <td>Model:</td>       <td>MixedLM</td> <td>Dependent Variable:</td>     <td>claimAmount</td>   \n",
              "</tr>\n",
              "<tr>\n",
              "  <td>No. Observations:</td> <td>139791</td>        <td>Method:</td>              <td>REML</td>       \n",
              "</tr>\n",
              "<tr>\n",
              "     <td>No. Groups:</td>      <td>17</td>          <td>Scale:</td>        <td>6068769341437.7314</td>\n",
              "</tr>\n",
              "<tr>\n",
              "  <td>Min. group size:</td>    <td>517</td>       <td>Likelihood:</td>        <td>-2255642.8901</td>  \n",
              "</tr>\n",
              "<tr>\n",
              "  <td>Max. group size:</td>   <td>43742</td>      <td>Converged:</td>              <td>Yes</td>       \n",
              "</tr>\n",
              "<tr>\n",
              "  <td>Mean group size:</td>  <td>8223.0</td>           <td></td>                    <td></td>         \n",
              "</tr>\n",
              "</table>\n",
              "<table class=\"simpletable\">\n",
              "<tr>\n",
              "           <td></td>               <th>Coef.</th>      <th>Std.Err.</th>     <th>z</th>    <th>P>|z|</th>   <th>[0.025</th>      <th>0.975]</th>   \n",
              "</tr>\n",
              "<tr>\n",
              "  <th>Intercept</th>            <td>4025525.160</td>   <td>45717.206</td> <td>88.053</td>  <td>0.000</td> <td>3935921.083</td> <td>4115129.236</td>\n",
              "</tr>\n",
              "<tr>\n",
              "  <th>crashFinancialYear</th>   <td>-20145.759</td>    <td>1082.369</td>  <td>-18.613</td> <td>0.000</td> <td>-22267.162</td>  <td>-18024.355</td> \n",
              "</tr>\n",
              "<tr>\n",
              "  <th>speedLimit</th>            <td>6669.626</td>      <td>340.436</td>  <td>19.591</td>  <td>0.000</td>  <td>6002.383</td>    <td>7336.869</td>  \n",
              "</tr>\n",
              "<tr>\n",
              "  <th>crashSHDescription</th>    <td>74651.674</td>    <td>8589.187</td>   <td>8.691</td>  <td>0.000</td>  <td>57817.176</td>   <td>91486.171</td> \n",
              "</tr>\n",
              "<tr>\n",
              "  <th>roadLane</th>              <td>76633.476</td>    <td>19719.777</td>  <td>3.886</td>  <td>0.000</td>  <td>37983.423</td>  <td>115283.528</td> \n",
              "</tr>\n",
              "<tr>\n",
              "  <th>Group Var</th>          <td>12919363253.929</td> <td>2098.367</td>     <td></td>       <td></td>         <td></td>            <td></td>      \n",
              "</tr>\n",
              "</table>"
            ]
          },
          "metadata": {},
          "execution_count": 252
        }
      ]
    },
    {
      "cell_type": "code",
      "source": [
        "#model2\n",
        "\n",
        "model = sm.MixedLM.from_formula(\"claimAmount ~ crashFinancialYear+speedLimit+crashSHDescription+roadLane\", groups=df2_train[\"region\"], data=df2_train)\n",
        "result = model.fit()\n",
        "\n",
        "# The BLUPs\n",
        "re = result.random_effects\n",
        "\n",
        "# Multiply each BLUP by the random effects design matrix for one group\n",
        "rex = [np.dot(model.exog_re_li[j], re[k]) for (j, k) in enumerate(model.group_labels)]\n",
        "\n",
        "# Add the fixed and random terms to get the overall prediction\n",
        "rex = np.concatenate(rex)\n",
        "yp = result.fittedvalues + rex\n",
        "\n",
        "pred = result.predict(exog=df2_test)\n",
        "print(\"RMSE: \", np.sqrt(np.mean(np.square(pred - df2_test['claimAmount']))))\n",
        "print(\"MAE: \", mean_absolute_error(pred, df2_test['claimAmount']))\n",
        "\n",
        "result.summary()"
      ],
      "metadata": {
        "colab": {
          "base_uri": "https://localhost:8080/",
          "height": 334
        },
        "id": "QtOGakycZKRx",
        "outputId": "37bbfed7-6a8b-497d-acf3-1297d998b501"
      },
      "execution_count": null,
      "outputs": [
        {
          "output_type": "stream",
          "name": "stdout",
          "text": [
            "RMSE:  8409217.598942945\n",
            "MAE:  5615286.757749771\n"
          ]
        },
        {
          "output_type": "execute_result",
          "data": {
            "text/plain": [
              "<class 'statsmodels.iolib.summary2.Summary'>\n",
              "\"\"\"\n",
              "                       Mixed Linear Model Regression Results\n",
              "===================================================================================\n",
              "Model:                  MixedLM       Dependent Variable:       claimAmount        \n",
              "No. Observations:       5586          Method:                   REML               \n",
              "No. Groups:             17            Scale:                    61164882392498.4219\n",
              "Min. group size:        9             Likelihood:               -96532.7427        \n",
              "Max. group size:        1047          Converged:                Yes                \n",
              "Mean group size:        328.6                                                      \n",
              "-----------------------------------------------------------------------------------\n",
              "                        Coef.        Std.Err.    z    P>|z|    [0.025      0.975]  \n",
              "-----------------------------------------------------------------------------------\n",
              "Intercept               1985488.036 680795.904  2.916 0.004  651152.584 3319823.489\n",
              "crashFinancialYear       -52530.766  16676.821 -3.150 0.002  -85216.735  -19844.798\n",
              "speedLimit                32745.488   5520.896  5.931 0.000   21924.730   43566.247\n",
              "crashSHDescription       928404.019 116478.374  7.971 0.000  700110.601 1156697.437\n",
              "roadLane                 116233.957 366724.563  0.317 0.751 -602532.979  835000.893\n",
              "Group Var          223985309456.781  22990.610                                     \n",
              "===================================================================================\n",
              "\n",
              "\"\"\""
            ],
            "text/html": [
              "<table class=\"simpletable\">\n",
              "<tr>\n",
              "       <td>Model:</td>       <td>MixedLM</td> <td>Dependent Variable:</td>     <td>claimAmount</td>    \n",
              "</tr>\n",
              "<tr>\n",
              "  <td>No. Observations:</td>  <td>5586</td>         <td>Method:</td>              <td>REML</td>        \n",
              "</tr>\n",
              "<tr>\n",
              "     <td>No. Groups:</td>      <td>17</td>          <td>Scale:</td>        <td>61164882392498.4219</td>\n",
              "</tr>\n",
              "<tr>\n",
              "  <td>Min. group size:</td>     <td>9</td>        <td>Likelihood:</td>         <td>-96532.7427</td>    \n",
              "</tr>\n",
              "<tr>\n",
              "  <td>Max. group size:</td>   <td>1047</td>       <td>Converged:</td>              <td>Yes</td>        \n",
              "</tr>\n",
              "<tr>\n",
              "  <td>Mean group size:</td>   <td>328.6</td>           <td></td>                    <td></td>          \n",
              "</tr>\n",
              "</table>\n",
              "<table class=\"simpletable\">\n",
              "<tr>\n",
              "           <td></td>                <th>Coef.</th>       <th>Std.Err.</th>     <th>z</th>   <th>P>|z|</th>   <th>[0.025</th>      <th>0.975]</th>   \n",
              "</tr>\n",
              "<tr>\n",
              "  <th>Intercept</th>             <td>1985488.036</td>   <td>680795.904</td>  <td>2.916</td> <td>0.004</td> <td>651152.584</td>  <td>3319823.489</td>\n",
              "</tr>\n",
              "<tr>\n",
              "  <th>crashFinancialYear</th>    <td>-52530.766</td>     <td>16676.821</td> <td>-3.150</td> <td>0.002</td> <td>-85216.735</td>  <td>-19844.798</td> \n",
              "</tr>\n",
              "<tr>\n",
              "  <th>speedLimit</th>             <td>32745.488</td>     <td>5520.896</td>   <td>5.931</td> <td>0.000</td>  <td>21924.730</td>   <td>43566.247</td> \n",
              "</tr>\n",
              "<tr>\n",
              "  <th>crashSHDescription</th>    <td>928404.019</td>    <td>116478.374</td>  <td>7.971</td> <td>0.000</td> <td>700110.601</td>  <td>1156697.437</td>\n",
              "</tr>\n",
              "<tr>\n",
              "  <th>roadLane</th>              <td>116233.957</td>    <td>366724.563</td>  <td>0.317</td> <td>0.751</td> <td>-602532.979</td> <td>835000.893</td> \n",
              "</tr>\n",
              "<tr>\n",
              "  <th>Group Var</th>          <td>223985309456.781</td>  <td>22990.610</td>    <td></td>      <td></td>         <td></td>            <td></td>      \n",
              "</tr>\n",
              "</table>"
            ]
          },
          "metadata": {},
          "execution_count": 253
        }
      ]
    },
    {
      "cell_type": "code",
      "source": [
        "#model3\n",
        "\n",
        "model = sm.MixedLM.from_formula(\"claimAmount ~ crashFinancialYear+speedLimit+crashSHDescription+roadLane\", groups=df3_train[\"region\"], data=df3_train)\n",
        "result = model.fit()\n",
        "\n",
        "# The BLUPs\n",
        "re = result.random_effects\n",
        "\n",
        "# Multiply each BLUP by the random effects design matrix for one group\n",
        "rex = [np.dot(model.exog_re_li[j], re[k]) for (j, k) in enumerate(model.group_labels)]\n",
        "\n",
        "# Add the fixed and random terms to get the overall prediction\n",
        "rex = np.concatenate(rex)\n",
        "yp = result.fittedvalues + rex\n",
        "\n",
        "pred = result.predict(exog=df3_test)\n",
        "print(\"RMSE: \", np.sqrt(np.mean(np.square(pred - df3_test['claimAmount']))))\n",
        "print(\"MAE: \", mean_absolute_error(pred, df3_test['claimAmount']))\n",
        "\n",
        "result.summary()"
      ],
      "metadata": {
        "colab": {
          "base_uri": "https://localhost:8080/",
          "height": 334
        },
        "id": "sdJm9qX1aOV_",
        "outputId": "5d8127da-53ce-460b-b9e9-e78692908ec7"
      },
      "execution_count": null,
      "outputs": [
        {
          "output_type": "stream",
          "name": "stdout",
          "text": [
            "RMSE:  5963373.414207909\n",
            "MAE:  3450609.8264411665\n"
          ]
        },
        {
          "output_type": "execute_result",
          "data": {
            "text/plain": [
              "<class 'statsmodels.iolib.summary2.Summary'>\n",
              "\"\"\"\n",
              "                       Mixed Linear Model Regression Results\n",
              "====================================================================================\n",
              "Model:                   MixedLM       Dependent Variable:       claimAmount        \n",
              "No. Observations:        34392         Method:                   REML               \n",
              "No. Groups:              17            Scale:                    27453670284680.3477\n",
              "Min. group size:         96            Likelihood:               -580864.7233       \n",
              "Max. group size:         7693          Converged:                Yes                \n",
              "Mean group size:         2023.1                                                     \n",
              "------------------------------------------------------------------------------------\n",
              "                        Coef.        Std.Err.     z    P>|z|    [0.025      0.975]  \n",
              "------------------------------------------------------------------------------------\n",
              "Intercept               7928301.125 174744.509  45.371 0.000 7585808.181 8270794.069\n",
              "crashFinancialYear       -51185.708   4550.246 -11.249 0.000  -60104.027  -42267.390\n",
              "speedLimit                26527.366   1366.105  19.418 0.000   23849.849   29204.883\n",
              "crashSHDescription       398950.279  34470.825  11.574 0.000  331388.703  466511.855\n",
              "roadLane                 280504.110  83009.860   3.379 0.001  117807.775  443200.446\n",
              "Group Var          106296314202.987   9604.494                                      \n",
              "====================================================================================\n",
              "\n",
              "\"\"\""
            ],
            "text/html": [
              "<table class=\"simpletable\">\n",
              "<tr>\n",
              "       <td>Model:</td>       <td>MixedLM</td> <td>Dependent Variable:</td>     <td>claimAmount</td>    \n",
              "</tr>\n",
              "<tr>\n",
              "  <td>No. Observations:</td>  <td>34392</td>        <td>Method:</td>              <td>REML</td>        \n",
              "</tr>\n",
              "<tr>\n",
              "     <td>No. Groups:</td>      <td>17</td>          <td>Scale:</td>        <td>27453670284680.3477</td>\n",
              "</tr>\n",
              "<tr>\n",
              "  <td>Min. group size:</td>    <td>96</td>        <td>Likelihood:</td>        <td>-580864.7233</td>    \n",
              "</tr>\n",
              "<tr>\n",
              "  <td>Max. group size:</td>   <td>7693</td>       <td>Converged:</td>              <td>Yes</td>        \n",
              "</tr>\n",
              "<tr>\n",
              "  <td>Mean group size:</td>  <td>2023.1</td>           <td></td>                    <td></td>          \n",
              "</tr>\n",
              "</table>\n",
              "<table class=\"simpletable\">\n",
              "<tr>\n",
              "           <td></td>                <th>Coef.</th>       <th>Std.Err.</th>     <th>z</th>    <th>P>|z|</th>   <th>[0.025</th>      <th>0.975]</th>   \n",
              "</tr>\n",
              "<tr>\n",
              "  <th>Intercept</th>             <td>7928301.125</td>   <td>174744.509</td> <td>45.371</td>  <td>0.000</td> <td>7585808.181</td> <td>8270794.069</td>\n",
              "</tr>\n",
              "<tr>\n",
              "  <th>crashFinancialYear</th>    <td>-51185.708</td>     <td>4550.246</td>  <td>-11.249</td> <td>0.000</td> <td>-60104.027</td>  <td>-42267.390</td> \n",
              "</tr>\n",
              "<tr>\n",
              "  <th>speedLimit</th>             <td>26527.366</td>     <td>1366.105</td>  <td>19.418</td>  <td>0.000</td>  <td>23849.849</td>   <td>29204.883</td> \n",
              "</tr>\n",
              "<tr>\n",
              "  <th>crashSHDescription</th>    <td>398950.279</td>     <td>34470.825</td> <td>11.574</td>  <td>0.000</td> <td>331388.703</td>  <td>466511.855</td> \n",
              "</tr>\n",
              "<tr>\n",
              "  <th>roadLane</th>              <td>280504.110</td>     <td>83009.860</td>  <td>3.379</td>  <td>0.001</td> <td>117807.775</td>  <td>443200.446</td> \n",
              "</tr>\n",
              "<tr>\n",
              "  <th>Group Var</th>          <td>106296314202.987</td>  <td>9604.494</td>     <td></td>       <td></td>         <td></td>            <td></td>      \n",
              "</tr>\n",
              "</table>"
            ]
          },
          "metadata": {},
          "execution_count": 254
        }
      ]
    },
    {
      "cell_type": "code",
      "source": [
        "df4_test"
      ],
      "metadata": {
        "colab": {
          "base_uri": "https://localhost:8080/",
          "height": 180
        },
        "id": "_EPNVT7qawkF",
        "outputId": "52d0a468-2032-4883-8cba-7c9462f043bb"
      },
      "execution_count": null,
      "outputs": [
        {
          "output_type": "execute_result",
          "data": {
            "text/plain": [
              "                X          Y  bicycle  bridge  bus  carStationWagon  \\\n",
              "706636  1579110.0  6178689.0      0.0     0.0  1.0              0.0   \n",
              "\n",
              "        cliffBank crashDirectionDescription  crashFinancialYear  \\\n",
              "706636        0.0                     South                  19   \n",
              "\n",
              "          crashLocation1 crashLocation2  crashSeverity  crashSHDescription  \\\n",
              "706636  Z TE PAKI STREAM  TE HAPUA ROAD              2                   0   \n",
              "\n",
              "        crashYear  debris directionRoleDescription  ditch  fatalCount  fence  \\\n",
              "706636       2019     0.0                    South    0.0         0.0    0.0   \n",
              "\n",
              "        flatHill  guardRail  houseOrBuilding  kerb  light  minorInjuryCount  \\\n",
              "706636         0        0.0              0.0   0.0      0               1.0   \n",
              "\n",
              "        moped  motorcycle  NumberOfLanes  objectThrownOrDropped  otherObject  \\\n",
              "706636    0.0         0.0            1.0                    0.0          0.0   \n",
              "\n",
              "        otherVehicleType  overBank  parkedVehicle  phoneBoxEtc  postOrPole  \\\n",
              "706636               0.0       0.0            0.0          0.0         0.0   \n",
              "\n",
              "                  region roadCharacter  roadLane roadSurface  roadworks  \\\n",
              "706636  Northland Region           Nil         3    Unsealed        0.0   \n",
              "\n",
              "        schoolBus  seriousInjuryCount  slipOrFlood  speedLimit  strayAnimal  \\\n",
              "706636        0.0                 0.0          0.0       100.0          0.0   \n",
              "\n",
              "       streetLight  suv  taxi             tlaName trafficControl  \\\n",
              "706636        None  0.0   0.0  Far North District        Unknown   \n",
              "\n",
              "        trafficIsland  trafficSign  train  tree  truck  unknownVehicleType  \\\n",
              "706636            0.0          0.0    0.0   0.0    0.0                 0.0   \n",
              "\n",
              "       urban  vanOrUtility  vehicle  waterRiver  weatherA  claimAmount  \\\n",
              "706636  Open           0.0      0.0         0.0         0    3147060.0   \n",
              "\n",
              "                     crash_re  \n",
              "706636  Northland Region_Fine  "
            ],
            "text/html": [
              "\n",
              "  <div id=\"df-1d090142-9e5a-42ea-a421-bc41236c66d1\">\n",
              "    <div class=\"colab-df-container\">\n",
              "      <div>\n",
              "<style scoped>\n",
              "    .dataframe tbody tr th:only-of-type {\n",
              "        vertical-align: middle;\n",
              "    }\n",
              "\n",
              "    .dataframe tbody tr th {\n",
              "        vertical-align: top;\n",
              "    }\n",
              "\n",
              "    .dataframe thead th {\n",
              "        text-align: right;\n",
              "    }\n",
              "</style>\n",
              "<table border=\"1\" class=\"dataframe\">\n",
              "  <thead>\n",
              "    <tr style=\"text-align: right;\">\n",
              "      <th></th>\n",
              "      <th>X</th>\n",
              "      <th>Y</th>\n",
              "      <th>bicycle</th>\n",
              "      <th>bridge</th>\n",
              "      <th>bus</th>\n",
              "      <th>carStationWagon</th>\n",
              "      <th>cliffBank</th>\n",
              "      <th>crashDirectionDescription</th>\n",
              "      <th>crashFinancialYear</th>\n",
              "      <th>crashLocation1</th>\n",
              "      <th>crashLocation2</th>\n",
              "      <th>crashSeverity</th>\n",
              "      <th>crashSHDescription</th>\n",
              "      <th>crashYear</th>\n",
              "      <th>debris</th>\n",
              "      <th>directionRoleDescription</th>\n",
              "      <th>ditch</th>\n",
              "      <th>fatalCount</th>\n",
              "      <th>fence</th>\n",
              "      <th>flatHill</th>\n",
              "      <th>guardRail</th>\n",
              "      <th>houseOrBuilding</th>\n",
              "      <th>kerb</th>\n",
              "      <th>light</th>\n",
              "      <th>minorInjuryCount</th>\n",
              "      <th>moped</th>\n",
              "      <th>motorcycle</th>\n",
              "      <th>NumberOfLanes</th>\n",
              "      <th>objectThrownOrDropped</th>\n",
              "      <th>otherObject</th>\n",
              "      <th>otherVehicleType</th>\n",
              "      <th>overBank</th>\n",
              "      <th>parkedVehicle</th>\n",
              "      <th>phoneBoxEtc</th>\n",
              "      <th>postOrPole</th>\n",
              "      <th>region</th>\n",
              "      <th>roadCharacter</th>\n",
              "      <th>roadLane</th>\n",
              "      <th>roadSurface</th>\n",
              "      <th>roadworks</th>\n",
              "      <th>schoolBus</th>\n",
              "      <th>seriousInjuryCount</th>\n",
              "      <th>slipOrFlood</th>\n",
              "      <th>speedLimit</th>\n",
              "      <th>strayAnimal</th>\n",
              "      <th>streetLight</th>\n",
              "      <th>suv</th>\n",
              "      <th>taxi</th>\n",
              "      <th>tlaName</th>\n",
              "      <th>trafficControl</th>\n",
              "      <th>trafficIsland</th>\n",
              "      <th>trafficSign</th>\n",
              "      <th>train</th>\n",
              "      <th>tree</th>\n",
              "      <th>truck</th>\n",
              "      <th>unknownVehicleType</th>\n",
              "      <th>urban</th>\n",
              "      <th>vanOrUtility</th>\n",
              "      <th>vehicle</th>\n",
              "      <th>waterRiver</th>\n",
              "      <th>weatherA</th>\n",
              "      <th>claimAmount</th>\n",
              "      <th>crash_re</th>\n",
              "    </tr>\n",
              "  </thead>\n",
              "  <tbody>\n",
              "    <tr>\n",
              "      <th>706636</th>\n",
              "      <td>1579110.0</td>\n",
              "      <td>6178689.0</td>\n",
              "      <td>0.0</td>\n",
              "      <td>0.0</td>\n",
              "      <td>1.0</td>\n",
              "      <td>0.0</td>\n",
              "      <td>0.0</td>\n",
              "      <td>South</td>\n",
              "      <td>19</td>\n",
              "      <td>Z TE PAKI STREAM</td>\n",
              "      <td>TE HAPUA ROAD</td>\n",
              "      <td>2</td>\n",
              "      <td>0</td>\n",
              "      <td>2019</td>\n",
              "      <td>0.0</td>\n",
              "      <td>South</td>\n",
              "      <td>0.0</td>\n",
              "      <td>0.0</td>\n",
              "      <td>0.0</td>\n",
              "      <td>0</td>\n",
              "      <td>0.0</td>\n",
              "      <td>0.0</td>\n",
              "      <td>0.0</td>\n",
              "      <td>0</td>\n",
              "      <td>1.0</td>\n",
              "      <td>0.0</td>\n",
              "      <td>0.0</td>\n",
              "      <td>1.0</td>\n",
              "      <td>0.0</td>\n",
              "      <td>0.0</td>\n",
              "      <td>0.0</td>\n",
              "      <td>0.0</td>\n",
              "      <td>0.0</td>\n",
              "      <td>0.0</td>\n",
              "      <td>0.0</td>\n",
              "      <td>Northland Region</td>\n",
              "      <td>Nil</td>\n",
              "      <td>3</td>\n",
              "      <td>Unsealed</td>\n",
              "      <td>0.0</td>\n",
              "      <td>0.0</td>\n",
              "      <td>0.0</td>\n",
              "      <td>0.0</td>\n",
              "      <td>100.0</td>\n",
              "      <td>0.0</td>\n",
              "      <td>None</td>\n",
              "      <td>0.0</td>\n",
              "      <td>0.0</td>\n",
              "      <td>Far North District</td>\n",
              "      <td>Unknown</td>\n",
              "      <td>0.0</td>\n",
              "      <td>0.0</td>\n",
              "      <td>0.0</td>\n",
              "      <td>0.0</td>\n",
              "      <td>0.0</td>\n",
              "      <td>0.0</td>\n",
              "      <td>Open</td>\n",
              "      <td>0.0</td>\n",
              "      <td>0.0</td>\n",
              "      <td>0.0</td>\n",
              "      <td>0</td>\n",
              "      <td>3147060.0</td>\n",
              "      <td>Northland Region_Fine</td>\n",
              "    </tr>\n",
              "  </tbody>\n",
              "</table>\n",
              "</div>\n",
              "      <button class=\"colab-df-convert\" onclick=\"convertToInteractive('df-1d090142-9e5a-42ea-a421-bc41236c66d1')\"\n",
              "              title=\"Convert this dataframe to an interactive table.\"\n",
              "              style=\"display:none;\">\n",
              "        \n",
              "  <svg xmlns=\"http://www.w3.org/2000/svg\" height=\"24px\"viewBox=\"0 0 24 24\"\n",
              "       width=\"24px\">\n",
              "    <path d=\"M0 0h24v24H0V0z\" fill=\"none\"/>\n",
              "    <path d=\"M18.56 5.44l.94 2.06.94-2.06 2.06-.94-2.06-.94-.94-2.06-.94 2.06-2.06.94zm-11 1L8.5 8.5l.94-2.06 2.06-.94-2.06-.94L8.5 2.5l-.94 2.06-2.06.94zm10 10l.94 2.06.94-2.06 2.06-.94-2.06-.94-.94-2.06-.94 2.06-2.06.94z\"/><path d=\"M17.41 7.96l-1.37-1.37c-.4-.4-.92-.59-1.43-.59-.52 0-1.04.2-1.43.59L10.3 9.45l-7.72 7.72c-.78.78-.78 2.05 0 2.83L4 21.41c.39.39.9.59 1.41.59.51 0 1.02-.2 1.41-.59l7.78-7.78 2.81-2.81c.8-.78.8-2.07 0-2.86zM5.41 20L4 18.59l7.72-7.72 1.47 1.35L5.41 20z\"/>\n",
              "  </svg>\n",
              "      </button>\n",
              "      \n",
              "  <style>\n",
              "    .colab-df-container {\n",
              "      display:flex;\n",
              "      flex-wrap:wrap;\n",
              "      gap: 12px;\n",
              "    }\n",
              "\n",
              "    .colab-df-convert {\n",
              "      background-color: #E8F0FE;\n",
              "      border: none;\n",
              "      border-radius: 50%;\n",
              "      cursor: pointer;\n",
              "      display: none;\n",
              "      fill: #1967D2;\n",
              "      height: 32px;\n",
              "      padding: 0 0 0 0;\n",
              "      width: 32px;\n",
              "    }\n",
              "\n",
              "    .colab-df-convert:hover {\n",
              "      background-color: #E2EBFA;\n",
              "      box-shadow: 0px 1px 2px rgba(60, 64, 67, 0.3), 0px 1px 3px 1px rgba(60, 64, 67, 0.15);\n",
              "      fill: #174EA6;\n",
              "    }\n",
              "\n",
              "    [theme=dark] .colab-df-convert {\n",
              "      background-color: #3B4455;\n",
              "      fill: #D2E3FC;\n",
              "    }\n",
              "\n",
              "    [theme=dark] .colab-df-convert:hover {\n",
              "      background-color: #434B5C;\n",
              "      box-shadow: 0px 1px 3px 1px rgba(0, 0, 0, 0.15);\n",
              "      filter: drop-shadow(0px 1px 2px rgba(0, 0, 0, 0.3));\n",
              "      fill: #FFFFFF;\n",
              "    }\n",
              "  </style>\n",
              "\n",
              "      <script>\n",
              "        const buttonEl =\n",
              "          document.querySelector('#df-1d090142-9e5a-42ea-a421-bc41236c66d1 button.colab-df-convert');\n",
              "        buttonEl.style.display =\n",
              "          google.colab.kernel.accessAllowed ? 'block' : 'none';\n",
              "\n",
              "        async function convertToInteractive(key) {\n",
              "          const element = document.querySelector('#df-1d090142-9e5a-42ea-a421-bc41236c66d1');\n",
              "          const dataTable =\n",
              "            await google.colab.kernel.invokeFunction('convertToInteractive',\n",
              "                                                     [key], {});\n",
              "          if (!dataTable) return;\n",
              "\n",
              "          const docLinkHtml = 'Like what you see? Visit the ' +\n",
              "            '<a target=\"_blank\" href=https://colab.research.google.com/notebooks/data_table.ipynb>data table notebook</a>'\n",
              "            + ' to learn more about interactive tables.';\n",
              "          element.innerHTML = '';\n",
              "          dataTable['output_type'] = 'display_data';\n",
              "          await google.colab.output.renderOutput(dataTable, element);\n",
              "          const docLink = document.createElement('div');\n",
              "          docLink.innerHTML = docLinkHtml;\n",
              "          element.appendChild(docLink);\n",
              "        }\n",
              "      </script>\n",
              "    </div>\n",
              "  </div>\n",
              "  "
            ]
          },
          "metadata": {},
          "execution_count": 260
        }
      ]
    },
    {
      "cell_type": "code",
      "source": [
        "#model4\n",
        "\n",
        "model = sm.MixedLM.from_formula(\"claimAmount ~ crashFinancialYear+speedLimit+crashSHDescription+roadLane\", groups=df4_train[\"region\"], data=df4_train)\n",
        "result = model.fit()\n",
        "\n",
        "# The BLUPs\n",
        "re = result.random_effects\n",
        "\n",
        "# Multiply each BLUP by the random effects design matrix for one group\n",
        "rex = [np.dot(model.exog_re_li[j], re[k]) for (j, k) in enumerate(model.group_labels)]\n",
        "\n",
        "# Add the fixed and random terms to get the overall prediction\n",
        "rex = np.concatenate(rex)\n",
        "yp = result.fittedvalues + rex\n",
        "\n",
        "pred = result.predict(exog=df4_test)\n",
        "print(\"RMSE: \", np.sqrt(np.mean(np.square(pred - df4_test['claimAmount']))))\n",
        "print(\"MAE: \", mean_absolute_error(pred, df4_test['claimAmount']))\n",
        "\n",
        "result.summary()"
      ],
      "metadata": {
        "colab": {
          "base_uri": "https://localhost:8080/",
          "height": 417
        },
        "id": "044SAQx3aOjH",
        "outputId": "4dc9964c-dc78-4493-f641-221fd4c6a76d"
      },
      "execution_count": null,
      "outputs": [
        {
          "output_type": "error",
          "ename": "LinAlgError",
          "evalue": "ignored",
          "traceback": [
            "\u001b[0;31m---------------------------------------------------------------------------\u001b[0m",
            "\u001b[0;31mLinAlgError\u001b[0m                               Traceback (most recent call last)",
            "\u001b[0;32m<ipython-input-261-e9efce1ecde5>\u001b[0m in \u001b[0;36m<module>\u001b[0;34m()\u001b[0m\n\u001b[1;32m      2\u001b[0m \u001b[0;34m\u001b[0m\u001b[0m\n\u001b[1;32m      3\u001b[0m \u001b[0mmodel\u001b[0m \u001b[0;34m=\u001b[0m \u001b[0msm\u001b[0m\u001b[0;34m.\u001b[0m\u001b[0mMixedLM\u001b[0m\u001b[0;34m.\u001b[0m\u001b[0mfrom_formula\u001b[0m\u001b[0;34m(\u001b[0m\u001b[0;34m\"claimAmount ~ crashFinancialYear+speedLimit+crashSHDescription+roadLane\"\u001b[0m\u001b[0;34m,\u001b[0m \u001b[0mgroups\u001b[0m\u001b[0;34m=\u001b[0m\u001b[0mdf4_train\u001b[0m\u001b[0;34m[\u001b[0m\u001b[0;34m\"region\"\u001b[0m\u001b[0;34m]\u001b[0m\u001b[0;34m,\u001b[0m \u001b[0mdata\u001b[0m\u001b[0;34m=\u001b[0m\u001b[0mdf4_train\u001b[0m\u001b[0;34m)\u001b[0m\u001b[0;34m\u001b[0m\u001b[0;34m\u001b[0m\u001b[0m\n\u001b[0;32m----> 4\u001b[0;31m \u001b[0mresult\u001b[0m \u001b[0;34m=\u001b[0m \u001b[0mmodel\u001b[0m\u001b[0;34m.\u001b[0m\u001b[0mfit\u001b[0m\u001b[0;34m(\u001b[0m\u001b[0;34m)\u001b[0m\u001b[0;34m\u001b[0m\u001b[0;34m\u001b[0m\u001b[0m\n\u001b[0m\u001b[1;32m      5\u001b[0m \u001b[0;34m\u001b[0m\u001b[0m\n\u001b[1;32m      6\u001b[0m \u001b[0;31m# The BLUPs\u001b[0m\u001b[0;34m\u001b[0m\u001b[0;34m\u001b[0m\u001b[0;34m\u001b[0m\u001b[0m\n",
            "\u001b[0;32m/usr/local/lib/python3.7/dist-packages/statsmodels/regression/mixed_linear_model.py\u001b[0m in \u001b[0;36mfit\u001b[0;34m(self, start_params, reml, niter_sa, do_cg, fe_pen, cov_pen, free, full_output, method, **kwargs)\u001b[0m\n\u001b[1;32m   2049\u001b[0m                                                 \u001b[0mskip_hessian\u001b[0m\u001b[0;34m=\u001b[0m\u001b[0;32mTrue\u001b[0m\u001b[0;34m,\u001b[0m\u001b[0;34m\u001b[0m\u001b[0;34m\u001b[0m\u001b[0m\n\u001b[1;32m   2050\u001b[0m                                                 \u001b[0mmethod\u001b[0m\u001b[0;34m=\u001b[0m\u001b[0mmethod\u001b[0m\u001b[0;34m[\u001b[0m\u001b[0mj\u001b[0m\u001b[0;34m]\u001b[0m\u001b[0;34m,\u001b[0m\u001b[0;34m\u001b[0m\u001b[0;34m\u001b[0m\u001b[0m\n\u001b[0;32m-> 2051\u001b[0;31m                                                 **kwargs)\n\u001b[0m\u001b[1;32m   2052\u001b[0m                 \u001b[0;32mif\u001b[0m \u001b[0mrslt\u001b[0m\u001b[0;34m.\u001b[0m\u001b[0mmle_retvals\u001b[0m\u001b[0;34m[\u001b[0m\u001b[0;34m'converged'\u001b[0m\u001b[0;34m]\u001b[0m\u001b[0;34m:\u001b[0m\u001b[0;34m\u001b[0m\u001b[0;34m\u001b[0m\u001b[0m\n\u001b[1;32m   2053\u001b[0m                     \u001b[0;32mbreak\u001b[0m\u001b[0;34m\u001b[0m\u001b[0;34m\u001b[0m\u001b[0m\n",
            "\u001b[0;32m/usr/local/lib/python3.7/dist-packages/statsmodels/base/model.py\u001b[0m in \u001b[0;36mfit\u001b[0;34m(self, start_params, method, maxiter, full_output, disp, fargs, callback, retall, skip_hessian, **kwargs)\u001b[0m\n\u001b[1;32m    468\u001b[0m                                                        \u001b[0mcallback\u001b[0m\u001b[0;34m=\u001b[0m\u001b[0mcallback\u001b[0m\u001b[0;34m,\u001b[0m\u001b[0;34m\u001b[0m\u001b[0;34m\u001b[0m\u001b[0m\n\u001b[1;32m    469\u001b[0m                                                        \u001b[0mretall\u001b[0m\u001b[0;34m=\u001b[0m\u001b[0mretall\u001b[0m\u001b[0;34m,\u001b[0m\u001b[0;34m\u001b[0m\u001b[0;34m\u001b[0m\u001b[0m\n\u001b[0;32m--> 470\u001b[0;31m                                                        full_output=full_output)\n\u001b[0m\u001b[1;32m    471\u001b[0m \u001b[0;34m\u001b[0m\u001b[0m\n\u001b[1;32m    472\u001b[0m         \u001b[0;31m# NOTE: this is for fit_regularized and should be generalized\u001b[0m\u001b[0;34m\u001b[0m\u001b[0;34m\u001b[0m\u001b[0;34m\u001b[0m\u001b[0m\n",
            "\u001b[0;32m/usr/local/lib/python3.7/dist-packages/statsmodels/base/optimizer.py\u001b[0m in \u001b[0;36m_fit\u001b[0;34m(self, objective, gradient, start_params, fargs, kwargs, hessian, method, maxiter, full_output, disp, callback, retall)\u001b[0m\n\u001b[1;32m    217\u001b[0m                             \u001b[0mdisp\u001b[0m\u001b[0;34m=\u001b[0m\u001b[0mdisp\u001b[0m\u001b[0;34m,\u001b[0m \u001b[0mmaxiter\u001b[0m\u001b[0;34m=\u001b[0m\u001b[0mmaxiter\u001b[0m\u001b[0;34m,\u001b[0m \u001b[0mcallback\u001b[0m\u001b[0;34m=\u001b[0m\u001b[0mcallback\u001b[0m\u001b[0;34m,\u001b[0m\u001b[0;34m\u001b[0m\u001b[0;34m\u001b[0m\u001b[0m\n\u001b[1;32m    218\u001b[0m                             \u001b[0mretall\u001b[0m\u001b[0;34m=\u001b[0m\u001b[0mretall\u001b[0m\u001b[0;34m,\u001b[0m \u001b[0mfull_output\u001b[0m\u001b[0;34m=\u001b[0m\u001b[0mfull_output\u001b[0m\u001b[0;34m,\u001b[0m\u001b[0;34m\u001b[0m\u001b[0;34m\u001b[0m\u001b[0m\n\u001b[0;32m--> 219\u001b[0;31m                             hess=hessian)\n\u001b[0m\u001b[1;32m    220\u001b[0m \u001b[0;34m\u001b[0m\u001b[0m\n\u001b[1;32m    221\u001b[0m         optim_settings = {'optimizer': method, 'start_params': start_params,\n",
            "\u001b[0;32m/usr/local/lib/python3.7/dist-packages/statsmodels/base/optimizer.py\u001b[0m in \u001b[0;36m_fit_bfgs\u001b[0;34m(f, score, start_params, fargs, kwargs, disp, maxiter, callback, retall, full_output, hess)\u001b[0m\n\u001b[1;32m    353\u001b[0m                                  \u001b[0mgtol\u001b[0m\u001b[0;34m=\u001b[0m\u001b[0mgtol\u001b[0m\u001b[0;34m,\u001b[0m \u001b[0mnorm\u001b[0m\u001b[0;34m=\u001b[0m\u001b[0mnorm\u001b[0m\u001b[0;34m,\u001b[0m \u001b[0mepsilon\u001b[0m\u001b[0;34m=\u001b[0m\u001b[0mepsilon\u001b[0m\u001b[0;34m,\u001b[0m\u001b[0;34m\u001b[0m\u001b[0;34m\u001b[0m\u001b[0m\n\u001b[1;32m    354\u001b[0m                                  \u001b[0mmaxiter\u001b[0m\u001b[0;34m=\u001b[0m\u001b[0mmaxiter\u001b[0m\u001b[0;34m,\u001b[0m \u001b[0mfull_output\u001b[0m\u001b[0;34m=\u001b[0m\u001b[0mfull_output\u001b[0m\u001b[0;34m,\u001b[0m\u001b[0;34m\u001b[0m\u001b[0;34m\u001b[0m\u001b[0m\n\u001b[0;32m--> 355\u001b[0;31m                                  disp=disp, retall=retall, callback=callback)\n\u001b[0m\u001b[1;32m    356\u001b[0m     \u001b[0;32mif\u001b[0m \u001b[0mfull_output\u001b[0m\u001b[0;34m:\u001b[0m\u001b[0;34m\u001b[0m\u001b[0;34m\u001b[0m\u001b[0m\n\u001b[1;32m    357\u001b[0m         \u001b[0;32mif\u001b[0m \u001b[0;32mnot\u001b[0m \u001b[0mretall\u001b[0m\u001b[0;34m:\u001b[0m\u001b[0;34m\u001b[0m\u001b[0;34m\u001b[0m\u001b[0m\n",
            "\u001b[0;32m/usr/local/lib/python3.7/dist-packages/scipy/optimize/optimize.py\u001b[0m in \u001b[0;36mfmin_bfgs\u001b[0;34m(f, x0, fprime, args, gtol, norm, epsilon, maxiter, full_output, disp, retall, callback)\u001b[0m\n\u001b[1;32m    950\u001b[0m             'return_all': retall}\n\u001b[1;32m    951\u001b[0m \u001b[0;34m\u001b[0m\u001b[0m\n\u001b[0;32m--> 952\u001b[0;31m     \u001b[0mres\u001b[0m \u001b[0;34m=\u001b[0m \u001b[0m_minimize_bfgs\u001b[0m\u001b[0;34m(\u001b[0m\u001b[0mf\u001b[0m\u001b[0;34m,\u001b[0m \u001b[0mx0\u001b[0m\u001b[0;34m,\u001b[0m \u001b[0margs\u001b[0m\u001b[0;34m,\u001b[0m \u001b[0mfprime\u001b[0m\u001b[0;34m,\u001b[0m \u001b[0mcallback\u001b[0m\u001b[0;34m=\u001b[0m\u001b[0mcallback\u001b[0m\u001b[0;34m,\u001b[0m \u001b[0;34m**\u001b[0m\u001b[0mopts\u001b[0m\u001b[0;34m)\u001b[0m\u001b[0;34m\u001b[0m\u001b[0;34m\u001b[0m\u001b[0m\n\u001b[0m\u001b[1;32m    953\u001b[0m \u001b[0;34m\u001b[0m\u001b[0m\n\u001b[1;32m    954\u001b[0m     \u001b[0;32mif\u001b[0m \u001b[0mfull_output\u001b[0m\u001b[0;34m:\u001b[0m\u001b[0;34m\u001b[0m\u001b[0;34m\u001b[0m\u001b[0m\n",
            "\u001b[0;32m/usr/local/lib/python3.7/dist-packages/scipy/optimize/optimize.py\u001b[0m in \u001b[0;36m_minimize_bfgs\u001b[0;34m(fun, x0, args, jac, callback, gtol, norm, eps, maxiter, disp, return_all, **unknown_options)\u001b[0m\n\u001b[1;32m   1001\u001b[0m     \u001b[0mfunc_calls\u001b[0m\u001b[0;34m,\u001b[0m \u001b[0mf\u001b[0m \u001b[0;34m=\u001b[0m \u001b[0mwrap_function\u001b[0m\u001b[0;34m(\u001b[0m\u001b[0mf\u001b[0m\u001b[0;34m,\u001b[0m \u001b[0margs\u001b[0m\u001b[0;34m)\u001b[0m\u001b[0;34m\u001b[0m\u001b[0;34m\u001b[0m\u001b[0m\n\u001b[1;32m   1002\u001b[0m \u001b[0;34m\u001b[0m\u001b[0m\n\u001b[0;32m-> 1003\u001b[0;31m     \u001b[0mold_fval\u001b[0m \u001b[0;34m=\u001b[0m \u001b[0mf\u001b[0m\u001b[0;34m(\u001b[0m\u001b[0mx0\u001b[0m\u001b[0;34m)\u001b[0m\u001b[0;34m\u001b[0m\u001b[0;34m\u001b[0m\u001b[0m\n\u001b[0m\u001b[1;32m   1004\u001b[0m \u001b[0;34m\u001b[0m\u001b[0m\n\u001b[1;32m   1005\u001b[0m     \u001b[0;32mif\u001b[0m \u001b[0mfprime\u001b[0m \u001b[0;32mis\u001b[0m \u001b[0;32mNone\u001b[0m\u001b[0;34m:\u001b[0m\u001b[0;34m\u001b[0m\u001b[0;34m\u001b[0m\u001b[0m\n",
            "\u001b[0;32m/usr/local/lib/python3.7/dist-packages/scipy/optimize/optimize.py\u001b[0m in \u001b[0;36mfunction_wrapper\u001b[0;34m(*wrapper_args)\u001b[0m\n\u001b[1;32m    325\u001b[0m     \u001b[0;32mdef\u001b[0m \u001b[0mfunction_wrapper\u001b[0m\u001b[0;34m(\u001b[0m\u001b[0;34m*\u001b[0m\u001b[0mwrapper_args\u001b[0m\u001b[0;34m)\u001b[0m\u001b[0;34m:\u001b[0m\u001b[0;34m\u001b[0m\u001b[0;34m\u001b[0m\u001b[0m\n\u001b[1;32m    326\u001b[0m         \u001b[0mncalls\u001b[0m\u001b[0;34m[\u001b[0m\u001b[0;36m0\u001b[0m\u001b[0;34m]\u001b[0m \u001b[0;34m+=\u001b[0m \u001b[0;36m1\u001b[0m\u001b[0;34m\u001b[0m\u001b[0;34m\u001b[0m\u001b[0m\n\u001b[0;32m--> 327\u001b[0;31m         \u001b[0;32mreturn\u001b[0m \u001b[0mfunction\u001b[0m\u001b[0;34m(\u001b[0m\u001b[0;34m*\u001b[0m\u001b[0;34m(\u001b[0m\u001b[0mwrapper_args\u001b[0m \u001b[0;34m+\u001b[0m \u001b[0margs\u001b[0m\u001b[0;34m)\u001b[0m\u001b[0;34m)\u001b[0m\u001b[0;34m\u001b[0m\u001b[0;34m\u001b[0m\u001b[0m\n\u001b[0m\u001b[1;32m    328\u001b[0m \u001b[0;34m\u001b[0m\u001b[0m\n\u001b[1;32m    329\u001b[0m     \u001b[0;32mreturn\u001b[0m \u001b[0mncalls\u001b[0m\u001b[0;34m,\u001b[0m \u001b[0mfunction_wrapper\u001b[0m\u001b[0;34m\u001b[0m\u001b[0;34m\u001b[0m\u001b[0m\n",
            "\u001b[0;32m/usr/local/lib/python3.7/dist-packages/statsmodels/base/model.py\u001b[0m in \u001b[0;36mf\u001b[0;34m(params, *args)\u001b[0m\n\u001b[1;32m    442\u001b[0m \u001b[0;34m\u001b[0m\u001b[0m\n\u001b[1;32m    443\u001b[0m         \u001b[0;32mdef\u001b[0m \u001b[0mf\u001b[0m\u001b[0;34m(\u001b[0m\u001b[0mparams\u001b[0m\u001b[0;34m,\u001b[0m \u001b[0;34m*\u001b[0m\u001b[0margs\u001b[0m\u001b[0;34m)\u001b[0m\u001b[0;34m:\u001b[0m\u001b[0;34m\u001b[0m\u001b[0;34m\u001b[0m\u001b[0m\n\u001b[0;32m--> 444\u001b[0;31m             \u001b[0;32mreturn\u001b[0m \u001b[0;34m-\u001b[0m\u001b[0mself\u001b[0m\u001b[0;34m.\u001b[0m\u001b[0mloglike\u001b[0m\u001b[0;34m(\u001b[0m\u001b[0mparams\u001b[0m\u001b[0;34m,\u001b[0m \u001b[0;34m*\u001b[0m\u001b[0margs\u001b[0m\u001b[0;34m)\u001b[0m \u001b[0;34m/\u001b[0m \u001b[0mnobs\u001b[0m\u001b[0;34m\u001b[0m\u001b[0;34m\u001b[0m\u001b[0m\n\u001b[0m\u001b[1;32m    445\u001b[0m \u001b[0;34m\u001b[0m\u001b[0m\n\u001b[1;32m    446\u001b[0m         \u001b[0;32mif\u001b[0m \u001b[0mmethod\u001b[0m \u001b[0;34m==\u001b[0m \u001b[0;34m'newton'\u001b[0m\u001b[0;34m:\u001b[0m\u001b[0;34m\u001b[0m\u001b[0;34m\u001b[0m\u001b[0m\n",
            "\u001b[0;32m/usr/local/lib/python3.7/dist-packages/statsmodels/regression/mixed_linear_model.py\u001b[0m in \u001b[0;36mloglike\u001b[0;34m(self, params, profile_fe)\u001b[0m\n\u001b[1;32m   1379\u001b[0m         \u001b[0;31m# Move to the profile set\u001b[0m\u001b[0;34m\u001b[0m\u001b[0;34m\u001b[0m\u001b[0;34m\u001b[0m\u001b[0m\n\u001b[1;32m   1380\u001b[0m         \u001b[0;32mif\u001b[0m \u001b[0mprofile_fe\u001b[0m\u001b[0;34m:\u001b[0m\u001b[0;34m\u001b[0m\u001b[0;34m\u001b[0m\u001b[0m\n\u001b[0;32m-> 1381\u001b[0;31m             \u001b[0mfe_params\u001b[0m \u001b[0;34m=\u001b[0m \u001b[0mself\u001b[0m\u001b[0;34m.\u001b[0m\u001b[0mget_fe_params\u001b[0m\u001b[0;34m(\u001b[0m\u001b[0mcov_re\u001b[0m\u001b[0;34m,\u001b[0m \u001b[0mvcomp\u001b[0m\u001b[0;34m)\u001b[0m\u001b[0;34m\u001b[0m\u001b[0;34m\u001b[0m\u001b[0m\n\u001b[0m\u001b[1;32m   1382\u001b[0m         \u001b[0;32melse\u001b[0m\u001b[0;34m:\u001b[0m\u001b[0;34m\u001b[0m\u001b[0;34m\u001b[0m\u001b[0m\n\u001b[1;32m   1383\u001b[0m             \u001b[0mfe_params\u001b[0m \u001b[0;34m=\u001b[0m \u001b[0mparams\u001b[0m\u001b[0;34m.\u001b[0m\u001b[0mfe_params\u001b[0m\u001b[0;34m\u001b[0m\u001b[0;34m\u001b[0m\u001b[0m\n",
            "\u001b[0;32m/usr/local/lib/python3.7/dist-packages/statsmodels/regression/mixed_linear_model.py\u001b[0m in \u001b[0;36mget_fe_params\u001b[0;34m(self, cov_re, vcomp)\u001b[0m\n\u001b[1;32m   1223\u001b[0m             \u001b[0mxtxy\u001b[0m \u001b[0;34m+=\u001b[0m \u001b[0mnp\u001b[0m\u001b[0;34m.\u001b[0m\u001b[0mdot\u001b[0m\u001b[0;34m(\u001b[0m\u001b[0mexog\u001b[0m\u001b[0;34m.\u001b[0m\u001b[0mT\u001b[0m\u001b[0;34m,\u001b[0m \u001b[0mu\u001b[0m\u001b[0;34m)\u001b[0m\u001b[0;34m\u001b[0m\u001b[0;34m\u001b[0m\u001b[0m\n\u001b[1;32m   1224\u001b[0m \u001b[0;34m\u001b[0m\u001b[0m\n\u001b[0;32m-> 1225\u001b[0;31m         \u001b[0mfe_params\u001b[0m \u001b[0;34m=\u001b[0m \u001b[0mnp\u001b[0m\u001b[0;34m.\u001b[0m\u001b[0mlinalg\u001b[0m\u001b[0;34m.\u001b[0m\u001b[0msolve\u001b[0m\u001b[0;34m(\u001b[0m\u001b[0mxtxy\u001b[0m\u001b[0;34m[\u001b[0m\u001b[0;34m:\u001b[0m\u001b[0;34m,\u001b[0m \u001b[0;36m0\u001b[0m\u001b[0;34m:\u001b[0m\u001b[0;34m-\u001b[0m\u001b[0;36m1\u001b[0m\u001b[0;34m]\u001b[0m\u001b[0;34m,\u001b[0m \u001b[0mxtxy\u001b[0m\u001b[0;34m[\u001b[0m\u001b[0;34m:\u001b[0m\u001b[0;34m,\u001b[0m \u001b[0;34m-\u001b[0m\u001b[0;36m1\u001b[0m\u001b[0;34m]\u001b[0m\u001b[0;34m)\u001b[0m\u001b[0;34m\u001b[0m\u001b[0;34m\u001b[0m\u001b[0m\n\u001b[0m\u001b[1;32m   1226\u001b[0m \u001b[0;34m\u001b[0m\u001b[0m\n\u001b[1;32m   1227\u001b[0m         \u001b[0;32mreturn\u001b[0m \u001b[0mfe_params\u001b[0m\u001b[0;34m\u001b[0m\u001b[0;34m\u001b[0m\u001b[0m\n",
            "\u001b[0;32m<__array_function__ internals>\u001b[0m in \u001b[0;36msolve\u001b[0;34m(*args, **kwargs)\u001b[0m\n",
            "\u001b[0;32m/usr/local/lib/python3.7/dist-packages/numpy/linalg/linalg.py\u001b[0m in \u001b[0;36msolve\u001b[0;34m(a, b)\u001b[0m\n\u001b[1;32m    391\u001b[0m     \u001b[0msignature\u001b[0m \u001b[0;34m=\u001b[0m \u001b[0;34m'DD->D'\u001b[0m \u001b[0;32mif\u001b[0m \u001b[0misComplexType\u001b[0m\u001b[0;34m(\u001b[0m\u001b[0mt\u001b[0m\u001b[0;34m)\u001b[0m \u001b[0;32melse\u001b[0m \u001b[0;34m'dd->d'\u001b[0m\u001b[0;34m\u001b[0m\u001b[0;34m\u001b[0m\u001b[0m\n\u001b[1;32m    392\u001b[0m     \u001b[0mextobj\u001b[0m \u001b[0;34m=\u001b[0m \u001b[0mget_linalg_error_extobj\u001b[0m\u001b[0;34m(\u001b[0m\u001b[0m_raise_linalgerror_singular\u001b[0m\u001b[0;34m)\u001b[0m\u001b[0;34m\u001b[0m\u001b[0;34m\u001b[0m\u001b[0m\n\u001b[0;32m--> 393\u001b[0;31m     \u001b[0mr\u001b[0m \u001b[0;34m=\u001b[0m \u001b[0mgufunc\u001b[0m\u001b[0;34m(\u001b[0m\u001b[0ma\u001b[0m\u001b[0;34m,\u001b[0m \u001b[0mb\u001b[0m\u001b[0;34m,\u001b[0m \u001b[0msignature\u001b[0m\u001b[0;34m=\u001b[0m\u001b[0msignature\u001b[0m\u001b[0;34m,\u001b[0m \u001b[0mextobj\u001b[0m\u001b[0;34m=\u001b[0m\u001b[0mextobj\u001b[0m\u001b[0;34m)\u001b[0m\u001b[0;34m\u001b[0m\u001b[0;34m\u001b[0m\u001b[0m\n\u001b[0m\u001b[1;32m    394\u001b[0m \u001b[0;34m\u001b[0m\u001b[0m\n\u001b[1;32m    395\u001b[0m     \u001b[0;32mreturn\u001b[0m \u001b[0mwrap\u001b[0m\u001b[0;34m(\u001b[0m\u001b[0mr\u001b[0m\u001b[0;34m.\u001b[0m\u001b[0mastype\u001b[0m\u001b[0;34m(\u001b[0m\u001b[0mresult_t\u001b[0m\u001b[0;34m,\u001b[0m \u001b[0mcopy\u001b[0m\u001b[0;34m=\u001b[0m\u001b[0;32mFalse\u001b[0m\u001b[0;34m)\u001b[0m\u001b[0;34m)\u001b[0m\u001b[0;34m\u001b[0m\u001b[0;34m\u001b[0m\u001b[0m\n",
            "\u001b[0;32m/usr/local/lib/python3.7/dist-packages/numpy/linalg/linalg.py\u001b[0m in \u001b[0;36m_raise_linalgerror_singular\u001b[0;34m(err, flag)\u001b[0m\n\u001b[1;32m     86\u001b[0m \u001b[0;34m\u001b[0m\u001b[0m\n\u001b[1;32m     87\u001b[0m \u001b[0;32mdef\u001b[0m \u001b[0m_raise_linalgerror_singular\u001b[0m\u001b[0;34m(\u001b[0m\u001b[0merr\u001b[0m\u001b[0;34m,\u001b[0m \u001b[0mflag\u001b[0m\u001b[0;34m)\u001b[0m\u001b[0;34m:\u001b[0m\u001b[0;34m\u001b[0m\u001b[0;34m\u001b[0m\u001b[0m\n\u001b[0;32m---> 88\u001b[0;31m     \u001b[0;32mraise\u001b[0m \u001b[0mLinAlgError\u001b[0m\u001b[0;34m(\u001b[0m\u001b[0;34m\"Singular matrix\"\u001b[0m\u001b[0;34m)\u001b[0m\u001b[0;34m\u001b[0m\u001b[0;34m\u001b[0m\u001b[0m\n\u001b[0m\u001b[1;32m     89\u001b[0m \u001b[0;34m\u001b[0m\u001b[0m\n\u001b[1;32m     90\u001b[0m \u001b[0;32mdef\u001b[0m \u001b[0m_raise_linalgerror_nonposdef\u001b[0m\u001b[0;34m(\u001b[0m\u001b[0merr\u001b[0m\u001b[0;34m,\u001b[0m \u001b[0mflag\u001b[0m\u001b[0;34m)\u001b[0m\u001b[0;34m:\u001b[0m\u001b[0;34m\u001b[0m\u001b[0;34m\u001b[0m\u001b[0m\n",
            "\u001b[0;31mLinAlgError\u001b[0m: Singular matrix"
          ]
        }
      ]
    },
    {
      "cell_type": "code",
      "source": [
        ""
      ],
      "metadata": {
        "id": "INeYA1FOaiMW"
      },
      "execution_count": null,
      "outputs": []
    },
    {
      "cell_type": "code",
      "execution_count": null,
      "metadata": {
        "id": "gWuRbY4BNBJa"
      },
      "outputs": [],
      "source": [
        "df_train.crash_re.value_counts()"
      ]
    },
    {
      "cell_type": "code",
      "execution_count": null,
      "metadata": {
        "colab": {
          "base_uri": "https://localhost:8080/"
        },
        "id": "Uf3rEE-MGHjA",
        "outputId": "64b840f1-046c-4094-9727-0864cfdab159"
      },
      "outputs": [
        {
          "data": {
            "text/plain": [
              "Index(['X', 'Y', 'bicycle', 'bridge', 'bus', 'carStationWagon', 'cliffBank',\n",
              "       'crashDirectionDescription', 'crashFinancialYear', 'crashLocation1',\n",
              "       'crashLocation2', 'crashSeverity', 'crashSHDescription', 'crashYear',\n",
              "       'debris', 'directionRoleDescription', 'ditch', 'fatalCount', 'fence',\n",
              "       'flatHill', 'guardRail', 'houseOrBuilding', 'kerb', 'light',\n",
              "       'minorInjuryCount', 'moped', 'motorcycle', 'NumberOfLanes',\n",
              "       'objectThrownOrDropped', 'otherObject', 'otherVehicleType', 'overBank',\n",
              "       'parkedVehicle', 'phoneBoxEtc', 'postOrPole', 'region', 'roadCharacter',\n",
              "       'roadLane', 'roadSurface', 'roadworks', 'schoolBus',\n",
              "       'seriousInjuryCount', 'slipOrFlood', 'speedLimit', 'strayAnimal',\n",
              "       'streetLight', 'suv', 'taxi', 'tlaName', 'trafficControl',\n",
              "       'trafficIsland', 'trafficSign', 'train', 'tree', 'truck',\n",
              "       'unknownVehicleType', 'urban', 'vanOrUtility', 'vehicle', 'waterRiver',\n",
              "       'weatherA', 'claimAmount', 'crash_re'],\n",
              "      dtype='object')"
            ]
          },
          "execution_count": 198,
          "metadata": {},
          "output_type": "execute_result"
        }
      ],
      "source": [
        "df_train.columns"
      ]
    },
    {
      "cell_type": "code",
      "execution_count": null,
      "metadata": {
        "colab": {
          "base_uri": "https://localhost:8080/",
          "height": 375
        },
        "id": "blXf_yeXGMXH",
        "outputId": "12e8e5f0-052a-4c46-b738-a851cfd283d6"
      },
      "outputs": [
        {
          "data": {
            "text/html": [
              "\n",
              "  <div id=\"df-c7209000-631b-48ba-a11f-a735c950e8de\">\n",
              "    <div class=\"colab-df-container\">\n",
              "      <div>\n",
              "<style scoped>\n",
              "    .dataframe tbody tr th:only-of-type {\n",
              "        vertical-align: middle;\n",
              "    }\n",
              "\n",
              "    .dataframe tbody tr th {\n",
              "        vertical-align: top;\n",
              "    }\n",
              "\n",
              "    .dataframe thead th {\n",
              "        text-align: right;\n",
              "    }\n",
              "</style>\n",
              "<table border=\"1\" class=\"dataframe\">\n",
              "  <thead>\n",
              "    <tr style=\"text-align: right;\">\n",
              "      <th></th>\n",
              "      <th>X</th>\n",
              "      <th>Y</th>\n",
              "      <th>bicycle</th>\n",
              "      <th>bridge</th>\n",
              "      <th>bus</th>\n",
              "      <th>carStationWagon</th>\n",
              "      <th>cliffBank</th>\n",
              "      <th>crashDirectionDescription</th>\n",
              "      <th>crashFinancialYear</th>\n",
              "      <th>crashLocation1</th>\n",
              "      <th>crashLocation2</th>\n",
              "      <th>crashSeverity</th>\n",
              "      <th>crashSHDescription</th>\n",
              "      <th>crashYear</th>\n",
              "      <th>debris</th>\n",
              "      <th>directionRoleDescription</th>\n",
              "      <th>ditch</th>\n",
              "      <th>fatalCount</th>\n",
              "      <th>fence</th>\n",
              "      <th>flatHill</th>\n",
              "      <th>guardRail</th>\n",
              "      <th>houseOrBuilding</th>\n",
              "      <th>kerb</th>\n",
              "      <th>light</th>\n",
              "      <th>minorInjuryCount</th>\n",
              "      <th>moped</th>\n",
              "      <th>motorcycle</th>\n",
              "      <th>NumberOfLanes</th>\n",
              "      <th>objectThrownOrDropped</th>\n",
              "      <th>otherObject</th>\n",
              "      <th>otherVehicleType</th>\n",
              "      <th>overBank</th>\n",
              "      <th>parkedVehicle</th>\n",
              "      <th>phoneBoxEtc</th>\n",
              "      <th>postOrPole</th>\n",
              "      <th>region</th>\n",
              "      <th>roadCharacter</th>\n",
              "      <th>roadLane</th>\n",
              "      <th>roadSurface</th>\n",
              "      <th>roadworks</th>\n",
              "      <th>schoolBus</th>\n",
              "      <th>seriousInjuryCount</th>\n",
              "      <th>slipOrFlood</th>\n",
              "      <th>speedLimit</th>\n",
              "      <th>strayAnimal</th>\n",
              "      <th>streetLight</th>\n",
              "      <th>suv</th>\n",
              "      <th>taxi</th>\n",
              "      <th>tlaName</th>\n",
              "      <th>trafficControl</th>\n",
              "      <th>trafficIsland</th>\n",
              "      <th>trafficSign</th>\n",
              "      <th>train</th>\n",
              "      <th>tree</th>\n",
              "      <th>truck</th>\n",
              "      <th>unknownVehicleType</th>\n",
              "      <th>urban</th>\n",
              "      <th>vanOrUtility</th>\n",
              "      <th>vehicle</th>\n",
              "      <th>waterRiver</th>\n",
              "      <th>weatherA</th>\n",
              "      <th>claimAmount</th>\n",
              "    </tr>\n",
              "  </thead>\n",
              "  <tbody>\n",
              "    <tr>\n",
              "      <th>5</th>\n",
              "      <td>1838932.0</td>\n",
              "      <td>5519398.0</td>\n",
              "      <td>0.0</td>\n",
              "      <td>0.0</td>\n",
              "      <td>0.0</td>\n",
              "      <td>1.0</td>\n",
              "      <td>0.0</td>\n",
              "      <td>East</td>\n",
              "      <td>15</td>\n",
              "      <td>PAHIATUA MANGAHAO ROAD</td>\n",
              "      <td>RIDGE ROAD NORTH</td>\n",
              "      <td>1</td>\n",
              "      <td>No</td>\n",
              "      <td>2014</td>\n",
              "      <td>0.0</td>\n",
              "      <td>North</td>\n",
              "      <td>0.0</td>\n",
              "      <td>0.0</td>\n",
              "      <td>1.0</td>\n",
              "      <td>Flat</td>\n",
              "      <td>0.0</td>\n",
              "      <td>0.0</td>\n",
              "      <td>0.0</td>\n",
              "      <td>2</td>\n",
              "      <td>1.0</td>\n",
              "      <td>0.0</td>\n",
              "      <td>0.0</td>\n",
              "      <td>2.0</td>\n",
              "      <td>0.0</td>\n",
              "      <td>0.0</td>\n",
              "      <td>0.0</td>\n",
              "      <td>1.0</td>\n",
              "      <td>0.0</td>\n",
              "      <td>0.0</td>\n",
              "      <td>0.0</td>\n",
              "      <td>Manawatū-Whanganui Region</td>\n",
              "      <td>Nil</td>\n",
              "      <td>2-way</td>\n",
              "      <td>Sealed</td>\n",
              "      <td>0.0</td>\n",
              "      <td>0.0</td>\n",
              "      <td>0.0</td>\n",
              "      <td>0.0</td>\n",
              "      <td>100.0</td>\n",
              "      <td>0.0</td>\n",
              "      <td>None</td>\n",
              "      <td>0.0</td>\n",
              "      <td>0.0</td>\n",
              "      <td>Tararua District</td>\n",
              "      <td>Unknown</td>\n",
              "      <td>0.0</td>\n",
              "      <td>0.0</td>\n",
              "      <td>0.0</td>\n",
              "      <td>0.0</td>\n",
              "      <td>0.0</td>\n",
              "      <td>0.0</td>\n",
              "      <td>Open</td>\n",
              "      <td>0.0</td>\n",
              "      <td>0.0</td>\n",
              "      <td>0.0</td>\n",
              "      <td>Heavy rain</td>\n",
              "      <td>2445277.0</td>\n",
              "    </tr>\n",
              "    <tr>\n",
              "      <th>13</th>\n",
              "      <td>1574177.0</td>\n",
              "      <td>5179893.0</td>\n",
              "      <td>0.0</td>\n",
              "      <td>0.0</td>\n",
              "      <td>0.0</td>\n",
              "      <td>1.0</td>\n",
              "      <td>0.0</td>\n",
              "      <td>East</td>\n",
              "      <td>1</td>\n",
              "      <td>RASEN PLACE</td>\n",
              "      <td>JOLLIE ST</td>\n",
              "      <td>3</td>\n",
              "      <td>No</td>\n",
              "      <td>2000</td>\n",
              "      <td>0.0</td>\n",
              "      <td>East</td>\n",
              "      <td>0.0</td>\n",
              "      <td>0.0</td>\n",
              "      <td>0.0</td>\n",
              "      <td>Flat</td>\n",
              "      <td>0.0</td>\n",
              "      <td>0.0</td>\n",
              "      <td>1.0</td>\n",
              "      <td>1</td>\n",
              "      <td>0.0</td>\n",
              "      <td>0.0</td>\n",
              "      <td>0.0</td>\n",
              "      <td>1.0</td>\n",
              "      <td>0.0</td>\n",
              "      <td>0.0</td>\n",
              "      <td>0.0</td>\n",
              "      <td>0.0</td>\n",
              "      <td>0.0</td>\n",
              "      <td>0.0</td>\n",
              "      <td>0.0</td>\n",
              "      <td>Canterbury Region</td>\n",
              "      <td>Nil</td>\n",
              "      <td>2-way</td>\n",
              "      <td>Sealed</td>\n",
              "      <td>0.0</td>\n",
              "      <td>0.0</td>\n",
              "      <td>1.0</td>\n",
              "      <td>0.0</td>\n",
              "      <td>50.0</td>\n",
              "      <td>0.0</td>\n",
              "      <td>On</td>\n",
              "      <td>0.0</td>\n",
              "      <td>0.0</td>\n",
              "      <td>Christchurch City</td>\n",
              "      <td>Unknown</td>\n",
              "      <td>0.0</td>\n",
              "      <td>0.0</td>\n",
              "      <td>0.0</td>\n",
              "      <td>1.0</td>\n",
              "      <td>0.0</td>\n",
              "      <td>0.0</td>\n",
              "      <td>Urban</td>\n",
              "      <td>0.0</td>\n",
              "      <td>0.0</td>\n",
              "      <td>0.0</td>\n",
              "      <td>Fine</td>\n",
              "      <td>9666791.0</td>\n",
              "    </tr>\n",
              "    <tr>\n",
              "      <th>17</th>\n",
              "      <td>1767091.0</td>\n",
              "      <td>5912669.0</td>\n",
              "      <td>0.0</td>\n",
              "      <td>0.0</td>\n",
              "      <td>0.0</td>\n",
              "      <td>1.0</td>\n",
              "      <td>0.0</td>\n",
              "      <td>South</td>\n",
              "      <td>11</td>\n",
              "      <td>CARDIFF ROAD</td>\n",
              "      <td>CINDY PLACE</td>\n",
              "      <td>1</td>\n",
              "      <td>No</td>\n",
              "      <td>2010</td>\n",
              "      <td>0.0</td>\n",
              "      <td>South</td>\n",
              "      <td>0.0</td>\n",
              "      <td>0.0</td>\n",
              "      <td>1.0</td>\n",
              "      <td>Hill Road</td>\n",
              "      <td>0.0</td>\n",
              "      <td>0.0</td>\n",
              "      <td>0.0</td>\n",
              "      <td>0</td>\n",
              "      <td>1.0</td>\n",
              "      <td>0.0</td>\n",
              "      <td>0.0</td>\n",
              "      <td>2.0</td>\n",
              "      <td>0.0</td>\n",
              "      <td>0.0</td>\n",
              "      <td>0.0</td>\n",
              "      <td>0.0</td>\n",
              "      <td>0.0</td>\n",
              "      <td>0.0</td>\n",
              "      <td>1.0</td>\n",
              "      <td>Auckland Region</td>\n",
              "      <td>Nil</td>\n",
              "      <td>2-way</td>\n",
              "      <td>Sealed</td>\n",
              "      <td>0.0</td>\n",
              "      <td>0.0</td>\n",
              "      <td>0.0</td>\n",
              "      <td>0.0</td>\n",
              "      <td>50.0</td>\n",
              "      <td>0.0</td>\n",
              "      <td>Off</td>\n",
              "      <td>0.0</td>\n",
              "      <td>0.0</td>\n",
              "      <td>Auckland</td>\n",
              "      <td>Give way</td>\n",
              "      <td>0.0</td>\n",
              "      <td>0.0</td>\n",
              "      <td>0.0</td>\n",
              "      <td>0.0</td>\n",
              "      <td>0.0</td>\n",
              "      <td>0.0</td>\n",
              "      <td>Urban</td>\n",
              "      <td>0.0</td>\n",
              "      <td>0.0</td>\n",
              "      <td>0.0</td>\n",
              "      <td>Fine</td>\n",
              "      <td>3703142.0</td>\n",
              "    </tr>\n",
              "    <tr>\n",
              "      <th>18</th>\n",
              "      <td>1746990.0</td>\n",
              "      <td>5915134.0</td>\n",
              "      <td>0.0</td>\n",
              "      <td>0.0</td>\n",
              "      <td>0.0</td>\n",
              "      <td>2.0</td>\n",
              "      <td>0.0</td>\n",
              "      <td>None</td>\n",
              "      <td>6</td>\n",
              "      <td>GREAT NORTH ROAD</td>\n",
              "      <td>HEPBURN ROAD</td>\n",
              "      <td>1</td>\n",
              "      <td>No</td>\n",
              "      <td>2006</td>\n",
              "      <td>0.0</td>\n",
              "      <td>East</td>\n",
              "      <td>0.0</td>\n",
              "      <td>0.0</td>\n",
              "      <td>0.0</td>\n",
              "      <td>Hill Road</td>\n",
              "      <td>0.0</td>\n",
              "      <td>0.0</td>\n",
              "      <td>0.0</td>\n",
              "      <td>0</td>\n",
              "      <td>2.0</td>\n",
              "      <td>0.0</td>\n",
              "      <td>0.0</td>\n",
              "      <td>4.0</td>\n",
              "      <td>0.0</td>\n",
              "      <td>0.0</td>\n",
              "      <td>0.0</td>\n",
              "      <td>0.0</td>\n",
              "      <td>0.0</td>\n",
              "      <td>0.0</td>\n",
              "      <td>0.0</td>\n",
              "      <td>Auckland Region</td>\n",
              "      <td>Nil</td>\n",
              "      <td>2-way</td>\n",
              "      <td>Sealed</td>\n",
              "      <td>0.0</td>\n",
              "      <td>0.0</td>\n",
              "      <td>0.0</td>\n",
              "      <td>0.0</td>\n",
              "      <td>50.0</td>\n",
              "      <td>0.0</td>\n",
              "      <td>Off</td>\n",
              "      <td>0.0</td>\n",
              "      <td>0.0</td>\n",
              "      <td>Auckland</td>\n",
              "      <td>Traffic Signals</td>\n",
              "      <td>0.0</td>\n",
              "      <td>0.0</td>\n",
              "      <td>0.0</td>\n",
              "      <td>0.0</td>\n",
              "      <td>0.0</td>\n",
              "      <td>0.0</td>\n",
              "      <td>Urban</td>\n",
              "      <td>0.0</td>\n",
              "      <td>0.0</td>\n",
              "      <td>0.0</td>\n",
              "      <td>Fine</td>\n",
              "      <td>8725516.0</td>\n",
              "    </tr>\n",
              "    <tr>\n",
              "      <th>20</th>\n",
              "      <td>1746822.0</td>\n",
              "      <td>5918596.0</td>\n",
              "      <td>0.0</td>\n",
              "      <td>0.0</td>\n",
              "      <td>0.0</td>\n",
              "      <td>2.0</td>\n",
              "      <td>0.0</td>\n",
              "      <td>South</td>\n",
              "      <td>6</td>\n",
              "      <td>TE ATATU ROAD</td>\n",
              "      <td>WAKELING AVENUE</td>\n",
              "      <td>1</td>\n",
              "      <td>No</td>\n",
              "      <td>2006</td>\n",
              "      <td>0.0</td>\n",
              "      <td>South</td>\n",
              "      <td>0.0</td>\n",
              "      <td>0.0</td>\n",
              "      <td>0.0</td>\n",
              "      <td>Flat</td>\n",
              "      <td>0.0</td>\n",
              "      <td>0.0</td>\n",
              "      <td>0.0</td>\n",
              "      <td>2</td>\n",
              "      <td>3.0</td>\n",
              "      <td>0.0</td>\n",
              "      <td>0.0</td>\n",
              "      <td>2.0</td>\n",
              "      <td>0.0</td>\n",
              "      <td>0.0</td>\n",
              "      <td>0.0</td>\n",
              "      <td>0.0</td>\n",
              "      <td>0.0</td>\n",
              "      <td>0.0</td>\n",
              "      <td>0.0</td>\n",
              "      <td>Auckland Region</td>\n",
              "      <td>Nil</td>\n",
              "      <td>2-way</td>\n",
              "      <td>Sealed</td>\n",
              "      <td>0.0</td>\n",
              "      <td>0.0</td>\n",
              "      <td>0.0</td>\n",
              "      <td>0.0</td>\n",
              "      <td>50.0</td>\n",
              "      <td>0.0</td>\n",
              "      <td>None</td>\n",
              "      <td>0.0</td>\n",
              "      <td>0.0</td>\n",
              "      <td>Auckland</td>\n",
              "      <td>Unknown</td>\n",
              "      <td>0.0</td>\n",
              "      <td>0.0</td>\n",
              "      <td>0.0</td>\n",
              "      <td>0.0</td>\n",
              "      <td>0.0</td>\n",
              "      <td>0.0</td>\n",
              "      <td>Urban</td>\n",
              "      <td>0.0</td>\n",
              "      <td>0.0</td>\n",
              "      <td>0.0</td>\n",
              "      <td>Fine</td>\n",
              "      <td>13734963.0</td>\n",
              "    </tr>\n",
              "  </tbody>\n",
              "</table>\n",
              "</div>\n",
              "      <button class=\"colab-df-convert\" onclick=\"convertToInteractive('df-c7209000-631b-48ba-a11f-a735c950e8de')\"\n",
              "              title=\"Convert this dataframe to an interactive table.\"\n",
              "              style=\"display:none;\">\n",
              "        \n",
              "  <svg xmlns=\"http://www.w3.org/2000/svg\" height=\"24px\"viewBox=\"0 0 24 24\"\n",
              "       width=\"24px\">\n",
              "    <path d=\"M0 0h24v24H0V0z\" fill=\"none\"/>\n",
              "    <path d=\"M18.56 5.44l.94 2.06.94-2.06 2.06-.94-2.06-.94-.94-2.06-.94 2.06-2.06.94zm-11 1L8.5 8.5l.94-2.06 2.06-.94-2.06-.94L8.5 2.5l-.94 2.06-2.06.94zm10 10l.94 2.06.94-2.06 2.06-.94-2.06-.94-.94-2.06-.94 2.06-2.06.94z\"/><path d=\"M17.41 7.96l-1.37-1.37c-.4-.4-.92-.59-1.43-.59-.52 0-1.04.2-1.43.59L10.3 9.45l-7.72 7.72c-.78.78-.78 2.05 0 2.83L4 21.41c.39.39.9.59 1.41.59.51 0 1.02-.2 1.41-.59l7.78-7.78 2.81-2.81c.8-.78.8-2.07 0-2.86zM5.41 20L4 18.59l7.72-7.72 1.47 1.35L5.41 20z\"/>\n",
              "  </svg>\n",
              "      </button>\n",
              "      \n",
              "  <style>\n",
              "    .colab-df-container {\n",
              "      display:flex;\n",
              "      flex-wrap:wrap;\n",
              "      gap: 12px;\n",
              "    }\n",
              "\n",
              "    .colab-df-convert {\n",
              "      background-color: #E8F0FE;\n",
              "      border: none;\n",
              "      border-radius: 50%;\n",
              "      cursor: pointer;\n",
              "      display: none;\n",
              "      fill: #1967D2;\n",
              "      height: 32px;\n",
              "      padding: 0 0 0 0;\n",
              "      width: 32px;\n",
              "    }\n",
              "\n",
              "    .colab-df-convert:hover {\n",
              "      background-color: #E2EBFA;\n",
              "      box-shadow: 0px 1px 2px rgba(60, 64, 67, 0.3), 0px 1px 3px 1px rgba(60, 64, 67, 0.15);\n",
              "      fill: #174EA6;\n",
              "    }\n",
              "\n",
              "    [theme=dark] .colab-df-convert {\n",
              "      background-color: #3B4455;\n",
              "      fill: #D2E3FC;\n",
              "    }\n",
              "\n",
              "    [theme=dark] .colab-df-convert:hover {\n",
              "      background-color: #434B5C;\n",
              "      box-shadow: 0px 1px 3px 1px rgba(0, 0, 0, 0.15);\n",
              "      filter: drop-shadow(0px 1px 2px rgba(0, 0, 0, 0.3));\n",
              "      fill: #FFFFFF;\n",
              "    }\n",
              "  </style>\n",
              "\n",
              "      <script>\n",
              "        const buttonEl =\n",
              "          document.querySelector('#df-c7209000-631b-48ba-a11f-a735c950e8de button.colab-df-convert');\n",
              "        buttonEl.style.display =\n",
              "          google.colab.kernel.accessAllowed ? 'block' : 'none';\n",
              "\n",
              "        async function convertToInteractive(key) {\n",
              "          const element = document.querySelector('#df-c7209000-631b-48ba-a11f-a735c950e8de');\n",
              "          const dataTable =\n",
              "            await google.colab.kernel.invokeFunction('convertToInteractive',\n",
              "                                                     [key], {});\n",
              "          if (!dataTable) return;\n",
              "\n",
              "          const docLinkHtml = 'Like what you see? Visit the ' +\n",
              "            '<a target=\"_blank\" href=https://colab.research.google.com/notebooks/data_table.ipynb>data table notebook</a>'\n",
              "            + ' to learn more about interactive tables.';\n",
              "          element.innerHTML = '';\n",
              "          dataTable['output_type'] = 'display_data';\n",
              "          await google.colab.output.renderOutput(dataTable, element);\n",
              "          const docLink = document.createElement('div');\n",
              "          docLink.innerHTML = docLinkHtml;\n",
              "          element.appendChild(docLink);\n",
              "        }\n",
              "      </script>\n",
              "    </div>\n",
              "  </div>\n",
              "  "
            ],
            "text/plain": [
              "            X          Y  bicycle  bridge  bus  carStationWagon  cliffBank  \\\n",
              "5   1838932.0  5519398.0      0.0     0.0  0.0              1.0        0.0   \n",
              "13  1574177.0  5179893.0      0.0     0.0  0.0              1.0        0.0   \n",
              "17  1767091.0  5912669.0      0.0     0.0  0.0              1.0        0.0   \n",
              "18  1746990.0  5915134.0      0.0     0.0  0.0              2.0        0.0   \n",
              "20  1746822.0  5918596.0      0.0     0.0  0.0              2.0        0.0   \n",
              "\n",
              "   crashDirectionDescription  crashFinancialYear          crashLocation1  \\\n",
              "5                       East                  15  PAHIATUA MANGAHAO ROAD   \n",
              "13                      East                   1             RASEN PLACE   \n",
              "17                     South                  11            CARDIFF ROAD   \n",
              "18                      None                   6        GREAT NORTH ROAD   \n",
              "20                     South                   6           TE ATATU ROAD   \n",
              "\n",
              "      crashLocation2  crashSeverity crashSHDescription  crashYear  debris  \\\n",
              "5   RIDGE ROAD NORTH              1                 No       2014     0.0   \n",
              "13         JOLLIE ST              3                 No       2000     0.0   \n",
              "17       CINDY PLACE              1                 No       2010     0.0   \n",
              "18      HEPBURN ROAD              1                 No       2006     0.0   \n",
              "20   WAKELING AVENUE              1                 No       2006     0.0   \n",
              "\n",
              "   directionRoleDescription  ditch  fatalCount  fence   flatHill  guardRail  \\\n",
              "5                     North    0.0         0.0    1.0       Flat        0.0   \n",
              "13                     East    0.0         0.0    0.0       Flat        0.0   \n",
              "17                    South    0.0         0.0    1.0  Hill Road        0.0   \n",
              "18                     East    0.0         0.0    0.0  Hill Road        0.0   \n",
              "20                    South    0.0         0.0    0.0       Flat        0.0   \n",
              "\n",
              "    houseOrBuilding  kerb  light  minorInjuryCount  moped  motorcycle  \\\n",
              "5               0.0   0.0      2               1.0    0.0         0.0   \n",
              "13              0.0   1.0      1               0.0    0.0         0.0   \n",
              "17              0.0   0.0      0               1.0    0.0         0.0   \n",
              "18              0.0   0.0      0               2.0    0.0         0.0   \n",
              "20              0.0   0.0      2               3.0    0.0         0.0   \n",
              "\n",
              "    NumberOfLanes  objectThrownOrDropped  otherObject  otherVehicleType  \\\n",
              "5             2.0                    0.0          0.0               0.0   \n",
              "13            1.0                    0.0          0.0               0.0   \n",
              "17            2.0                    0.0          0.0               0.0   \n",
              "18            4.0                    0.0          0.0               0.0   \n",
              "20            2.0                    0.0          0.0               0.0   \n",
              "\n",
              "    overBank  parkedVehicle  phoneBoxEtc  postOrPole  \\\n",
              "5        1.0            0.0          0.0         0.0   \n",
              "13       0.0            0.0          0.0         0.0   \n",
              "17       0.0            0.0          0.0         1.0   \n",
              "18       0.0            0.0          0.0         0.0   \n",
              "20       0.0            0.0          0.0         0.0   \n",
              "\n",
              "                       region roadCharacter roadLane roadSurface  roadworks  \\\n",
              "5   Manawatū-Whanganui Region           Nil    2-way      Sealed        0.0   \n",
              "13          Canterbury Region           Nil    2-way      Sealed        0.0   \n",
              "17            Auckland Region           Nil    2-way      Sealed        0.0   \n",
              "18            Auckland Region           Nil    2-way      Sealed        0.0   \n",
              "20            Auckland Region           Nil    2-way      Sealed        0.0   \n",
              "\n",
              "    schoolBus  seriousInjuryCount  slipOrFlood  speedLimit  strayAnimal  \\\n",
              "5         0.0                 0.0          0.0       100.0          0.0   \n",
              "13        0.0                 1.0          0.0        50.0          0.0   \n",
              "17        0.0                 0.0          0.0        50.0          0.0   \n",
              "18        0.0                 0.0          0.0        50.0          0.0   \n",
              "20        0.0                 0.0          0.0        50.0          0.0   \n",
              "\n",
              "   streetLight  suv  taxi            tlaName   trafficControl  trafficIsland  \\\n",
              "5         None  0.0   0.0   Tararua District          Unknown            0.0   \n",
              "13          On  0.0   0.0  Christchurch City          Unknown            0.0   \n",
              "17         Off  0.0   0.0           Auckland         Give way            0.0   \n",
              "18         Off  0.0   0.0           Auckland  Traffic Signals            0.0   \n",
              "20        None  0.0   0.0           Auckland          Unknown            0.0   \n",
              "\n",
              "    trafficSign  train  tree  truck  unknownVehicleType  urban  vanOrUtility  \\\n",
              "5           0.0    0.0   0.0    0.0                 0.0   Open           0.0   \n",
              "13          0.0    0.0   1.0    0.0                 0.0  Urban           0.0   \n",
              "17          0.0    0.0   0.0    0.0                 0.0  Urban           0.0   \n",
              "18          0.0    0.0   0.0    0.0                 0.0  Urban           0.0   \n",
              "20          0.0    0.0   0.0    0.0                 0.0  Urban           0.0   \n",
              "\n",
              "    vehicle  waterRiver    weatherA  claimAmount  \n",
              "5       0.0         0.0  Heavy rain    2445277.0  \n",
              "13      0.0         0.0        Fine    9666791.0  \n",
              "17      0.0         0.0        Fine    3703142.0  \n",
              "18      0.0         0.0        Fine    8725516.0  \n",
              "20      0.0         0.0        Fine   13734963.0  "
            ]
          },
          "execution_count": 46,
          "metadata": {},
          "output_type": "execute_result"
        }
      ],
      "source": [
        "df_train.head()"
      ]
    },
    {
      "cell_type": "code",
      "execution_count": null,
      "metadata": {
        "colab": {
          "base_uri": "https://localhost:8080/"
        },
        "id": "hsI4atxyIfg3",
        "outputId": "7177a8c7-3812-4bcc-a4d2-b92517ffb51f"
      },
      "outputs": [
        {
          "data": {
            "text/plain": [
              "5         1\n",
              "13        3\n",
              "17        1\n",
              "18        1\n",
              "20        1\n",
              "         ..\n",
              "758738    1\n",
              "758741    1\n",
              "758744    1\n",
              "758746    1\n",
              "758747    1\n",
              "Name: crashSeverity, Length: 179808, dtype: int64"
            ]
          },
          "execution_count": 44,
          "metadata": {},
          "output_type": "execute_result"
        }
      ],
      "source": [
        "df_train.crashSeverity"
      ]
    },
    {
      "cell_type": "code",
      "execution_count": null,
      "metadata": {
        "colab": {
          "base_uri": "https://localhost:8080/"
        },
        "id": "sabWUg7k4c1l",
        "outputId": "353b8449-2b56-4dc8-d3c2-aaee309024ae"
      },
      "outputs": [
        {
          "name": "stdout",
          "output_type": "stream",
          "text": [
            "RMSE:  2706607.606461713\n",
            "MAE:  1434212.0727392153\n"
          ]
        }
      ],
      "source": [
        "#groups = df[['crashSeverity', 'crashFinancialYear']]\n",
        "model = sm.MixedLM.from_formula(\"claimAmount ~ crashYear+minorInjuryCount++crashFinancialYear+light+NumberOfLanes+crashSeverity+speedLimit\", groups=df_train['region'], data=df_train)\n",
        "result = model.fit()\n",
        "\n",
        "# The BLUPs\n",
        "re = result.random_effects\n",
        "\n",
        "# Multiply each BLUP by the random effects design matrix for one group\n",
        "rex = [np.dot(model.exog_re_li[j], re[k]) for (j, k) in enumerate(model.group_labels)]\n",
        "\n",
        "# Add the fixed and random terms to get the overall prediction\n",
        "rex = np.concatenate(rex)\n",
        "yp = result.fittedvalues + rex\n",
        "\n",
        "pred = result.predict(exog=df_test)\n",
        "print(\"RMSE: \", np.sqrt(np.mean(np.square(pred - df_test['claimAmount']))))\n",
        "print(\"MAE: \", mean_absolute_error(pred, df_test['claimAmount']))"
      ]
    },
    {
      "cell_type": "code",
      "execution_count": null,
      "metadata": {
        "colab": {
          "base_uri": "https://localhost:8080/",
          "height": 299
        },
        "id": "3sVhooFy50ZP",
        "outputId": "f5982ce6-baa8-4b21-e378-dd05ec689aeb"
      },
      "outputs": [
        {
          "data": {
            "text/html": [
              "<table class=\"simpletable\">\n",
              "<tr>\n",
              "       <td>Model:</td>       <td>MixedLM</td> <td>Dependent Variable:</td>     <td>claimAmount</td>    \n",
              "</tr>\n",
              "<tr>\n",
              "  <td>No. Observations:</td> <td>179808</td>        <td>Method:</td>              <td>REML</td>        \n",
              "</tr>\n",
              "<tr>\n",
              "     <td>No. Groups:</td>      <td>17</td>          <td>Scale:</td>        <td>15228359011251.9453</td>\n",
              "</tr>\n",
              "<tr>\n",
              "  <td>Min. group size:</td>    <td>657</td>       <td>Likelihood:</td>        <td>-2984074.7724</td>   \n",
              "</tr>\n",
              "<tr>\n",
              "  <td>Max. group size:</td>   <td>52280</td>      <td>Converged:</td>              <td>Yes</td>        \n",
              "</tr>\n",
              "<tr>\n",
              "  <td>Mean group size:</td>  <td>10576.9</td>          <td></td>                    <td></td>          \n",
              "</tr>\n",
              "</table>\n",
              "<table class=\"simpletable\">\n",
              "<tr>\n",
              "           <td></td>               <th>Coef.</th>        <th>Std.Err.</th>      <th>z</th>    <th>P>|z|</th>    <th>[0.025</th>        <th>0.975]</th>    \n",
              "</tr>\n",
              "<tr>\n",
              "  <th>Intercept</th>           <td>52240480.671</td>   <td>36889357.253</td>  <td>1.416</td>  <td>0.157</td> <td>-20061330.956</td> <td>124542292.299</td>\n",
              "</tr>\n",
              "<tr>\n",
              "  <th>crashYear</th>            <td>-24130.656</td>      <td>18448.471</td>  <td>-1.308</td>  <td>0.191</td>  <td>-60288.995</td>     <td>12027.683</td>  \n",
              "</tr>\n",
              "<tr>\n",
              "  <th>minorInjuryCount</th>     <td>1806518.789</td>     <td>12001.699</td>  <td>150.522</td> <td>0.000</td>  <td>1782995.891</td>   <td>1830041.687</td> \n",
              "</tr>\n",
              "<tr>\n",
              "  <th>crashFinancialYear</th>     <td>239.953</td>       <td>18432.546</td>   <td>0.013</td>  <td>0.990</td>  <td>-35887.173</td>     <td>36367.078</td>  \n",
              "</tr>\n",
              "<tr>\n",
              "  <th>light</th>                <td>-19934.371</td>      <td>9839.259</td>   <td>-2.026</td>  <td>0.043</td>  <td>-39218.965</td>     <td>-649.777</td>   \n",
              "</tr>\n",
              "<tr>\n",
              "  <th>Group Var</th>          <td>83334211243.460</td>   <td>7948.436</td>      <td></td>       <td></td>          <td></td>              <td></td>       \n",
              "</tr>\n",
              "</table>"
            ],
            "text/plain": [
              "<class 'statsmodels.iolib.summary2.Summary'>\n",
              "\"\"\"\n",
              "                          Mixed Linear Model Regression Results\n",
              "=========================================================================================\n",
              "Model:                    MixedLM         Dependent Variable:         claimAmount        \n",
              "No. Observations:         179808          Method:                     REML               \n",
              "No. Groups:               17              Scale:                      15228359011251.9453\n",
              "Min. group size:          657             Likelihood:                 -2984074.7724      \n",
              "Max. group size:          52280           Converged:                  Yes                \n",
              "Mean group size:          10576.9                                                        \n",
              "-----------------------------------------------------------------------------------------\n",
              "                        Coef.        Std.Err.      z    P>|z|     [0.025        0.975]   \n",
              "-----------------------------------------------------------------------------------------\n",
              "Intercept             52240480.671 36889357.253   1.416 0.157 -20061330.956 124542292.299\n",
              "crashYear               -24130.656    18448.471  -1.308 0.191    -60288.995     12027.683\n",
              "minorInjuryCount       1806518.789    12001.699 150.522 0.000   1782995.891   1830041.687\n",
              "crashFinancialYear         239.953    18432.546   0.013 0.990    -35887.173     36367.078\n",
              "light                   -19934.371     9839.259  -2.026 0.043    -39218.965      -649.777\n",
              "Group Var          83334211243.460     7948.436                                          \n",
              "=========================================================================================\n",
              "\n",
              "\"\"\""
            ]
          },
          "execution_count": 49,
          "metadata": {},
          "output_type": "execute_result"
        }
      ],
      "source": [
        "result.summary()"
      ]
    },
    {
      "cell_type": "code",
      "execution_count": null,
      "metadata": {
        "colab": {
          "base_uri": "https://localhost:8080/",
          "height": 866
        },
        "id": "VTCRXNN1MIGo",
        "outputId": "81f03f30-35e5-4784-9437-d5e9d996ccd4"
      },
      "outputs": [
        {
          "data": {
            "text/html": [
              "\n",
              "  <div id=\"df-cc288d7d-18a6-438f-8a47-38d429d43b75\">\n",
              "    <div class=\"colab-df-container\">\n",
              "      <div>\n",
              "<style scoped>\n",
              "    .dataframe tbody tr th:only-of-type {\n",
              "        vertical-align: middle;\n",
              "    }\n",
              "\n",
              "    .dataframe tbody tr th {\n",
              "        vertical-align: top;\n",
              "    }\n",
              "\n",
              "    .dataframe thead tr th {\n",
              "        text-align: left;\n",
              "    }\n",
              "\n",
              "    .dataframe thead tr:last-of-type th {\n",
              "        text-align: right;\n",
              "    }\n",
              "</style>\n",
              "<table border=\"1\" class=\"dataframe\">\n",
              "  <thead>\n",
              "    <tr>\n",
              "      <th></th>\n",
              "      <th>X</th>\n",
              "      <th>Y</th>\n",
              "      <th>bicycle</th>\n",
              "      <th>bridge</th>\n",
              "      <th>bus</th>\n",
              "      <th>carStationWagon</th>\n",
              "      <th>cliffBank</th>\n",
              "      <th>crashDirectionDescription</th>\n",
              "      <th>crashFinancialYear</th>\n",
              "      <th>crashLocation1</th>\n",
              "      <th>crashLocation2</th>\n",
              "      <th>crashSeverity</th>\n",
              "      <th>crashSHDescription</th>\n",
              "      <th>debris</th>\n",
              "      <th>directionRoleDescription</th>\n",
              "      <th>ditch</th>\n",
              "      <th>fatalCount</th>\n",
              "      <th>fence</th>\n",
              "      <th>flatHill</th>\n",
              "      <th>guardRail</th>\n",
              "      <th>houseOrBuilding</th>\n",
              "      <th>kerb</th>\n",
              "      <th>light</th>\n",
              "      <th>minorInjuryCount</th>\n",
              "      <th>moped</th>\n",
              "      <th>motorcycle</th>\n",
              "      <th>NumberOfLanes</th>\n",
              "      <th>objectThrownOrDropped</th>\n",
              "      <th>otherObject</th>\n",
              "      <th>otherVehicleType</th>\n",
              "      <th>overBank</th>\n",
              "      <th>parkedVehicle</th>\n",
              "      <th>phoneBoxEtc</th>\n",
              "      <th>postOrPole</th>\n",
              "      <th>region</th>\n",
              "      <th>roadCharacter</th>\n",
              "      <th>roadLane</th>\n",
              "      <th>roadSurface</th>\n",
              "      <th>roadworks</th>\n",
              "      <th>schoolBus</th>\n",
              "      <th>seriousInjuryCount</th>\n",
              "      <th>slipOrFlood</th>\n",
              "      <th>speedLimit</th>\n",
              "      <th>strayAnimal</th>\n",
              "      <th>streetLight</th>\n",
              "      <th>suv</th>\n",
              "      <th>taxi</th>\n",
              "      <th>tlaName</th>\n",
              "      <th>trafficControl</th>\n",
              "      <th>trafficIsland</th>\n",
              "      <th>trafficSign</th>\n",
              "      <th>train</th>\n",
              "      <th>tree</th>\n",
              "      <th>truck</th>\n",
              "      <th>unknownVehicleType</th>\n",
              "      <th>urban</th>\n",
              "      <th>vanOrUtility</th>\n",
              "      <th>vehicle</th>\n",
              "      <th>waterRiver</th>\n",
              "      <th>weatherA</th>\n",
              "      <th>claimAmount</th>\n",
              "    </tr>\n",
              "    <tr>\n",
              "      <th></th>\n",
              "      <th>count</th>\n",
              "      <th>count</th>\n",
              "      <th>count</th>\n",
              "      <th>count</th>\n",
              "      <th>count</th>\n",
              "      <th>count</th>\n",
              "      <th>count</th>\n",
              "      <th>count</th>\n",
              "      <th>count</th>\n",
              "      <th>count</th>\n",
              "      <th>count</th>\n",
              "      <th>count</th>\n",
              "      <th>count</th>\n",
              "      <th>count</th>\n",
              "      <th>count</th>\n",
              "      <th>count</th>\n",
              "      <th>count</th>\n",
              "      <th>count</th>\n",
              "      <th>count</th>\n",
              "      <th>count</th>\n",
              "      <th>count</th>\n",
              "      <th>count</th>\n",
              "      <th>count</th>\n",
              "      <th>count</th>\n",
              "      <th>count</th>\n",
              "      <th>count</th>\n",
              "      <th>count</th>\n",
              "      <th>count</th>\n",
              "      <th>count</th>\n",
              "      <th>count</th>\n",
              "      <th>count</th>\n",
              "      <th>count</th>\n",
              "      <th>count</th>\n",
              "      <th>count</th>\n",
              "      <th>count</th>\n",
              "      <th>count</th>\n",
              "      <th>count</th>\n",
              "      <th>count</th>\n",
              "      <th>count</th>\n",
              "      <th>count</th>\n",
              "      <th>count</th>\n",
              "      <th>count</th>\n",
              "      <th>count</th>\n",
              "      <th>count</th>\n",
              "      <th>count</th>\n",
              "      <th>count</th>\n",
              "      <th>count</th>\n",
              "      <th>count</th>\n",
              "      <th>count</th>\n",
              "      <th>count</th>\n",
              "      <th>count</th>\n",
              "      <th>count</th>\n",
              "      <th>count</th>\n",
              "      <th>count</th>\n",
              "      <th>count</th>\n",
              "      <th>count</th>\n",
              "      <th>count</th>\n",
              "      <th>count</th>\n",
              "      <th>count</th>\n",
              "      <th>count</th>\n",
              "      <th>count</th>\n",
              "    </tr>\n",
              "    <tr>\n",
              "      <th>crashYear</th>\n",
              "      <th></th>\n",
              "      <th></th>\n",
              "      <th></th>\n",
              "      <th></th>\n",
              "      <th></th>\n",
              "      <th></th>\n",
              "      <th></th>\n",
              "      <th></th>\n",
              "      <th></th>\n",
              "      <th></th>\n",
              "      <th></th>\n",
              "      <th></th>\n",
              "      <th></th>\n",
              "      <th></th>\n",
              "      <th></th>\n",
              "      <th></th>\n",
              "      <th></th>\n",
              "      <th></th>\n",
              "      <th></th>\n",
              "      <th></th>\n",
              "      <th></th>\n",
              "      <th></th>\n",
              "      <th></th>\n",
              "      <th></th>\n",
              "      <th></th>\n",
              "      <th></th>\n",
              "      <th></th>\n",
              "      <th></th>\n",
              "      <th></th>\n",
              "      <th></th>\n",
              "      <th></th>\n",
              "      <th></th>\n",
              "      <th></th>\n",
              "      <th></th>\n",
              "      <th></th>\n",
              "      <th></th>\n",
              "      <th></th>\n",
              "      <th></th>\n",
              "      <th></th>\n",
              "      <th></th>\n",
              "      <th></th>\n",
              "      <th></th>\n",
              "      <th></th>\n",
              "      <th></th>\n",
              "      <th></th>\n",
              "      <th></th>\n",
              "      <th></th>\n",
              "      <th></th>\n",
              "      <th></th>\n",
              "      <th></th>\n",
              "      <th></th>\n",
              "      <th></th>\n",
              "      <th></th>\n",
              "      <th></th>\n",
              "      <th></th>\n",
              "      <th></th>\n",
              "      <th></th>\n",
              "      <th></th>\n",
              "      <th></th>\n",
              "      <th></th>\n",
              "      <th></th>\n",
              "    </tr>\n",
              "  </thead>\n",
              "  <tbody>\n",
              "    <tr>\n",
              "      <th>2000</th>\n",
              "      <td>7897</td>\n",
              "      <td>7897</td>\n",
              "      <td>7897</td>\n",
              "      <td>7897</td>\n",
              "      <td>7897</td>\n",
              "      <td>7897</td>\n",
              "      <td>7897</td>\n",
              "      <td>7897</td>\n",
              "      <td>7897</td>\n",
              "      <td>7897</td>\n",
              "      <td>7897</td>\n",
              "      <td>7897</td>\n",
              "      <td>7897</td>\n",
              "      <td>7897</td>\n",
              "      <td>7897</td>\n",
              "      <td>7897</td>\n",
              "      <td>7897</td>\n",
              "      <td>7897</td>\n",
              "      <td>7897</td>\n",
              "      <td>7897</td>\n",
              "      <td>7897</td>\n",
              "      <td>7897</td>\n",
              "      <td>7897</td>\n",
              "      <td>7897</td>\n",
              "      <td>7897</td>\n",
              "      <td>7897</td>\n",
              "      <td>7897</td>\n",
              "      <td>7897</td>\n",
              "      <td>7897</td>\n",
              "      <td>7897</td>\n",
              "      <td>7897</td>\n",
              "      <td>7897</td>\n",
              "      <td>7897</td>\n",
              "      <td>7897</td>\n",
              "      <td>7897</td>\n",
              "      <td>7897</td>\n",
              "      <td>7897</td>\n",
              "      <td>7897</td>\n",
              "      <td>7897</td>\n",
              "      <td>7897</td>\n",
              "      <td>7897</td>\n",
              "      <td>7897</td>\n",
              "      <td>7897</td>\n",
              "      <td>7897</td>\n",
              "      <td>7897</td>\n",
              "      <td>7897</td>\n",
              "      <td>7897</td>\n",
              "      <td>7897</td>\n",
              "      <td>7897</td>\n",
              "      <td>7897</td>\n",
              "      <td>7897</td>\n",
              "      <td>7897</td>\n",
              "      <td>7897</td>\n",
              "      <td>7897</td>\n",
              "      <td>7897</td>\n",
              "      <td>7897</td>\n",
              "      <td>7897</td>\n",
              "      <td>7897</td>\n",
              "      <td>7897</td>\n",
              "      <td>7897</td>\n",
              "      <td>7897</td>\n",
              "    </tr>\n",
              "    <tr>\n",
              "      <th>2001</th>\n",
              "      <td>8935</td>\n",
              "      <td>8935</td>\n",
              "      <td>8935</td>\n",
              "      <td>8935</td>\n",
              "      <td>8935</td>\n",
              "      <td>8935</td>\n",
              "      <td>8935</td>\n",
              "      <td>8935</td>\n",
              "      <td>8935</td>\n",
              "      <td>8935</td>\n",
              "      <td>8935</td>\n",
              "      <td>8935</td>\n",
              "      <td>8935</td>\n",
              "      <td>8935</td>\n",
              "      <td>8935</td>\n",
              "      <td>8935</td>\n",
              "      <td>8935</td>\n",
              "      <td>8935</td>\n",
              "      <td>8935</td>\n",
              "      <td>8935</td>\n",
              "      <td>8935</td>\n",
              "      <td>8935</td>\n",
              "      <td>8935</td>\n",
              "      <td>8935</td>\n",
              "      <td>8935</td>\n",
              "      <td>8935</td>\n",
              "      <td>8935</td>\n",
              "      <td>8935</td>\n",
              "      <td>8935</td>\n",
              "      <td>8935</td>\n",
              "      <td>8935</td>\n",
              "      <td>8935</td>\n",
              "      <td>8935</td>\n",
              "      <td>8935</td>\n",
              "      <td>8935</td>\n",
              "      <td>8935</td>\n",
              "      <td>8935</td>\n",
              "      <td>8935</td>\n",
              "      <td>8935</td>\n",
              "      <td>8935</td>\n",
              "      <td>8935</td>\n",
              "      <td>8935</td>\n",
              "      <td>8935</td>\n",
              "      <td>8935</td>\n",
              "      <td>8935</td>\n",
              "      <td>8935</td>\n",
              "      <td>8935</td>\n",
              "      <td>8935</td>\n",
              "      <td>8935</td>\n",
              "      <td>8935</td>\n",
              "      <td>8935</td>\n",
              "      <td>8935</td>\n",
              "      <td>8935</td>\n",
              "      <td>8935</td>\n",
              "      <td>8935</td>\n",
              "      <td>8935</td>\n",
              "      <td>8935</td>\n",
              "      <td>8935</td>\n",
              "      <td>8935</td>\n",
              "      <td>8935</td>\n",
              "      <td>8935</td>\n",
              "    </tr>\n",
              "    <tr>\n",
              "      <th>2002</th>\n",
              "      <td>10252</td>\n",
              "      <td>10252</td>\n",
              "      <td>10252</td>\n",
              "      <td>10252</td>\n",
              "      <td>10252</td>\n",
              "      <td>10252</td>\n",
              "      <td>10252</td>\n",
              "      <td>10252</td>\n",
              "      <td>10252</td>\n",
              "      <td>10252</td>\n",
              "      <td>10252</td>\n",
              "      <td>10252</td>\n",
              "      <td>10252</td>\n",
              "      <td>10252</td>\n",
              "      <td>10252</td>\n",
              "      <td>10252</td>\n",
              "      <td>10252</td>\n",
              "      <td>10252</td>\n",
              "      <td>10252</td>\n",
              "      <td>10252</td>\n",
              "      <td>10252</td>\n",
              "      <td>10252</td>\n",
              "      <td>10252</td>\n",
              "      <td>10252</td>\n",
              "      <td>10252</td>\n",
              "      <td>10252</td>\n",
              "      <td>10252</td>\n",
              "      <td>10252</td>\n",
              "      <td>10252</td>\n",
              "      <td>10252</td>\n",
              "      <td>10252</td>\n",
              "      <td>10252</td>\n",
              "      <td>10252</td>\n",
              "      <td>10252</td>\n",
              "      <td>10252</td>\n",
              "      <td>10252</td>\n",
              "      <td>10252</td>\n",
              "      <td>10252</td>\n",
              "      <td>10252</td>\n",
              "      <td>10252</td>\n",
              "      <td>10252</td>\n",
              "      <td>10252</td>\n",
              "      <td>10252</td>\n",
              "      <td>10252</td>\n",
              "      <td>10252</td>\n",
              "      <td>10252</td>\n",
              "      <td>10252</td>\n",
              "      <td>10252</td>\n",
              "      <td>10252</td>\n",
              "      <td>10252</td>\n",
              "      <td>10252</td>\n",
              "      <td>10252</td>\n",
              "      <td>10252</td>\n",
              "      <td>10252</td>\n",
              "      <td>10252</td>\n",
              "      <td>10252</td>\n",
              "      <td>10252</td>\n",
              "      <td>10252</td>\n",
              "      <td>10252</td>\n",
              "      <td>10252</td>\n",
              "      <td>10252</td>\n",
              "    </tr>\n",
              "    <tr>\n",
              "      <th>2003</th>\n",
              "      <td>10722</td>\n",
              "      <td>10722</td>\n",
              "      <td>10722</td>\n",
              "      <td>10722</td>\n",
              "      <td>10722</td>\n",
              "      <td>10722</td>\n",
              "      <td>10722</td>\n",
              "      <td>10722</td>\n",
              "      <td>10722</td>\n",
              "      <td>10722</td>\n",
              "      <td>10722</td>\n",
              "      <td>10722</td>\n",
              "      <td>10722</td>\n",
              "      <td>10722</td>\n",
              "      <td>10722</td>\n",
              "      <td>10722</td>\n",
              "      <td>10722</td>\n",
              "      <td>10722</td>\n",
              "      <td>10722</td>\n",
              "      <td>10722</td>\n",
              "      <td>10722</td>\n",
              "      <td>10722</td>\n",
              "      <td>10722</td>\n",
              "      <td>10722</td>\n",
              "      <td>10722</td>\n",
              "      <td>10722</td>\n",
              "      <td>10722</td>\n",
              "      <td>10722</td>\n",
              "      <td>10722</td>\n",
              "      <td>10722</td>\n",
              "      <td>10722</td>\n",
              "      <td>10722</td>\n",
              "      <td>10722</td>\n",
              "      <td>10722</td>\n",
              "      <td>10722</td>\n",
              "      <td>10722</td>\n",
              "      <td>10722</td>\n",
              "      <td>10722</td>\n",
              "      <td>10722</td>\n",
              "      <td>10722</td>\n",
              "      <td>10722</td>\n",
              "      <td>10722</td>\n",
              "      <td>10722</td>\n",
              "      <td>10722</td>\n",
              "      <td>10722</td>\n",
              "      <td>10722</td>\n",
              "      <td>10722</td>\n",
              "      <td>10722</td>\n",
              "      <td>10722</td>\n",
              "      <td>10722</td>\n",
              "      <td>10722</td>\n",
              "      <td>10722</td>\n",
              "      <td>10722</td>\n",
              "      <td>10722</td>\n",
              "      <td>10722</td>\n",
              "      <td>10722</td>\n",
              "      <td>10722</td>\n",
              "      <td>10722</td>\n",
              "      <td>10722</td>\n",
              "      <td>10722</td>\n",
              "      <td>10722</td>\n",
              "    </tr>\n",
              "    <tr>\n",
              "      <th>2004</th>\n",
              "      <td>10501</td>\n",
              "      <td>10501</td>\n",
              "      <td>10501</td>\n",
              "      <td>10501</td>\n",
              "      <td>10501</td>\n",
              "      <td>10501</td>\n",
              "      <td>10501</td>\n",
              "      <td>10501</td>\n",
              "      <td>10501</td>\n",
              "      <td>10501</td>\n",
              "      <td>10501</td>\n",
              "      <td>10501</td>\n",
              "      <td>10501</td>\n",
              "      <td>10501</td>\n",
              "      <td>10501</td>\n",
              "      <td>10501</td>\n",
              "      <td>10501</td>\n",
              "      <td>10501</td>\n",
              "      <td>10501</td>\n",
              "      <td>10501</td>\n",
              "      <td>10501</td>\n",
              "      <td>10501</td>\n",
              "      <td>10501</td>\n",
              "      <td>10501</td>\n",
              "      <td>10501</td>\n",
              "      <td>10501</td>\n",
              "      <td>10501</td>\n",
              "      <td>10501</td>\n",
              "      <td>10501</td>\n",
              "      <td>10501</td>\n",
              "      <td>10501</td>\n",
              "      <td>10501</td>\n",
              "      <td>10501</td>\n",
              "      <td>10501</td>\n",
              "      <td>10501</td>\n",
              "      <td>10501</td>\n",
              "      <td>10501</td>\n",
              "      <td>10501</td>\n",
              "      <td>10501</td>\n",
              "      <td>10501</td>\n",
              "      <td>10501</td>\n",
              "      <td>10501</td>\n",
              "      <td>10501</td>\n",
              "      <td>10501</td>\n",
              "      <td>10501</td>\n",
              "      <td>10501</td>\n",
              "      <td>10501</td>\n",
              "      <td>10501</td>\n",
              "      <td>10501</td>\n",
              "      <td>10501</td>\n",
              "      <td>10501</td>\n",
              "      <td>10501</td>\n",
              "      <td>10501</td>\n",
              "      <td>10501</td>\n",
              "      <td>10501</td>\n",
              "      <td>10501</td>\n",
              "      <td>10501</td>\n",
              "      <td>10501</td>\n",
              "      <td>10501</td>\n",
              "      <td>10501</td>\n",
              "      <td>10501</td>\n",
              "    </tr>\n",
              "    <tr>\n",
              "      <th>2005</th>\n",
              "      <td>10925</td>\n",
              "      <td>10925</td>\n",
              "      <td>10925</td>\n",
              "      <td>10925</td>\n",
              "      <td>10925</td>\n",
              "      <td>10925</td>\n",
              "      <td>10925</td>\n",
              "      <td>10925</td>\n",
              "      <td>10925</td>\n",
              "      <td>10925</td>\n",
              "      <td>10925</td>\n",
              "      <td>10925</td>\n",
              "      <td>10925</td>\n",
              "      <td>10925</td>\n",
              "      <td>10925</td>\n",
              "      <td>10925</td>\n",
              "      <td>10925</td>\n",
              "      <td>10925</td>\n",
              "      <td>10925</td>\n",
              "      <td>10925</td>\n",
              "      <td>10925</td>\n",
              "      <td>10925</td>\n",
              "      <td>10925</td>\n",
              "      <td>10925</td>\n",
              "      <td>10925</td>\n",
              "      <td>10925</td>\n",
              "      <td>10925</td>\n",
              "      <td>10925</td>\n",
              "      <td>10925</td>\n",
              "      <td>10925</td>\n",
              "      <td>10925</td>\n",
              "      <td>10925</td>\n",
              "      <td>10925</td>\n",
              "      <td>10925</td>\n",
              "      <td>10925</td>\n",
              "      <td>10925</td>\n",
              "      <td>10925</td>\n",
              "      <td>10925</td>\n",
              "      <td>10925</td>\n",
              "      <td>10925</td>\n",
              "      <td>10925</td>\n",
              "      <td>10925</td>\n",
              "      <td>10925</td>\n",
              "      <td>10925</td>\n",
              "      <td>10925</td>\n",
              "      <td>10925</td>\n",
              "      <td>10925</td>\n",
              "      <td>10925</td>\n",
              "      <td>10925</td>\n",
              "      <td>10925</td>\n",
              "      <td>10925</td>\n",
              "      <td>10925</td>\n",
              "      <td>10925</td>\n",
              "      <td>10925</td>\n",
              "      <td>10925</td>\n",
              "      <td>10925</td>\n",
              "      <td>10925</td>\n",
              "      <td>10925</td>\n",
              "      <td>10925</td>\n",
              "      <td>10925</td>\n",
              "      <td>10925</td>\n",
              "    </tr>\n",
              "    <tr>\n",
              "      <th>2006</th>\n",
              "      <td>11432</td>\n",
              "      <td>11432</td>\n",
              "      <td>11432</td>\n",
              "      <td>11432</td>\n",
              "      <td>11432</td>\n",
              "      <td>11432</td>\n",
              "      <td>11432</td>\n",
              "      <td>11432</td>\n",
              "      <td>11432</td>\n",
              "      <td>11432</td>\n",
              "      <td>11432</td>\n",
              "      <td>11432</td>\n",
              "      <td>11432</td>\n",
              "      <td>11432</td>\n",
              "      <td>11432</td>\n",
              "      <td>11432</td>\n",
              "      <td>11432</td>\n",
              "      <td>11432</td>\n",
              "      <td>11432</td>\n",
              "      <td>11432</td>\n",
              "      <td>11432</td>\n",
              "      <td>11432</td>\n",
              "      <td>11432</td>\n",
              "      <td>11432</td>\n",
              "      <td>11432</td>\n",
              "      <td>11432</td>\n",
              "      <td>11432</td>\n",
              "      <td>11432</td>\n",
              "      <td>11432</td>\n",
              "      <td>11432</td>\n",
              "      <td>11432</td>\n",
              "      <td>11432</td>\n",
              "      <td>11432</td>\n",
              "      <td>11432</td>\n",
              "      <td>11432</td>\n",
              "      <td>11432</td>\n",
              "      <td>11432</td>\n",
              "      <td>11432</td>\n",
              "      <td>11432</td>\n",
              "      <td>11432</td>\n",
              "      <td>11432</td>\n",
              "      <td>11432</td>\n",
              "      <td>11432</td>\n",
              "      <td>11432</td>\n",
              "      <td>11432</td>\n",
              "      <td>11432</td>\n",
              "      <td>11432</td>\n",
              "      <td>11432</td>\n",
              "      <td>11432</td>\n",
              "      <td>11432</td>\n",
              "      <td>11432</td>\n",
              "      <td>11432</td>\n",
              "      <td>11432</td>\n",
              "      <td>11432</td>\n",
              "      <td>11432</td>\n",
              "      <td>11432</td>\n",
              "      <td>11432</td>\n",
              "      <td>11432</td>\n",
              "      <td>11432</td>\n",
              "      <td>11432</td>\n",
              "      <td>11432</td>\n",
              "    </tr>\n",
              "    <tr>\n",
              "      <th>2007</th>\n",
              "      <td>12153</td>\n",
              "      <td>12153</td>\n",
              "      <td>12153</td>\n",
              "      <td>12153</td>\n",
              "      <td>12153</td>\n",
              "      <td>12153</td>\n",
              "      <td>12153</td>\n",
              "      <td>12153</td>\n",
              "      <td>12153</td>\n",
              "      <td>12153</td>\n",
              "      <td>12153</td>\n",
              "      <td>12153</td>\n",
              "      <td>12153</td>\n",
              "      <td>12153</td>\n",
              "      <td>12153</td>\n",
              "      <td>12153</td>\n",
              "      <td>12153</td>\n",
              "      <td>12153</td>\n",
              "      <td>12153</td>\n",
              "      <td>12153</td>\n",
              "      <td>12153</td>\n",
              "      <td>12153</td>\n",
              "      <td>12153</td>\n",
              "      <td>12153</td>\n",
              "      <td>12153</td>\n",
              "      <td>12153</td>\n",
              "      <td>12153</td>\n",
              "      <td>12153</td>\n",
              "      <td>12153</td>\n",
              "      <td>12153</td>\n",
              "      <td>12153</td>\n",
              "      <td>12153</td>\n",
              "      <td>12153</td>\n",
              "      <td>12153</td>\n",
              "      <td>12153</td>\n",
              "      <td>12153</td>\n",
              "      <td>12153</td>\n",
              "      <td>12153</td>\n",
              "      <td>12153</td>\n",
              "      <td>12153</td>\n",
              "      <td>12153</td>\n",
              "      <td>12153</td>\n",
              "      <td>12153</td>\n",
              "      <td>12153</td>\n",
              "      <td>12153</td>\n",
              "      <td>12153</td>\n",
              "      <td>12153</td>\n",
              "      <td>12153</td>\n",
              "      <td>12153</td>\n",
              "      <td>12153</td>\n",
              "      <td>12153</td>\n",
              "      <td>12153</td>\n",
              "      <td>12153</td>\n",
              "      <td>12153</td>\n",
              "      <td>12153</td>\n",
              "      <td>12153</td>\n",
              "      <td>12153</td>\n",
              "      <td>12153</td>\n",
              "      <td>12153</td>\n",
              "      <td>12153</td>\n",
              "      <td>12153</td>\n",
              "    </tr>\n",
              "    <tr>\n",
              "      <th>2008</th>\n",
              "      <td>11773</td>\n",
              "      <td>11773</td>\n",
              "      <td>11773</td>\n",
              "      <td>11773</td>\n",
              "      <td>11773</td>\n",
              "      <td>11773</td>\n",
              "      <td>11773</td>\n",
              "      <td>11773</td>\n",
              "      <td>11773</td>\n",
              "      <td>11773</td>\n",
              "      <td>11773</td>\n",
              "      <td>11773</td>\n",
              "      <td>11773</td>\n",
              "      <td>11773</td>\n",
              "      <td>11773</td>\n",
              "      <td>11773</td>\n",
              "      <td>11773</td>\n",
              "      <td>11773</td>\n",
              "      <td>11773</td>\n",
              "      <td>11773</td>\n",
              "      <td>11773</td>\n",
              "      <td>11773</td>\n",
              "      <td>11773</td>\n",
              "      <td>11773</td>\n",
              "      <td>11773</td>\n",
              "      <td>11773</td>\n",
              "      <td>11773</td>\n",
              "      <td>11773</td>\n",
              "      <td>11773</td>\n",
              "      <td>11773</td>\n",
              "      <td>11773</td>\n",
              "      <td>11773</td>\n",
              "      <td>11773</td>\n",
              "      <td>11773</td>\n",
              "      <td>11773</td>\n",
              "      <td>11773</td>\n",
              "      <td>11773</td>\n",
              "      <td>11773</td>\n",
              "      <td>11773</td>\n",
              "      <td>11773</td>\n",
              "      <td>11773</td>\n",
              "      <td>11773</td>\n",
              "      <td>11773</td>\n",
              "      <td>11773</td>\n",
              "      <td>11773</td>\n",
              "      <td>11773</td>\n",
              "      <td>11773</td>\n",
              "      <td>11773</td>\n",
              "      <td>11773</td>\n",
              "      <td>11773</td>\n",
              "      <td>11773</td>\n",
              "      <td>11773</td>\n",
              "      <td>11773</td>\n",
              "      <td>11773</td>\n",
              "      <td>11773</td>\n",
              "      <td>11773</td>\n",
              "      <td>11773</td>\n",
              "      <td>11773</td>\n",
              "      <td>11773</td>\n",
              "      <td>11773</td>\n",
              "      <td>11773</td>\n",
              "    </tr>\n",
              "    <tr>\n",
              "      <th>2009</th>\n",
              "      <td>11225</td>\n",
              "      <td>11225</td>\n",
              "      <td>11225</td>\n",
              "      <td>11225</td>\n",
              "      <td>11225</td>\n",
              "      <td>11225</td>\n",
              "      <td>11225</td>\n",
              "      <td>11225</td>\n",
              "      <td>11225</td>\n",
              "      <td>11225</td>\n",
              "      <td>11225</td>\n",
              "      <td>11225</td>\n",
              "      <td>11225</td>\n",
              "      <td>11225</td>\n",
              "      <td>11225</td>\n",
              "      <td>11225</td>\n",
              "      <td>11225</td>\n",
              "      <td>11225</td>\n",
              "      <td>11225</td>\n",
              "      <td>11225</td>\n",
              "      <td>11225</td>\n",
              "      <td>11225</td>\n",
              "      <td>11225</td>\n",
              "      <td>11225</td>\n",
              "      <td>11225</td>\n",
              "      <td>11225</td>\n",
              "      <td>11225</td>\n",
              "      <td>11225</td>\n",
              "      <td>11225</td>\n",
              "      <td>11225</td>\n",
              "      <td>11225</td>\n",
              "      <td>11225</td>\n",
              "      <td>11225</td>\n",
              "      <td>11225</td>\n",
              "      <td>11225</td>\n",
              "      <td>11225</td>\n",
              "      <td>11225</td>\n",
              "      <td>11225</td>\n",
              "      <td>11225</td>\n",
              "      <td>11225</td>\n",
              "      <td>11225</td>\n",
              "      <td>11225</td>\n",
              "      <td>11225</td>\n",
              "      <td>11225</td>\n",
              "      <td>11225</td>\n",
              "      <td>11225</td>\n",
              "      <td>11225</td>\n",
              "      <td>11225</td>\n",
              "      <td>11225</td>\n",
              "      <td>11225</td>\n",
              "      <td>11225</td>\n",
              "      <td>11225</td>\n",
              "      <td>11225</td>\n",
              "      <td>11225</td>\n",
              "      <td>11225</td>\n",
              "      <td>11225</td>\n",
              "      <td>11225</td>\n",
              "      <td>11225</td>\n",
              "      <td>11225</td>\n",
              "      <td>11225</td>\n",
              "      <td>11225</td>\n",
              "    </tr>\n",
              "    <tr>\n",
              "      <th>2010</th>\n",
              "      <td>10955</td>\n",
              "      <td>10955</td>\n",
              "      <td>10955</td>\n",
              "      <td>10955</td>\n",
              "      <td>10955</td>\n",
              "      <td>10955</td>\n",
              "      <td>10955</td>\n",
              "      <td>10955</td>\n",
              "      <td>10955</td>\n",
              "      <td>10955</td>\n",
              "      <td>10955</td>\n",
              "      <td>10955</td>\n",
              "      <td>10955</td>\n",
              "      <td>10955</td>\n",
              "      <td>10955</td>\n",
              "      <td>10955</td>\n",
              "      <td>10955</td>\n",
              "      <td>10955</td>\n",
              "      <td>10955</td>\n",
              "      <td>10955</td>\n",
              "      <td>10955</td>\n",
              "      <td>10955</td>\n",
              "      <td>10955</td>\n",
              "      <td>10955</td>\n",
              "      <td>10955</td>\n",
              "      <td>10955</td>\n",
              "      <td>10955</td>\n",
              "      <td>10955</td>\n",
              "      <td>10955</td>\n",
              "      <td>10955</td>\n",
              "      <td>10955</td>\n",
              "      <td>10955</td>\n",
              "      <td>10955</td>\n",
              "      <td>10955</td>\n",
              "      <td>10955</td>\n",
              "      <td>10955</td>\n",
              "      <td>10955</td>\n",
              "      <td>10955</td>\n",
              "      <td>10955</td>\n",
              "      <td>10955</td>\n",
              "      <td>10955</td>\n",
              "      <td>10955</td>\n",
              "      <td>10955</td>\n",
              "      <td>10955</td>\n",
              "      <td>10955</td>\n",
              "      <td>10955</td>\n",
              "      <td>10955</td>\n",
              "      <td>10955</td>\n",
              "      <td>10955</td>\n",
              "      <td>10955</td>\n",
              "      <td>10955</td>\n",
              "      <td>10955</td>\n",
              "      <td>10955</td>\n",
              "      <td>10955</td>\n",
              "      <td>10955</td>\n",
              "      <td>10955</td>\n",
              "      <td>10955</td>\n",
              "      <td>10955</td>\n",
              "      <td>10955</td>\n",
              "      <td>10955</td>\n",
              "      <td>10955</td>\n",
              "    </tr>\n",
              "    <tr>\n",
              "      <th>2011</th>\n",
              "      <td>9883</td>\n",
              "      <td>9883</td>\n",
              "      <td>9883</td>\n",
              "      <td>9883</td>\n",
              "      <td>9883</td>\n",
              "      <td>9883</td>\n",
              "      <td>9883</td>\n",
              "      <td>9883</td>\n",
              "      <td>9883</td>\n",
              "      <td>9883</td>\n",
              "      <td>9883</td>\n",
              "      <td>9883</td>\n",
              "      <td>9883</td>\n",
              "      <td>9883</td>\n",
              "      <td>9883</td>\n",
              "      <td>9883</td>\n",
              "      <td>9883</td>\n",
              "      <td>9883</td>\n",
              "      <td>9883</td>\n",
              "      <td>9883</td>\n",
              "      <td>9883</td>\n",
              "      <td>9883</td>\n",
              "      <td>9883</td>\n",
              "      <td>9883</td>\n",
              "      <td>9883</td>\n",
              "      <td>9883</td>\n",
              "      <td>9883</td>\n",
              "      <td>9883</td>\n",
              "      <td>9883</td>\n",
              "      <td>9883</td>\n",
              "      <td>9883</td>\n",
              "      <td>9883</td>\n",
              "      <td>9883</td>\n",
              "      <td>9883</td>\n",
              "      <td>9883</td>\n",
              "      <td>9883</td>\n",
              "      <td>9883</td>\n",
              "      <td>9883</td>\n",
              "      <td>9883</td>\n",
              "      <td>9883</td>\n",
              "      <td>9883</td>\n",
              "      <td>9883</td>\n",
              "      <td>9883</td>\n",
              "      <td>9883</td>\n",
              "      <td>9883</td>\n",
              "      <td>9883</td>\n",
              "      <td>9883</td>\n",
              "      <td>9883</td>\n",
              "      <td>9883</td>\n",
              "      <td>9883</td>\n",
              "      <td>9883</td>\n",
              "      <td>9883</td>\n",
              "      <td>9883</td>\n",
              "      <td>9883</td>\n",
              "      <td>9883</td>\n",
              "      <td>9883</td>\n",
              "      <td>9883</td>\n",
              "      <td>9883</td>\n",
              "      <td>9883</td>\n",
              "      <td>9883</td>\n",
              "      <td>9883</td>\n",
              "    </tr>\n",
              "    <tr>\n",
              "      <th>2012</th>\n",
              "      <td>9675</td>\n",
              "      <td>9675</td>\n",
              "      <td>9675</td>\n",
              "      <td>9675</td>\n",
              "      <td>9675</td>\n",
              "      <td>9675</td>\n",
              "      <td>9675</td>\n",
              "      <td>9675</td>\n",
              "      <td>9675</td>\n",
              "      <td>9675</td>\n",
              "      <td>9675</td>\n",
              "      <td>9675</td>\n",
              "      <td>9675</td>\n",
              "      <td>9675</td>\n",
              "      <td>9675</td>\n",
              "      <td>9675</td>\n",
              "      <td>9675</td>\n",
              "      <td>9675</td>\n",
              "      <td>9675</td>\n",
              "      <td>9675</td>\n",
              "      <td>9675</td>\n",
              "      <td>9675</td>\n",
              "      <td>9675</td>\n",
              "      <td>9675</td>\n",
              "      <td>9675</td>\n",
              "      <td>9675</td>\n",
              "      <td>9675</td>\n",
              "      <td>9675</td>\n",
              "      <td>9675</td>\n",
              "      <td>9675</td>\n",
              "      <td>9675</td>\n",
              "      <td>9675</td>\n",
              "      <td>9675</td>\n",
              "      <td>9675</td>\n",
              "      <td>9675</td>\n",
              "      <td>9675</td>\n",
              "      <td>9675</td>\n",
              "      <td>9675</td>\n",
              "      <td>9675</td>\n",
              "      <td>9675</td>\n",
              "      <td>9675</td>\n",
              "      <td>9675</td>\n",
              "      <td>9675</td>\n",
              "      <td>9675</td>\n",
              "      <td>9675</td>\n",
              "      <td>9675</td>\n",
              "      <td>9675</td>\n",
              "      <td>9675</td>\n",
              "      <td>9675</td>\n",
              "      <td>9675</td>\n",
              "      <td>9675</td>\n",
              "      <td>9675</td>\n",
              "      <td>9675</td>\n",
              "      <td>9675</td>\n",
              "      <td>9675</td>\n",
              "      <td>9675</td>\n",
              "      <td>9675</td>\n",
              "      <td>9675</td>\n",
              "      <td>9675</td>\n",
              "      <td>9675</td>\n",
              "      <td>9675</td>\n",
              "    </tr>\n",
              "    <tr>\n",
              "      <th>2013</th>\n",
              "      <td>9448</td>\n",
              "      <td>9448</td>\n",
              "      <td>9448</td>\n",
              "      <td>9448</td>\n",
              "      <td>9448</td>\n",
              "      <td>9448</td>\n",
              "      <td>9448</td>\n",
              "      <td>9448</td>\n",
              "      <td>9448</td>\n",
              "      <td>9448</td>\n",
              "      <td>9448</td>\n",
              "      <td>9448</td>\n",
              "      <td>9448</td>\n",
              "      <td>9448</td>\n",
              "      <td>9448</td>\n",
              "      <td>9448</td>\n",
              "      <td>9448</td>\n",
              "      <td>9448</td>\n",
              "      <td>9448</td>\n",
              "      <td>9448</td>\n",
              "      <td>9448</td>\n",
              "      <td>9448</td>\n",
              "      <td>9448</td>\n",
              "      <td>9448</td>\n",
              "      <td>9448</td>\n",
              "      <td>9448</td>\n",
              "      <td>9448</td>\n",
              "      <td>9448</td>\n",
              "      <td>9448</td>\n",
              "      <td>9448</td>\n",
              "      <td>9448</td>\n",
              "      <td>9448</td>\n",
              "      <td>9448</td>\n",
              "      <td>9448</td>\n",
              "      <td>9448</td>\n",
              "      <td>9448</td>\n",
              "      <td>9448</td>\n",
              "      <td>9448</td>\n",
              "      <td>9448</td>\n",
              "      <td>9448</td>\n",
              "      <td>9448</td>\n",
              "      <td>9448</td>\n",
              "      <td>9448</td>\n",
              "      <td>9448</td>\n",
              "      <td>9448</td>\n",
              "      <td>9448</td>\n",
              "      <td>9448</td>\n",
              "      <td>9448</td>\n",
              "      <td>9448</td>\n",
              "      <td>9448</td>\n",
              "      <td>9448</td>\n",
              "      <td>9448</td>\n",
              "      <td>9448</td>\n",
              "      <td>9448</td>\n",
              "      <td>9448</td>\n",
              "      <td>9448</td>\n",
              "      <td>9448</td>\n",
              "      <td>9448</td>\n",
              "      <td>9448</td>\n",
              "      <td>9448</td>\n",
              "      <td>9448</td>\n",
              "    </tr>\n",
              "    <tr>\n",
              "      <th>2014</th>\n",
              "      <td>8916</td>\n",
              "      <td>8916</td>\n",
              "      <td>8916</td>\n",
              "      <td>8916</td>\n",
              "      <td>8916</td>\n",
              "      <td>8916</td>\n",
              "      <td>8916</td>\n",
              "      <td>8916</td>\n",
              "      <td>8916</td>\n",
              "      <td>8916</td>\n",
              "      <td>8916</td>\n",
              "      <td>8916</td>\n",
              "      <td>8916</td>\n",
              "      <td>8916</td>\n",
              "      <td>8916</td>\n",
              "      <td>8916</td>\n",
              "      <td>8916</td>\n",
              "      <td>8916</td>\n",
              "      <td>8916</td>\n",
              "      <td>8916</td>\n",
              "      <td>8916</td>\n",
              "      <td>8916</td>\n",
              "      <td>8916</td>\n",
              "      <td>8916</td>\n",
              "      <td>8916</td>\n",
              "      <td>8916</td>\n",
              "      <td>8916</td>\n",
              "      <td>8916</td>\n",
              "      <td>8916</td>\n",
              "      <td>8916</td>\n",
              "      <td>8916</td>\n",
              "      <td>8916</td>\n",
              "      <td>8916</td>\n",
              "      <td>8916</td>\n",
              "      <td>8916</td>\n",
              "      <td>8916</td>\n",
              "      <td>8916</td>\n",
              "      <td>8916</td>\n",
              "      <td>8916</td>\n",
              "      <td>8916</td>\n",
              "      <td>8916</td>\n",
              "      <td>8916</td>\n",
              "      <td>8916</td>\n",
              "      <td>8916</td>\n",
              "      <td>8916</td>\n",
              "      <td>8916</td>\n",
              "      <td>8916</td>\n",
              "      <td>8916</td>\n",
              "      <td>8916</td>\n",
              "      <td>8916</td>\n",
              "      <td>8916</td>\n",
              "      <td>8916</td>\n",
              "      <td>8916</td>\n",
              "      <td>8916</td>\n",
              "      <td>8916</td>\n",
              "      <td>8916</td>\n",
              "      <td>8916</td>\n",
              "      <td>8916</td>\n",
              "      <td>8916</td>\n",
              "      <td>8916</td>\n",
              "      <td>8916</td>\n",
              "    </tr>\n",
              "    <tr>\n",
              "      <th>2015</th>\n",
              "      <td>9774</td>\n",
              "      <td>9774</td>\n",
              "      <td>9774</td>\n",
              "      <td>9774</td>\n",
              "      <td>9774</td>\n",
              "      <td>9774</td>\n",
              "      <td>9774</td>\n",
              "      <td>9774</td>\n",
              "      <td>9774</td>\n",
              "      <td>9774</td>\n",
              "      <td>9774</td>\n",
              "      <td>9774</td>\n",
              "      <td>9774</td>\n",
              "      <td>9774</td>\n",
              "      <td>9774</td>\n",
              "      <td>9774</td>\n",
              "      <td>9774</td>\n",
              "      <td>9774</td>\n",
              "      <td>9774</td>\n",
              "      <td>9774</td>\n",
              "      <td>9774</td>\n",
              "      <td>9774</td>\n",
              "      <td>9774</td>\n",
              "      <td>9774</td>\n",
              "      <td>9774</td>\n",
              "      <td>9774</td>\n",
              "      <td>9774</td>\n",
              "      <td>9774</td>\n",
              "      <td>9774</td>\n",
              "      <td>9774</td>\n",
              "      <td>9774</td>\n",
              "      <td>9774</td>\n",
              "      <td>9774</td>\n",
              "      <td>9774</td>\n",
              "      <td>9774</td>\n",
              "      <td>9774</td>\n",
              "      <td>9774</td>\n",
              "      <td>9774</td>\n",
              "      <td>9774</td>\n",
              "      <td>9774</td>\n",
              "      <td>9774</td>\n",
              "      <td>9774</td>\n",
              "      <td>9774</td>\n",
              "      <td>9774</td>\n",
              "      <td>9774</td>\n",
              "      <td>9774</td>\n",
              "      <td>9774</td>\n",
              "      <td>9774</td>\n",
              "      <td>9774</td>\n",
              "      <td>9774</td>\n",
              "      <td>9774</td>\n",
              "      <td>9774</td>\n",
              "      <td>9774</td>\n",
              "      <td>9774</td>\n",
              "      <td>9774</td>\n",
              "      <td>9774</td>\n",
              "      <td>9774</td>\n",
              "      <td>9774</td>\n",
              "      <td>9774</td>\n",
              "      <td>9774</td>\n",
              "      <td>9774</td>\n",
              "    </tr>\n",
              "    <tr>\n",
              "      <th>2016</th>\n",
              "      <td>10185</td>\n",
              "      <td>10185</td>\n",
              "      <td>10185</td>\n",
              "      <td>10185</td>\n",
              "      <td>10185</td>\n",
              "      <td>10185</td>\n",
              "      <td>10185</td>\n",
              "      <td>10185</td>\n",
              "      <td>10185</td>\n",
              "      <td>10185</td>\n",
              "      <td>10185</td>\n",
              "      <td>10185</td>\n",
              "      <td>10185</td>\n",
              "      <td>10185</td>\n",
              "      <td>10185</td>\n",
              "      <td>10185</td>\n",
              "      <td>10185</td>\n",
              "      <td>10185</td>\n",
              "      <td>10185</td>\n",
              "      <td>10185</td>\n",
              "      <td>10185</td>\n",
              "      <td>10185</td>\n",
              "      <td>10185</td>\n",
              "      <td>10185</td>\n",
              "      <td>10185</td>\n",
              "      <td>10185</td>\n",
              "      <td>10185</td>\n",
              "      <td>10185</td>\n",
              "      <td>10185</td>\n",
              "      <td>10185</td>\n",
              "      <td>10185</td>\n",
              "      <td>10185</td>\n",
              "      <td>10185</td>\n",
              "      <td>10185</td>\n",
              "      <td>10185</td>\n",
              "      <td>10185</td>\n",
              "      <td>10185</td>\n",
              "      <td>10185</td>\n",
              "      <td>10185</td>\n",
              "      <td>10185</td>\n",
              "      <td>10185</td>\n",
              "      <td>10185</td>\n",
              "      <td>10185</td>\n",
              "      <td>10185</td>\n",
              "      <td>10185</td>\n",
              "      <td>10185</td>\n",
              "      <td>10185</td>\n",
              "      <td>10185</td>\n",
              "      <td>10185</td>\n",
              "      <td>10185</td>\n",
              "      <td>10185</td>\n",
              "      <td>10185</td>\n",
              "      <td>10185</td>\n",
              "      <td>10185</td>\n",
              "      <td>10185</td>\n",
              "      <td>10185</td>\n",
              "      <td>10185</td>\n",
              "      <td>10185</td>\n",
              "      <td>10185</td>\n",
              "      <td>10185</td>\n",
              "      <td>10185</td>\n",
              "    </tr>\n",
              "    <tr>\n",
              "      <th>2017</th>\n",
              "      <td>11241</td>\n",
              "      <td>11241</td>\n",
              "      <td>11241</td>\n",
              "      <td>11241</td>\n",
              "      <td>11241</td>\n",
              "      <td>11241</td>\n",
              "      <td>11241</td>\n",
              "      <td>11241</td>\n",
              "      <td>11241</td>\n",
              "      <td>11241</td>\n",
              "      <td>11241</td>\n",
              "      <td>11241</td>\n",
              "      <td>11241</td>\n",
              "      <td>11241</td>\n",
              "      <td>11241</td>\n",
              "      <td>11241</td>\n",
              "      <td>11241</td>\n",
              "      <td>11241</td>\n",
              "      <td>11241</td>\n",
              "      <td>11241</td>\n",
              "      <td>11241</td>\n",
              "      <td>11241</td>\n",
              "      <td>11241</td>\n",
              "      <td>11241</td>\n",
              "      <td>11241</td>\n",
              "      <td>11241</td>\n",
              "      <td>11241</td>\n",
              "      <td>11241</td>\n",
              "      <td>11241</td>\n",
              "      <td>11241</td>\n",
              "      <td>11241</td>\n",
              "      <td>11241</td>\n",
              "      <td>11241</td>\n",
              "      <td>11241</td>\n",
              "      <td>11241</td>\n",
              "      <td>11241</td>\n",
              "      <td>11241</td>\n",
              "      <td>11241</td>\n",
              "      <td>11241</td>\n",
              "      <td>11241</td>\n",
              "      <td>11241</td>\n",
              "      <td>11241</td>\n",
              "      <td>11241</td>\n",
              "      <td>11241</td>\n",
              "      <td>11241</td>\n",
              "      <td>11241</td>\n",
              "      <td>11241</td>\n",
              "      <td>11241</td>\n",
              "      <td>11241</td>\n",
              "      <td>11241</td>\n",
              "      <td>11241</td>\n",
              "      <td>11241</td>\n",
              "      <td>11241</td>\n",
              "      <td>11241</td>\n",
              "      <td>11241</td>\n",
              "      <td>11241</td>\n",
              "      <td>11241</td>\n",
              "      <td>11241</td>\n",
              "      <td>11241</td>\n",
              "      <td>11241</td>\n",
              "      <td>11241</td>\n",
              "    </tr>\n",
              "    <tr>\n",
              "      <th>2018</th>\n",
              "      <td>11681</td>\n",
              "      <td>11681</td>\n",
              "      <td>11681</td>\n",
              "      <td>11681</td>\n",
              "      <td>11681</td>\n",
              "      <td>11681</td>\n",
              "      <td>11681</td>\n",
              "      <td>11681</td>\n",
              "      <td>11681</td>\n",
              "      <td>11681</td>\n",
              "      <td>11681</td>\n",
              "      <td>11681</td>\n",
              "      <td>11681</td>\n",
              "      <td>11681</td>\n",
              "      <td>11681</td>\n",
              "      <td>11681</td>\n",
              "      <td>11681</td>\n",
              "      <td>11681</td>\n",
              "      <td>11681</td>\n",
              "      <td>11681</td>\n",
              "      <td>11681</td>\n",
              "      <td>11681</td>\n",
              "      <td>11681</td>\n",
              "      <td>11681</td>\n",
              "      <td>11681</td>\n",
              "      <td>11681</td>\n",
              "      <td>11681</td>\n",
              "      <td>11681</td>\n",
              "      <td>11681</td>\n",
              "      <td>11681</td>\n",
              "      <td>11681</td>\n",
              "      <td>11681</td>\n",
              "      <td>11681</td>\n",
              "      <td>11681</td>\n",
              "      <td>11681</td>\n",
              "      <td>11681</td>\n",
              "      <td>11681</td>\n",
              "      <td>11681</td>\n",
              "      <td>11681</td>\n",
              "      <td>11681</td>\n",
              "      <td>11681</td>\n",
              "      <td>11681</td>\n",
              "      <td>11681</td>\n",
              "      <td>11681</td>\n",
              "      <td>11681</td>\n",
              "      <td>11681</td>\n",
              "      <td>11681</td>\n",
              "      <td>11681</td>\n",
              "      <td>11681</td>\n",
              "      <td>11681</td>\n",
              "      <td>11681</td>\n",
              "      <td>11681</td>\n",
              "      <td>11681</td>\n",
              "      <td>11681</td>\n",
              "      <td>11681</td>\n",
              "      <td>11681</td>\n",
              "      <td>11681</td>\n",
              "      <td>11681</td>\n",
              "      <td>11681</td>\n",
              "      <td>11681</td>\n",
              "      <td>11681</td>\n",
              "    </tr>\n",
              "    <tr>\n",
              "      <th>2019</th>\n",
              "      <td>11754</td>\n",
              "      <td>11754</td>\n",
              "      <td>11754</td>\n",
              "      <td>11754</td>\n",
              "      <td>11754</td>\n",
              "      <td>11754</td>\n",
              "      <td>11754</td>\n",
              "      <td>11754</td>\n",
              "      <td>11754</td>\n",
              "      <td>11754</td>\n",
              "      <td>11754</td>\n",
              "      <td>11754</td>\n",
              "      <td>11754</td>\n",
              "      <td>11754</td>\n",
              "      <td>11754</td>\n",
              "      <td>11754</td>\n",
              "      <td>11754</td>\n",
              "      <td>11754</td>\n",
              "      <td>11754</td>\n",
              "      <td>11754</td>\n",
              "      <td>11754</td>\n",
              "      <td>11754</td>\n",
              "      <td>11754</td>\n",
              "      <td>11754</td>\n",
              "      <td>11754</td>\n",
              "      <td>11754</td>\n",
              "      <td>11754</td>\n",
              "      <td>11754</td>\n",
              "      <td>11754</td>\n",
              "      <td>11754</td>\n",
              "      <td>11754</td>\n",
              "      <td>11754</td>\n",
              "      <td>11754</td>\n",
              "      <td>11754</td>\n",
              "      <td>11754</td>\n",
              "      <td>11754</td>\n",
              "      <td>11754</td>\n",
              "      <td>11754</td>\n",
              "      <td>11754</td>\n",
              "      <td>11754</td>\n",
              "      <td>11754</td>\n",
              "      <td>11754</td>\n",
              "      <td>11754</td>\n",
              "      <td>11754</td>\n",
              "      <td>11754</td>\n",
              "      <td>11754</td>\n",
              "      <td>11754</td>\n",
              "      <td>11754</td>\n",
              "      <td>11754</td>\n",
              "      <td>11754</td>\n",
              "      <td>11754</td>\n",
              "      <td>11754</td>\n",
              "      <td>11754</td>\n",
              "      <td>11754</td>\n",
              "      <td>11754</td>\n",
              "      <td>11754</td>\n",
              "      <td>11754</td>\n",
              "      <td>11754</td>\n",
              "      <td>11754</td>\n",
              "      <td>11754</td>\n",
              "      <td>11754</td>\n",
              "    </tr>\n",
              "    <tr>\n",
              "      <th>2020</th>\n",
              "      <td>10289</td>\n",
              "      <td>10289</td>\n",
              "      <td>10289</td>\n",
              "      <td>10289</td>\n",
              "      <td>10289</td>\n",
              "      <td>10289</td>\n",
              "      <td>10289</td>\n",
              "      <td>10289</td>\n",
              "      <td>10289</td>\n",
              "      <td>10289</td>\n",
              "      <td>10289</td>\n",
              "      <td>10289</td>\n",
              "      <td>10289</td>\n",
              "      <td>10289</td>\n",
              "      <td>10289</td>\n",
              "      <td>10289</td>\n",
              "      <td>10289</td>\n",
              "      <td>10289</td>\n",
              "      <td>10289</td>\n",
              "      <td>10289</td>\n",
              "      <td>10289</td>\n",
              "      <td>10289</td>\n",
              "      <td>10289</td>\n",
              "      <td>10289</td>\n",
              "      <td>10289</td>\n",
              "      <td>10289</td>\n",
              "      <td>10289</td>\n",
              "      <td>10289</td>\n",
              "      <td>10289</td>\n",
              "      <td>10289</td>\n",
              "      <td>10289</td>\n",
              "      <td>10289</td>\n",
              "      <td>10289</td>\n",
              "      <td>10289</td>\n",
              "      <td>10289</td>\n",
              "      <td>10289</td>\n",
              "      <td>10289</td>\n",
              "      <td>10289</td>\n",
              "      <td>10289</td>\n",
              "      <td>10289</td>\n",
              "      <td>10289</td>\n",
              "      <td>10289</td>\n",
              "      <td>10289</td>\n",
              "      <td>10289</td>\n",
              "      <td>10289</td>\n",
              "      <td>10289</td>\n",
              "      <td>10289</td>\n",
              "      <td>10289</td>\n",
              "      <td>10289</td>\n",
              "      <td>10289</td>\n",
              "      <td>10289</td>\n",
              "      <td>10289</td>\n",
              "      <td>10289</td>\n",
              "      <td>10289</td>\n",
              "      <td>10289</td>\n",
              "      <td>10289</td>\n",
              "      <td>10289</td>\n",
              "      <td>10289</td>\n",
              "      <td>10289</td>\n",
              "      <td>10289</td>\n",
              "      <td>10289</td>\n",
              "    </tr>\n",
              "    <tr>\n",
              "      <th>2021</th>\n",
              "      <td>5031</td>\n",
              "      <td>5031</td>\n",
              "      <td>5031</td>\n",
              "      <td>5031</td>\n",
              "      <td>5031</td>\n",
              "      <td>5031</td>\n",
              "      <td>5031</td>\n",
              "      <td>5031</td>\n",
              "      <td>5031</td>\n",
              "      <td>5031</td>\n",
              "      <td>5031</td>\n",
              "      <td>5031</td>\n",
              "      <td>5031</td>\n",
              "      <td>5031</td>\n",
              "      <td>5031</td>\n",
              "      <td>5031</td>\n",
              "      <td>5031</td>\n",
              "      <td>5031</td>\n",
              "      <td>5031</td>\n",
              "      <td>5031</td>\n",
              "      <td>5031</td>\n",
              "      <td>5031</td>\n",
              "      <td>5031</td>\n",
              "      <td>5031</td>\n",
              "      <td>5031</td>\n",
              "      <td>5031</td>\n",
              "      <td>5031</td>\n",
              "      <td>5031</td>\n",
              "      <td>5031</td>\n",
              "      <td>5031</td>\n",
              "      <td>5031</td>\n",
              "      <td>5031</td>\n",
              "      <td>5031</td>\n",
              "      <td>5031</td>\n",
              "      <td>5031</td>\n",
              "      <td>5031</td>\n",
              "      <td>5031</td>\n",
              "      <td>5031</td>\n",
              "      <td>5031</td>\n",
              "      <td>5031</td>\n",
              "      <td>5031</td>\n",
              "      <td>5031</td>\n",
              "      <td>5031</td>\n",
              "      <td>5031</td>\n",
              "      <td>5031</td>\n",
              "      <td>5031</td>\n",
              "      <td>5031</td>\n",
              "      <td>5031</td>\n",
              "      <td>5031</td>\n",
              "      <td>5031</td>\n",
              "      <td>5031</td>\n",
              "      <td>5031</td>\n",
              "      <td>5031</td>\n",
              "      <td>5031</td>\n",
              "      <td>5031</td>\n",
              "      <td>5031</td>\n",
              "      <td>5031</td>\n",
              "      <td>5031</td>\n",
              "      <td>5031</td>\n",
              "      <td>5031</td>\n",
              "      <td>5031</td>\n",
              "    </tr>\n",
              "  </tbody>\n",
              "</table>\n",
              "</div>\n",
              "      <button class=\"colab-df-convert\" onclick=\"convertToInteractive('df-cc288d7d-18a6-438f-8a47-38d429d43b75')\"\n",
              "              title=\"Convert this dataframe to an interactive table.\"\n",
              "              style=\"display:none;\">\n",
              "        \n",
              "  <svg xmlns=\"http://www.w3.org/2000/svg\" height=\"24px\"viewBox=\"0 0 24 24\"\n",
              "       width=\"24px\">\n",
              "    <path d=\"M0 0h24v24H0V0z\" fill=\"none\"/>\n",
              "    <path d=\"M18.56 5.44l.94 2.06.94-2.06 2.06-.94-2.06-.94-.94-2.06-.94 2.06-2.06.94zm-11 1L8.5 8.5l.94-2.06 2.06-.94-2.06-.94L8.5 2.5l-.94 2.06-2.06.94zm10 10l.94 2.06.94-2.06 2.06-.94-2.06-.94-.94-2.06-.94 2.06-2.06.94z\"/><path d=\"M17.41 7.96l-1.37-1.37c-.4-.4-.92-.59-1.43-.59-.52 0-1.04.2-1.43.59L10.3 9.45l-7.72 7.72c-.78.78-.78 2.05 0 2.83L4 21.41c.39.39.9.59 1.41.59.51 0 1.02-.2 1.41-.59l7.78-7.78 2.81-2.81c.8-.78.8-2.07 0-2.86zM5.41 20L4 18.59l7.72-7.72 1.47 1.35L5.41 20z\"/>\n",
              "  </svg>\n",
              "      </button>\n",
              "      \n",
              "  <style>\n",
              "    .colab-df-container {\n",
              "      display:flex;\n",
              "      flex-wrap:wrap;\n",
              "      gap: 12px;\n",
              "    }\n",
              "\n",
              "    .colab-df-convert {\n",
              "      background-color: #E8F0FE;\n",
              "      border: none;\n",
              "      border-radius: 50%;\n",
              "      cursor: pointer;\n",
              "      display: none;\n",
              "      fill: #1967D2;\n",
              "      height: 32px;\n",
              "      padding: 0 0 0 0;\n",
              "      width: 32px;\n",
              "    }\n",
              "\n",
              "    .colab-df-convert:hover {\n",
              "      background-color: #E2EBFA;\n",
              "      box-shadow: 0px 1px 2px rgba(60, 64, 67, 0.3), 0px 1px 3px 1px rgba(60, 64, 67, 0.15);\n",
              "      fill: #174EA6;\n",
              "    }\n",
              "\n",
              "    [theme=dark] .colab-df-convert {\n",
              "      background-color: #3B4455;\n",
              "      fill: #D2E3FC;\n",
              "    }\n",
              "\n",
              "    [theme=dark] .colab-df-convert:hover {\n",
              "      background-color: #434B5C;\n",
              "      box-shadow: 0px 1px 3px 1px rgba(0, 0, 0, 0.15);\n",
              "      filter: drop-shadow(0px 1px 2px rgba(0, 0, 0, 0.3));\n",
              "      fill: #FFFFFF;\n",
              "    }\n",
              "  </style>\n",
              "\n",
              "      <script>\n",
              "        const buttonEl =\n",
              "          document.querySelector('#df-cc288d7d-18a6-438f-8a47-38d429d43b75 button.colab-df-convert');\n",
              "        buttonEl.style.display =\n",
              "          google.colab.kernel.accessAllowed ? 'block' : 'none';\n",
              "\n",
              "        async function convertToInteractive(key) {\n",
              "          const element = document.querySelector('#df-cc288d7d-18a6-438f-8a47-38d429d43b75');\n",
              "          const dataTable =\n",
              "            await google.colab.kernel.invokeFunction('convertToInteractive',\n",
              "                                                     [key], {});\n",
              "          if (!dataTable) return;\n",
              "\n",
              "          const docLinkHtml = 'Like what you see? Visit the ' +\n",
              "            '<a target=\"_blank\" href=https://colab.research.google.com/notebooks/data_table.ipynb>data table notebook</a>'\n",
              "            + ' to learn more about interactive tables.';\n",
              "          element.innerHTML = '';\n",
              "          dataTable['output_type'] = 'display_data';\n",
              "          await google.colab.output.renderOutput(dataTable, element);\n",
              "          const docLink = document.createElement('div');\n",
              "          docLink.innerHTML = docLinkHtml;\n",
              "          element.appendChild(docLink);\n",
              "        }\n",
              "      </script>\n",
              "    </div>\n",
              "  </div>\n",
              "  "
            ],
            "text/plain": [
              "               X      Y bicycle bridge    bus carStationWagon cliffBank  \\\n",
              "           count  count   count  count  count           count     count   \n",
              "crashYear                                                                 \n",
              "2000        7897   7897    7897   7897   7897            7897      7897   \n",
              "2001        8935   8935    8935   8935   8935            8935      8935   \n",
              "2002       10252  10252   10252  10252  10252           10252     10252   \n",
              "2003       10722  10722   10722  10722  10722           10722     10722   \n",
              "2004       10501  10501   10501  10501  10501           10501     10501   \n",
              "2005       10925  10925   10925  10925  10925           10925     10925   \n",
              "2006       11432  11432   11432  11432  11432           11432     11432   \n",
              "2007       12153  12153   12153  12153  12153           12153     12153   \n",
              "2008       11773  11773   11773  11773  11773           11773     11773   \n",
              "2009       11225  11225   11225  11225  11225           11225     11225   \n",
              "2010       10955  10955   10955  10955  10955           10955     10955   \n",
              "2011        9883   9883    9883   9883   9883            9883      9883   \n",
              "2012        9675   9675    9675   9675   9675            9675      9675   \n",
              "2013        9448   9448    9448   9448   9448            9448      9448   \n",
              "2014        8916   8916    8916   8916   8916            8916      8916   \n",
              "2015        9774   9774    9774   9774   9774            9774      9774   \n",
              "2016       10185  10185   10185  10185  10185           10185     10185   \n",
              "2017       11241  11241   11241  11241  11241           11241     11241   \n",
              "2018       11681  11681   11681  11681  11681           11681     11681   \n",
              "2019       11754  11754   11754  11754  11754           11754     11754   \n",
              "2020       10289  10289   10289  10289  10289           10289     10289   \n",
              "2021        5031   5031    5031   5031   5031            5031      5031   \n",
              "\n",
              "          crashDirectionDescription crashFinancialYear crashLocation1  \\\n",
              "                              count              count          count   \n",
              "crashYear                                                               \n",
              "2000                           7897               7897           7897   \n",
              "2001                           8935               8935           8935   \n",
              "2002                          10252              10252          10252   \n",
              "2003                          10722              10722          10722   \n",
              "2004                          10501              10501          10501   \n",
              "2005                          10925              10925          10925   \n",
              "2006                          11432              11432          11432   \n",
              "2007                          12153              12153          12153   \n",
              "2008                          11773              11773          11773   \n",
              "2009                          11225              11225          11225   \n",
              "2010                          10955              10955          10955   \n",
              "2011                           9883               9883           9883   \n",
              "2012                           9675               9675           9675   \n",
              "2013                           9448               9448           9448   \n",
              "2014                           8916               8916           8916   \n",
              "2015                           9774               9774           9774   \n",
              "2016                          10185              10185          10185   \n",
              "2017                          11241              11241          11241   \n",
              "2018                          11681              11681          11681   \n",
              "2019                          11754              11754          11754   \n",
              "2020                          10289              10289          10289   \n",
              "2021                           5031               5031           5031   \n",
              "\n",
              "          crashLocation2 crashSeverity crashSHDescription debris  \\\n",
              "                   count         count              count  count   \n",
              "crashYear                                                          \n",
              "2000                7897          7897               7897   7897   \n",
              "2001                8935          8935               8935   8935   \n",
              "2002               10252         10252              10252  10252   \n",
              "2003               10722         10722              10722  10722   \n",
              "2004               10501         10501              10501  10501   \n",
              "2005               10925         10925              10925  10925   \n",
              "2006               11432         11432              11432  11432   \n",
              "2007               12153         12153              12153  12153   \n",
              "2008               11773         11773              11773  11773   \n",
              "2009               11225         11225              11225  11225   \n",
              "2010               10955         10955              10955  10955   \n",
              "2011                9883          9883               9883   9883   \n",
              "2012                9675          9675               9675   9675   \n",
              "2013                9448          9448               9448   9448   \n",
              "2014                8916          8916               8916   8916   \n",
              "2015                9774          9774               9774   9774   \n",
              "2016               10185         10185              10185  10185   \n",
              "2017               11241         11241              11241  11241   \n",
              "2018               11681         11681              11681  11681   \n",
              "2019               11754         11754              11754  11754   \n",
              "2020               10289         10289              10289  10289   \n",
              "2021                5031          5031               5031   5031   \n",
              "\n",
              "          directionRoleDescription  ditch fatalCount  fence flatHill  \\\n",
              "                             count  count      count  count    count   \n",
              "crashYear                                                              \n",
              "2000                          7897   7897       7897   7897     7897   \n",
              "2001                          8935   8935       8935   8935     8935   \n",
              "2002                         10252  10252      10252  10252    10252   \n",
              "2003                         10722  10722      10722  10722    10722   \n",
              "2004                         10501  10501      10501  10501    10501   \n",
              "2005                         10925  10925      10925  10925    10925   \n",
              "2006                         11432  11432      11432  11432    11432   \n",
              "2007                         12153  12153      12153  12153    12153   \n",
              "2008                         11773  11773      11773  11773    11773   \n",
              "2009                         11225  11225      11225  11225    11225   \n",
              "2010                         10955  10955      10955  10955    10955   \n",
              "2011                          9883   9883       9883   9883     9883   \n",
              "2012                          9675   9675       9675   9675     9675   \n",
              "2013                          9448   9448       9448   9448     9448   \n",
              "2014                          8916   8916       8916   8916     8916   \n",
              "2015                          9774   9774       9774   9774     9774   \n",
              "2016                         10185  10185      10185  10185    10185   \n",
              "2017                         11241  11241      11241  11241    11241   \n",
              "2018                         11681  11681      11681  11681    11681   \n",
              "2019                         11754  11754      11754  11754    11754   \n",
              "2020                         10289  10289      10289  10289    10289   \n",
              "2021                          5031   5031       5031   5031     5031   \n",
              "\n",
              "          guardRail houseOrBuilding   kerb  light minorInjuryCount  moped  \\\n",
              "              count           count  count  count            count  count   \n",
              "crashYear                                                                   \n",
              "2000           7897            7897   7897   7897             7897   7897   \n",
              "2001           8935            8935   8935   8935             8935   8935   \n",
              "2002          10252           10252  10252  10252            10252  10252   \n",
              "2003          10722           10722  10722  10722            10722  10722   \n",
              "2004          10501           10501  10501  10501            10501  10501   \n",
              "2005          10925           10925  10925  10925            10925  10925   \n",
              "2006          11432           11432  11432  11432            11432  11432   \n",
              "2007          12153           12153  12153  12153            12153  12153   \n",
              "2008          11773           11773  11773  11773            11773  11773   \n",
              "2009          11225           11225  11225  11225            11225  11225   \n",
              "2010          10955           10955  10955  10955            10955  10955   \n",
              "2011           9883            9883   9883   9883             9883   9883   \n",
              "2012           9675            9675   9675   9675             9675   9675   \n",
              "2013           9448            9448   9448   9448             9448   9448   \n",
              "2014           8916            8916   8916   8916             8916   8916   \n",
              "2015           9774            9774   9774   9774             9774   9774   \n",
              "2016          10185           10185  10185  10185            10185  10185   \n",
              "2017          11241           11241  11241  11241            11241  11241   \n",
              "2018          11681           11681  11681  11681            11681  11681   \n",
              "2019          11754           11754  11754  11754            11754  11754   \n",
              "2020          10289           10289  10289  10289            10289  10289   \n",
              "2021           5031            5031   5031   5031             5031   5031   \n",
              "\n",
              "          motorcycle NumberOfLanes objectThrownOrDropped otherObject  \\\n",
              "               count         count                 count       count   \n",
              "crashYear                                                              \n",
              "2000            7897          7897                  7897        7897   \n",
              "2001            8935          8935                  8935        8935   \n",
              "2002           10252         10252                 10252       10252   \n",
              "2003           10722         10722                 10722       10722   \n",
              "2004           10501         10501                 10501       10501   \n",
              "2005           10925         10925                 10925       10925   \n",
              "2006           11432         11432                 11432       11432   \n",
              "2007           12153         12153                 12153       12153   \n",
              "2008           11773         11773                 11773       11773   \n",
              "2009           11225         11225                 11225       11225   \n",
              "2010           10955         10955                 10955       10955   \n",
              "2011            9883          9883                  9883        9883   \n",
              "2012            9675          9675                  9675        9675   \n",
              "2013            9448          9448                  9448        9448   \n",
              "2014            8916          8916                  8916        8916   \n",
              "2015            9774          9774                  9774        9774   \n",
              "2016           10185         10185                 10185       10185   \n",
              "2017           11241         11241                 11241       11241   \n",
              "2018           11681         11681                 11681       11681   \n",
              "2019           11754         11754                 11754       11754   \n",
              "2020           10289         10289                 10289       10289   \n",
              "2021            5031          5031                  5031        5031   \n",
              "\n",
              "          otherVehicleType overBank parkedVehicle phoneBoxEtc postOrPole  \\\n",
              "                     count    count         count       count      count   \n",
              "crashYear                                                                  \n",
              "2000                  7897     7897          7897        7897       7897   \n",
              "2001                  8935     8935          8935        8935       8935   \n",
              "2002                 10252    10252         10252       10252      10252   \n",
              "2003                 10722    10722         10722       10722      10722   \n",
              "2004                 10501    10501         10501       10501      10501   \n",
              "2005                 10925    10925         10925       10925      10925   \n",
              "2006                 11432    11432         11432       11432      11432   \n",
              "2007                 12153    12153         12153       12153      12153   \n",
              "2008                 11773    11773         11773       11773      11773   \n",
              "2009                 11225    11225         11225       11225      11225   \n",
              "2010                 10955    10955         10955       10955      10955   \n",
              "2011                  9883     9883          9883        9883       9883   \n",
              "2012                  9675     9675          9675        9675       9675   \n",
              "2013                  9448     9448          9448        9448       9448   \n",
              "2014                  8916     8916          8916        8916       8916   \n",
              "2015                  9774     9774          9774        9774       9774   \n",
              "2016                 10185    10185         10185       10185      10185   \n",
              "2017                 11241    11241         11241       11241      11241   \n",
              "2018                 11681    11681         11681       11681      11681   \n",
              "2019                 11754    11754         11754       11754      11754   \n",
              "2020                 10289    10289         10289       10289      10289   \n",
              "2021                  5031     5031          5031        5031       5031   \n",
              "\n",
              "          region roadCharacter roadLane roadSurface roadworks schoolBus  \\\n",
              "           count         count    count       count     count     count   \n",
              "crashYear                                                                 \n",
              "2000        7897          7897     7897        7897      7897      7897   \n",
              "2001        8935          8935     8935        8935      8935      8935   \n",
              "2002       10252         10252    10252       10252     10252     10252   \n",
              "2003       10722         10722    10722       10722     10722     10722   \n",
              "2004       10501         10501    10501       10501     10501     10501   \n",
              "2005       10925         10925    10925       10925     10925     10925   \n",
              "2006       11432         11432    11432       11432     11432     11432   \n",
              "2007       12153         12153    12153       12153     12153     12153   \n",
              "2008       11773         11773    11773       11773     11773     11773   \n",
              "2009       11225         11225    11225       11225     11225     11225   \n",
              "2010       10955         10955    10955       10955     10955     10955   \n",
              "2011        9883          9883     9883        9883      9883      9883   \n",
              "2012        9675          9675     9675        9675      9675      9675   \n",
              "2013        9448          9448     9448        9448      9448      9448   \n",
              "2014        8916          8916     8916        8916      8916      8916   \n",
              "2015        9774          9774     9774        9774      9774      9774   \n",
              "2016       10185         10185    10185       10185     10185     10185   \n",
              "2017       11241         11241    11241       11241     11241     11241   \n",
              "2018       11681         11681    11681       11681     11681     11681   \n",
              "2019       11754         11754    11754       11754     11754     11754   \n",
              "2020       10289         10289    10289       10289     10289     10289   \n",
              "2021        5031          5031     5031        5031      5031      5031   \n",
              "\n",
              "          seriousInjuryCount slipOrFlood speedLimit strayAnimal streetLight  \\\n",
              "                       count       count      count       count       count   \n",
              "crashYear                                                                     \n",
              "2000                    7897        7897       7897        7897        7897   \n",
              "2001                    8935        8935       8935        8935        8935   \n",
              "2002                   10252       10252      10252       10252       10252   \n",
              "2003                   10722       10722      10722       10722       10722   \n",
              "2004                   10501       10501      10501       10501       10501   \n",
              "2005                   10925       10925      10925       10925       10925   \n",
              "2006                   11432       11432      11432       11432       11432   \n",
              "2007                   12153       12153      12153       12153       12153   \n",
              "2008                   11773       11773      11773       11773       11773   \n",
              "2009                   11225       11225      11225       11225       11225   \n",
              "2010                   10955       10955      10955       10955       10955   \n",
              "2011                    9883        9883       9883        9883        9883   \n",
              "2012                    9675        9675       9675        9675        9675   \n",
              "2013                    9448        9448       9448        9448        9448   \n",
              "2014                    8916        8916       8916        8916        8916   \n",
              "2015                    9774        9774       9774        9774        9774   \n",
              "2016                   10185       10185      10185       10185       10185   \n",
              "2017                   11241       11241      11241       11241       11241   \n",
              "2018                   11681       11681      11681       11681       11681   \n",
              "2019                   11754       11754      11754       11754       11754   \n",
              "2020                   10289       10289      10289       10289       10289   \n",
              "2021                    5031        5031       5031        5031        5031   \n",
              "\n",
              "             suv   taxi tlaName trafficControl trafficIsland trafficSign  \\\n",
              "           count  count   count          count         count       count   \n",
              "crashYear                                                                  \n",
              "2000        7897   7897    7897           7897          7897        7897   \n",
              "2001        8935   8935    8935           8935          8935        8935   \n",
              "2002       10252  10252   10252          10252         10252       10252   \n",
              "2003       10722  10722   10722          10722         10722       10722   \n",
              "2004       10501  10501   10501          10501         10501       10501   \n",
              "2005       10925  10925   10925          10925         10925       10925   \n",
              "2006       11432  11432   11432          11432         11432       11432   \n",
              "2007       12153  12153   12153          12153         12153       12153   \n",
              "2008       11773  11773   11773          11773         11773       11773   \n",
              "2009       11225  11225   11225          11225         11225       11225   \n",
              "2010       10955  10955   10955          10955         10955       10955   \n",
              "2011        9883   9883    9883           9883          9883        9883   \n",
              "2012        9675   9675    9675           9675          9675        9675   \n",
              "2013        9448   9448    9448           9448          9448        9448   \n",
              "2014        8916   8916    8916           8916          8916        8916   \n",
              "2015        9774   9774    9774           9774          9774        9774   \n",
              "2016       10185  10185   10185          10185         10185       10185   \n",
              "2017       11241  11241   11241          11241         11241       11241   \n",
              "2018       11681  11681   11681          11681         11681       11681   \n",
              "2019       11754  11754   11754          11754         11754       11754   \n",
              "2020       10289  10289   10289          10289         10289       10289   \n",
              "2021        5031   5031    5031           5031          5031        5031   \n",
              "\n",
              "           train   tree  truck unknownVehicleType  urban vanOrUtility vehicle  \\\n",
              "           count  count  count              count  count        count   count   \n",
              "crashYear                                                                       \n",
              "2000        7897   7897   7897               7897   7897         7897    7897   \n",
              "2001        8935   8935   8935               8935   8935         8935    8935   \n",
              "2002       10252  10252  10252              10252  10252        10252   10252   \n",
              "2003       10722  10722  10722              10722  10722        10722   10722   \n",
              "2004       10501  10501  10501              10501  10501        10501   10501   \n",
              "2005       10925  10925  10925              10925  10925        10925   10925   \n",
              "2006       11432  11432  11432              11432  11432        11432   11432   \n",
              "2007       12153  12153  12153              12153  12153        12153   12153   \n",
              "2008       11773  11773  11773              11773  11773        11773   11773   \n",
              "2009       11225  11225  11225              11225  11225        11225   11225   \n",
              "2010       10955  10955  10955              10955  10955        10955   10955   \n",
              "2011        9883   9883   9883               9883   9883         9883    9883   \n",
              "2012        9675   9675   9675               9675   9675         9675    9675   \n",
              "2013        9448   9448   9448               9448   9448         9448    9448   \n",
              "2014        8916   8916   8916               8916   8916         8916    8916   \n",
              "2015        9774   9774   9774               9774   9774         9774    9774   \n",
              "2016       10185  10185  10185              10185  10185        10185   10185   \n",
              "2017       11241  11241  11241              11241  11241        11241   11241   \n",
              "2018       11681  11681  11681              11681  11681        11681   11681   \n",
              "2019       11754  11754  11754              11754  11754        11754   11754   \n",
              "2020       10289  10289  10289              10289  10289        10289   10289   \n",
              "2021        5031   5031   5031               5031   5031         5031    5031   \n",
              "\n",
              "          waterRiver weatherA claimAmount  \n",
              "               count    count       count  \n",
              "crashYear                                  \n",
              "2000            7897     7897        7897  \n",
              "2001            8935     8935        8935  \n",
              "2002           10252    10252       10252  \n",
              "2003           10722    10722       10722  \n",
              "2004           10501    10501       10501  \n",
              "2005           10925    10925       10925  \n",
              "2006           11432    11432       11432  \n",
              "2007           12153    12153       12153  \n",
              "2008           11773    11773       11773  \n",
              "2009           11225    11225       11225  \n",
              "2010           10955    10955       10955  \n",
              "2011            9883     9883        9883  \n",
              "2012            9675     9675        9675  \n",
              "2013            9448     9448        9448  \n",
              "2014            8916     8916        8916  \n",
              "2015            9774     9774        9774  \n",
              "2016           10185    10185       10185  \n",
              "2017           11241    11241       11241  \n",
              "2018           11681    11681       11681  \n",
              "2019           11754    11754       11754  \n",
              "2020           10289    10289       10289  \n",
              "2021            5031     5031        5031  "
            ]
          },
          "execution_count": 84,
          "metadata": {},
          "output_type": "execute_result"
        }
      ],
      "source": [
        "df.groupby(['crashYear']).agg(['count'])"
      ]
    },
    {
      "cell_type": "markdown",
      "metadata": {
        "id": "HaF-xPvtfZIM"
      },
      "source": [
        "# Installation of pyspark"
      ]
    },
    {
      "cell_type": "code",
      "execution_count": null,
      "metadata": {
        "colab": {
          "base_uri": "https://localhost:8080/"
        },
        "id": "hduqIa5Tmf7X",
        "outputId": "32544e47-1080-4669-a1e5-73d0d8cff8be"
      },
      "outputs": [
        {
          "output_type": "stream",
          "name": "stdout",
          "text": [
            "/content\n"
          ]
        }
      ],
      "source": [
        "cd /'content'"
      ]
    },
    {
      "cell_type": "code",
      "execution_count": null,
      "metadata": {
        "id": "5qw0K1oKhP8h"
      },
      "outputs": [],
      "source": [
        "!apt-get install openjdk-8-jdk-headless -qq > /dev/null"
      ]
    },
    {
      "cell_type": "code",
      "execution_count": null,
      "metadata": {
        "id": "zAVcUt5ZhRrI"
      },
      "outputs": [],
      "source": [
        "!wget -q https://downloads.apache.org/spark/spark-3.2.1/spark-3.2.1-bin-hadoop3.2.tgz"
      ]
    },
    {
      "cell_type": "code",
      "execution_count": null,
      "metadata": {
        "id": "3OBBPUy1hUY2"
      },
      "outputs": [],
      "source": [
        "!tar xf spark-3.2.1-bin-hadoop3.2.tgz"
      ]
    },
    {
      "cell_type": "code",
      "execution_count": null,
      "metadata": {
        "id": "OKB7ivO4hXSZ"
      },
      "outputs": [],
      "source": [
        "!pip install -q findspark\n",
        "\n",
        "import os\n",
        "os.environ[\"JAVA_HOME\"] = \"/usr/lib/jvm/java-8-openjdk-amd64\"\n",
        "os.environ[\"SPARK_HOME\"] = \"/content/spark-3.2.1-bin-hadoop3.2\""
      ]
    },
    {
      "cell_type": "code",
      "execution_count": null,
      "metadata": {
        "id": "0FOqfFGahZMu"
      },
      "outputs": [],
      "source": [
        "import findspark\n",
        "findspark.init()"
      ]
    },
    {
      "cell_type": "code",
      "execution_count": null,
      "metadata": {
        "id": "alz8n9OChcJB",
        "colab": {
          "base_uri": "https://localhost:8080/",
          "height": 383
        },
        "outputId": "fc472d6c-fa75-4959-c15d-4facd915c158"
      },
      "outputs": [
        {
          "output_type": "error",
          "ename": "ConnectionRefusedError",
          "evalue": "ignored",
          "traceback": [
            "\u001b[0;31m---------------------------------------------------------------------------\u001b[0m",
            "\u001b[0;31mConnectionRefusedError\u001b[0m                    Traceback (most recent call last)",
            "\u001b[0;32m<ipython-input-91-de145ed5c385>\u001b[0m in \u001b[0;36m<module>\u001b[0;34m()\u001b[0m\n\u001b[1;32m      1\u001b[0m \u001b[0;32mfrom\u001b[0m \u001b[0mpyspark\u001b[0m\u001b[0;34m.\u001b[0m\u001b[0msql\u001b[0m \u001b[0;32mimport\u001b[0m \u001b[0mSparkSession\u001b[0m\u001b[0;34m\u001b[0m\u001b[0;34m\u001b[0m\u001b[0m\n\u001b[0;32m----> 2\u001b[0;31m \u001b[0mspark\u001b[0m \u001b[0;34m=\u001b[0m \u001b[0mSparkSession\u001b[0m\u001b[0;34m.\u001b[0m\u001b[0mbuilder\u001b[0m\u001b[0;34m.\u001b[0m\u001b[0mmaster\u001b[0m\u001b[0;34m(\u001b[0m\u001b[0;34m\"local[*]\"\u001b[0m\u001b[0;34m)\u001b[0m\u001b[0;34m.\u001b[0m\u001b[0mgetOrCreate\u001b[0m\u001b[0;34m(\u001b[0m\u001b[0;34m)\u001b[0m\u001b[0;34m\u001b[0m\u001b[0;34m\u001b[0m\u001b[0m\n\u001b[0m\u001b[1;32m      3\u001b[0m \u001b[0;34m\u001b[0m\u001b[0m\n\u001b[1;32m      4\u001b[0m \u001b[0;32mfrom\u001b[0m \u001b[0mpyspark\u001b[0m \u001b[0;32mimport\u001b[0m \u001b[0mSparkContext\u001b[0m\u001b[0;34m\u001b[0m\u001b[0;34m\u001b[0m\u001b[0m\n\u001b[1;32m      5\u001b[0m \u001b[0msc\u001b[0m \u001b[0;34m=\u001b[0m \u001b[0mSparkContext\u001b[0m\u001b[0;34m.\u001b[0m\u001b[0mgetOrCreate\u001b[0m\u001b[0;34m(\u001b[0m\u001b[0;34m)\u001b[0m\u001b[0;34m\u001b[0m\u001b[0;34m\u001b[0m\u001b[0m\n",
            "\u001b[0;32m/content/spark-3.2.1-bin-hadoop3.2/python/pyspark/sql/session.py\u001b[0m in \u001b[0;36mgetOrCreate\u001b[0;34m(self)\u001b[0m\n\u001b[1;32m    231\u001b[0m                     \u001b[0msession\u001b[0m \u001b[0;34m=\u001b[0m \u001b[0mSparkSession\u001b[0m\u001b[0;34m(\u001b[0m\u001b[0msc\u001b[0m\u001b[0;34m)\u001b[0m\u001b[0;34m\u001b[0m\u001b[0;34m\u001b[0m\u001b[0m\n\u001b[1;32m    232\u001b[0m                 \u001b[0;32mfor\u001b[0m \u001b[0mkey\u001b[0m\u001b[0;34m,\u001b[0m \u001b[0mvalue\u001b[0m \u001b[0;32min\u001b[0m \u001b[0mself\u001b[0m\u001b[0;34m.\u001b[0m\u001b[0m_options\u001b[0m\u001b[0;34m.\u001b[0m\u001b[0mitems\u001b[0m\u001b[0;34m(\u001b[0m\u001b[0;34m)\u001b[0m\u001b[0;34m:\u001b[0m\u001b[0;34m\u001b[0m\u001b[0;34m\u001b[0m\u001b[0m\n\u001b[0;32m--> 233\u001b[0;31m                     \u001b[0msession\u001b[0m\u001b[0;34m.\u001b[0m\u001b[0m_jsparkSession\u001b[0m\u001b[0;34m.\u001b[0m\u001b[0msessionState\u001b[0m\u001b[0;34m(\u001b[0m\u001b[0;34m)\u001b[0m\u001b[0;34m.\u001b[0m\u001b[0mconf\u001b[0m\u001b[0;34m(\u001b[0m\u001b[0;34m)\u001b[0m\u001b[0;34m.\u001b[0m\u001b[0msetConfString\u001b[0m\u001b[0;34m(\u001b[0m\u001b[0mkey\u001b[0m\u001b[0;34m,\u001b[0m \u001b[0mvalue\u001b[0m\u001b[0;34m)\u001b[0m\u001b[0;34m\u001b[0m\u001b[0;34m\u001b[0m\u001b[0m\n\u001b[0m\u001b[1;32m    234\u001b[0m                 \u001b[0;32mreturn\u001b[0m \u001b[0msession\u001b[0m\u001b[0;34m\u001b[0m\u001b[0;34m\u001b[0m\u001b[0m\n\u001b[1;32m    235\u001b[0m \u001b[0;34m\u001b[0m\u001b[0m\n",
            "\u001b[0;32m/content/spark-3.2.1-bin-hadoop3.2/python/lib/py4j-0.10.9.3-src.zip/py4j/java_gateway.py\u001b[0m in \u001b[0;36m__call__\u001b[0;34m(self, *args)\u001b[0m\n\u001b[1;32m   1318\u001b[0m             \u001b[0mproto\u001b[0m\u001b[0;34m.\u001b[0m\u001b[0mEND_COMMAND_PART\u001b[0m\u001b[0;34m\u001b[0m\u001b[0;34m\u001b[0m\u001b[0m\n\u001b[1;32m   1319\u001b[0m \u001b[0;34m\u001b[0m\u001b[0m\n\u001b[0;32m-> 1320\u001b[0;31m         \u001b[0manswer\u001b[0m \u001b[0;34m=\u001b[0m \u001b[0mself\u001b[0m\u001b[0;34m.\u001b[0m\u001b[0mgateway_client\u001b[0m\u001b[0;34m.\u001b[0m\u001b[0msend_command\u001b[0m\u001b[0;34m(\u001b[0m\u001b[0mcommand\u001b[0m\u001b[0;34m)\u001b[0m\u001b[0;34m\u001b[0m\u001b[0;34m\u001b[0m\u001b[0m\n\u001b[0m\u001b[1;32m   1321\u001b[0m         return_value = get_return_value(\n\u001b[1;32m   1322\u001b[0m             answer, self.gateway_client, self.target_id, self.name)\n",
            "\u001b[0;32m/content/spark-3.2.1-bin-hadoop3.2/python/lib/py4j-0.10.9.3-src.zip/py4j/java_gateway.py\u001b[0m in \u001b[0;36msend_command\u001b[0;34m(self, command, retry, binary)\u001b[0m\n\u001b[1;32m   1034\u001b[0m          \u001b[0;32mif\u001b[0m\u001b[0;31m \u001b[0m\u001b[0;31m`\u001b[0m\u001b[0mbinary\u001b[0m\u001b[0;31m`\u001b[0m \u001b[0;32mis\u001b[0m\u001b[0;31m \u001b[0m\u001b[0;31m`\u001b[0m\u001b[0;32mTrue\u001b[0m\u001b[0;31m`\u001b[0m\u001b[0;34m.\u001b[0m\u001b[0;34m\u001b[0m\u001b[0;34m\u001b[0m\u001b[0m\n\u001b[1;32m   1035\u001b[0m         \"\"\"\n\u001b[0;32m-> 1036\u001b[0;31m         \u001b[0mconnection\u001b[0m \u001b[0;34m=\u001b[0m \u001b[0mself\u001b[0m\u001b[0;34m.\u001b[0m\u001b[0m_get_connection\u001b[0m\u001b[0;34m(\u001b[0m\u001b[0;34m)\u001b[0m\u001b[0;34m\u001b[0m\u001b[0;34m\u001b[0m\u001b[0m\n\u001b[0m\u001b[1;32m   1037\u001b[0m         \u001b[0;32mtry\u001b[0m\u001b[0;34m:\u001b[0m\u001b[0;34m\u001b[0m\u001b[0;34m\u001b[0m\u001b[0m\n\u001b[1;32m   1038\u001b[0m             \u001b[0mresponse\u001b[0m \u001b[0;34m=\u001b[0m \u001b[0mconnection\u001b[0m\u001b[0;34m.\u001b[0m\u001b[0msend_command\u001b[0m\u001b[0;34m(\u001b[0m\u001b[0mcommand\u001b[0m\u001b[0;34m)\u001b[0m\u001b[0;34m\u001b[0m\u001b[0;34m\u001b[0m\u001b[0m\n",
            "\u001b[0;32m/content/spark-3.2.1-bin-hadoop3.2/python/lib/py4j-0.10.9.3-src.zip/py4j/clientserver.py\u001b[0m in \u001b[0;36m_get_connection\u001b[0;34m(self)\u001b[0m\n\u001b[1;32m    279\u001b[0m \u001b[0;34m\u001b[0m\u001b[0m\n\u001b[1;32m    280\u001b[0m         \u001b[0;32mif\u001b[0m \u001b[0mconnection\u001b[0m \u001b[0;32mis\u001b[0m \u001b[0;32mNone\u001b[0m \u001b[0;32mor\u001b[0m \u001b[0mconnection\u001b[0m\u001b[0;34m.\u001b[0m\u001b[0msocket\u001b[0m \u001b[0;32mis\u001b[0m \u001b[0;32mNone\u001b[0m\u001b[0;34m:\u001b[0m\u001b[0;34m\u001b[0m\u001b[0;34m\u001b[0m\u001b[0m\n\u001b[0;32m--> 281\u001b[0;31m             \u001b[0mconnection\u001b[0m \u001b[0;34m=\u001b[0m \u001b[0mself\u001b[0m\u001b[0;34m.\u001b[0m\u001b[0m_create_new_connection\u001b[0m\u001b[0;34m(\u001b[0m\u001b[0;34m)\u001b[0m\u001b[0;34m\u001b[0m\u001b[0;34m\u001b[0m\u001b[0m\n\u001b[0m\u001b[1;32m    282\u001b[0m         \u001b[0;32mreturn\u001b[0m \u001b[0mconnection\u001b[0m\u001b[0;34m\u001b[0m\u001b[0;34m\u001b[0m\u001b[0m\n\u001b[1;32m    283\u001b[0m \u001b[0;34m\u001b[0m\u001b[0m\n",
            "\u001b[0;32m/content/spark-3.2.1-bin-hadoop3.2/python/lib/py4j-0.10.9.3-src.zip/py4j/clientserver.py\u001b[0m in \u001b[0;36m_create_new_connection\u001b[0;34m(self)\u001b[0m\n\u001b[1;32m    286\u001b[0m             \u001b[0mself\u001b[0m\u001b[0;34m.\u001b[0m\u001b[0mjava_parameters\u001b[0m\u001b[0;34m,\u001b[0m \u001b[0mself\u001b[0m\u001b[0;34m.\u001b[0m\u001b[0mpython_parameters\u001b[0m\u001b[0;34m,\u001b[0m\u001b[0;34m\u001b[0m\u001b[0;34m\u001b[0m\u001b[0m\n\u001b[1;32m    287\u001b[0m             self.gateway_property, self)\n\u001b[0;32m--> 288\u001b[0;31m         \u001b[0mconnection\u001b[0m\u001b[0;34m.\u001b[0m\u001b[0mconnect_to_java_server\u001b[0m\u001b[0;34m(\u001b[0m\u001b[0;34m)\u001b[0m\u001b[0;34m\u001b[0m\u001b[0;34m\u001b[0m\u001b[0m\n\u001b[0m\u001b[1;32m    289\u001b[0m         \u001b[0mself\u001b[0m\u001b[0;34m.\u001b[0m\u001b[0mset_thread_connection\u001b[0m\u001b[0;34m(\u001b[0m\u001b[0mconnection\u001b[0m\u001b[0;34m)\u001b[0m\u001b[0;34m\u001b[0m\u001b[0;34m\u001b[0m\u001b[0m\n\u001b[1;32m    290\u001b[0m         \u001b[0;32mreturn\u001b[0m \u001b[0mconnection\u001b[0m\u001b[0;34m\u001b[0m\u001b[0;34m\u001b[0m\u001b[0m\n",
            "\u001b[0;32m/content/spark-3.2.1-bin-hadoop3.2/python/lib/py4j-0.10.9.3-src.zip/py4j/clientserver.py\u001b[0m in \u001b[0;36mconnect_to_java_server\u001b[0;34m(self)\u001b[0m\n\u001b[1;32m    400\u001b[0m                 self.socket = self.ssl_context.wrap_socket(\n\u001b[1;32m    401\u001b[0m                     self.socket, server_hostname=self.java_address)\n\u001b[0;32m--> 402\u001b[0;31m             \u001b[0mself\u001b[0m\u001b[0;34m.\u001b[0m\u001b[0msocket\u001b[0m\u001b[0;34m.\u001b[0m\u001b[0mconnect\u001b[0m\u001b[0;34m(\u001b[0m\u001b[0;34m(\u001b[0m\u001b[0mself\u001b[0m\u001b[0;34m.\u001b[0m\u001b[0mjava_address\u001b[0m\u001b[0;34m,\u001b[0m \u001b[0mself\u001b[0m\u001b[0;34m.\u001b[0m\u001b[0mjava_port\u001b[0m\u001b[0;34m)\u001b[0m\u001b[0;34m)\u001b[0m\u001b[0;34m\u001b[0m\u001b[0;34m\u001b[0m\u001b[0m\n\u001b[0m\u001b[1;32m    403\u001b[0m             \u001b[0mself\u001b[0m\u001b[0;34m.\u001b[0m\u001b[0mstream\u001b[0m \u001b[0;34m=\u001b[0m \u001b[0mself\u001b[0m\u001b[0;34m.\u001b[0m\u001b[0msocket\u001b[0m\u001b[0;34m.\u001b[0m\u001b[0mmakefile\u001b[0m\u001b[0;34m(\u001b[0m\u001b[0;34m\"rb\"\u001b[0m\u001b[0;34m)\u001b[0m\u001b[0;34m\u001b[0m\u001b[0;34m\u001b[0m\u001b[0m\n\u001b[1;32m    404\u001b[0m             \u001b[0mself\u001b[0m\u001b[0;34m.\u001b[0m\u001b[0mis_connected\u001b[0m \u001b[0;34m=\u001b[0m \u001b[0;32mTrue\u001b[0m\u001b[0;34m\u001b[0m\u001b[0;34m\u001b[0m\u001b[0m\n",
            "\u001b[0;31mConnectionRefusedError\u001b[0m: [Errno 111] Connection refused"
          ]
        }
      ],
      "source": [
        "from pyspark.sql import SparkSession\n",
        "spark = SparkSession.builder.master(\"local[*]\").getOrCreate()\n",
        "\n",
        "from pyspark import SparkContext\n",
        "sc = SparkContext.getOrCreate()"
      ]
    },
    {
      "cell_type": "code",
      "execution_count": null,
      "metadata": {
        "id": "6xAdUOoXfe1z"
      },
      "outputs": [],
      "source": [
        "spark"
      ]
    },
    {
      "cell_type": "code",
      "execution_count": null,
      "metadata": {
        "id": "6poXfWIQfgqD"
      },
      "outputs": [],
      "source": [
        "df_train.to_csv('train.csv')"
      ]
    },
    {
      "cell_type": "code",
      "source": [
        "df_test.to_csv('test.csv')"
      ],
      "metadata": {
        "id": "CpOr0gZalBoI"
      },
      "execution_count": null,
      "outputs": []
    },
    {
      "cell_type": "code",
      "execution_count": null,
      "metadata": {
        "id": "Hlz8Hn7bhgYp"
      },
      "outputs": [],
      "source": [
        "df = spark.read.option(\"header\", True).csv('train.csv', inferSchema=True)"
      ]
    },
    {
      "cell_type": "code",
      "source": [
        "df.printSchema()"
      ],
      "metadata": {
        "colab": {
          "base_uri": "https://localhost:8080/"
        },
        "id": "q8dUy72T1W3f",
        "outputId": "c7eef5ca-7d41-41b2-e2b4-a4783a563e4e"
      },
      "execution_count": null,
      "outputs": [
        {
          "output_type": "stream",
          "name": "stdout",
          "text": [
            "root\n",
            " |-- _c0: integer (nullable = true)\n",
            " |-- X: double (nullable = true)\n",
            " |-- Y: double (nullable = true)\n",
            " |-- bicycle: double (nullable = true)\n",
            " |-- bridge: double (nullable = true)\n",
            " |-- bus: double (nullable = true)\n",
            " |-- carStationWagon: double (nullable = true)\n",
            " |-- cliffBank: double (nullable = true)\n",
            " |-- crashDirectionDescription: string (nullable = true)\n",
            " |-- crashFinancialYear: double (nullable = true)\n",
            " |-- crashLocation1: string (nullable = true)\n",
            " |-- crashLocation2: string (nullable = true)\n",
            " |-- crashSeverity: integer (nullable = true)\n",
            " |-- crashSHDescription: integer (nullable = true)\n",
            " |-- crashYear: integer (nullable = true)\n",
            " |-- debris: double (nullable = true)\n",
            " |-- directionRoleDescription: string (nullable = true)\n",
            " |-- ditch: double (nullable = true)\n",
            " |-- fatalCount: double (nullable = true)\n",
            " |-- fence: double (nullable = true)\n",
            " |-- flatHill: integer (nullable = true)\n",
            " |-- guardRail: double (nullable = true)\n",
            " |-- houseOrBuilding: double (nullable = true)\n",
            " |-- kerb: double (nullable = true)\n",
            " |-- light: integer (nullable = true)\n",
            " |-- minorInjuryCount: double (nullable = true)\n",
            " |-- moped: double (nullable = true)\n",
            " |-- motorcycle: double (nullable = true)\n",
            " |-- NumberOfLanes: double (nullable = true)\n",
            " |-- objectThrownOrDropped: double (nullable = true)\n",
            " |-- otherObject: double (nullable = true)\n",
            " |-- otherVehicleType: double (nullable = true)\n",
            " |-- overBank: double (nullable = true)\n",
            " |-- parkedVehicle: double (nullable = true)\n",
            " |-- phoneBoxEtc: double (nullable = true)\n",
            " |-- postOrPole: double (nullable = true)\n",
            " |-- region: string (nullable = true)\n",
            " |-- roadCharacter: string (nullable = true)\n",
            " |-- roadLane: integer (nullable = true)\n",
            " |-- roadSurface: string (nullable = true)\n",
            " |-- roadworks: double (nullable = true)\n",
            " |-- schoolBus: double (nullable = true)\n",
            " |-- seriousInjuryCount: double (nullable = true)\n",
            " |-- slipOrFlood: double (nullable = true)\n",
            " |-- speedLimit: double (nullable = true)\n",
            " |-- strayAnimal: double (nullable = true)\n",
            " |-- streetLight: string (nullable = true)\n",
            " |-- suv: double (nullable = true)\n",
            " |-- taxi: double (nullable = true)\n",
            " |-- tlaName: string (nullable = true)\n",
            " |-- trafficControl: string (nullable = true)\n",
            " |-- trafficIsland: double (nullable = true)\n",
            " |-- trafficSign: double (nullable = true)\n",
            " |-- train: double (nullable = true)\n",
            " |-- tree: double (nullable = true)\n",
            " |-- truck: double (nullable = true)\n",
            " |-- unknownVehicleType: double (nullable = true)\n",
            " |-- urban: string (nullable = true)\n",
            " |-- vanOrUtility: double (nullable = true)\n",
            " |-- vehicle: double (nullable = true)\n",
            " |-- waterRiver: double (nullable = true)\n",
            " |-- weatherA: integer (nullable = true)\n",
            " |-- claimAmount: double (nullable = true)\n",
            "\n"
          ]
        }
      ]
    },
    {
      "cell_type": "code",
      "execution_count": null,
      "metadata": {
        "id": "s-Tk7Q15n8rm"
      },
      "outputs": [],
      "source": [
        "bootstrapped_data = df.sample(withReplacement = True, fraction = 10.0)"
      ]
    },
    {
      "cell_type": "code",
      "execution_count": null,
      "metadata": {
        "colab": {
          "base_uri": "https://localhost:8080/"
        },
        "id": "w9lqgCavoFI8",
        "outputId": "2fb830db-5fcc-4d8f-c274-22b34918662c"
      },
      "outputs": [
        {
          "name": "stdout",
          "output_type": "stream",
          "text": [
            "+-------+------------------+------------------+-----------------+------------------+-------------------+--------------------+------------------+------------------+-------------------------+------------------+--------------+--------------+-------------+------------------+------------------+--------------------+------------------------+-------------------+-------------------+-------------------+--------+-------------------+-------------------+--------------------+----------+------------------+--------------------+-------------------+------------------+---------------------+--------------------+-------------------+--------------------+-------------------+--------------------+--------------------+-----------------+-------------+--------+-----------+-------------------+--------------------+-------------------+--------------------+------------------+--------------------+-----------+------------------+--------------------+-------------------+--------------+--------------------+-------------------+--------------------+-------------------+-------------------+--------------------+------+-------------------+--------------------+--------------------+--------+------------------+\n",
            "|summary|               _c0|                 X|                Y|           bicycle|             bridge|                 bus|   carStationWagon|         cliffBank|crashDirectionDescription|crashFinancialYear|crashLocation1|crashLocation2|crashSeverity|crashSHDescription|         crashYear|              debris|directionRoleDescription|              ditch|         fatalCount|              fence|flatHill|          guardRail|    houseOrBuilding|                kerb|     light|  minorInjuryCount|               moped|         motorcycle|     NumberOfLanes|objectThrownOrDropped|         otherObject|   otherVehicleType|            overBank|      parkedVehicle|         phoneBoxEtc|          postOrPole|           region|roadCharacter|roadLane|roadSurface|          roadworks|           schoolBus| seriousInjuryCount|         slipOrFlood|        speedLimit|         strayAnimal|streetLight|               suv|                taxi|            tlaName|trafficControl|       trafficIsland|        trafficSign|               train|               tree|              truck|  unknownVehicleType| urban|       vanOrUtility|             vehicle|          waterRiver|weatherA|       claimAmount|\n",
            "+-------+------------------+------------------+-----------------+------------------+-------------------+--------------------+------------------+------------------+-------------------------+------------------+--------------+--------------+-------------+------------------+------------------+--------------------+------------------------+-------------------+-------------------+-------------------+--------+-------------------+-------------------+--------------------+----------+------------------+--------------------+-------------------+------------------+---------------------+--------------------+-------------------+--------------------+-------------------+--------------------+--------------------+-----------------+-------------+--------+-----------+-------------------+--------------------+-------------------+--------------------+------------------+--------------------+-----------+------------------+--------------------+-------------------+--------------+--------------------+-------------------+--------------------+-------------------+-------------------+--------------------+------+-------------------+--------------------+--------------------+--------+------------------+\n",
            "|  count|            179808|            179808|           179808|            179808|             179808|              179808|            179808|            179808|                   179808|            179808|        179808|        179808|       179808|            179808|            179808|              179808|                  179808|             179808|             179808|             179808|  179808|             179808|             179808|              179808|    179808|            179808|              179808|             179808|            179808|               179808|              179808|             179808|              179808|             179808|              179808|              179808|           179808|       179808|  179808|     179808|             179808|              179808|             179808|              179808|            179808|              179808|     179808|            179808|              179808|             179808|        179808|              179808|             179808|              179808|             179808|             179808|              179808|179808|             179808|              179808|              179808|  179808|            179808|\n",
            "|   mean|379699.24206931837|1706934.4748412813|5607359.685360086|0.0770266061576793|0.00774715251824168|0.014521044669870083|1.1307116479800676|0.0632730468054814|                     null|              null|          null|          null|         null|              null|2010.3990089428723|0.002447054636056238|                    null|0.05156611496707599|0.03525427122263748|0.09465652251290266|    null|0.03085513436554547|0.01005516995906745|0.013508853888592276|      null| 1.068573144687667|0.018792267307350063|0.09129738387613455| 2.292339606691582| 4.282345613098416E-4|0.010483404520377292|0.00543913507741591|0.026667334045203772|0.05798963338672362|0.004204484783769354|0.059474550631785014|             null|         null|    null|       null|8.00854244527496E-4|0.001078928634988...|0.23213650115678947|7.897312689090585E-4| 70.06776672895533|5.450258053034348E-4|       null|0.1070586403274604|0.008753781811710269|               null|          null|0.010466720056949635|0.02041622174764193|0.001117859049652963|0.05878492614344189|0.07683751557216587|0.001190158391172...|  null| 0.1704429168891262|0.009176454885210891|0.006879560420003...|    null|  5486136.14974306|\n",
            "| stddev|219317.40327969883| 166673.9912435936|347443.9641319181| 0.272922021684775|0.08931055857342604| 0.12124178252438107|0.8170738195790369|0.2447527550785798|                     null|              null|          null|          null|         null|              null| 6.124342624542611|0.051501629564551274|                    null| 0.2237998318241981|0.21310258129438522|0.29632839719355436|    null|0.17809075345043146| 0.1008238889746618| 0.11625631383791889|      null|0.7683330727337184| 0.13624086743180014|  0.300228233421148|0.8960193411590083| 0.021480751139618136| 0.10266647945973183|0.07460096177028296|  0.1616954647882615|0.25928660026765826| 0.06479161530597578| 0.23780119136955774|             null|         null|    null|       null|0.02944410895713916| 0.03282941580346455| 0.5170978240920606|0.028484347579447615|23.787520954620298|0.025611758168561982|       null|0.3282946017882095| 0.09562619383816368|               null|          null| 0.10307365487494752| 0.1429451269750481| 0.03341579941947224|0.23689512864868026|0.28128359684758936|0.035589461751207925|  null|0.40499033761173353| 0.09743062904909536| 0.08306026902732891|    null|4159679.8100373694|\n",
            "|    min|            100000|         1150346.0|        4793921.0|               0.0|                0.0|                 0.0|               0.0|               0.0|                     East|         1999/2000| BAY VIEW ROAD|  CROSBY ROAD |  Fatal Crash|                No|              2000|                 0.0|                    East|                0.0|                0.0|                0.0|    Flat|                0.0|                0.0|                 0.0|Bright sun|               0.0|                 0.0|                0.0|               0.0|                  0.0|                 0.0|                0.0|                 0.0|                0.0|                 0.0|                 0.0|  Auckland Region|       Bridge|   1-way|End of seal|                0.0|                 0.0|                0.0|                 0.0|               0.0|                 0.0|       None|               0.0|                 0.0| Ashburton District|      Give way|                 0.0|                0.0|                 0.0|                0.0|                0.0|                 0.0|  Open|                0.0|                 0.0|                 0.0|    Fine|         1000000.0|\n",
            "|    max|             99998|      2465297.4807|        6190024.0|               5.0|                4.0|                 3.0|               9.0|               3.0|                     West|         2020/2021|  ZURICH PLACE|  alecia drive|Serious Crash|               Yes|              2021|                 3.0|                    West|                3.0|                9.0|                2.0|    None|                4.0|                2.0|                 3.0|   Unknown|               9.0|                 2.0|                8.0|               8.0|                  2.0|                 3.0|                2.0|                 3.0|                5.0|                 2.0|                 2.0|West Coast Region|    Underpass|Off road|   Unsealed|                2.0|                 1.0|                9.0|                 2.0|              90.0|                 2.0|         On|               4.0|                 5.0|Ōtorohanga District|       Unknown|                 2.0|                4.0|                 1.0|                3.0|                5.0|                 2.0| Urban|                5.0|                 4.0|                 2.0|    Snow|         9999944.0|\n",
            "+-------+------------------+------------------+-----------------+------------------+-------------------+--------------------+------------------+------------------+-------------------------+------------------+--------------+--------------+-------------+------------------+------------------+--------------------+------------------------+-------------------+-------------------+-------------------+--------+-------------------+-------------------+--------------------+----------+------------------+--------------------+-------------------+------------------+---------------------+--------------------+-------------------+--------------------+-------------------+--------------------+--------------------+-----------------+-------------+--------+-----------+-------------------+--------------------+-------------------+--------------------+------------------+--------------------+-----------+------------------+--------------------+-------------------+--------------+--------------------+-------------------+--------------------+-------------------+-------------------+--------------------+------+-------------------+--------------------+--------------------+--------+------------------+\n",
            "\n"
          ]
        }
      ],
      "source": [
        "#df.describe().show()"
      ]
    },
    {
      "cell_type": "code",
      "execution_count": null,
      "metadata": {
        "colab": {
          "base_uri": "https://localhost:8080/"
        },
        "id": "Y9mJZ3dJoHQa",
        "outputId": "b4158b83-6530-4678-f1b4-f3ee7f3961aa"
      },
      "outputs": [
        {
          "name": "stdout",
          "output_type": "stream",
          "text": [
            "+-------+------------------+------------------+-----------------+------------------+--------------------+--------------------+------------------+-------------------+-------------------------+------------------+--------------+--------------+-------------+------------------+------------------+--------------------+------------------------+--------------------+-------------------+-------------------+--------+--------------------+--------------------+--------------------+----------+------------------+--------------------+-------------------+------------------+---------------------+--------------------+--------------------+--------------------+-------------------+--------------------+-------------------+-----------------+-------------+--------+-----------+--------------------+--------------------+-------------------+--------------------+------------------+--------------------+-----------+------------------+--------------------+-------------------+--------------+--------------------+--------------------+--------------------+--------------------+-------------------+--------------------+-------+-------------------+-------------------+--------------------+--------+------------------+\n",
            "|summary|               _c0|                 X|                Y|           bicycle|              bridge|                 bus|   carStationWagon|          cliffBank|crashDirectionDescription|crashFinancialYear|crashLocation1|crashLocation2|crashSeverity|crashSHDescription|         crashYear|              debris|directionRoleDescription|               ditch|         fatalCount|              fence|flatHill|           guardRail|     houseOrBuilding|                kerb|     light|  minorInjuryCount|               moped|         motorcycle|     NumberOfLanes|objectThrownOrDropped|         otherObject|    otherVehicleType|            overBank|      parkedVehicle|         phoneBoxEtc|         postOrPole|           region|roadCharacter|roadLane|roadSurface|           roadworks|           schoolBus| seriousInjuryCount|         slipOrFlood|        speedLimit|         strayAnimal|streetLight|               suv|                taxi|            tlaName|trafficControl|       trafficIsland|         trafficSign|               train|                tree|              truck|  unknownVehicleType|  urban|       vanOrUtility|            vehicle|          waterRiver|weatherA|       claimAmount|\n",
            "+-------+------------------+------------------+-----------------+------------------+--------------------+--------------------+------------------+-------------------+-------------------------+------------------+--------------+--------------+-------------+------------------+------------------+--------------------+------------------------+--------------------+-------------------+-------------------+--------+--------------------+--------------------+--------------------+----------+------------------+--------------------+-------------------+------------------+---------------------+--------------------+--------------------+--------------------+-------------------+--------------------+-------------------+-----------------+-------------+--------+-----------+--------------------+--------------------+-------------------+--------------------+------------------+--------------------+-----------+------------------+--------------------+-------------------+--------------+--------------------+--------------------+--------------------+--------------------+-------------------+--------------------+-------+-------------------+-------------------+--------------------+--------+------------------+\n",
            "|  count|           1798885|           1798885|          1798885|           1798885|             1798885|             1798885|           1798885|            1798885|                  1798885|           1798885|       1798885|       1798885|      1798885|           1798885|           1798885|             1798885|                 1798885|             1798885|            1798885|            1798885| 1798885|             1798885|             1798885|             1798885|   1798885|           1798885|             1798885|            1798885|           1798885|              1798885|             1798885|             1798885|             1798885|            1798885|             1798885|            1798885|          1798885|      1798885| 1798885|    1798885|             1798885|             1798885|            1798885|             1798885|           1798885|             1798885|    1798885|           1798885|             1798885|            1798885|       1798885|             1798885|             1798885|             1798885|             1798885|            1798885|             1798885|1798885|            1798885|            1798885|             1798885| 1798885|           1798885|\n",
            "|   mean|379506.67284234404|1706936.0886063548|5607267.425472433|0.0772161644574278|0.007597483997031494|0.014695213979770803|1.1303268413489467|0.06332644943951392|                     null|              null|          null|          null|         null|              null|  2010.40064095259|0.002414829185856...|                    null|0.051788746918229905|0.03504059459053803|0.09486543053057866|    null|0.030709022533402637|0.010217440247708997|0.013462783891132563|      null| 1.069292367216359|0.018759954082667875|0.09126264324845668| 2.292082595607835| 4.441640238258699E-4|0.010452030007476854|0.005500073656737368|0.026876092690750104|0.05810265803539415|0.004203715079062864|0.05952798539095051|             null|         null|    null|       null|8.116138608082229E-4|0.001132368105798...|0.23220772867637454|7.777039666237698E-4| 70.02516836818363|5.575676043771559E-4|       null|0.1070185142463248|0.008740970100923628|               null|          null|0.010528188294415708|0.020600538667007617|0.001146265603415449|0.058574617054453174|0.07651517467764754|0.001201855593881...|   null|0.17028437059623044|0.00919625212284276|0.006847575025640883|    null| 5488278.898294777|\n",
            "| stddev|219314.97452385462|166594.32387523932|347467.9942039087|0.2733870409404601|  0.0888506092361479|  0.1220408713271789|0.8165996476501917|0.24483774679711132|                     null|              null|          null|          null|         null|              null|6.1228232388364985| 0.05114483360530418|                    null|  0.2243526857006657|0.21198716233430226|0.29687013595971035|    null| 0.17802456335012307| 0.10155927166778912| 0.11605312230199567|      null|0.7696300758246941| 0.13613839240566342| 0.3001359429429694|0.8968759922186139| 0.021923877463862092| 0.10248360887136067| 0.07495870292669055| 0.16228749163700623|0.25986799554642015| 0.06476836101862349|0.23797140903119454|             null|         null|    null|       null|0.029756448430441257| 0.03363162911669159| 0.5175150227252403| 0.02823317167529006|23.775982364687707| 0.02583263971864014|       null|0.3282035704421343| 0.09564624166772322|               null|          null| 0.10352554009542554|  0.1438009091860687| 0.03383714401454086|  0.2365580762929638|0.28076707702702614| 0.03583011075025038|   null|0.40491091091889486|0.09736941961832987| 0.08288988448138077|    null|4171472.0541138244|\n",
            "|    min|            100000|         1150346.0|        4793921.0|               0.0|                 0.0|                 0.0|               0.0|                0.0|                     East|         1999/2000| BAY VIEW ROAD|  CROSBY ROAD |  Fatal Crash|                No|              2000|                 0.0|                    East|                 0.0|                0.0|                0.0|    Flat|                 0.0|                 0.0|                 0.0|Bright sun|               0.0|                 0.0|                0.0|               0.0|                  0.0|                 0.0|                 0.0|                 0.0|                0.0|                 0.0|                0.0|  Auckland Region|       Bridge|   1-way|End of seal|                 0.0|                 0.0|                0.0|                 0.0|               0.0|                 0.0|       None|               0.0|                 0.0| Ashburton District|      Give way|                 0.0|                 0.0|                 0.0|                 0.0|                0.0|                 0.0|   Open|                0.0|                0.0|                 0.0|    Fine|         1000000.0|\n",
            "|    max|             99998|      2465297.4807|        6190024.0|               5.0|                 4.0|                 3.0|               9.0|                3.0|                     West|         2020/2021|  ZURICH PLACE|  alecia drive|Serious Crash|               Yes|              2021|                 3.0|                    West|                 3.0|                9.0|                2.0|    None|                 4.0|                 2.0|                 3.0|   Unknown|               9.0|                 2.0|                8.0|               8.0|                  2.0|                 3.0|                 2.0|                 3.0|                5.0|                 2.0|                2.0|West Coast Region|    Underpass|Off road|   Unsealed|                 2.0|                 1.0|                9.0|                 2.0|              90.0|                 2.0|         On|               4.0|                 5.0|Ōtorohanga District|       Unknown|                 2.0|                 4.0|                 1.0|                 3.0|                5.0|                 2.0|  Urban|                5.0|                4.0|                 2.0|    Snow|         9999944.0|\n",
            "+-------+------------------+------------------+-----------------+------------------+--------------------+--------------------+------------------+-------------------+-------------------------+------------------+--------------+--------------+-------------+------------------+------------------+--------------------+------------------------+--------------------+-------------------+-------------------+--------+--------------------+--------------------+--------------------+----------+------------------+--------------------+-------------------+------------------+---------------------+--------------------+--------------------+--------------------+-------------------+--------------------+-------------------+-----------------+-------------+--------+-----------+--------------------+--------------------+-------------------+--------------------+------------------+--------------------+-----------+------------------+--------------------+-------------------+--------------+--------------------+--------------------+--------------------+--------------------+-------------------+--------------------+-------+-------------------+-------------------+--------------------+--------+------------------+\n",
            "\n"
          ]
        }
      ],
      "source": [
        "#bootstrapped_data.describe().show()"
      ]
    },
    {
      "cell_type": "code",
      "execution_count": null,
      "metadata": {
        "id": "Q8USidXmsIvo"
      },
      "outputs": [],
      "source": [
        "df.createOrReplaceTempView(\"da\")"
      ]
    },
    {
      "cell_type": "code",
      "execution_count": null,
      "metadata": {
        "id": "_qCRWDMPoLng"
      },
      "outputs": [],
      "source": [
        "bootstrapped_data.createOrReplaceTempView(\"data\")"
      ]
    },
    {
      "cell_type": "code",
      "execution_count": null,
      "metadata": {
        "colab": {
          "base_uri": "https://localhost:8080/"
        },
        "id": "xSvBsd2IoM1H",
        "outputId": "e2f7366a-fba5-4286-a181-e05e04366e3f"
      },
      "outputs": [
        {
          "output_type": "stream",
          "name": "stdout",
          "text": [
            "+------+------------+------------+-------+------+---+---------------+---------+-------------------------+-------------------+--------------------+--------------------+-------------+------------------+---------+------+------------------------+-----+----------+-----+--------+---------+---------------+----+-----+----------------+-----+----------+-------------+---------------------+-----------+----------------+--------+-------------+-----------+----------+--------------------+-------------+--------+-----------+---------+---------+------------------+-----------+----------+-----------+-----------+---+----+--------------------+---------------+-------------+-----------+-----+----+-----+------------------+-----+------------+-------+----------+--------+-----------+-------+------------+\n",
            "|   _c0|           X|           Y|bicycle|bridge|bus|carStationWagon|cliffBank|crashDirectionDescription| crashFinancialYear|      crashLocation1|      crashLocation2|crashSeverity|crashSHDescription|crashYear|debris|directionRoleDescription|ditch|fatalCount|fence|flatHill|guardRail|houseOrBuilding|kerb|light|minorInjuryCount|moped|motorcycle|NumberOfLanes|objectThrownOrDropped|otherObject|otherVehicleType|overBank|parkedVehicle|phoneBoxEtc|postOrPole|              region|roadCharacter|roadLane|roadSurface|roadworks|schoolBus|seriousInjuryCount|slipOrFlood|speedLimit|strayAnimal|streetLight|suv|taxi|             tlaName| trafficControl|trafficIsland|trafficSign|train|tree|truck|unknownVehicleType|urban|vanOrUtility|vehicle|waterRiver|weatherA|claimAmount|user_id|partition_id|\n",
            "+------+------------+------------+-------+------+---+---------------+---------+-------------------------+-------------------+--------------------+--------------------+-------------+------------------+---------+------+------------------------+-----+----------+-----+--------+---------+---------------+----+-----+----------------+-----+----------+-------------+---------------------+-----------+----------------+--------+-------------+-----------+----------+--------------------+-------------+--------+-----------+---------+---------+------------------+-----------+----------+-----------+-----------+---+----+--------------------+---------------+-------------+-----------+-----+----+-----+------------------+-----+------------+-------+----------+--------+-----------+-------+------------+\n",
            "|676391|1576177.3151|5238621.5064|    0.0|   0.0|0.0|            1.0|      0.0|                    South| 10.124430773613714|      WEKA PASS ROAD|          ARCHERS BR|            0|                 2|     2020|   0.0|                   South|  0.0|       1.0|  0.0|       1|      0.0|            0.0| 0.0|    0|             0.0|  0.0|       0.0|          2.0|                  0.0|        0.0|             0.0|     0.0|          0.0|        0.0|       0.0|   Canterbury Region|       Bridge|       1|     Sealed|      0.0|      0.0|               0.0|        0.0|      80.0|        0.0|       None|0.0| 0.0|    Hurunui District|            Nil|          0.0|        0.0|  0.0| 0.0|  0.0|               0.0| Open|         3.0|    0.0|       0.0|       0|   250000.0|      1|           1|\n",
            "|378345|   1801696.0|   5814915.0|    1.0|   0.0|0.0|            1.0|      0.0|                     None|-10.875569226386286|           BRIDGE ST|      MEMORIAL DRIVE|            1|                 0|     2000|   0.0|                    East|  0.0|       0.0|  0.0|       0|      0.0|            0.0| 0.0|    2|             1.0|  0.0|       0.0|          1.0|                  0.0|        0.0|             0.0|     0.0|          0.0|        0.0|       0.0|      Waikato Region|          Nil|       1|     Sealed|      0.0|      0.0|               0.0|        0.0|      50.0|        0.0|        Off|0.0| 0.0|       Hamilton City|       Give way|          0.0|        0.0|  0.0| 0.0|  0.0|               0.0|Urban|         0.0|    0.0|       0.0|       0|  3419294.0|      2|           5|\n",
            "|701177|   1825923.0|   5886369.0|    0.0|   0.0|0.0|            2.0|      0.0|                     None|  2.124430773613714|           POLLEN ST|         RICHMOND ST|            3|                 0|     2012|   0.0|                    East|  0.0|       0.0|  0.0|       0|      0.0|            0.0| 0.0|    0|             0.0|  0.0|       0.0|          2.0|                  0.0|        0.0|             0.0|     0.0|          0.0|        0.0|       0.0|      Waikato Region|          Nil|       1|     Sealed|      0.0|      0.0|               1.0|        0.0|      50.0|        0.0|       None|0.0| 0.0|Thames-Coromandel...|       Give way|          0.0|        0.0|  0.0| 0.0|  0.0|               0.0|Urban|         0.0|    0.0|       0.0|       0|  9906680.0|      3|           7|\n",
            "|137774|   1677776.0|   5405406.0|    0.0|   0.0|0.0|            1.0|      0.0|                     None|  2.124430773613714|        MURPHYS ROAD|    OLD RENWICK ROAD|            1|                 0|     2013|   0.0|                    East|  0.0|       0.0|  0.0|       0|      0.0|            0.0| 0.0|    2|             4.0|  0.0|       0.0|          2.0|                  0.0|        0.0|             0.0|     0.0|          0.0|        0.0|       0.0|  Marlborough Region|          Nil|       1|     Sealed|      0.0|      0.0|               0.0|        0.0|      50.0|        0.0|       None|0.0| 0.0|Marlborough District|           Stop|          0.0|        0.0|  0.0| 0.0|  0.0|               0.0|Urban|         1.0|    0.0|       0.0|       3|1.0093232E7|      4|           4|\n",
            "|169506|   1889360.0|   5774583.0|    0.0|   0.0|0.0|            2.0|      0.0|                     West| -6.875569226386286|               SH 30|      SUNRISE AVENUE|            1|                 2|     2003|   0.0|                   North|  0.0|       0.0|  0.0|       0|      0.0|            0.0| 0.0|    0|             2.0|  0.0|       0.0|          2.0|                  0.0|        0.0|             0.0|     0.0|          0.0|        0.0|       1.0|Bay of Plenty Region|          Nil|       1|     Sealed|      0.0|      0.0|               0.0|        0.0|      60.0|        0.0|        Off|0.0| 0.0|    Rotorua District|            Nil|          0.0|        0.0|  0.0| 0.0|  0.0|               0.0|Urban|         0.0|    0.0|       0.0|       0|  4014240.0|      5|           6|\n",
            "|228865|   1460486.0|   5082901.0|    0.0|   0.0|0.0|            2.0|      0.0|                     None|  2.124430773613714|               SH 1S|           SOPHIA ST|            3|                 2|     2013|   0.0|                   South|  0.0|       0.0|  0.0|       0|      0.0|            0.0| 0.0|    2|             2.0|  0.0|       0.0|          4.0|                  0.0|        0.0|             0.0|     0.0|          0.0|        0.0|       0.0|   Canterbury Region|          Nil|       1|     Sealed|      0.0|      0.0|               1.0|        0.0|      50.0|        0.0|       None|0.0| 0.0|     Timaru District|       Give way|          0.0|        0.0|  0.0| 0.0|  0.0|               0.0|Urban|         0.0|    0.0|       0.0|       3|1.1777366E7|      6|           5|\n",
            "| 22293|   1928818.0|   5600976.0|    0.0|   0.0|0.0|            1.0|      0.0|                     None| -5.875569226386286| LONGLANDS ROAD EAST|        TE AUTE ROAD|            1|                 0|     2005|   0.0|                   North|  0.0|       0.0|  0.0|       0|      1.0|            0.0| 0.0|    1|             1.0|  0.0|       0.0|          2.0|                  0.0|        0.0|             0.0|     0.0|          0.0|        0.0|       0.0|  Hawke's Bay Region|          Nil|       1|     Sealed|      0.0|      0.0|               0.0|        0.0|     100.0|        0.0|       None|0.0| 0.0|   Hastings District|            Nil|          0.0|        0.0|  0.0| 0.0|  0.0|               0.0| Open|         0.0|    0.0|       0.0|       0|  2881739.0|      7|           3|\n",
            "|157097|   1748747.0|   5970137.0|    0.0|   0.0|0.0|            1.0|      0.0|                     None| -5.875569226386286|               SH 1N|       WHITAKER ROAD|            1|                 2|     2005|   0.0|                   North|  0.0|       0.0|  0.0|       0|      0.0|            0.0| 0.0|    0|             1.0|  0.0|       1.0|          2.0|                  0.0|        0.0|             0.0|     0.0|          0.0|        0.0|       0.0|     Auckland Region|          Nil|       1|     Sealed|      0.0|      0.0|               0.0|        0.0|      50.0|        0.0|        Off|0.0| 0.0|            Auckland|Traffic Signals|          0.0|        0.0|  0.0| 0.0|  0.0|               0.0|Urban|         0.0|    0.0|       0.0|       0|  3806298.0|      8|           7|\n",
            "|  7462|   1570658.0|   5177997.0|    0.0|   0.0|0.0|            1.0|      0.0|                     None|  3.124430773613714|          COLOMBO ST|           HUXLEY ST|            1|                 0|     2014|   0.0|                    West|  0.0|       0.0|  0.0|       0|      0.0|            0.0| 0.0|    2|             1.0|  0.0|       0.0|          4.0|                  0.0|        0.0|             0.0|     0.0|          0.0|        0.0|       0.0|   Canterbury Region|          Nil|       1|     Sealed|      0.0|      0.0|               0.0|        0.0|      50.0|        0.0|        Off|0.0| 0.0|   Christchurch City|Traffic Signals|          0.0|        0.0|  0.0| 0.0|  0.0|               0.0|Urban|         1.0|    0.0|       0.0|       0|  3184696.0|      9|           2|\n",
            "|117054|   1759583.0|   5916307.0|    0.0|   0.0|0.0|            2.0|      0.0|                    South| -6.875569226386286|               SH 1N|           OMAHU OBR|            1|                 2|     2003|   0.0|                   North|  0.0|       0.0|  0.0|       0|      0.0|            0.0| 0.0|    0|             2.0|  0.0|       0.0|          4.0|                  0.0|        0.0|             0.0|     0.0|          0.0|        0.0|       0.0|     Auckland Region|          Nil|       0|     Sealed|      0.0|      0.0|               0.0|        0.0|     100.0|        0.0|        Off|0.0| 0.0|            Auckland|            Nil|          0.0|        0.0|  0.0| 0.0|  0.0|               0.0| Open|         0.0|    0.0|       0.0|       0|  8176310.0|     10|           4|\n",
            "| 22885|   1569932.0|   5179668.0|    0.0|   0.0|0.0|            3.0|      0.0|                     East| -5.875569226386286|             TUAM ST|          ANTIGUA ST|            1|                 0|     2004|   0.0|                    West|  0.0|       0.0|  0.0|       0|      0.0|            0.0| 0.0|    1|             1.0|  0.0|       0.0|          2.0|                  0.0|        0.0|             0.0|     0.0|          0.0|        0.0|       0.0|   Canterbury Region|          Nil|       1|     Sealed|      0.0|      0.0|               0.0|        0.0|      50.0|        0.0|         On|0.0| 1.0|   Christchurch City|Traffic Signals|          0.0|        0.0|  0.0| 0.0|  0.0|               0.0|Urban|         0.0|    0.0|       0.0|       0|  4074643.0|     11|           5|\n",
            "|268687|   1201279.0|   5031376.0|    0.0|   0.0|0.0|            1.0|      0.0|                     West|  5.124430773613714|               SH 94|  CLEDDAU RIV NO1 BR|            1|                 2|     2015|   0.0|                    West|  0.0|       0.0|  0.0|       1|      0.0|            0.0| 0.0|    2|             1.0|  0.0|       0.0|          2.0|                  0.0|        0.0|             0.0|     0.0|          0.0|        0.0|       0.0|    Southland Region|       Bridge|       1|     Sealed|      0.0|      0.0|               0.0|        0.0|     100.0|        0.0|       None|0.0| 0.0|  Southland District|        Unknown|          0.0|        0.0|  0.0| 0.0|  0.0|               0.0| Open|         0.0|    0.0|       0.0|       0|  3044318.0|     12|           7|\n",
            "| 29817|   1675513.0|   5380535.0|    0.0|   0.0|1.0|            0.0|      1.0|                    North|  8.124430773613714|    UPTON DOWNS ROAD|       BAREWOOD ROAD|            3|                 0|     2018|   0.0|                   North|  0.0|       0.0|  0.0|       0|      0.0|            0.0| 0.0|    0|             3.0|  0.0|       0.0|          1.0|                  0.0|        0.0|             0.0|     0.0|          0.0|        0.0|       0.0|  Marlborough Region|          Nil|       1|   Unsealed|      0.0|      0.0|               1.0|        0.0|     100.0|        0.0|       None|0.0| 0.0|Marlborough District|        Unknown|          0.0|        0.0|  0.0| 0.0|  0.0|               0.0| Open|         0.0|    0.0|       0.0|       0|1.8077225E7|     13|           7|\n",
            "|276116|   1801070.0|   5517734.0|    0.0|   0.0|0.0|            1.0|      1.0|                     None|  3.124430773613714|        MOTUITI ROAD|HIMATANGI BLOCK ROAD|            1|                 0|     2014|   0.0|                    East|  0.0|       0.0|  0.0|       0|      0.0|            0.0| 0.0|    2|             1.0|  0.0|       0.0|          2.0|                  0.0|        0.0|             0.0|     0.0|          0.0|        0.0|       0.0|Manawatū-Whanganu...|          Nil|       1|     Sealed|      0.0|      0.0|               0.0|        0.0|     100.0|        0.0|       None|0.0| 0.0| Horowhenua District|       Give way|          0.0|        0.0|  0.0| 0.0|  0.0|               0.0| Open|         0.0|    0.0|       0.0|       4|  3151300.0|     14|           6|\n",
            "|444173|   1764168.0|   5911153.0|    0.0|   0.0|0.0|            2.0|      0.0|                    South|-10.875569226386286|MOUNT WELLINGTON ...|       HILLSIDE ROAD|            1|                 0|     2000|   0.0|                   North|  0.0|       0.0|  0.0|       0|      0.0|            0.0| 0.0|    2|             2.0|  0.0|       0.0|          2.0|                  0.0|        0.0|             0.0|     0.0|          0.0|        0.0|       0.0|     Auckland Region|          Nil|       1|     Sealed|      0.0|      0.0|               0.0|        0.0|      50.0|        0.0|        Off|0.0| 0.0|            Auckland|            Nil|          0.0|        0.0|  0.0| 0.0|  0.0|               0.0|Urban|         0.0|    0.0|       0.0|       3|  8865842.0|     15|           3|\n",
            "| 58864|   1759786.0|   5908979.0|    0.0|   0.0|0.0|            1.0|      0.0|                    South|  7.124430773613714|               SH 20|    WALMSLEY OFF SBD|            1|                 2|     2018|   0.0|                   South|  0.0|       0.0|  0.0|       0|      0.0|            0.0| 0.0|    1|             1.0|  0.0|       0.0|          3.0|                  0.0|        0.0|             0.0|     0.0|          0.0|        0.0|       0.0|     Auckland Region|          Nil|       1|     Sealed|      0.0|      0.0|               0.0|        0.0|     100.0|        0.0|         On|0.0| 0.0|            Auckland|        Unknown|          0.0|        0.0|  0.0| 0.0|  1.0|               0.0| Open|         0.0|    1.0|       0.0|       3|  2656121.0|     16|           4|\n",
            "|178926|   1764115.0|   5904324.0|    0.0|   0.0|0.0|            2.0|      0.0|                    North|-1.8755692263862862|     PUHINUI OFF SBD|              SH 20B|            1|                 2|     2009|   0.0|                   South|  0.0|       0.0|  0.0|       0|      0.0|            0.0| 0.0|    0|             1.0|  0.0|       0.0|          2.0|                  0.0|        0.0|             0.0|     0.0|          0.0|        0.0|       0.0|     Auckland Region|Motorway ramp|       1|     Sealed|      0.0|      0.0|               0.0|        0.0|      50.0|        0.0|        Off|0.0| 0.0|            Auckland|       Give way|          0.0|        0.0|  0.0| 0.0|  0.0|               0.0|Urban|         0.0|    0.0|       0.0|       0|  4227548.0|     17|           6|\n",
            "|671799|1766762.2146| 5913363.839|    0.0|   0.0|0.0|            1.0|      0.0|                     None| 10.124430773613714|OFF ROAD - SHARED...|                None|            3|                 0|     2020|   0.0|                    East|  0.0|       0.0|  0.0|       0|      0.0|            0.0| 0.0|    0|             1.0|  0.0|       0.0|          1.0|                  0.0|        0.0|             0.0|     0.0|          0.0|        0.0|       0.0|     Auckland Region|          Nil|       3|     Sealed|      0.0|      0.0|               1.0|        0.0|      10.0|        0.0|        Off|0.0| 0.0|            Auckland|            Nil|          0.0|        0.0|  0.0| 0.0|  0.0|               0.0|Urban|         0.0|    0.0|       0.0|       0|1.1198295E7|     18|           9|\n",
            "|304795|   1929560.0|   5605055.0|    0.0|   0.0|0.0|            2.0|      0.0|                     None| -8.875569226386286|  EASTBOURNE ST WEST|       KING ST SOUTH|            1|                 0|     2001|   0.0|                   South|  0.0|       0.0|  0.0|       0|      0.0|            1.0| 0.0|    0|             1.0|  0.0|       0.0|          2.0|                  0.0|        0.0|             0.0|     0.0|          0.0|        0.0|       0.0|  Hawke's Bay Region|          Nil|       1|     Sealed|      0.0|      0.0|               0.0|        0.0|      50.0|        0.0|       None|0.0| 0.0|   Hastings District|       Give way|          0.0|        1.0|  0.0| 0.0|  0.0|               0.0|Urban|         0.0|    0.0|       0.0|       0|  2698620.0|     19|           5|\n",
            "| 80447|   2037973.0|   5707798.0|    0.0|   0.0|0.0|            1.0|      0.0|                     None|  6.124430773613714|               SH 35|           HARRIS ST|            1|                 2|     2016|   0.0|                    West|  0.0|       0.0|  0.0|       0|      0.0|            0.0| 0.0|    0|             1.0|  0.0|       0.0|          2.0|                  0.0|        0.0|             0.0|     0.0|          0.0|        0.0|       0.0|     Gisborne Region|          Nil|       1|     Sealed|      0.0|      0.0|               0.0|        0.0|      50.0|        0.0|       None|0.0| 0.0|   Gisborne District|           Stop|          0.0|        0.0|  0.0| 0.0|  0.0|               0.0|Urban|         0.0|    0.0|       0.0|       0|  2615989.0|     20|           7|\n",
            "+------+------------+------------+-------+------+---+---------------+---------+-------------------------+-------------------+--------------------+--------------------+-------------+------------------+---------+------+------------------------+-----+----------+-----+--------+---------+---------------+----+-----+----------------+-----+----------+-------------+---------------------+-----------+----------------+--------+-------------+-----------+----------+--------------------+-------------+--------+-----------+---------+---------+------------------+-----------+----------+-----------+-----------+---+----+--------------------+---------------+-------------+-----------+-----+----+-----+------------------+-----+------------+-------+----------+--------+-----------+-------+------------+\n",
            "only showing top 20 rows\n",
            "\n"
          ]
        }
      ],
      "source": [
        "spark_df = spark.sql(\"\"\"\n",
        "select *, _c0%10 as partition_id \n",
        "from (\n",
        "  select *, row_number() over (order by rand()) as user_id\n",
        "  from data\n",
        ") \n",
        "\"\"\")\n",
        "\n",
        "# preview the results\n",
        "spark_df.show()"
      ]
    },
    {
      "cell_type": "code",
      "execution_count": null,
      "metadata": {
        "colab": {
          "base_uri": "https://localhost:8080/"
        },
        "id": "YAfCBaufsOXJ",
        "outputId": "ced93534-1446-4852-e5e6-a0977ce8dd4e"
      },
      "outputs": [
        {
          "name": "stdout",
          "output_type": "stream",
          "text": [
            "+------+------------+------------+-------+------+---+---------------+---------+-------------------------+------------------+--------------------+------------------+-------------+------------------+---------+------+------------------------+-----+----------+-----+---------+---------+---------------+----+----------+----------------+-----+----------+-------------+---------------------+-----------+----------------+--------+-------------+-----------+----------+--------------------+-------------+--------+-----------+---------+---------+------------------+-----------+----------+-----------+-----------+---+----+------------------+---------------+-------------+-----------+-----+----+-----+------------------+-----+------------+-------+----------+----------+-----------+-------+------------+\n",
            "|   _c0|           X|           Y|bicycle|bridge|bus|carStationWagon|cliffBank|crashDirectionDescription|crashFinancialYear|      crashLocation1|    crashLocation2|crashSeverity|crashSHDescription|crashYear|debris|directionRoleDescription|ditch|fatalCount|fence| flatHill|guardRail|houseOrBuilding|kerb|     light|minorInjuryCount|moped|motorcycle|NumberOfLanes|objectThrownOrDropped|otherObject|otherVehicleType|overBank|parkedVehicle|phoneBoxEtc|postOrPole|              region|roadCharacter|roadLane|roadSurface|roadworks|schoolBus|seriousInjuryCount|slipOrFlood|speedLimit|strayAnimal|streetLight|suv|taxi|           tlaName| trafficControl|trafficIsland|trafficSign|train|tree|truck|unknownVehicleType|urban|vanOrUtility|vehicle|waterRiver|  weatherA|claimAmount|user_id|partition_id|\n",
            "+------+------------+------------+-------+------+---+---------------+---------+-------------------------+------------------+--------------------+------------------+-------------+------------------+---------+------+------------------------+-----+----------+-----+---------+---------+---------------+----+----------+----------------+-----+----------+-------------+---------------------+-----------+----------------+--------+-------------+-----------+----------+--------------------+-------------+--------+-----------+---------+---------+------------------+-----------+----------+-----------+-----------+---+----+------------------+---------------+-------------+-----------+-----+----+-----+------------------+-----+------------+-------+----------+----------+-----------+-------+------------+\n",
            "| 39102|   1403926.0|   4915878.0|    0.0|   0.0|0.0|            2.0|      0.0|                     None|         2000/2001|        KENMURE ROAD|    ENGLISH AVENUE|  Minor Crash|                No|     2001|   0.0|                    West|  0.0|       0.0|  0.0|     Flat|      0.0|            0.0| 0.0|  Overcast|             1.0|  0.0|       0.0|          2.0|                  0.0|        0.0|             0.0|     0.0|          0.0|        0.0|       0.0|        Otago Region|          Nil|   2-way|     Sealed|      0.0|      0.0|               0.0|        0.0|      50.0|        0.0|       None|0.0| 0.0|      Dunedin City|       Give way|          0.0|        0.0|  0.0| 0.0|  0.0|               0.0|Urban|         0.0|    0.0|       0.0|Light rain|  2095280.0|      1|         2.0|\n",
            "|222772|   1407257.0|   4917894.0|    0.0|   0.0|0.0|            1.0|      0.0|                    North|         2018/2019|            CLYDE ST|     UNION ST EAST|  Minor Crash|                No|     2018|   0.0|                   South|  0.0|       0.0|  0.0|     Flat|      0.0|            0.0| 0.0|      Dark|             1.0|  0.0|       0.0|          2.0|                  0.0|        0.0|             0.0|     0.0|          0.0|        0.0|       0.0|        Otago Region|          Nil|   2-way|     Sealed|      0.0|      0.0|               0.0|        0.0|      50.0|        0.0|         On|0.0| 0.0|      Dunedin City|        Unknown|          0.0|        0.0|  0.0| 0.0|  0.0|               0.0|Urban|         0.0|    0.0|       0.0|Light rain|  4724109.0|      2|         2.0|\n",
            "| 50329|   1248537.0|   4840577.0|    0.0|   0.0|0.0|            0.0|      0.0|                    South|         2017/2018|          TIWAI ROAD|AWARUA SCHOOL ROAD|Serious Crash|                No|     2017|   0.0|                   South|  0.0|       0.0|  1.0|     Flat|      0.0|            0.0| 0.0|      Dark|             0.0|  0.0|       0.0|          2.0|                  0.0|        0.0|             0.0|     0.0|          0.0|        0.0|       1.0|    Southland Region|          Nil|   2-way|     Sealed|      0.0|      0.0|               2.0|        0.0|     100.0|        0.0|       None|0.0| 0.0| Invercargill City|        Unknown|          0.0|        0.0|  0.0| 0.0|  0.0|               0.0| Open|         2.0|    0.0|       0.0|      Fine| 12225630.0|      3|         9.0|\n",
            "|657295|   1777295.0|   5741400.0|    0.0|   0.0|0.0|            1.0|      0.0|                    North|         2007/2008|                SH 3|       KURATAHI ST|  Minor Crash|               Yes|     2008|   0.0|                   South|  0.0|       0.0|  1.0|     Flat|      0.0|            0.0| 0.0|Bright sun|             1.0|  0.0|       0.0|          2.0|                  0.0|        0.0|             0.0|     1.0|          0.0|        0.0|       0.0|      Waikato Region|          Nil|   2-way|     Sealed|      0.0|      0.0|               0.0|        0.0|     100.0|        0.0|       None|0.0| 0.0|  Waitomo District|        Unknown|          0.0|        0.0|  0.0| 1.0|  0.0|               0.0| Open|         0.0|    0.0|       0.0|      Fine|  2648482.0|      4|         5.0|\n",
            "|647750|   1813083.0|   5641342.0|    0.0|   0.0|0.0|            1.0|      1.0|                    North|         2003/2004|OHAKUNE MOUNTAIN ...|       RAILWAY ROW|  Minor Crash|                No|     2004|   0.0|                   South|  0.0|       0.0|  0.0|Hill Road|      0.0|            0.0| 0.0|  Overcast|             2.0|  0.0|       0.0|          2.0|                  0.0|        0.0|             0.0|     0.0|          0.0|        0.0|       0.0|Manawatū-Whanganu...|          Nil|   2-way|     Sealed|      0.0|      0.0|               0.0|        0.0|     100.0|        0.0|       None|0.0| 0.0|  Ruapehu District|            Nil|          0.0|        0.0|  0.0| 1.0|  0.0|               0.0| Open|         0.0|    0.0|       0.0|      Fine|  4816462.0|      5|         0.0|\n",
            "| 86642|   1895979.0|   5787920.0|    0.0|   0.0|0.0|            0.0|      0.0|                     East|         2015/2016|      MANIATUTU ROAD|             SH 33|  Minor Crash|                No|     2016|   0.0|                    East|  0.0|       0.0|  0.0|Hill Road|      0.0|            0.0| 0.0|  Overcast|             1.0|  0.0|       0.0|          2.0|                  0.0|        0.0|             0.0|     0.0|          0.0|        0.0|       0.0|Bay of Plenty Region|          Nil|   2-way|     Sealed|      0.0|      0.0|               0.0|        0.0|     100.0|        0.0|       None|1.0| 0.0|  Rotorua District|        Unknown|          0.0|        0.0|  0.0| 0.0|  0.0|               0.0| Open|         0.0|    0.0|       0.0|Light rain|  3082360.0|      6|         2.0|\n",
            "|388713|   1618909.0|   5426586.0|    0.0|   0.0|0.0|            2.0|      0.0|                    South|         2001/2002|        NAYLAND ROAD|  ALDINGA AVENUE N|  Minor Crash|                No|     2002|   0.0|                   South|  0.0|       0.0|  0.0|     Flat|      0.0|            0.0| 0.0|      Dark|             3.0|  0.0|       0.0|          2.0|                  0.0|        0.0|             0.0|     0.0|          0.0|        0.0|       0.0|       Nelson Region|          Nil|   2-way|     Sealed|      0.0|      0.0|               0.0|        0.0|      50.0|        0.0|         On|0.0| 0.0|       Nelson City|            Nil|          0.0|        0.0|  0.0| 0.0|  0.0|               0.0|Urban|         0.0|    0.0|       0.0|      Fine|  8382069.0|      7|         3.0|\n",
            "|452406|   1761189.0|   5919725.0|    0.0|   0.0|0.0|            0.0|      0.0|                    South|         2011/2012|        NGAPIPI ROAD|      TAMAKI DRIVE|  Minor Crash|                No|     2011|   0.0|                    East|  0.0|       0.0|  0.0|     Flat|      0.0|            0.0| 0.0|  Overcast|             1.0|  1.0|       0.0|          2.0|                  0.0|        0.0|             0.0|     0.0|          0.0|        0.0|       0.0|     Auckland Region|          Nil|   2-way|     Sealed|      0.0|      0.0|               0.0|        0.0|      50.0|        0.0|       None|0.0| 0.0|          Auckland|            Nil|          0.0|        0.0|  0.0| 0.0|  0.0|               0.0|Urban|         0.0|    0.0|       0.0|Light rain|  2170328.0|      8|         6.0|\n",
            "|627460|   1800829.0|   5814232.0|    0.0|   0.0|0.0|            2.0|      0.0|                    North|         2008/2009|         PEMBROKE ST|     PALMERSTON ST|  Minor Crash|                No|     2009|   0.0|                   North|  0.0|       0.0|  0.0|     Flat|      0.0|            0.0| 0.0|      Dark|             1.0|  0.0|       0.0|          2.0|                  0.0|        0.0|             0.0|     0.0|          1.0|        0.0|       0.0|      Waikato Region|          Nil|   2-way|     Sealed|      0.0|      0.0|               0.0|        0.0|      50.0|        0.0|         On|0.0| 0.0|     Hamilton City|        Unknown|          0.0|        0.0|  0.0| 0.0|  0.0|               0.0|Urban|         0.0|    0.0|       0.0|      Fine|  3047527.0|      9|         0.0|\n",
            "|226002|1565705.2913|5183496.9989|    0.0|   0.0|0.0|            2.0|      0.0|                    North|         2020/2021|    CRANBROOK AVENUE|    BANBURY STREET|  Minor Crash|                No|     2021|   0.0|                   South|  0.0|       0.0|  0.0|     Flat|      0.0|            0.0| 0.0|  Overcast|             1.0|  0.0|       0.0|          2.0|                  0.0|        0.0|             0.0|     0.0|          1.0|        0.0|       0.0|   Canterbury Region|          Nil|   2-way|     Sealed|      0.0|      0.0|               0.0|        0.0|      50.0|        0.0|       None|0.0| 0.0| Christchurch City|            Nil|          0.0|        0.0|  0.0| 0.0|  0.0|               0.0|Urban|         0.0|    0.0|       0.0|      Fine|  4909904.0|     10|         2.0|\n",
            "|141923|1394419.6124|4915948.7969|    0.0|   0.0|0.0|            2.0|      0.0|                     None|         2020/2021|         GORDON ROAD|       MURE STREET|  Minor Crash|               Yes|     2020|   0.0|                   South|  0.0|       0.0|  0.0|     Flat|      0.0|            0.0| 0.0|Bright sun|             2.0|  0.0|       0.0|          2.0|                  0.0|        0.0|             0.0|     0.0|          0.0|        0.0|       0.0|        Otago Region|          Nil|   2-way|     Sealed|      0.0|      0.0|               0.0|        0.0|      50.0|        0.0|        Off|0.0| 0.0|      Dunedin City|       Give way|          0.0|        0.0|  0.0| 0.0|  0.0|               0.0|Urban|         0.0|    0.0|       0.0|      Fine|  5559934.0|     11|         3.0|\n",
            "|325134|   1958385.0|   5771391.0|    0.0|   0.0|0.0|            1.0|      0.0|                     West|         2003/2004|                SH 2|    WAIMANA ROAD E|  Minor Crash|               Yes|     2003|   0.0|                    West|  0.0|       0.0|  0.0|     Flat|      0.0|            0.0| 0.0|      Dark|             3.0|  0.0|       0.0|          2.0|                  0.0|        0.0|             0.0|     0.0|          0.0|        0.0|       0.0|Bay of Plenty Region|          Nil|   2-way|     Sealed|      0.0|      0.0|               0.0|        0.0|     100.0|        0.0|       None|0.0| 0.0|Whakatane District|            Nil|          0.0|        0.0|  0.0| 0.0|  0.0|               0.0| Open|         0.0|    0.0|       0.0|Heavy rain| 11627112.0|     12|         4.0|\n",
            "|353466|   1877993.0|   5821463.0|    0.0|   0.0|0.0|            2.0|      0.0|                    South|         2005/2006|           FRASER ST|      WILKINSON ST|  Minor Crash|                No|     2005|   0.0|                   South|  0.0|       0.0|  0.0|Hill Road|      0.0|            0.0| 0.0|      Dark|             2.0|  0.0|       0.0|          2.0|                  0.0|        0.0|             0.0|     0.0|          0.0|        0.0|       0.0|Bay of Plenty Region|          Nil|   2-way|     Sealed|      0.0|      0.0|               0.0|        0.0|      50.0|        0.0|         On|0.0| 0.0|     Tauranga City|        Unknown|          0.0|        0.0|  0.0| 0.0|  0.0|               0.0|Urban|         0.0|    0.0|       0.0|      Fine|  8757894.0|     13|         6.0|\n",
            "|564917|   1824073.0|   5463591.0|    0.0|   0.0|0.0|            1.0|      0.0|                    North|         2014/2015|                SH 2|         ALBERT ST|  Minor Crash|               Yes|     2014|   0.0|                   North|  0.0|       0.0|  0.0|     Flat|      0.0|            0.0| 0.0|      Dark|             1.0|  0.0|       0.0|          2.0|                  0.0|        0.0|             0.0|     0.0|          0.0|        0.0|       0.0|   Wellington Region|          Nil|   2-way|     Sealed|      0.0|      0.0|               0.0|        0.0|      50.0|        0.0|         On|0.0| 0.0|Masterton District|            Nil|          0.0|        0.0|  0.0| 0.0|  0.0|               0.0|Urban|         0.0|    0.0|       0.0|      Fine|  4495282.0|     14|         7.0|\n",
            "|743133|1573528.5996|5182754.9308|    0.0|   0.0|0.0|            1.0|      0.0|                     West|         2020/2021|    CRESSWELL AVENUE|     GAYHURST ROAD|  Minor Crash|                No|     2020|   0.0|                    East|  0.0|       0.0|  0.0|     Flat|      0.0|            0.0| 0.0|  Overcast|             1.0|  0.0|       0.0|          2.0|                  0.0|        0.0|             0.0|     0.0|          0.0|        0.0|       0.0|   Canterbury Region|          Nil|   2-way|     Sealed|      0.0|      0.0|               0.0|        0.0|      50.0|        0.0|        Off|0.0| 0.0| Christchurch City|            Nil|          0.0|        0.0|  0.0| 0.0|  0.0|               0.0|Urban|         0.0|    0.0|       0.0|      Fine|  2855876.0|     15|         3.0|\n",
            "|393015|   1766942.0|   5882537.0|    0.0|   0.0|0.0|            1.0|      0.0|                     West|         2004/2005|       GUN CLUB ROAD|     HELVETIA ROAD|  Minor Crash|                No|     2004|   0.0|                    East|  1.0|       0.0|  0.0|     Flat|      0.0|            0.0| 0.0|Bright sun|             1.0|  0.0|       0.0|          2.0|                  0.0|        0.0|             0.0|     0.0|          0.0|        0.0|       0.0|     Auckland Region|          Nil|   2-way|   Unsealed|      0.0|      0.0|               0.0|        0.0|     100.0|        0.0|       None|0.0| 0.0|          Auckland|            Nil|          0.0|        0.0|  0.0| 0.0|  0.0|               0.0| Open|         0.0|    0.0|       0.0|      Fine|  2795823.0|     16|         5.0|\n",
            "|727084|   1768916.0|   5900839.0|    0.0|   0.0|0.0|            2.0|      0.0|                     None|         2009/2010|    GREAT SOUTH ROAD|    ALFRISTON ROAD|Serious Crash|                No|     2009|   0.0|                    West|  0.0|       0.0|  0.0|     Flat|      0.0|            0.0| 0.0|  Overcast|             1.0|  0.0|       0.0|          2.0|                  0.0|        0.0|             0.0|     0.0|          0.0|        0.0|       0.0|     Auckland Region|          Nil|   2-way|     Sealed|      0.0|      0.0|               1.0|        0.0|      50.0|        0.0|        Off|0.0| 0.0|          Auckland|Traffic Signals|          0.0|        0.0|  0.0| 0.0|  0.0|               0.0|Urban|         0.0|    0.0|       0.0|Light rain| 11219987.0|     17|         4.0|\n",
            "|147195|   1756970.0|   5449060.0|    0.0|   0.0|0.0|            3.0|      0.0|                    North|         2005/2006|               SH 1N|    MANA VIEW ROAD|  Minor Crash|               Yes|     2006|   0.0|                   South|  0.0|       0.0|  0.0|     Flat|      0.0|            0.0| 0.0|Bright sun|             1.0|  0.0|       0.0|          4.0|                  0.0|        0.0|             0.0|     0.0|          0.0|        0.0|       0.0|   Wellington Region|          Nil|   2-way|     Sealed|      0.0|      0.0|               0.0|        0.0|      50.0|        0.0|       None|0.0| 0.0|      Porirua City|            Nil|          0.0|        0.0|  0.0| 0.0|  0.0|               0.0|Urban|         0.0|    0.0|       0.0|      Fine|  3665467.0|     18|         5.0|\n",
            "|332361|   1568882.0|   5177640.0|    0.0|   0.0|0.0|            1.0|      0.0|                     None|         2006/2007|       BARRINGTON ST|     CORONATION ST|Serious Crash|                No|     2006|   0.0|                   North|  0.0|       0.0|  0.0|     Flat|      0.0|            0.0| 0.0|Bright sun|             0.0|  0.0|       0.0|          2.0|                  0.0|        0.0|             0.0|     0.0|          0.0|        0.0|       0.0|   Canterbury Region|          Nil|   2-way|     Sealed|      0.0|      0.0|               1.0|        0.0|      50.0|        0.0|       None|0.0| 0.0| Christchurch City|       Give way|          0.0|        0.0|  0.0| 0.0|  1.0|               0.0|Urban|         0.0|    0.0|       0.0|      Fine|  6475004.0|     19|         1.0|\n",
            "|678563|   1878774.0|   5823360.0|    0.0|   0.0|0.0|            2.0|      0.0|                    South|         2006/2007|        CAMERON ROAD|     EIGHTH AVENUE|  Minor Crash|                No|     2007|   0.0|                   North|  0.0|       0.0|  0.0|     Flat|      0.0|            0.0| 0.0|  Overcast|             1.0|  0.0|       0.0|          2.0|                  0.0|        0.0|             0.0|     0.0|          1.0|        0.0|       0.0|Bay of Plenty Region|          Nil|   2-way|     Sealed|      0.0|      0.0|               0.0|        0.0|      50.0|        0.0|       None|0.0| 0.0|     Tauranga City|       Give way|          0.0|        0.0|  0.0| 0.0|  0.0|               0.0|Urban|         0.0|    0.0|       0.0|      Fine|  3788883.0|     20|         3.0|\n",
            "+------+------------+------------+-------+------+---+---------------+---------+-------------------------+------------------+--------------------+------------------+-------------+------------------+---------+------+------------------------+-----+----------+-----+---------+---------+---------------+----+----------+----------------+-----+----------+-------------+---------------------+-----------+----------------+--------+-------------+-----------+----------+--------------------+-------------+--------+-----------+---------+---------+------------------+-----------+----------+-----------+-----------+---+----+------------------+---------------+-------------+-----------+-----+----+-----+------------------+-----+------------+-------+----------+----------+-----------+-------+------------+\n",
            "only showing top 20 rows\n",
            "\n"
          ]
        }
      ],
      "source": [
        "\"\"\"\n",
        "spark_df = spark.sql(\"\"\"\n",
        "select *, _c0%10 as partition_id \n",
        "from (\n",
        "  select *, row_number() over (order by rand()) as user_id\n",
        "  from da\n",
        ") \n",
        "\"\"\")\n",
        "\n",
        "# preview the results\n",
        "spark_df.show()\n",
        "\"\"\""
      ]
    },
    {
      "cell_type": "code",
      "execution_count": null,
      "metadata": {
        "colab": {
          "base_uri": "https://localhost:8080/"
        },
        "id": "aQR01sVjsUNh",
        "outputId": "1c636278-e7b8-42f8-ece7-494bab6c3fe7"
      },
      "outputs": [
        {
          "output_type": "execute_result",
          "data": {
            "text/plain": [
              "1798608"
            ]
          },
          "metadata": {},
          "execution_count": 65
        }
      ],
      "source": [
        "spark_df.count()"
      ]
    },
    {
      "cell_type": "code",
      "source": [
        "import time"
      ],
      "metadata": {
        "id": "FyC75Ybp3WAf"
      },
      "execution_count": null,
      "outputs": []
    },
    {
      "cell_type": "markdown",
      "source": [
        "# Ramsai\n"
      ],
      "metadata": {
        "id": "z6knBb1dsq89"
      }
    },
    {
      "cell_type": "code",
      "execution_count": null,
      "metadata": {
        "colab": {
          "base_uri": "https://localhost:8080/"
        },
        "id": "rMuH_LLRoWWs",
        "outputId": "ad099e41-15a8-43a9-caa7-1f1a84f2e4b4"
      },
      "outputs": [
        {
          "output_type": "stream",
          "name": "stderr",
          "text": [
            "/content/spark-3.2.1-bin-hadoop3.2/python/pyspark/sql/pandas/group_ops.py:84: UserWarning: It is preferred to use 'applyInPandas' over this API. This API will be deprecated in the future releases. See SPARK-28264 for more details.\n",
            "  \"more details.\", UserWarning)\n"
          ]
        },
        {
          "output_type": "stream",
          "name": "stdout",
          "text": [
            "+-------+--------------------+\n",
            "|user_id|          prediction|\n",
            "+-------+--------------------+\n",
            "|     21|   4425930.267439265|\n",
            "|1572872|   5190441.300677022|\n",
            "|     22|  3977265.8482996793|\n",
            "|1572878|   9858896.330823675|\n",
            "|     31|  4066998.7321275966|\n",
            "|1572881|   4216553.538507459|\n",
            "|     38|    4246464.49978343|\n",
            "|1572891|   3947354.887023707|\n",
            "|     60|   4276375.461059403|\n",
            "|1572901|   4324372.157978913|\n",
            "|     70|1.0008451137203535E7|\n",
            "|1572909|   4156731.615955514|\n",
            "|     72|    9579495.42745134|\n",
            "|1572919|  4152789.8740780354|\n",
            "|     82|  4126820.6546795415|\n",
            "|1572927|   4096909.693403569|\n",
            "|    100|   5313848.271431091|\n",
            "|1572972|    9459851.58234745|\n",
            "|    110| 1.010471877048132E7|\n",
            "|1572974|    4246464.49978343|\n",
            "+-------+--------------------+\n",
            "only showing top 20 rows\n",
            "\n",
            "time:  -37.229395151138306\n"
          ]
        }
      ],
      "source": [
        "from pyspark.sql.functions import pandas_udf, PandasUDFType\n",
        "from pyspark.sql.types import StructType, StructField, LongType, DoubleType\n",
        "\n",
        "# define a schema for the result set, the user ID and model prediction\n",
        "schema = StructType([StructField('user_id', LongType(), True),\n",
        "                     StructField('prediction', DoubleType(), True)])  \n",
        "\n",
        "# define the Pandas UDF \n",
        "@pandas_udf(schema, PandasUDFType.GROUPED_MAP)\n",
        "def apply_model(sample_df):\n",
        "\n",
        "    # run the model on the partitioned data set \n",
        "    ids = sample_df['user_id']\n",
        "    x_train = sample_df.drop(['user_id', 'partition_id', 'claimAmount'], axis=1)\n",
        "    pred = result.predict(exog=sample_df)\n",
        "\n",
        "    return pd.DataFrame({'user_id': ids, 'prediction': pred[:]})\n",
        "    #return pd.DataFrame({'prediction': pred[:]})\n",
        "  \n",
        "# partition the data and run the UDF  \n",
        "results = spark_df.groupby('partition_id').apply(apply_model)\n",
        "start = time.time()\n",
        "results.show()\n",
        "print(\"time: \", start-time.time())"
      ]
    },
    {
      "cell_type": "code",
      "source": [
        "type(bootstrapped_data)"
      ],
      "metadata": {
        "colab": {
          "base_uri": "https://localhost:8080/"
        },
        "id": "NxKSNQRI3zAG",
        "outputId": "52ffe440-bac3-4ad8-e41d-67f6cfd10fc7"
      },
      "execution_count": null,
      "outputs": [
        {
          "output_type": "execute_result",
          "data": {
            "text/plain": [
              "pyspark.sql.dataframe.DataFrame"
            ]
          },
          "metadata": {},
          "execution_count": 81
        }
      ]
    },
    {
      "cell_type": "code",
      "source": [
        "spark.conf.set(\"spark.sql.execution.arrow.enabled\", \"true\")"
      ],
      "metadata": {
        "id": "b_aNlGUxzYnV",
        "colab": {
          "base_uri": "https://localhost:8080/",
          "height": 556
        },
        "outputId": "cbb1fcfd-ce0c-4cb0-b23b-38ae187074f8"
      },
      "execution_count": null,
      "outputs": [
        {
          "output_type": "stream",
          "name": "stderr",
          "text": [
            "ERROR:root:Exception while sending command.\n",
            "Traceback (most recent call last):\n",
            "  File \"/content/spark-3.2.1-bin-hadoop3.2/python/lib/py4j-0.10.9.3-src.zip/py4j/clientserver.py\", line 480, in send_command\n",
            "    raise Py4JNetworkError(\"Answer from Java side is empty\")\n",
            "py4j.protocol.Py4JNetworkError: Answer from Java side is empty\n",
            "\n",
            "During handling of the above exception, another exception occurred:\n",
            "\n",
            "Traceback (most recent call last):\n",
            "  File \"/content/spark-3.2.1-bin-hadoop3.2/python/lib/py4j-0.10.9.3-src.zip/py4j/java_gateway.py\", line 1038, in send_command\n",
            "    response = connection.send_command(command)\n",
            "  File \"/content/spark-3.2.1-bin-hadoop3.2/python/lib/py4j-0.10.9.3-src.zip/py4j/clientserver.py\", line 504, in send_command\n",
            "    \"Error while sending or receiving\", e, proto.ERROR_ON_RECEIVE)\n",
            "py4j.protocol.Py4JNetworkError: Error while sending or receiving\n"
          ]
        },
        {
          "output_type": "error",
          "ename": "Py4JError",
          "evalue": "ignored",
          "traceback": [
            "\u001b[0;31m---------------------------------------------------------------------------\u001b[0m",
            "\u001b[0;31mPy4JError\u001b[0m                                 Traceback (most recent call last)",
            "\u001b[0;32m<ipython-input-83-017f9147dc69>\u001b[0m in \u001b[0;36m<module>\u001b[0;34m()\u001b[0m\n\u001b[0;32m----> 1\u001b[0;31m \u001b[0mspark\u001b[0m\u001b[0;34m.\u001b[0m\u001b[0mconf\u001b[0m\u001b[0;34m.\u001b[0m\u001b[0mset\u001b[0m\u001b[0;34m(\u001b[0m\u001b[0;34m\"spark.sql.execution.arrow.enabled\"\u001b[0m\u001b[0;34m,\u001b[0m \u001b[0;34m\"true\"\u001b[0m\u001b[0;34m)\u001b[0m\u001b[0;34m\u001b[0m\u001b[0;34m\u001b[0m\u001b[0m\n\u001b[0m",
            "\u001b[0;32m/content/spark-3.2.1-bin-hadoop3.2/python/pyspark/sql/conf.py\u001b[0m in \u001b[0;36mset\u001b[0;34m(self, key, value)\u001b[0m\n\u001b[1;32m     34\u001b[0m     \u001b[0;32mdef\u001b[0m \u001b[0mset\u001b[0m\u001b[0;34m(\u001b[0m\u001b[0mself\u001b[0m\u001b[0;34m,\u001b[0m \u001b[0mkey\u001b[0m\u001b[0;34m,\u001b[0m \u001b[0mvalue\u001b[0m\u001b[0;34m)\u001b[0m\u001b[0;34m:\u001b[0m\u001b[0;34m\u001b[0m\u001b[0;34m\u001b[0m\u001b[0m\n\u001b[1;32m     35\u001b[0m         \u001b[0;34m\"\"\"Sets the given Spark runtime configuration property.\"\"\"\u001b[0m\u001b[0;34m\u001b[0m\u001b[0;34m\u001b[0m\u001b[0m\n\u001b[0;32m---> 36\u001b[0;31m         \u001b[0mself\u001b[0m\u001b[0;34m.\u001b[0m\u001b[0m_jconf\u001b[0m\u001b[0;34m.\u001b[0m\u001b[0mset\u001b[0m\u001b[0;34m(\u001b[0m\u001b[0mkey\u001b[0m\u001b[0;34m,\u001b[0m \u001b[0mvalue\u001b[0m\u001b[0;34m)\u001b[0m\u001b[0;34m\u001b[0m\u001b[0;34m\u001b[0m\u001b[0m\n\u001b[0m\u001b[1;32m     37\u001b[0m \u001b[0;34m\u001b[0m\u001b[0m\n\u001b[1;32m     38\u001b[0m     \u001b[0;34m@\u001b[0m\u001b[0msince\u001b[0m\u001b[0;34m(\u001b[0m\u001b[0;36m2.0\u001b[0m\u001b[0;34m)\u001b[0m\u001b[0;34m\u001b[0m\u001b[0;34m\u001b[0m\u001b[0m\n",
            "\u001b[0;32m/content/spark-3.2.1-bin-hadoop3.2/python/lib/py4j-0.10.9.3-src.zip/py4j/java_gateway.py\u001b[0m in \u001b[0;36m__call__\u001b[0;34m(self, *args)\u001b[0m\n\u001b[1;32m   1320\u001b[0m         \u001b[0manswer\u001b[0m \u001b[0;34m=\u001b[0m \u001b[0mself\u001b[0m\u001b[0;34m.\u001b[0m\u001b[0mgateway_client\u001b[0m\u001b[0;34m.\u001b[0m\u001b[0msend_command\u001b[0m\u001b[0;34m(\u001b[0m\u001b[0mcommand\u001b[0m\u001b[0;34m)\u001b[0m\u001b[0;34m\u001b[0m\u001b[0;34m\u001b[0m\u001b[0m\n\u001b[1;32m   1321\u001b[0m         return_value = get_return_value(\n\u001b[0;32m-> 1322\u001b[0;31m             answer, self.gateway_client, self.target_id, self.name)\n\u001b[0m\u001b[1;32m   1323\u001b[0m \u001b[0;34m\u001b[0m\u001b[0m\n\u001b[1;32m   1324\u001b[0m         \u001b[0;32mfor\u001b[0m \u001b[0mtemp_arg\u001b[0m \u001b[0;32min\u001b[0m \u001b[0mtemp_args\u001b[0m\u001b[0;34m:\u001b[0m\u001b[0;34m\u001b[0m\u001b[0;34m\u001b[0m\u001b[0m\n",
            "\u001b[0;32m/content/spark-3.2.1-bin-hadoop3.2/python/pyspark/sql/utils.py\u001b[0m in \u001b[0;36mdeco\u001b[0;34m(*a, **kw)\u001b[0m\n\u001b[1;32m    109\u001b[0m     \u001b[0;32mdef\u001b[0m \u001b[0mdeco\u001b[0m\u001b[0;34m(\u001b[0m\u001b[0;34m*\u001b[0m\u001b[0ma\u001b[0m\u001b[0;34m,\u001b[0m \u001b[0;34m**\u001b[0m\u001b[0mkw\u001b[0m\u001b[0;34m)\u001b[0m\u001b[0;34m:\u001b[0m\u001b[0;34m\u001b[0m\u001b[0;34m\u001b[0m\u001b[0m\n\u001b[1;32m    110\u001b[0m         \u001b[0;32mtry\u001b[0m\u001b[0;34m:\u001b[0m\u001b[0;34m\u001b[0m\u001b[0;34m\u001b[0m\u001b[0m\n\u001b[0;32m--> 111\u001b[0;31m             \u001b[0;32mreturn\u001b[0m \u001b[0mf\u001b[0m\u001b[0;34m(\u001b[0m\u001b[0;34m*\u001b[0m\u001b[0ma\u001b[0m\u001b[0;34m,\u001b[0m \u001b[0;34m**\u001b[0m\u001b[0mkw\u001b[0m\u001b[0;34m)\u001b[0m\u001b[0;34m\u001b[0m\u001b[0;34m\u001b[0m\u001b[0m\n\u001b[0m\u001b[1;32m    112\u001b[0m         \u001b[0;32mexcept\u001b[0m \u001b[0mpy4j\u001b[0m\u001b[0;34m.\u001b[0m\u001b[0mprotocol\u001b[0m\u001b[0;34m.\u001b[0m\u001b[0mPy4JJavaError\u001b[0m \u001b[0;32mas\u001b[0m \u001b[0me\u001b[0m\u001b[0;34m:\u001b[0m\u001b[0;34m\u001b[0m\u001b[0;34m\u001b[0m\u001b[0m\n\u001b[1;32m    113\u001b[0m             \u001b[0mconverted\u001b[0m \u001b[0;34m=\u001b[0m \u001b[0mconvert_exception\u001b[0m\u001b[0;34m(\u001b[0m\u001b[0me\u001b[0m\u001b[0;34m.\u001b[0m\u001b[0mjava_exception\u001b[0m\u001b[0;34m)\u001b[0m\u001b[0;34m\u001b[0m\u001b[0;34m\u001b[0m\u001b[0m\n",
            "\u001b[0;32m/content/spark-3.2.1-bin-hadoop3.2/python/lib/py4j-0.10.9.3-src.zip/py4j/protocol.py\u001b[0m in \u001b[0;36mget_return_value\u001b[0;34m(answer, gateway_client, target_id, name)\u001b[0m\n\u001b[1;32m    334\u001b[0m             raise Py4JError(\n\u001b[1;32m    335\u001b[0m                 \u001b[0;34m\"An error occurred while calling {0}{1}{2}\"\u001b[0m\u001b[0;34m.\u001b[0m\u001b[0;34m\u001b[0m\u001b[0;34m\u001b[0m\u001b[0m\n\u001b[0;32m--> 336\u001b[0;31m                 format(target_id, \".\", name))\n\u001b[0m\u001b[1;32m    337\u001b[0m     \u001b[0;32melse\u001b[0m\u001b[0;34m:\u001b[0m\u001b[0;34m\u001b[0m\u001b[0;34m\u001b[0m\u001b[0m\n\u001b[1;32m    338\u001b[0m         \u001b[0mtype\u001b[0m \u001b[0;34m=\u001b[0m \u001b[0manswer\u001b[0m\u001b[0;34m[\u001b[0m\u001b[0;36m1\u001b[0m\u001b[0;34m]\u001b[0m\u001b[0;34m\u001b[0m\u001b[0;34m\u001b[0m\u001b[0m\n",
            "\u001b[0;31mPy4JError\u001b[0m: An error occurred while calling o26.set"
          ]
        }
      ]
    },
    {
      "cell_type": "code",
      "source": [
        "sdf = spark_df.toPandas()"
      ],
      "metadata": {
        "colab": {
          "base_uri": "https://localhost:8080/",
          "height": 313
        },
        "id": "wyzcOacXz2hh",
        "outputId": "4f50cb6b-a5fc-4c3f-cf1f-49d1eff5ff09"
      },
      "execution_count": null,
      "outputs": [
        {
          "output_type": "error",
          "ename": "ConnectionRefusedError",
          "evalue": "ignored",
          "traceback": [
            "\u001b[0;31m---------------------------------------------------------------------------\u001b[0m",
            "\u001b[0;31mConnectionRefusedError\u001b[0m                    Traceback (most recent call last)",
            "\u001b[0;32m<ipython-input-84-1fe1c442932e>\u001b[0m in \u001b[0;36m<module>\u001b[0;34m()\u001b[0m\n\u001b[0;32m----> 1\u001b[0;31m \u001b[0msdf\u001b[0m \u001b[0;34m=\u001b[0m \u001b[0mspark_df\u001b[0m\u001b[0;34m.\u001b[0m\u001b[0mtoPandas\u001b[0m\u001b[0;34m(\u001b[0m\u001b[0;34m)\u001b[0m\u001b[0;34m\u001b[0m\u001b[0;34m\u001b[0m\u001b[0m\n\u001b[0m",
            "\u001b[0;32m/content/spark-3.2.1-bin-hadoop3.2/python/pyspark/sql/pandas/conversion.py\u001b[0m in \u001b[0;36mtoPandas\u001b[0;34m(self)\u001b[0m\n\u001b[1;32m     65\u001b[0m         \u001b[0;32mimport\u001b[0m \u001b[0mpandas\u001b[0m \u001b[0;32mas\u001b[0m \u001b[0mpd\u001b[0m\u001b[0;34m\u001b[0m\u001b[0;34m\u001b[0m\u001b[0m\n\u001b[1;32m     66\u001b[0m \u001b[0;34m\u001b[0m\u001b[0m\n\u001b[0;32m---> 67\u001b[0;31m         \u001b[0mtimezone\u001b[0m \u001b[0;34m=\u001b[0m \u001b[0mself\u001b[0m\u001b[0;34m.\u001b[0m\u001b[0msql_ctx\u001b[0m\u001b[0;34m.\u001b[0m\u001b[0m_conf\u001b[0m\u001b[0;34m.\u001b[0m\u001b[0msessionLocalTimeZone\u001b[0m\u001b[0;34m(\u001b[0m\u001b[0;34m)\u001b[0m\u001b[0;34m\u001b[0m\u001b[0;34m\u001b[0m\u001b[0m\n\u001b[0m\u001b[1;32m     68\u001b[0m \u001b[0;34m\u001b[0m\u001b[0m\n\u001b[1;32m     69\u001b[0m         \u001b[0;32mif\u001b[0m \u001b[0mself\u001b[0m\u001b[0;34m.\u001b[0m\u001b[0msql_ctx\u001b[0m\u001b[0;34m.\u001b[0m\u001b[0m_conf\u001b[0m\u001b[0;34m.\u001b[0m\u001b[0marrowPySparkEnabled\u001b[0m\u001b[0;34m(\u001b[0m\u001b[0;34m)\u001b[0m\u001b[0;34m:\u001b[0m\u001b[0;34m\u001b[0m\u001b[0;34m\u001b[0m\u001b[0m\n",
            "\u001b[0;32m/content/spark-3.2.1-bin-hadoop3.2/python/pyspark/sql/context.py\u001b[0m in \u001b[0;36m_conf\u001b[0;34m(self)\u001b[0m\n\u001b[1;32m    107\u001b[0m     \u001b[0;32mdef\u001b[0m \u001b[0m_conf\u001b[0m\u001b[0;34m(\u001b[0m\u001b[0mself\u001b[0m\u001b[0;34m)\u001b[0m\u001b[0;34m:\u001b[0m\u001b[0;34m\u001b[0m\u001b[0;34m\u001b[0m\u001b[0m\n\u001b[1;32m    108\u001b[0m         \u001b[0;34m\"\"\"Accessor for the JVM SQL-specific configurations\"\"\"\u001b[0m\u001b[0;34m\u001b[0m\u001b[0;34m\u001b[0m\u001b[0m\n\u001b[0;32m--> 109\u001b[0;31m         \u001b[0;32mreturn\u001b[0m \u001b[0mself\u001b[0m\u001b[0;34m.\u001b[0m\u001b[0msparkSession\u001b[0m\u001b[0;34m.\u001b[0m\u001b[0m_jsparkSession\u001b[0m\u001b[0;34m.\u001b[0m\u001b[0msessionState\u001b[0m\u001b[0;34m(\u001b[0m\u001b[0;34m)\u001b[0m\u001b[0;34m.\u001b[0m\u001b[0mconf\u001b[0m\u001b[0;34m(\u001b[0m\u001b[0;34m)\u001b[0m\u001b[0;34m\u001b[0m\u001b[0;34m\u001b[0m\u001b[0m\n\u001b[0m\u001b[1;32m    110\u001b[0m \u001b[0;34m\u001b[0m\u001b[0m\n\u001b[1;32m    111\u001b[0m     \u001b[0;34m@\u001b[0m\u001b[0mclassmethod\u001b[0m\u001b[0;34m\u001b[0m\u001b[0;34m\u001b[0m\u001b[0m\n",
            "\u001b[0;32m/content/spark-3.2.1-bin-hadoop3.2/python/lib/py4j-0.10.9.3-src.zip/py4j/java_gateway.py\u001b[0m in \u001b[0;36m__call__\u001b[0;34m(self, *args)\u001b[0m\n\u001b[1;32m   1318\u001b[0m             \u001b[0mproto\u001b[0m\u001b[0;34m.\u001b[0m\u001b[0mEND_COMMAND_PART\u001b[0m\u001b[0;34m\u001b[0m\u001b[0;34m\u001b[0m\u001b[0m\n\u001b[1;32m   1319\u001b[0m \u001b[0;34m\u001b[0m\u001b[0m\n\u001b[0;32m-> 1320\u001b[0;31m         \u001b[0manswer\u001b[0m \u001b[0;34m=\u001b[0m \u001b[0mself\u001b[0m\u001b[0;34m.\u001b[0m\u001b[0mgateway_client\u001b[0m\u001b[0;34m.\u001b[0m\u001b[0msend_command\u001b[0m\u001b[0;34m(\u001b[0m\u001b[0mcommand\u001b[0m\u001b[0;34m)\u001b[0m\u001b[0;34m\u001b[0m\u001b[0;34m\u001b[0m\u001b[0m\n\u001b[0m\u001b[1;32m   1321\u001b[0m         return_value = get_return_value(\n\u001b[1;32m   1322\u001b[0m             answer, self.gateway_client, self.target_id, self.name)\n",
            "\u001b[0;32m/content/spark-3.2.1-bin-hadoop3.2/python/lib/py4j-0.10.9.3-src.zip/py4j/java_gateway.py\u001b[0m in \u001b[0;36msend_command\u001b[0;34m(self, command, retry, binary)\u001b[0m\n\u001b[1;32m   1034\u001b[0m          \u001b[0;32mif\u001b[0m\u001b[0;31m \u001b[0m\u001b[0;31m`\u001b[0m\u001b[0mbinary\u001b[0m\u001b[0;31m`\u001b[0m \u001b[0;32mis\u001b[0m\u001b[0;31m \u001b[0m\u001b[0;31m`\u001b[0m\u001b[0;32mTrue\u001b[0m\u001b[0;31m`\u001b[0m\u001b[0;34m.\u001b[0m\u001b[0;34m\u001b[0m\u001b[0;34m\u001b[0m\u001b[0m\n\u001b[1;32m   1035\u001b[0m         \"\"\"\n\u001b[0;32m-> 1036\u001b[0;31m         \u001b[0mconnection\u001b[0m \u001b[0;34m=\u001b[0m \u001b[0mself\u001b[0m\u001b[0;34m.\u001b[0m\u001b[0m_get_connection\u001b[0m\u001b[0;34m(\u001b[0m\u001b[0;34m)\u001b[0m\u001b[0;34m\u001b[0m\u001b[0;34m\u001b[0m\u001b[0m\n\u001b[0m\u001b[1;32m   1037\u001b[0m         \u001b[0;32mtry\u001b[0m\u001b[0;34m:\u001b[0m\u001b[0;34m\u001b[0m\u001b[0;34m\u001b[0m\u001b[0m\n\u001b[1;32m   1038\u001b[0m             \u001b[0mresponse\u001b[0m \u001b[0;34m=\u001b[0m \u001b[0mconnection\u001b[0m\u001b[0;34m.\u001b[0m\u001b[0msend_command\u001b[0m\u001b[0;34m(\u001b[0m\u001b[0mcommand\u001b[0m\u001b[0;34m)\u001b[0m\u001b[0;34m\u001b[0m\u001b[0;34m\u001b[0m\u001b[0m\n",
            "\u001b[0;32m/content/spark-3.2.1-bin-hadoop3.2/python/lib/py4j-0.10.9.3-src.zip/py4j/clientserver.py\u001b[0m in \u001b[0;36m_get_connection\u001b[0;34m(self)\u001b[0m\n\u001b[1;32m    279\u001b[0m \u001b[0;34m\u001b[0m\u001b[0m\n\u001b[1;32m    280\u001b[0m         \u001b[0;32mif\u001b[0m \u001b[0mconnection\u001b[0m \u001b[0;32mis\u001b[0m \u001b[0;32mNone\u001b[0m \u001b[0;32mor\u001b[0m \u001b[0mconnection\u001b[0m\u001b[0;34m.\u001b[0m\u001b[0msocket\u001b[0m \u001b[0;32mis\u001b[0m \u001b[0;32mNone\u001b[0m\u001b[0;34m:\u001b[0m\u001b[0;34m\u001b[0m\u001b[0;34m\u001b[0m\u001b[0m\n\u001b[0;32m--> 281\u001b[0;31m             \u001b[0mconnection\u001b[0m \u001b[0;34m=\u001b[0m \u001b[0mself\u001b[0m\u001b[0;34m.\u001b[0m\u001b[0m_create_new_connection\u001b[0m\u001b[0;34m(\u001b[0m\u001b[0;34m)\u001b[0m\u001b[0;34m\u001b[0m\u001b[0;34m\u001b[0m\u001b[0m\n\u001b[0m\u001b[1;32m    282\u001b[0m         \u001b[0;32mreturn\u001b[0m \u001b[0mconnection\u001b[0m\u001b[0;34m\u001b[0m\u001b[0;34m\u001b[0m\u001b[0m\n\u001b[1;32m    283\u001b[0m \u001b[0;34m\u001b[0m\u001b[0m\n",
            "\u001b[0;32m/content/spark-3.2.1-bin-hadoop3.2/python/lib/py4j-0.10.9.3-src.zip/py4j/clientserver.py\u001b[0m in \u001b[0;36m_create_new_connection\u001b[0;34m(self)\u001b[0m\n\u001b[1;32m    286\u001b[0m             \u001b[0mself\u001b[0m\u001b[0;34m.\u001b[0m\u001b[0mjava_parameters\u001b[0m\u001b[0;34m,\u001b[0m \u001b[0mself\u001b[0m\u001b[0;34m.\u001b[0m\u001b[0mpython_parameters\u001b[0m\u001b[0;34m,\u001b[0m\u001b[0;34m\u001b[0m\u001b[0;34m\u001b[0m\u001b[0m\n\u001b[1;32m    287\u001b[0m             self.gateway_property, self)\n\u001b[0;32m--> 288\u001b[0;31m         \u001b[0mconnection\u001b[0m\u001b[0;34m.\u001b[0m\u001b[0mconnect_to_java_server\u001b[0m\u001b[0;34m(\u001b[0m\u001b[0;34m)\u001b[0m\u001b[0;34m\u001b[0m\u001b[0;34m\u001b[0m\u001b[0m\n\u001b[0m\u001b[1;32m    289\u001b[0m         \u001b[0mself\u001b[0m\u001b[0;34m.\u001b[0m\u001b[0mset_thread_connection\u001b[0m\u001b[0;34m(\u001b[0m\u001b[0mconnection\u001b[0m\u001b[0;34m)\u001b[0m\u001b[0;34m\u001b[0m\u001b[0;34m\u001b[0m\u001b[0m\n\u001b[1;32m    290\u001b[0m         \u001b[0;32mreturn\u001b[0m \u001b[0mconnection\u001b[0m\u001b[0;34m\u001b[0m\u001b[0;34m\u001b[0m\u001b[0m\n",
            "\u001b[0;32m/content/spark-3.2.1-bin-hadoop3.2/python/lib/py4j-0.10.9.3-src.zip/py4j/clientserver.py\u001b[0m in \u001b[0;36mconnect_to_java_server\u001b[0;34m(self)\u001b[0m\n\u001b[1;32m    400\u001b[0m                 self.socket = self.ssl_context.wrap_socket(\n\u001b[1;32m    401\u001b[0m                     self.socket, server_hostname=self.java_address)\n\u001b[0;32m--> 402\u001b[0;31m             \u001b[0mself\u001b[0m\u001b[0;34m.\u001b[0m\u001b[0msocket\u001b[0m\u001b[0;34m.\u001b[0m\u001b[0mconnect\u001b[0m\u001b[0;34m(\u001b[0m\u001b[0;34m(\u001b[0m\u001b[0mself\u001b[0m\u001b[0;34m.\u001b[0m\u001b[0mjava_address\u001b[0m\u001b[0;34m,\u001b[0m \u001b[0mself\u001b[0m\u001b[0;34m.\u001b[0m\u001b[0mjava_port\u001b[0m\u001b[0;34m)\u001b[0m\u001b[0;34m)\u001b[0m\u001b[0;34m\u001b[0m\u001b[0;34m\u001b[0m\u001b[0m\n\u001b[0m\u001b[1;32m    403\u001b[0m             \u001b[0mself\u001b[0m\u001b[0;34m.\u001b[0m\u001b[0mstream\u001b[0m \u001b[0;34m=\u001b[0m \u001b[0mself\u001b[0m\u001b[0;34m.\u001b[0m\u001b[0msocket\u001b[0m\u001b[0;34m.\u001b[0m\u001b[0mmakefile\u001b[0m\u001b[0;34m(\u001b[0m\u001b[0;34m\"rb\"\u001b[0m\u001b[0;34m)\u001b[0m\u001b[0;34m\u001b[0m\u001b[0;34m\u001b[0m\u001b[0m\n\u001b[1;32m    404\u001b[0m             \u001b[0mself\u001b[0m\u001b[0;34m.\u001b[0m\u001b[0mis_connected\u001b[0m \u001b[0;34m=\u001b[0m \u001b[0;32mTrue\u001b[0m\u001b[0;34m\u001b[0m\u001b[0;34m\u001b[0m\u001b[0m\n",
            "\u001b[0;31mConnectionRefusedError\u001b[0m: [Errno 111] Connection refused"
          ]
        }
      ]
    },
    {
      "cell_type": "code",
      "source": [
        ""
      ],
      "metadata": {
        "id": "2FZwh_YQz6hv"
      },
      "execution_count": null,
      "outputs": []
    },
    {
      "cell_type": "code",
      "source": [
        ""
      ],
      "metadata": {
        "id": "RRxr1LvNz6kG"
      },
      "execution_count": null,
      "outputs": []
    },
    {
      "cell_type": "code",
      "source": [
        "results.count()"
      ],
      "metadata": {
        "colab": {
          "base_uri": "https://localhost:8080/"
        },
        "id": "8E8LLJ0ymDgm",
        "outputId": "6288d78a-5c84-4d5f-f203-c15fb0102d42"
      },
      "execution_count": null,
      "outputs": [
        {
          "output_type": "execute_result",
          "data": {
            "text/plain": [
              "1798608"
            ]
          },
          "metadata": {},
          "execution_count": 67
        }
      ]
    },
    {
      "cell_type": "code",
      "source": [
        "from pyspark.sql.functions import pandas_udf\n",
        "\n",
        "schema = StructType([StructField('user_id', LongType(), True),\n",
        "                     StructField('prediction', DoubleType(), True)]) \n",
        "\n",
        "def apply_model(sample_df):\n",
        "\n",
        "    # run the model on the partitioned data set \n",
        "    ids = sample_df['user_id']\n",
        "    x_train = sample_df.drop(['user_id', 'partition_id', 'claimAmount'], axis=1)\n",
        "    pred = result.predict(exog=x_train)\n",
        "\n",
        "    return pd.DataFrame({'user_id': ids, 'prediction': pred[:]})\n",
        "    #return pd.DataFrame({'prediction': pred[:]})\n",
        "\n",
        "\n",
        "spark_df.groupby(\"partition_id\").applyInPandas(apply_model, schema=schema).show()  "
      ],
      "metadata": {
        "colab": {
          "base_uri": "https://localhost:8080/",
          "height": 522
        },
        "id": "4Hc2i7zVuXPD",
        "outputId": "f5bc1c55-c1aa-4620-f596-331d32f47e8f"
      },
      "execution_count": null,
      "outputs": [
        {
          "output_type": "error",
          "ename": "PythonException",
          "evalue": "ignored",
          "traceback": [
            "\u001b[0;31m---------------------------------------------------------------------------\u001b[0m",
            "\u001b[0;31mPythonException\u001b[0m                           Traceback (most recent call last)",
            "\u001b[0;32m<ipython-input-75-daf0edebf424>\u001b[0m in \u001b[0;36m<module>\u001b[0;34m()\u001b[0m\n\u001b[1;32m     15\u001b[0m \u001b[0;34m\u001b[0m\u001b[0m\n\u001b[1;32m     16\u001b[0m \u001b[0;34m\u001b[0m\u001b[0m\n\u001b[0;32m---> 17\u001b[0;31m \u001b[0mspark_df\u001b[0m\u001b[0;34m.\u001b[0m\u001b[0mgroupby\u001b[0m\u001b[0;34m(\u001b[0m\u001b[0;34m\"partition_id\"\u001b[0m\u001b[0;34m)\u001b[0m\u001b[0;34m.\u001b[0m\u001b[0mapplyInPandas\u001b[0m\u001b[0;34m(\u001b[0m\u001b[0mapply_model\u001b[0m\u001b[0;34m,\u001b[0m \u001b[0mschema\u001b[0m\u001b[0;34m=\u001b[0m\u001b[0mschema\u001b[0m\u001b[0;34m)\u001b[0m\u001b[0;34m.\u001b[0m\u001b[0mshow\u001b[0m\u001b[0;34m(\u001b[0m\u001b[0;34m)\u001b[0m\u001b[0;34m\u001b[0m\u001b[0;34m\u001b[0m\u001b[0m\n\u001b[0m",
            "\u001b[0;32m/content/spark-3.2.1-bin-hadoop3.2/python/pyspark/sql/dataframe.py\u001b[0m in \u001b[0;36mshow\u001b[0;34m(self, n, truncate, vertical)\u001b[0m\n\u001b[1;32m    492\u001b[0m \u001b[0;34m\u001b[0m\u001b[0m\n\u001b[1;32m    493\u001b[0m         \u001b[0;32mif\u001b[0m \u001b[0misinstance\u001b[0m\u001b[0;34m(\u001b[0m\u001b[0mtruncate\u001b[0m\u001b[0;34m,\u001b[0m \u001b[0mbool\u001b[0m\u001b[0;34m)\u001b[0m \u001b[0;32mand\u001b[0m \u001b[0mtruncate\u001b[0m\u001b[0;34m:\u001b[0m\u001b[0;34m\u001b[0m\u001b[0;34m\u001b[0m\u001b[0m\n\u001b[0;32m--> 494\u001b[0;31m             \u001b[0mprint\u001b[0m\u001b[0;34m(\u001b[0m\u001b[0mself\u001b[0m\u001b[0;34m.\u001b[0m\u001b[0m_jdf\u001b[0m\u001b[0;34m.\u001b[0m\u001b[0mshowString\u001b[0m\u001b[0;34m(\u001b[0m\u001b[0mn\u001b[0m\u001b[0;34m,\u001b[0m \u001b[0;36m20\u001b[0m\u001b[0;34m,\u001b[0m \u001b[0mvertical\u001b[0m\u001b[0;34m)\u001b[0m\u001b[0;34m)\u001b[0m\u001b[0;34m\u001b[0m\u001b[0;34m\u001b[0m\u001b[0m\n\u001b[0m\u001b[1;32m    495\u001b[0m         \u001b[0;32melse\u001b[0m\u001b[0;34m:\u001b[0m\u001b[0;34m\u001b[0m\u001b[0;34m\u001b[0m\u001b[0m\n\u001b[1;32m    496\u001b[0m             \u001b[0;32mtry\u001b[0m\u001b[0;34m:\u001b[0m\u001b[0;34m\u001b[0m\u001b[0;34m\u001b[0m\u001b[0m\n",
            "\u001b[0;32m/content/spark-3.2.1-bin-hadoop3.2/python/lib/py4j-0.10.9.3-src.zip/py4j/java_gateway.py\u001b[0m in \u001b[0;36m__call__\u001b[0;34m(self, *args)\u001b[0m\n\u001b[1;32m   1320\u001b[0m         \u001b[0manswer\u001b[0m \u001b[0;34m=\u001b[0m \u001b[0mself\u001b[0m\u001b[0;34m.\u001b[0m\u001b[0mgateway_client\u001b[0m\u001b[0;34m.\u001b[0m\u001b[0msend_command\u001b[0m\u001b[0;34m(\u001b[0m\u001b[0mcommand\u001b[0m\u001b[0;34m)\u001b[0m\u001b[0;34m\u001b[0m\u001b[0;34m\u001b[0m\u001b[0m\n\u001b[1;32m   1321\u001b[0m         return_value = get_return_value(\n\u001b[0;32m-> 1322\u001b[0;31m             answer, self.gateway_client, self.target_id, self.name)\n\u001b[0m\u001b[1;32m   1323\u001b[0m \u001b[0;34m\u001b[0m\u001b[0m\n\u001b[1;32m   1324\u001b[0m         \u001b[0;32mfor\u001b[0m \u001b[0mtemp_arg\u001b[0m \u001b[0;32min\u001b[0m \u001b[0mtemp_args\u001b[0m\u001b[0;34m:\u001b[0m\u001b[0;34m\u001b[0m\u001b[0;34m\u001b[0m\u001b[0m\n",
            "\u001b[0;32m/content/spark-3.2.1-bin-hadoop3.2/python/pyspark/sql/utils.py\u001b[0m in \u001b[0;36mdeco\u001b[0;34m(*a, **kw)\u001b[0m\n\u001b[1;32m    115\u001b[0m                 \u001b[0;31m# Hide where the exception came from that shows a non-Pythonic\u001b[0m\u001b[0;34m\u001b[0m\u001b[0;34m\u001b[0m\u001b[0;34m\u001b[0m\u001b[0m\n\u001b[1;32m    116\u001b[0m                 \u001b[0;31m# JVM exception message.\u001b[0m\u001b[0;34m\u001b[0m\u001b[0;34m\u001b[0m\u001b[0;34m\u001b[0m\u001b[0m\n\u001b[0;32m--> 117\u001b[0;31m                 \u001b[0;32mraise\u001b[0m \u001b[0mconverted\u001b[0m \u001b[0;32mfrom\u001b[0m \u001b[0;32mNone\u001b[0m\u001b[0;34m\u001b[0m\u001b[0;34m\u001b[0m\u001b[0m\n\u001b[0m\u001b[1;32m    118\u001b[0m             \u001b[0;32melse\u001b[0m\u001b[0;34m:\u001b[0m\u001b[0;34m\u001b[0m\u001b[0;34m\u001b[0m\u001b[0m\n\u001b[1;32m    119\u001b[0m                 \u001b[0;32mraise\u001b[0m\u001b[0;34m\u001b[0m\u001b[0;34m\u001b[0m\u001b[0m\n",
            "\u001b[0;31mPythonException\u001b[0m: \n  An exception was thrown from the Python worker. Please see the stack trace below.\nTraceback (most recent call last):\n  File \"<ipython-input-75-daf0edebf424>\", line 11, in apply_model\n  File \"/usr/local/lib/python3.7/dist-packages/statsmodels/base/model.py\", line 1021, in predict\n    raise exc.__class__(msg)\nAttributeError: predict requires that you use a DataFrame when predicting from a model\nthat was created using the formula api.\n\nThe original error message returned by patsy is:\n'DataFrame' object has no attribute 'dtype'\n"
          ]
        }
      ]
    },
    {
      "cell_type": "code",
      "source": [
        "spark_df.printSchema()"
      ],
      "metadata": {
        "colab": {
          "base_uri": "https://localhost:8080/"
        },
        "id": "XPc3iIom0vKB",
        "outputId": "399e3954-d472-4276-b5a2-74c1eaaf4ce6"
      },
      "execution_count": null,
      "outputs": [
        {
          "output_type": "stream",
          "name": "stdout",
          "text": [
            "root\n",
            " |-- _c0: string (nullable = true)\n",
            " |-- X: string (nullable = true)\n",
            " |-- Y: string (nullable = true)\n",
            " |-- bicycle: string (nullable = true)\n",
            " |-- bridge: string (nullable = true)\n",
            " |-- bus: string (nullable = true)\n",
            " |-- carStationWagon: string (nullable = true)\n",
            " |-- cliffBank: string (nullable = true)\n",
            " |-- crashDirectionDescription: string (nullable = true)\n",
            " |-- crashFinancialYear: string (nullable = true)\n",
            " |-- crashLocation1: string (nullable = true)\n",
            " |-- crashLocation2: string (nullable = true)\n",
            " |-- crashSeverity: string (nullable = true)\n",
            " |-- crashSHDescription: string (nullable = true)\n",
            " |-- crashYear: string (nullable = true)\n",
            " |-- debris: string (nullable = true)\n",
            " |-- directionRoleDescription: string (nullable = true)\n",
            " |-- ditch: string (nullable = true)\n",
            " |-- fatalCount: string (nullable = true)\n",
            " |-- fence: string (nullable = true)\n",
            " |-- flatHill: string (nullable = true)\n",
            " |-- guardRail: string (nullable = true)\n",
            " |-- houseOrBuilding: string (nullable = true)\n",
            " |-- kerb: string (nullable = true)\n",
            " |-- light: string (nullable = true)\n",
            " |-- minorInjuryCount: string (nullable = true)\n",
            " |-- moped: string (nullable = true)\n",
            " |-- motorcycle: string (nullable = true)\n",
            " |-- NumberOfLanes: string (nullable = true)\n",
            " |-- objectThrownOrDropped: string (nullable = true)\n",
            " |-- otherObject: string (nullable = true)\n",
            " |-- otherVehicleType: string (nullable = true)\n",
            " |-- overBank: string (nullable = true)\n",
            " |-- parkedVehicle: string (nullable = true)\n",
            " |-- phoneBoxEtc: string (nullable = true)\n",
            " |-- postOrPole: string (nullable = true)\n",
            " |-- region: string (nullable = true)\n",
            " |-- roadCharacter: string (nullable = true)\n",
            " |-- roadLane: string (nullable = true)\n",
            " |-- roadSurface: string (nullable = true)\n",
            " |-- roadworks: string (nullable = true)\n",
            " |-- schoolBus: string (nullable = true)\n",
            " |-- seriousInjuryCount: string (nullable = true)\n",
            " |-- slipOrFlood: string (nullable = true)\n",
            " |-- speedLimit: string (nullable = true)\n",
            " |-- strayAnimal: string (nullable = true)\n",
            " |-- streetLight: string (nullable = true)\n",
            " |-- suv: string (nullable = true)\n",
            " |-- taxi: string (nullable = true)\n",
            " |-- tlaName: string (nullable = true)\n",
            " |-- trafficControl: string (nullable = true)\n",
            " |-- trafficIsland: string (nullable = true)\n",
            " |-- trafficSign: string (nullable = true)\n",
            " |-- train: string (nullable = true)\n",
            " |-- tree: string (nullable = true)\n",
            " |-- truck: string (nullable = true)\n",
            " |-- unknownVehicleType: string (nullable = true)\n",
            " |-- urban: string (nullable = true)\n",
            " |-- vanOrUtility: string (nullable = true)\n",
            " |-- vehicle: string (nullable = true)\n",
            " |-- waterRiver: string (nullable = true)\n",
            " |-- weatherA: string (nullable = true)\n",
            " |-- claimAmount: string (nullable = true)\n",
            " |-- user_id: integer (nullable = false)\n",
            " |-- partition_id: double (nullable = true)\n",
            "\n"
          ]
        }
      ]
    },
    {
      "cell_type": "code",
      "execution_count": null,
      "metadata": {
        "id": "_PFfPRgjyzOV"
      },
      "outputs": [],
      "source": [
        "results.count()"
      ]
    },
    {
      "cell_type": "code",
      "execution_count": null,
      "metadata": {
        "colab": {
          "base_uri": "https://localhost:8080/"
        },
        "id": "IJ9djdmImEQI",
        "outputId": "2a93e9a8-48ac-4dcc-8033-7bfc27050fdb"
      },
      "outputs": [
        {
          "data": {
            "text/plain": [
              "5         6.769601e+06\n",
              "13        2.836229e+06\n",
              "17        6.592350e+06\n",
              "18        1.038781e+07\n",
              "20        1.417202e+07\n",
              "              ...     \n",
              "758738    6.617636e+06\n",
              "758741    6.786459e+06\n",
              "758744    6.612017e+06\n",
              "758746    6.803317e+06\n",
              "758747    6.806127e+06\n",
              "Length: 179808, dtype: float64"
            ]
          },
          "execution_count": 62,
          "metadata": {},
          "output_type": "execute_result"
        }
      ],
      "source": [
        "result.predict(exog=df_train)"
      ]
    },
    {
      "cell_type": "markdown",
      "metadata": {
        "id": "e6Fod2psUypJ"
      },
      "source": [
        "## Modeling"
      ]
    },
    {
      "cell_type": "code",
      "execution_count": null,
      "metadata": {
        "id": "l6Cr3IcoUypJ"
      },
      "outputs": [],
      "source": [
        "formula = \"claimAmount ~ crashSeverity+fatalCount+seriousInjuryCount+minorInjuryCount\""
      ]
    },
    {
      "cell_type": "code",
      "execution_count": null,
      "metadata": {
        "id": "aQYMcKJtUypJ"
      },
      "outputs": [],
      "source": [
        "y_train, X_train = dmatrices(formula, df_train, return_type='dataframe')\n",
        "y_test, X_test = dmatrices(formula, df_test, return_type='dataframe')"
      ]
    },
    {
      "cell_type": "code",
      "execution_count": null,
      "metadata": {
        "id": "ghd5j0inUypJ"
      },
      "outputs": [],
      "source": [
        "model_gamma = sm.GLM(y_train, X_train,family=sm.families.Gamma(link=sm.families.links.log())).fit()"
      ]
    },
    {
      "cell_type": "code",
      "execution_count": null,
      "metadata": {
        "id": "kNmpuagKUypK"
      },
      "outputs": [],
      "source": [
        "model_gamma.summary()"
      ]
    },
    {
      "cell_type": "code",
      "execution_count": null,
      "metadata": {
        "id": "MQqZOq-qUypK"
      },
      "outputs": [],
      "source": [
        "ypred = model_gamma.predict(X_train)\n",
        "rmse = np.sqrt(mean_squared_error(y_train,ypred))\n",
        "rmse"
      ]
    },
    {
      "cell_type": "code",
      "execution_count": null,
      "metadata": {
        "id": "BJcMFbI9UypK"
      },
      "outputs": [],
      "source": [
        "ypred = model_gamma.predict(X_test)\n",
        "rmse = np.sqrt(mean_squared_error(y_test,ypred))\n",
        "rmse"
      ]
    },
    {
      "cell_type": "code",
      "execution_count": null,
      "metadata": {
        "id": "DAsrbHlcUypL"
      },
      "outputs": [],
      "source": [
        "formula = \"Log_claimAmount ~ crashSeverity+fatalCount+seriousInjuryCount+minorInjuryCount\"\n",
        "\n",
        "y_train, X_train = dmatrices(formula, df_train, return_type='dataframe')\n",
        "y_test, X_test = dmatrices(formula, df_test, return_type='dataframe')"
      ]
    },
    {
      "cell_type": "code",
      "execution_count": null,
      "metadata": {
        "id": "VWXIY4vTUypL"
      },
      "outputs": [],
      "source": [
        "sm.qqplot(df['Log_claimAmount'],line='45',fit=True)"
      ]
    },
    {
      "cell_type": "code",
      "execution_count": null,
      "metadata": {
        "id": "24VqYinOUypM"
      },
      "outputs": [],
      "source": [
        "model = sm.OLS(y_train, X_train)\n",
        "results = model.fit()"
      ]
    },
    {
      "cell_type": "code",
      "execution_count": null,
      "metadata": {
        "id": "q5dAf2cxUypM",
        "scrolled": true
      },
      "outputs": [],
      "source": [
        "results.summary()"
      ]
    },
    {
      "cell_type": "code",
      "execution_count": null,
      "metadata": {
        "id": "DPv-rrnDUypM"
      },
      "outputs": [],
      "source": [
        "ypred = results.predict(X_train)\n",
        "rmse = np.sqrt(mean_squared_error(y_train,ypred))\n",
        "rmse"
      ]
    },
    {
      "cell_type": "code",
      "execution_count": null,
      "metadata": {
        "id": "pmdssaRRUypN"
      },
      "outputs": [],
      "source": [
        "ypred = results.predict(X_test)\n",
        "rmse = np.sqrt(mean_squared_error(y_test,ypred))\n",
        "rmse"
      ]
    }
  ],
  "metadata": {
    "colab": {
      "collapsed_sections": [
        "GFy04VIkUyo_",
        "vvknSTAouT8T",
        "ukp60Oosdf-b",
        "e6Fod2psUypJ"
      ],
      "name": "Modeling.ipynb",
      "provenance": []
    },
    "kernelspec": {
      "display_name": "Python 3 (ipykernel)",
      "language": "python",
      "name": "python3"
    },
    "language_info": {
      "codemirror_mode": {
        "name": "ipython",
        "version": 3
      },
      "file_extension": ".py",
      "mimetype": "text/x-python",
      "name": "python",
      "nbconvert_exporter": "python",
      "pygments_lexer": "ipython3",
      "version": "3.9.7"
    }
  },
  "nbformat": 4,
  "nbformat_minor": 0
}