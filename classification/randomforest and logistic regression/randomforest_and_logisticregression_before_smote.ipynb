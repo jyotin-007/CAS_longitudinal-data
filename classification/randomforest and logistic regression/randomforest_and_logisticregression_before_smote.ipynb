{
  "nbformat": 4,
  "nbformat_minor": 0,
  "metadata": {
    "colab": {
      "name": "randomforest and logisticregression before smote.ipynb",
      "provenance": [],
      "collapsed_sections": []
    },
    "kernelspec": {
      "name": "python3",
      "display_name": "Python 3"
    },
    "language_info": {
      "name": "python"
    }
  },
  "cells": [
    {
      "cell_type": "code",
      "execution_count": 71,
      "metadata": {
        "id": "P4ezgdE9aJ0R"
      },
      "outputs": [],
      "source": [
        "import numpy as np\n",
        "import pandas as pd\n",
        "import matplotlib.pyplot as plt\n",
        "import seaborn as sns\n",
        "import statsmodels.api as sm\n",
        "\n",
        "from sklearn.metrics import mean_squared_error \n",
        "\n",
        "import random\n",
        "sns.set_theme()"
      ]
    },
    {
      "cell_type": "code",
      "source": [
        "from google.colab import drive\n",
        "\n",
        "drive.mount('/content/gdrive')"
      ],
      "metadata": {
        "colab": {
          "base_uri": "https://localhost:8080/"
        },
        "id": "D5xNxb3iaR-5",
        "outputId": "e8e0c017-4c41-41ad-be90-1471238480f0"
      },
      "execution_count": 72,
      "outputs": [
        {
          "output_type": "stream",
          "name": "stdout",
          "text": [
            "Drive already mounted at /content/gdrive; to attempt to forcibly remount, call drive.mount(\"/content/gdrive\", force_remount=True).\n"
          ]
        }
      ]
    },
    {
      "cell_type": "code",
      "source": [
        "cd gdrive/MyDrive"
      ],
      "metadata": {
        "colab": {
          "base_uri": "https://localhost:8080/"
        },
        "id": "lDbLtJ1qaURf",
        "outputId": "a35adc38-001b-48a8-9928-d57ed60fb76b"
      },
      "execution_count": 73,
      "outputs": [
        {
          "output_type": "stream",
          "name": "stdout",
          "text": [
            "[Errno 2] No such file or directory: 'gdrive/MyDrive'\n",
            "/content/gdrive/MyDrive\n"
          ]
        }
      ]
    },
    {
      "cell_type": "code",
      "source": [
        "df= pd.read_csv('cas_data.csv')\n",
        "df.head()"
      ],
      "metadata": {
        "colab": {
          "base_uri": "https://localhost:8080/",
          "height": 300
        },
        "id": "IG5Sp_BhaXoZ",
        "outputId": "f58332f4-dee5-4df2-b597-fdd4b1281c35"
      },
      "execution_count": 74,
      "outputs": [
        {
          "output_type": "execute_result",
          "data": {
            "text/plain": [
              "           X          Y  OBJECTID  advisorySpeed  areaUnitID  bicycle  bridge  \\\n",
              "0  1406914.0  4915023.0         1            NaN    602800.0      0.0     NaN   \n",
              "1  1799023.0  5814728.0         2            NaN    528900.0      0.0     NaN   \n",
              "2  1741193.0  5976099.0         3           55.0    506660.0      0.0     0.0   \n",
              "3  1790288.0  5837387.0         4            NaN    526601.0      0.0     0.0   \n",
              "4  1615675.0  5423627.0         5            NaN    584201.0      0.0     NaN   \n",
              "\n",
              "   bus  carStationWagon  cliffBank  ... train tree truck unknownVehicleType  \\\n",
              "0  0.0              1.0        NaN  ...   NaN  NaN   0.0                0.0   \n",
              "1  0.0              3.0        NaN  ...   NaN  NaN   0.0                0.0   \n",
              "2  0.0              1.0        1.0  ...   0.0  0.0   0.0                0.0   \n",
              "3  0.0              1.0        1.0  ...   0.0  0.0   0.0                0.0   \n",
              "4  0.0              2.0        NaN  ...   NaN  NaN   0.0                0.0   \n",
              "\n",
              "   urban vanOrUtility vehicle  waterRiver    weatherA weatherB  \n",
              "0  Urban          1.0     NaN         NaN        Fine     Null  \n",
              "1  Urban          0.0     NaN         NaN        Fine     Null  \n",
              "2   Open          0.0     0.0         0.0  Light rain     Null  \n",
              "3   Open          0.0     0.0         0.0  Light rain     Null  \n",
              "4  Urban          0.0     NaN         NaN        Fine     Null  \n",
              "\n",
              "[5 rows x 72 columns]"
            ],
            "text/html": [
              "\n",
              "  <div id=\"df-d7219e0c-4879-4c5c-b555-c7a2fbf298a9\">\n",
              "    <div class=\"colab-df-container\">\n",
              "      <div>\n",
              "<style scoped>\n",
              "    .dataframe tbody tr th:only-of-type {\n",
              "        vertical-align: middle;\n",
              "    }\n",
              "\n",
              "    .dataframe tbody tr th {\n",
              "        vertical-align: top;\n",
              "    }\n",
              "\n",
              "    .dataframe thead th {\n",
              "        text-align: right;\n",
              "    }\n",
              "</style>\n",
              "<table border=\"1\" class=\"dataframe\">\n",
              "  <thead>\n",
              "    <tr style=\"text-align: right;\">\n",
              "      <th></th>\n",
              "      <th>X</th>\n",
              "      <th>Y</th>\n",
              "      <th>OBJECTID</th>\n",
              "      <th>advisorySpeed</th>\n",
              "      <th>areaUnitID</th>\n",
              "      <th>bicycle</th>\n",
              "      <th>bridge</th>\n",
              "      <th>bus</th>\n",
              "      <th>carStationWagon</th>\n",
              "      <th>cliffBank</th>\n",
              "      <th>...</th>\n",
              "      <th>train</th>\n",
              "      <th>tree</th>\n",
              "      <th>truck</th>\n",
              "      <th>unknownVehicleType</th>\n",
              "      <th>urban</th>\n",
              "      <th>vanOrUtility</th>\n",
              "      <th>vehicle</th>\n",
              "      <th>waterRiver</th>\n",
              "      <th>weatherA</th>\n",
              "      <th>weatherB</th>\n",
              "    </tr>\n",
              "  </thead>\n",
              "  <tbody>\n",
              "    <tr>\n",
              "      <th>0</th>\n",
              "      <td>1406914.0</td>\n",
              "      <td>4915023.0</td>\n",
              "      <td>1</td>\n",
              "      <td>NaN</td>\n",
              "      <td>602800.0</td>\n",
              "      <td>0.0</td>\n",
              "      <td>NaN</td>\n",
              "      <td>0.0</td>\n",
              "      <td>1.0</td>\n",
              "      <td>NaN</td>\n",
              "      <td>...</td>\n",
              "      <td>NaN</td>\n",
              "      <td>NaN</td>\n",
              "      <td>0.0</td>\n",
              "      <td>0.0</td>\n",
              "      <td>Urban</td>\n",
              "      <td>1.0</td>\n",
              "      <td>NaN</td>\n",
              "      <td>NaN</td>\n",
              "      <td>Fine</td>\n",
              "      <td>Null</td>\n",
              "    </tr>\n",
              "    <tr>\n",
              "      <th>1</th>\n",
              "      <td>1799023.0</td>\n",
              "      <td>5814728.0</td>\n",
              "      <td>2</td>\n",
              "      <td>NaN</td>\n",
              "      <td>528900.0</td>\n",
              "      <td>0.0</td>\n",
              "      <td>NaN</td>\n",
              "      <td>0.0</td>\n",
              "      <td>3.0</td>\n",
              "      <td>NaN</td>\n",
              "      <td>...</td>\n",
              "      <td>NaN</td>\n",
              "      <td>NaN</td>\n",
              "      <td>0.0</td>\n",
              "      <td>0.0</td>\n",
              "      <td>Urban</td>\n",
              "      <td>0.0</td>\n",
              "      <td>NaN</td>\n",
              "      <td>NaN</td>\n",
              "      <td>Fine</td>\n",
              "      <td>Null</td>\n",
              "    </tr>\n",
              "    <tr>\n",
              "      <th>2</th>\n",
              "      <td>1741193.0</td>\n",
              "      <td>5976099.0</td>\n",
              "      <td>3</td>\n",
              "      <td>55.0</td>\n",
              "      <td>506660.0</td>\n",
              "      <td>0.0</td>\n",
              "      <td>0.0</td>\n",
              "      <td>0.0</td>\n",
              "      <td>1.0</td>\n",
              "      <td>1.0</td>\n",
              "      <td>...</td>\n",
              "      <td>0.0</td>\n",
              "      <td>0.0</td>\n",
              "      <td>0.0</td>\n",
              "      <td>0.0</td>\n",
              "      <td>Open</td>\n",
              "      <td>0.0</td>\n",
              "      <td>0.0</td>\n",
              "      <td>0.0</td>\n",
              "      <td>Light rain</td>\n",
              "      <td>Null</td>\n",
              "    </tr>\n",
              "    <tr>\n",
              "      <th>3</th>\n",
              "      <td>1790288.0</td>\n",
              "      <td>5837387.0</td>\n",
              "      <td>4</td>\n",
              "      <td>NaN</td>\n",
              "      <td>526601.0</td>\n",
              "      <td>0.0</td>\n",
              "      <td>0.0</td>\n",
              "      <td>0.0</td>\n",
              "      <td>1.0</td>\n",
              "      <td>1.0</td>\n",
              "      <td>...</td>\n",
              "      <td>0.0</td>\n",
              "      <td>0.0</td>\n",
              "      <td>0.0</td>\n",
              "      <td>0.0</td>\n",
              "      <td>Open</td>\n",
              "      <td>0.0</td>\n",
              "      <td>0.0</td>\n",
              "      <td>0.0</td>\n",
              "      <td>Light rain</td>\n",
              "      <td>Null</td>\n",
              "    </tr>\n",
              "    <tr>\n",
              "      <th>4</th>\n",
              "      <td>1615675.0</td>\n",
              "      <td>5423627.0</td>\n",
              "      <td>5</td>\n",
              "      <td>NaN</td>\n",
              "      <td>584201.0</td>\n",
              "      <td>0.0</td>\n",
              "      <td>NaN</td>\n",
              "      <td>0.0</td>\n",
              "      <td>2.0</td>\n",
              "      <td>NaN</td>\n",
              "      <td>...</td>\n",
              "      <td>NaN</td>\n",
              "      <td>NaN</td>\n",
              "      <td>0.0</td>\n",
              "      <td>0.0</td>\n",
              "      <td>Urban</td>\n",
              "      <td>0.0</td>\n",
              "      <td>NaN</td>\n",
              "      <td>NaN</td>\n",
              "      <td>Fine</td>\n",
              "      <td>Null</td>\n",
              "    </tr>\n",
              "  </tbody>\n",
              "</table>\n",
              "<p>5 rows × 72 columns</p>\n",
              "</div>\n",
              "      <button class=\"colab-df-convert\" onclick=\"convertToInteractive('df-d7219e0c-4879-4c5c-b555-c7a2fbf298a9')\"\n",
              "              title=\"Convert this dataframe to an interactive table.\"\n",
              "              style=\"display:none;\">\n",
              "        \n",
              "  <svg xmlns=\"http://www.w3.org/2000/svg\" height=\"24px\"viewBox=\"0 0 24 24\"\n",
              "       width=\"24px\">\n",
              "    <path d=\"M0 0h24v24H0V0z\" fill=\"none\"/>\n",
              "    <path d=\"M18.56 5.44l.94 2.06.94-2.06 2.06-.94-2.06-.94-.94-2.06-.94 2.06-2.06.94zm-11 1L8.5 8.5l.94-2.06 2.06-.94-2.06-.94L8.5 2.5l-.94 2.06-2.06.94zm10 10l.94 2.06.94-2.06 2.06-.94-2.06-.94-.94-2.06-.94 2.06-2.06.94z\"/><path d=\"M17.41 7.96l-1.37-1.37c-.4-.4-.92-.59-1.43-.59-.52 0-1.04.2-1.43.59L10.3 9.45l-7.72 7.72c-.78.78-.78 2.05 0 2.83L4 21.41c.39.39.9.59 1.41.59.51 0 1.02-.2 1.41-.59l7.78-7.78 2.81-2.81c.8-.78.8-2.07 0-2.86zM5.41 20L4 18.59l7.72-7.72 1.47 1.35L5.41 20z\"/>\n",
              "  </svg>\n",
              "      </button>\n",
              "      \n",
              "  <style>\n",
              "    .colab-df-container {\n",
              "      display:flex;\n",
              "      flex-wrap:wrap;\n",
              "      gap: 12px;\n",
              "    }\n",
              "\n",
              "    .colab-df-convert {\n",
              "      background-color: #E8F0FE;\n",
              "      border: none;\n",
              "      border-radius: 50%;\n",
              "      cursor: pointer;\n",
              "      display: none;\n",
              "      fill: #1967D2;\n",
              "      height: 32px;\n",
              "      padding: 0 0 0 0;\n",
              "      width: 32px;\n",
              "    }\n",
              "\n",
              "    .colab-df-convert:hover {\n",
              "      background-color: #E2EBFA;\n",
              "      box-shadow: 0px 1px 2px rgba(60, 64, 67, 0.3), 0px 1px 3px 1px rgba(60, 64, 67, 0.15);\n",
              "      fill: #174EA6;\n",
              "    }\n",
              "\n",
              "    [theme=dark] .colab-df-convert {\n",
              "      background-color: #3B4455;\n",
              "      fill: #D2E3FC;\n",
              "    }\n",
              "\n",
              "    [theme=dark] .colab-df-convert:hover {\n",
              "      background-color: #434B5C;\n",
              "      box-shadow: 0px 1px 3px 1px rgba(0, 0, 0, 0.15);\n",
              "      filter: drop-shadow(0px 1px 2px rgba(0, 0, 0, 0.3));\n",
              "      fill: #FFFFFF;\n",
              "    }\n",
              "  </style>\n",
              "\n",
              "      <script>\n",
              "        const buttonEl =\n",
              "          document.querySelector('#df-d7219e0c-4879-4c5c-b555-c7a2fbf298a9 button.colab-df-convert');\n",
              "        buttonEl.style.display =\n",
              "          google.colab.kernel.accessAllowed ? 'block' : 'none';\n",
              "\n",
              "        async function convertToInteractive(key) {\n",
              "          const element = document.querySelector('#df-d7219e0c-4879-4c5c-b555-c7a2fbf298a9');\n",
              "          const dataTable =\n",
              "            await google.colab.kernel.invokeFunction('convertToInteractive',\n",
              "                                                     [key], {});\n",
              "          if (!dataTable) return;\n",
              "\n",
              "          const docLinkHtml = 'Like what you see? Visit the ' +\n",
              "            '<a target=\"_blank\" href=https://colab.research.google.com/notebooks/data_table.ipynb>data table notebook</a>'\n",
              "            + ' to learn more about interactive tables.';\n",
              "          element.innerHTML = '';\n",
              "          dataTable['output_type'] = 'display_data';\n",
              "          await google.colab.output.renderOutput(dataTable, element);\n",
              "          const docLink = document.createElement('div');\n",
              "          docLink.innerHTML = docLinkHtml;\n",
              "          element.appendChild(docLink);\n",
              "        }\n",
              "      </script>\n",
              "    </div>\n",
              "  </div>\n",
              "  "
            ]
          },
          "metadata": {},
          "execution_count": 74
        }
      ]
    },
    {
      "cell_type": "code",
      "source": [
        "df.replace(\"Null\",np.NaN,inplace=True)\n",
        "df.head()"
      ],
      "metadata": {
        "colab": {
          "base_uri": "https://localhost:8080/",
          "height": 300
        },
        "id": "fW9KePPuaYgg",
        "outputId": "a7be3c9d-5cfe-4faa-d409-f5fbe34453d0"
      },
      "execution_count": 75,
      "outputs": [
        {
          "output_type": "execute_result",
          "data": {
            "text/plain": [
              "           X          Y  OBJECTID  advisorySpeed  areaUnitID  bicycle  bridge  \\\n",
              "0  1406914.0  4915023.0         1            NaN    602800.0      0.0     NaN   \n",
              "1  1799023.0  5814728.0         2            NaN    528900.0      0.0     NaN   \n",
              "2  1741193.0  5976099.0         3           55.0    506660.0      0.0     0.0   \n",
              "3  1790288.0  5837387.0         4            NaN    526601.0      0.0     0.0   \n",
              "4  1615675.0  5423627.0         5            NaN    584201.0      0.0     NaN   \n",
              "\n",
              "   bus  carStationWagon  cliffBank  ... train tree truck unknownVehicleType  \\\n",
              "0  0.0              1.0        NaN  ...   NaN  NaN   0.0                0.0   \n",
              "1  0.0              3.0        NaN  ...   NaN  NaN   0.0                0.0   \n",
              "2  0.0              1.0        1.0  ...   0.0  0.0   0.0                0.0   \n",
              "3  0.0              1.0        1.0  ...   0.0  0.0   0.0                0.0   \n",
              "4  0.0              2.0        NaN  ...   NaN  NaN   0.0                0.0   \n",
              "\n",
              "   urban vanOrUtility vehicle  waterRiver    weatherA weatherB  \n",
              "0  Urban          1.0     NaN         NaN        Fine      NaN  \n",
              "1  Urban          0.0     NaN         NaN        Fine      NaN  \n",
              "2   Open          0.0     0.0         0.0  Light rain      NaN  \n",
              "3   Open          0.0     0.0         0.0  Light rain      NaN  \n",
              "4  Urban          0.0     NaN         NaN        Fine      NaN  \n",
              "\n",
              "[5 rows x 72 columns]"
            ],
            "text/html": [
              "\n",
              "  <div id=\"df-a601cf0f-d4e7-4ca0-ad20-ed6a3ded2236\">\n",
              "    <div class=\"colab-df-container\">\n",
              "      <div>\n",
              "<style scoped>\n",
              "    .dataframe tbody tr th:only-of-type {\n",
              "        vertical-align: middle;\n",
              "    }\n",
              "\n",
              "    .dataframe tbody tr th {\n",
              "        vertical-align: top;\n",
              "    }\n",
              "\n",
              "    .dataframe thead th {\n",
              "        text-align: right;\n",
              "    }\n",
              "</style>\n",
              "<table border=\"1\" class=\"dataframe\">\n",
              "  <thead>\n",
              "    <tr style=\"text-align: right;\">\n",
              "      <th></th>\n",
              "      <th>X</th>\n",
              "      <th>Y</th>\n",
              "      <th>OBJECTID</th>\n",
              "      <th>advisorySpeed</th>\n",
              "      <th>areaUnitID</th>\n",
              "      <th>bicycle</th>\n",
              "      <th>bridge</th>\n",
              "      <th>bus</th>\n",
              "      <th>carStationWagon</th>\n",
              "      <th>cliffBank</th>\n",
              "      <th>...</th>\n",
              "      <th>train</th>\n",
              "      <th>tree</th>\n",
              "      <th>truck</th>\n",
              "      <th>unknownVehicleType</th>\n",
              "      <th>urban</th>\n",
              "      <th>vanOrUtility</th>\n",
              "      <th>vehicle</th>\n",
              "      <th>waterRiver</th>\n",
              "      <th>weatherA</th>\n",
              "      <th>weatherB</th>\n",
              "    </tr>\n",
              "  </thead>\n",
              "  <tbody>\n",
              "    <tr>\n",
              "      <th>0</th>\n",
              "      <td>1406914.0</td>\n",
              "      <td>4915023.0</td>\n",
              "      <td>1</td>\n",
              "      <td>NaN</td>\n",
              "      <td>602800.0</td>\n",
              "      <td>0.0</td>\n",
              "      <td>NaN</td>\n",
              "      <td>0.0</td>\n",
              "      <td>1.0</td>\n",
              "      <td>NaN</td>\n",
              "      <td>...</td>\n",
              "      <td>NaN</td>\n",
              "      <td>NaN</td>\n",
              "      <td>0.0</td>\n",
              "      <td>0.0</td>\n",
              "      <td>Urban</td>\n",
              "      <td>1.0</td>\n",
              "      <td>NaN</td>\n",
              "      <td>NaN</td>\n",
              "      <td>Fine</td>\n",
              "      <td>NaN</td>\n",
              "    </tr>\n",
              "    <tr>\n",
              "      <th>1</th>\n",
              "      <td>1799023.0</td>\n",
              "      <td>5814728.0</td>\n",
              "      <td>2</td>\n",
              "      <td>NaN</td>\n",
              "      <td>528900.0</td>\n",
              "      <td>0.0</td>\n",
              "      <td>NaN</td>\n",
              "      <td>0.0</td>\n",
              "      <td>3.0</td>\n",
              "      <td>NaN</td>\n",
              "      <td>...</td>\n",
              "      <td>NaN</td>\n",
              "      <td>NaN</td>\n",
              "      <td>0.0</td>\n",
              "      <td>0.0</td>\n",
              "      <td>Urban</td>\n",
              "      <td>0.0</td>\n",
              "      <td>NaN</td>\n",
              "      <td>NaN</td>\n",
              "      <td>Fine</td>\n",
              "      <td>NaN</td>\n",
              "    </tr>\n",
              "    <tr>\n",
              "      <th>2</th>\n",
              "      <td>1741193.0</td>\n",
              "      <td>5976099.0</td>\n",
              "      <td>3</td>\n",
              "      <td>55.0</td>\n",
              "      <td>506660.0</td>\n",
              "      <td>0.0</td>\n",
              "      <td>0.0</td>\n",
              "      <td>0.0</td>\n",
              "      <td>1.0</td>\n",
              "      <td>1.0</td>\n",
              "      <td>...</td>\n",
              "      <td>0.0</td>\n",
              "      <td>0.0</td>\n",
              "      <td>0.0</td>\n",
              "      <td>0.0</td>\n",
              "      <td>Open</td>\n",
              "      <td>0.0</td>\n",
              "      <td>0.0</td>\n",
              "      <td>0.0</td>\n",
              "      <td>Light rain</td>\n",
              "      <td>NaN</td>\n",
              "    </tr>\n",
              "    <tr>\n",
              "      <th>3</th>\n",
              "      <td>1790288.0</td>\n",
              "      <td>5837387.0</td>\n",
              "      <td>4</td>\n",
              "      <td>NaN</td>\n",
              "      <td>526601.0</td>\n",
              "      <td>0.0</td>\n",
              "      <td>0.0</td>\n",
              "      <td>0.0</td>\n",
              "      <td>1.0</td>\n",
              "      <td>1.0</td>\n",
              "      <td>...</td>\n",
              "      <td>0.0</td>\n",
              "      <td>0.0</td>\n",
              "      <td>0.0</td>\n",
              "      <td>0.0</td>\n",
              "      <td>Open</td>\n",
              "      <td>0.0</td>\n",
              "      <td>0.0</td>\n",
              "      <td>0.0</td>\n",
              "      <td>Light rain</td>\n",
              "      <td>NaN</td>\n",
              "    </tr>\n",
              "    <tr>\n",
              "      <th>4</th>\n",
              "      <td>1615675.0</td>\n",
              "      <td>5423627.0</td>\n",
              "      <td>5</td>\n",
              "      <td>NaN</td>\n",
              "      <td>584201.0</td>\n",
              "      <td>0.0</td>\n",
              "      <td>NaN</td>\n",
              "      <td>0.0</td>\n",
              "      <td>2.0</td>\n",
              "      <td>NaN</td>\n",
              "      <td>...</td>\n",
              "      <td>NaN</td>\n",
              "      <td>NaN</td>\n",
              "      <td>0.0</td>\n",
              "      <td>0.0</td>\n",
              "      <td>Urban</td>\n",
              "      <td>0.0</td>\n",
              "      <td>NaN</td>\n",
              "      <td>NaN</td>\n",
              "      <td>Fine</td>\n",
              "      <td>NaN</td>\n",
              "    </tr>\n",
              "  </tbody>\n",
              "</table>\n",
              "<p>5 rows × 72 columns</p>\n",
              "</div>\n",
              "      <button class=\"colab-df-convert\" onclick=\"convertToInteractive('df-a601cf0f-d4e7-4ca0-ad20-ed6a3ded2236')\"\n",
              "              title=\"Convert this dataframe to an interactive table.\"\n",
              "              style=\"display:none;\">\n",
              "        \n",
              "  <svg xmlns=\"http://www.w3.org/2000/svg\" height=\"24px\"viewBox=\"0 0 24 24\"\n",
              "       width=\"24px\">\n",
              "    <path d=\"M0 0h24v24H0V0z\" fill=\"none\"/>\n",
              "    <path d=\"M18.56 5.44l.94 2.06.94-2.06 2.06-.94-2.06-.94-.94-2.06-.94 2.06-2.06.94zm-11 1L8.5 8.5l.94-2.06 2.06-.94-2.06-.94L8.5 2.5l-.94 2.06-2.06.94zm10 10l.94 2.06.94-2.06 2.06-.94-2.06-.94-.94-2.06-.94 2.06-2.06.94z\"/><path d=\"M17.41 7.96l-1.37-1.37c-.4-.4-.92-.59-1.43-.59-.52 0-1.04.2-1.43.59L10.3 9.45l-7.72 7.72c-.78.78-.78 2.05 0 2.83L4 21.41c.39.39.9.59 1.41.59.51 0 1.02-.2 1.41-.59l7.78-7.78 2.81-2.81c.8-.78.8-2.07 0-2.86zM5.41 20L4 18.59l7.72-7.72 1.47 1.35L5.41 20z\"/>\n",
              "  </svg>\n",
              "      </button>\n",
              "      \n",
              "  <style>\n",
              "    .colab-df-container {\n",
              "      display:flex;\n",
              "      flex-wrap:wrap;\n",
              "      gap: 12px;\n",
              "    }\n",
              "\n",
              "    .colab-df-convert {\n",
              "      background-color: #E8F0FE;\n",
              "      border: none;\n",
              "      border-radius: 50%;\n",
              "      cursor: pointer;\n",
              "      display: none;\n",
              "      fill: #1967D2;\n",
              "      height: 32px;\n",
              "      padding: 0 0 0 0;\n",
              "      width: 32px;\n",
              "    }\n",
              "\n",
              "    .colab-df-convert:hover {\n",
              "      background-color: #E2EBFA;\n",
              "      box-shadow: 0px 1px 2px rgba(60, 64, 67, 0.3), 0px 1px 3px 1px rgba(60, 64, 67, 0.15);\n",
              "      fill: #174EA6;\n",
              "    }\n",
              "\n",
              "    [theme=dark] .colab-df-convert {\n",
              "      background-color: #3B4455;\n",
              "      fill: #D2E3FC;\n",
              "    }\n",
              "\n",
              "    [theme=dark] .colab-df-convert:hover {\n",
              "      background-color: #434B5C;\n",
              "      box-shadow: 0px 1px 3px 1px rgba(0, 0, 0, 0.15);\n",
              "      filter: drop-shadow(0px 1px 2px rgba(0, 0, 0, 0.3));\n",
              "      fill: #FFFFFF;\n",
              "    }\n",
              "  </style>\n",
              "\n",
              "      <script>\n",
              "        const buttonEl =\n",
              "          document.querySelector('#df-a601cf0f-d4e7-4ca0-ad20-ed6a3ded2236 button.colab-df-convert');\n",
              "        buttonEl.style.display =\n",
              "          google.colab.kernel.accessAllowed ? 'block' : 'none';\n",
              "\n",
              "        async function convertToInteractive(key) {\n",
              "          const element = document.querySelector('#df-a601cf0f-d4e7-4ca0-ad20-ed6a3ded2236');\n",
              "          const dataTable =\n",
              "            await google.colab.kernel.invokeFunction('convertToInteractive',\n",
              "                                                     [key], {});\n",
              "          if (!dataTable) return;\n",
              "\n",
              "          const docLinkHtml = 'Like what you see? Visit the ' +\n",
              "            '<a target=\"_blank\" href=https://colab.research.google.com/notebooks/data_table.ipynb>data table notebook</a>'\n",
              "            + ' to learn more about interactive tables.';\n",
              "          element.innerHTML = '';\n",
              "          dataTable['output_type'] = 'display_data';\n",
              "          await google.colab.output.renderOutput(dataTable, element);\n",
              "          const docLink = document.createElement('div');\n",
              "          docLink.innerHTML = docLinkHtml;\n",
              "          element.appendChild(docLink);\n",
              "        }\n",
              "      </script>\n",
              "    </div>\n",
              "  </div>\n",
              "  "
            ]
          },
          "metadata": {},
          "execution_count": 75
        }
      ]
    },
    {
      "cell_type": "code",
      "source": [
        "df.drop([\"OBJECTID\",\"advisorySpeed\",\"crashRoadSideRoad\",\"tlaId\",\"meshblockId\",\"intersection\",\"areaUnitID\",\"temporarySpeedLimit\",\"pedestrian\",\"holiday\",\"weatherB\"],axis=1,inplace=True)\n",
        "df.drop_duplicates(inplace=True)"
      ],
      "metadata": {
        "id": "rKzRqdAIabMB"
      },
      "execution_count": 76,
      "outputs": []
    },
    {
      "cell_type": "code",
      "source": [
        "df.dropna(subset=['crashSeverity'],inplace=True)"
      ],
      "metadata": {
        "id": "zTgwCZyaaemS"
      },
      "execution_count": 77,
      "outputs": []
    },
    {
      "cell_type": "code",
      "source": [
        "df.shape"
      ],
      "metadata": {
        "colab": {
          "base_uri": "https://localhost:8080/"
        },
        "id": "49kS3K-Faful",
        "outputId": "022f62fe-248b-4a61-bb70-fb7e3a3c0343"
      },
      "execution_count": 78,
      "outputs": [
        {
          "output_type": "execute_result",
          "data": {
            "text/plain": [
              "(758006, 61)"
            ]
          },
          "metadata": {},
          "execution_count": 78
        }
      ]
    },
    {
      "cell_type": "code",
      "source": [
        "df['fatalCount'] = df.apply(\n",
        "    lambda row: 1 if np.isnan(row['fatalCount']) and row['crashSeverity']=='Fatal Crash' else row['fatalCount'],\n",
        "    axis=1\n",
        ")\n",
        "df['fatalCount'].fillna(0,inplace=True)"
      ],
      "metadata": {
        "id": "tsVB18Ylago-"
      },
      "execution_count": 79,
      "outputs": []
    },
    {
      "cell_type": "code",
      "source": [
        "df['seriousInjuryCount'] = df.apply(\n",
        "    lambda row: 1 if np.isnan(row['seriousInjuryCount']) and row['crashSeverity']=='Serious Crash' else row['seriousInjuryCount'],\n",
        "    axis=1\n",
        ")\n",
        "df['seriousInjuryCount'].fillna(0,inplace=True)"
      ],
      "metadata": {
        "id": "wmnpVZDgalQ6"
      },
      "execution_count": 80,
      "outputs": []
    },
    {
      "cell_type": "code",
      "source": [
        "df['minorInjuryCount'] = df.apply(\n",
        "    lambda row: 1 if np.isnan(row['minorInjuryCount']) and row['crashSeverity']=='Minor Crash' else row['minorInjuryCount'],\n",
        "    axis=1\n",
        ")\n",
        "df['minorInjuryCount'].fillna(0,inplace=True)"
      ],
      "metadata": {
        "id": "rAOqjRTKamup"
      },
      "execution_count": 81,
      "outputs": []
    },
    {
      "cell_type": "code",
      "source": [
        "df['bicycle'].fillna(0,inplace=True)\n",
        "df['bus'].fillna(0,inplace=True)\n",
        "df['carStationWagon'].fillna(0,inplace=True)\n",
        "df['moped'].fillna(0,inplace=True)\n",
        "df['motorcycle'].fillna(0,inplace=True)\n",
        "df['otherVehicleType'].fillna(0,inplace=True)\n",
        "df['schoolBus'].fillna(0,inplace=True)\n",
        "df['suv'].fillna(0,inplace=True)\n",
        "df['taxi'].fillna(0,inplace=True)\n",
        "df['truck'].fillna(0,inplace=True)\n",
        "df['unknownVehicleType'].fillna(0,inplace=True)\n",
        "df['vanOrUtility'].fillna(0,inplace=True)\n",
        "df['bridge'].fillna(0,inplace=True)\n",
        "df['cliffBank'].fillna(0,inplace=True)\n",
        "df['debris'].fillna(0,inplace=True)\n",
        "df['ditch'].fillna(0,inplace=True)\n",
        "df['fence'].fillna(0,inplace=True)\n",
        "df['truck'].fillna(0,inplace=True)\n",
        "df['guardRail'].fillna(0,inplace=True)\n",
        "df['houseOrBuilding'].fillna(0,inplace=True)\n",
        "df['kerb'].fillna(0,inplace=True)\n",
        "df['NumberOfLanes'].fillna(1,inplace=True)\n",
        "df['objectThrownOrDropped'].fillna(0,inplace=True)\n",
        "df['otherObject'].fillna(0,inplace=True)\n",
        "df['overBank'].fillna(0,inplace=True)\n",
        "df['parkedVehicle'].fillna(0,inplace=True)\n",
        "df['phoneBoxEtc'].fillna(0,inplace=True)\n",
        "df['postOrPole'].fillna(0,inplace=True)\n",
        "df['roadworks'].fillna(0,inplace=True)\n",
        "df['slipOrFlood'].fillna(0,inplace=True)\n",
        "df['speedLimit'].fillna(0,inplace=True)\n",
        "df['strayAnimal'].fillna(0,inplace=True)\n",
        "df['train'].fillna(0,inplace=True)\n",
        "df['tree'].fillna(0,inplace=True)\n",
        "df['vehicle'].fillna(0,inplace=True)\n",
        "df['trafficIsland'].fillna(0,inplace=True)\n",
        "df['trafficSign'].fillna(0,inplace=True)\n",
        "df['waterRiver'].fillna(0,inplace=True)"
      ],
      "metadata": {
        "id": "GfZY_3fWaoef"
      },
      "execution_count": 82,
      "outputs": []
    },
    {
      "cell_type": "code",
      "source": [
        "df['crashDirectionDescription'].fillna('None',inplace=True)\n",
        "df['crashLocation2'].fillna('None',inplace=True)\n",
        "df['directionRoleDescription'].fillna('None',inplace=True)\n",
        "df['flatHill'].fillna('None',inplace=True)\n",
        "df['region'].fillna('None',inplace=True)\n",
        "df['roadLane'].fillna('None',inplace=True)\n",
        "df['roadSurface'].fillna('None',inplace=True)\n",
        "df['streetLight'].fillna('None',inplace=True)\n",
        "df['tlaName'].fillna('None',inplace=True)\n",
        "df['weatherA'].fillna('None',inplace=True)"
      ],
      "metadata": {
        "id": "ALo9Sqk8aqSm"
      },
      "execution_count": 83,
      "outputs": []
    },
    {
      "cell_type": "code",
      "source": [
        "np.random.seed(108)\n",
        "df['claimAmount'] = df.apply(lambda row: (row['minorInjuryCount']*np.random.randint(2000000,5000000))+(row['fatalCount']*250000)+(row['seriousInjuryCount']*np.random.randint(5000000,10000000)), axis = 1)"
      ],
      "metadata": {
        "id": "lOedPTNbarZ-"
      },
      "execution_count": 84,
      "outputs": []
    },
    {
      "cell_type": "code",
      "source": [
        "from sklearn import preprocessing\n",
        "le = preprocessing.LabelEncoder()\n",
        "df['crashFinancialYear'] = le.fit_transform(df['crashFinancialYear'])\n"
      ],
      "metadata": {
        "id": "Vy4Q92PEauFB"
      },
      "execution_count": 85,
      "outputs": []
    },
    {
      "cell_type": "code",
      "source": [
        "#1 for injury and 0 for non-injury\n",
        "df['injury'] = df.apply(\n",
        "    lambda row: 0 if row['crashSeverity']=='Non-Injury Crash' else 1,\n",
        "    axis=1\n",
        ")"
      ],
      "metadata": {
        "id": "RLRRQ4vIaxQC"
      },
      "execution_count": 86,
      "outputs": []
    },
    {
      "cell_type": "code",
      "source": [
        "df['light'] = le.fit_transform(df['light'])"
      ],
      "metadata": {
        "id": "QeO0uxP9ay0G"
      },
      "execution_count": 87,
      "outputs": []
    },
    {
      "cell_type": "code",
      "source": [
        "df['roadLane'] = le.fit_transform(df['roadLane'])"
      ],
      "metadata": {
        "id": "EbvPtYpsa0Ki"
      },
      "execution_count": 88,
      "outputs": []
    },
    {
      "cell_type": "code",
      "source": [
        "df['crashSHDescription'] = le.fit_transform(df['crashSHDescription'])"
      ],
      "metadata": {
        "id": "NUL7vAmia08m"
      },
      "execution_count": 89,
      "outputs": []
    },
    {
      "cell_type": "code",
      "source": [
        "df['flatHill'] = le.fit_transform(df['flatHill'])"
      ],
      "metadata": {
        "id": "Hd1BsZ-ga1y_"
      },
      "execution_count": 90,
      "outputs": []
    },
    {
      "cell_type": "code",
      "source": [
        "df['weatherA'] = le.fit_transform(df['weatherA'])"
      ],
      "metadata": {
        "id": "32DBdhIAa2oY"
      },
      "execution_count": 91,
      "outputs": []
    },
    {
      "cell_type": "code",
      "source": [
        "df['roadCharacter'] = le.fit_transform(df['roadCharacter'])"
      ],
      "metadata": {
        "id": "VQ5DEfQAa3fb"
      },
      "execution_count": 92,
      "outputs": []
    },
    {
      "cell_type": "code",
      "source": [
        "df['trafficControl'] = le.fit_transform(df['trafficControl'])"
      ],
      "metadata": {
        "id": "ohUhhkNYa4XV"
      },
      "execution_count": 93,
      "outputs": []
    },
    {
      "cell_type": "code",
      "source": [
        "df['urban'] = le.fit_transform(df['urban'])"
      ],
      "metadata": {
        "id": "X0yxzL9fa5ap"
      },
      "execution_count": 94,
      "outputs": []
    },
    {
      "cell_type": "code",
      "source": [
        "df['injury'].value_counts()"
      ],
      "metadata": {
        "colab": {
          "base_uri": "https://localhost:8080/"
        },
        "id": "hLkQnEqLa6PJ",
        "outputId": "cb469e3c-8f5e-4bc6-df60-33bd313fe0a3"
      },
      "execution_count": 95,
      "outputs": [
        {
          "output_type": "execute_result",
          "data": {
            "text/plain": [
              "0    533356\n",
              "1    224650\n",
              "Name: injury, dtype: int64"
            ]
          },
          "metadata": {},
          "execution_count": 95
        }
      ]
    },
    {
      "cell_type": "code",
      "source": [
        "df1 = df"
      ],
      "metadata": {
        "id": "BE7GvT6FXWqI"
      },
      "execution_count": 96,
      "outputs": []
    },
    {
      "cell_type": "code",
      "source": [
        "df = df[['bicycle', 'bridge', 'bus', 'carStationWagon', 'cliffBank', 'crashFinancialYear', 'debris', 'ditch', 'fence', 'flatHill', 'guardRail', 'houseOrBuilding', 'kerb', 'light', 'moped', 'motorcycle', 'NumberOfLanes', 'objectThrownOrDropped', 'otherObject', 'otherVehicleType', 'overBank', 'parkedVehicle', 'roadworks', 'schoolBus', 'slipOrFlood', 'speedLimit', 'strayAnimal', 'suv', 'taxi', 'trafficSign', 'trafficControl', 'train', 'tree', 'truck', 'urban', 'vehicle', 'injury']]"
      ],
      "metadata": {
        "id": "4mOllJf-a7w3"
      },
      "execution_count": 97,
      "outputs": []
    },
    {
      "cell_type": "code",
      "source": [
        ""
      ],
      "metadata": {
        "id": "qYisQceHRBYK"
      },
      "execution_count": 97,
      "outputs": []
    },
    {
      "cell_type": "code",
      "source": [
        "np.random.seed(108)\n",
        "mask = np.random.rand(len(df)) <= 0.8\n",
        "df_train = df[mask]\n",
        "df_test = df[~mask]"
      ],
      "metadata": {
        "id": "D0ksUjBGa8uX"
      },
      "execution_count": 98,
      "outputs": []
    },
    {
      "cell_type": "code",
      "source": [
        "df.shape"
      ],
      "metadata": {
        "colab": {
          "base_uri": "https://localhost:8080/"
        },
        "id": "7BfVEjpra9tX",
        "outputId": "4c188a43-9754-4815-8b84-2de3cac8195e"
      },
      "execution_count": 99,
      "outputs": [
        {
          "output_type": "execute_result",
          "data": {
            "text/plain": [
              "(758006, 37)"
            ]
          },
          "metadata": {},
          "execution_count": 99
        }
      ]
    },
    {
      "cell_type": "code",
      "source": [
        "df_train.shape"
      ],
      "metadata": {
        "colab": {
          "base_uri": "https://localhost:8080/"
        },
        "id": "qXZGPunka-hW",
        "outputId": "3aba91a9-6900-46c0-fddc-4cfccbfa0da2"
      },
      "execution_count": 100,
      "outputs": [
        {
          "output_type": "execute_result",
          "data": {
            "text/plain": [
              "(606662, 37)"
            ]
          },
          "metadata": {},
          "execution_count": 100
        }
      ]
    },
    {
      "cell_type": "code",
      "source": [
        "df_test.shape"
      ],
      "metadata": {
        "colab": {
          "base_uri": "https://localhost:8080/"
        },
        "id": "gqdt6dKXa_gD",
        "outputId": "01fb9e6f-52ee-4b47-c357-aea6de1dd920"
      },
      "execution_count": 101,
      "outputs": [
        {
          "output_type": "execute_result",
          "data": {
            "text/plain": [
              "(151344, 37)"
            ]
          },
          "metadata": {},
          "execution_count": 101
        }
      ]
    },
    {
      "cell_type": "code",
      "source": [
        "x = df.iloc[:,:-1]\n",
        "x.shape"
      ],
      "metadata": {
        "colab": {
          "base_uri": "https://localhost:8080/"
        },
        "id": "odOlzN3HbAU2",
        "outputId": "59e46ae9-b195-49d1-f6b8-2f7e31d3c092"
      },
      "execution_count": 102,
      "outputs": [
        {
          "output_type": "execute_result",
          "data": {
            "text/plain": [
              "(758006, 36)"
            ]
          },
          "metadata": {},
          "execution_count": 102
        }
      ]
    },
    {
      "cell_type": "code",
      "source": [
        "y = df.iloc[:, -1:]\n",
        "y = np.ravel(y)"
      ],
      "metadata": {
        "id": "mrOMx-K8bERh"
      },
      "execution_count": 103,
      "outputs": []
    },
    {
      "cell_type": "code",
      "source": [
        "y.shape"
      ],
      "metadata": {
        "colab": {
          "base_uri": "https://localhost:8080/"
        },
        "id": "vSGkG_s-bOb7",
        "outputId": "0b235fe0-c89d-406c-92d6-0542edcdf672"
      },
      "execution_count": 104,
      "outputs": [
        {
          "output_type": "execute_result",
          "data": {
            "text/plain": [
              "(758006,)"
            ]
          },
          "metadata": {},
          "execution_count": 104
        }
      ]
    },
    {
      "cell_type": "code",
      "source": [
        "from sklearn.model_selection import train_test_split\n",
        "from sklearn.model_selection import cross_val_score\n",
        "from sklearn.model_selection import GridSearchCV\n",
        "from sklearn.ensemble import RandomForestClassifier\n",
        "from sklearn.metrics import accuracy_score"
      ],
      "metadata": {
        "id": "8qXw5o-SbGrH"
      },
      "execution_count": 105,
      "outputs": []
    },
    {
      "cell_type": "code",
      "source": [
        "x_train, x_test, y_train, y_test = train_test_split(x, y, test_size=0.1, random_state=42)"
      ],
      "metadata": {
        "id": "IKqsEHBNbI6q"
      },
      "execution_count": 106,
      "outputs": []
    },
    {
      "cell_type": "code",
      "source": [
        "y_train.shape"
      ],
      "metadata": {
        "colab": {
          "base_uri": "https://localhost:8080/"
        },
        "id": "jdGbRmnIcEV_",
        "outputId": "5a4dd48f-8505-4f14-948b-f1eb37f21aff"
      },
      "execution_count": 107,
      "outputs": [
        {
          "output_type": "execute_result",
          "data": {
            "text/plain": [
              "(682205,)"
            ]
          },
          "metadata": {},
          "execution_count": 107
        }
      ]
    },
    {
      "cell_type": "markdown",
      "source": [
        "# Logistic regression"
      ],
      "metadata": {
        "id": "RS7nmJSurhDN"
      }
    },
    {
      "cell_type": "code",
      "source": [
        "from sklearn.linear_model import LogisticRegression\n",
        "classifier = LogisticRegression()\n",
        "classifier.fit(x_train, y_train)"
      ],
      "metadata": {
        "colab": {
          "base_uri": "https://localhost:8080/"
        },
        "id": "JO9_rBHRrjuU",
        "outputId": "efb8b28b-eedd-4fae-9321-518efed3efec"
      },
      "execution_count": 108,
      "outputs": [
        {
          "output_type": "stream",
          "name": "stderr",
          "text": [
            "/usr/local/lib/python3.7/dist-packages/sklearn/linear_model/_logistic.py:818: ConvergenceWarning: lbfgs failed to converge (status=1):\n",
            "STOP: TOTAL NO. of ITERATIONS REACHED LIMIT.\n",
            "\n",
            "Increase the number of iterations (max_iter) or scale the data as shown in:\n",
            "    https://scikit-learn.org/stable/modules/preprocessing.html\n",
            "Please also refer to the documentation for alternative solver options:\n",
            "    https://scikit-learn.org/stable/modules/linear_model.html#logistic-regression\n",
            "  extra_warning_msg=_LOGISTIC_SOLVER_CONVERGENCE_MSG,\n"
          ]
        },
        {
          "output_type": "execute_result",
          "data": {
            "text/plain": [
              "LogisticRegression()"
            ]
          },
          "metadata": {},
          "execution_count": 108
        }
      ]
    },
    {
      "cell_type": "code",
      "source": [
        "y_pred = classifier.predict(x_test)"
      ],
      "metadata": {
        "id": "t47Gjlgrrjwo"
      },
      "execution_count": 109,
      "outputs": []
    },
    {
      "cell_type": "code",
      "source": [
        "from sklearn.metrics import confusion_matrix\n",
        "cm = confusion_matrix(y_test, y_pred)\n",
        " \n",
        "print (\"Confusion Matrix : \\n\", cm)"
      ],
      "metadata": {
        "colab": {
          "base_uri": "https://localhost:8080/"
        },
        "id": "1Qnr9EX7rjzP",
        "outputId": "24153c69-f59f-44fe-a3e6-2e1647b5bad4"
      },
      "execution_count": 110,
      "outputs": [
        {
          "output_type": "stream",
          "name": "stdout",
          "text": [
            "Confusion Matrix : \n",
            " [[51685  1488]\n",
            " [18495  4133]]\n"
          ]
        }
      ]
    },
    {
      "cell_type": "code",
      "source": [
        "from sklearn.metrics import accuracy_score\n",
        "print (\"Accuracy : \", accuracy_score(y_test, y_pred))"
      ],
      "metadata": {
        "colab": {
          "base_uri": "https://localhost:8080/"
        },
        "id": "ozSjk2Zgrj1W",
        "outputId": "7dce9c25-c039-48bf-bde9-514059a236ed"
      },
      "execution_count": 111,
      "outputs": [
        {
          "output_type": "stream",
          "name": "stdout",
          "text": [
            "Accuracy :  0.7363755095579214\n"
          ]
        }
      ]
    },
    {
      "cell_type": "code",
      "source": [
        "from sklearn.metrics import precision_score,recall_score,f1_score\n",
        "from sklearn.metrics import classification_report"
      ],
      "metadata": {
        "id": "HgS8JlTqrj3Z"
      },
      "execution_count": 112,
      "outputs": []
    },
    {
      "cell_type": "code",
      "source": [
        "print(classification_report(y_test, y_pred, target_names=[\"injury\", \"non-injury\"]))"
      ],
      "metadata": {
        "colab": {
          "base_uri": "https://localhost:8080/"
        },
        "id": "-vkcf0qprj5r",
        "outputId": "5620b282-7e83-4118-8f58-0047db852a97"
      },
      "execution_count": 113,
      "outputs": [
        {
          "output_type": "stream",
          "name": "stdout",
          "text": [
            "              precision    recall  f1-score   support\n",
            "\n",
            "      injury       0.74      0.97      0.84     53173\n",
            "  non-injury       0.74      0.18      0.29     22628\n",
            "\n",
            "    accuracy                           0.74     75801\n",
            "   macro avg       0.74      0.58      0.57     75801\n",
            "weighted avg       0.74      0.74      0.68     75801\n",
            "\n"
          ]
        }
      ]
    },
    {
      "cell_type": "markdown",
      "source": [
        "# Random Forest"
      ],
      "metadata": {
        "id": "q49wxZslSnBx"
      }
    },
    {
      "cell_type": "code",
      "source": [
        "#rfc=RandomForestClassifier(random_state=42)"
      ],
      "metadata": {
        "id": "ymHhQ2bhbLA7"
      },
      "execution_count": 114,
      "outputs": []
    },
    {
      "cell_type": "code",
      "source": [
        "\"\"\"param_grid = { \n",
        "    'n_estimators': [50,100,150,200],\n",
        "    'max_features': ['sqrt','log2'],\n",
        "    'max_depth' : [13,14,15,16],\n",
        "    'criterion' :['gini','entropy']\n",
        "}\"\"\""
      ],
      "metadata": {
        "id": "Nls9vPc8bSle",
        "colab": {
          "base_uri": "https://localhost:8080/",
          "height": 35
        },
        "outputId": "4743b263-4d52-400d-e02e-1d072df7d4b6"
      },
      "execution_count": 115,
      "outputs": [
        {
          "output_type": "execute_result",
          "data": {
            "text/plain": [
              "\"param_grid = { \\n    'n_estimators': [50,100,150,200],\\n    'max_features': ['sqrt','log2'],\\n    'max_depth' : [13,14,15,16],\\n    'criterion' :['gini','entropy']\\n}\""
            ],
            "application/vnd.google.colaboratory.intrinsic+json": {
              "type": "string"
            }
          },
          "metadata": {},
          "execution_count": 115
        }
      ]
    },
    {
      "cell_type": "code",
      "source": [
        "#CV_rfc = GridSearchCV(estimator=rfc, param_grid=param_grid, cv= 5)\n",
        "#CV_rfc.fit(x_train,y_train)"
      ],
      "metadata": {
        "id": "Sa8zwPAAbTjW"
      },
      "execution_count": 116,
      "outputs": []
    },
    {
      "cell_type": "code",
      "source": [
        "#CV_rfc.best_params_"
      ],
      "metadata": {
        "id": "eJynh1w3bUuu"
      },
      "execution_count": 117,
      "outputs": []
    },
    {
      "cell_type": "code",
      "source": [
        "rfc1=RandomForestClassifier(random_state=42, max_features='sqrt', n_estimators= 150, max_depth=13, criterion='gini')"
      ],
      "metadata": {
        "id": "BE5UK5v4bV3G"
      },
      "execution_count": 118,
      "outputs": []
    },
    {
      "cell_type": "code",
      "source": [
        "rfc1.fit(x_train, y_train)"
      ],
      "metadata": {
        "id": "itfw1_tNbW3h",
        "colab": {
          "base_uri": "https://localhost:8080/"
        },
        "outputId": "6f7abb85-ac61-412b-f08e-8d639d9fee17"
      },
      "execution_count": 119,
      "outputs": [
        {
          "output_type": "execute_result",
          "data": {
            "text/plain": [
              "RandomForestClassifier(max_depth=13, max_features='sqrt', n_estimators=150,\n",
              "                       random_state=42)"
            ]
          },
          "metadata": {},
          "execution_count": 119
        }
      ]
    },
    {
      "cell_type": "code",
      "source": [
        "dataframe = pd.DataFrame({'columns': x_train.columns,\n",
        "                          'importance': rfc1.feature_importances_})\n",
        "\n",
        "dataframe.sort_values('importance', ascending=False)"
      ],
      "metadata": {
        "id": "Vhajzzd7bX58",
        "colab": {
          "base_uri": "https://localhost:8080/",
          "height": 1000
        },
        "outputId": "e2e895e5-c421-460a-a649-50b182073754"
      },
      "execution_count": 120,
      "outputs": [
        {
          "output_type": "execute_result",
          "data": {
            "text/plain": [
              "                  columns  importance\n",
              "0                 bicycle    0.236324\n",
              "15             motorcycle    0.230877\n",
              "3         carStationWagon    0.140008\n",
              "25             speedLimit    0.059927\n",
              "14                  moped    0.052439\n",
              "34                  urban    0.049076\n",
              "5      crashFinancialYear    0.041703\n",
              "21          parkedVehicle    0.033814\n",
              "16          NumberOfLanes    0.023938\n",
              "32                   tree    0.018611\n",
              "13                  light    0.015884\n",
              "4               cliffBank    0.014982\n",
              "33                  truck    0.012807\n",
              "30         trafficControl    0.012071\n",
              "8                   fence    0.012047\n",
              "27                    suv    0.011097\n",
              "9                flatHill    0.009504\n",
              "7                   ditch    0.003817\n",
              "20               overBank    0.003628\n",
              "10              guardRail    0.003346\n",
              "29            trafficSign    0.002626\n",
              "2                     bus    0.001824\n",
              "11        houseOrBuilding    0.001765\n",
              "12                   kerb    0.001348\n",
              "18            otherObject    0.001109\n",
              "35                vehicle    0.001083\n",
              "1                  bridge    0.000911\n",
              "6                  debris    0.000866\n",
              "26            strayAnimal    0.000515\n",
              "28                   taxi    0.000512\n",
              "19       otherVehicleType    0.000509\n",
              "31                  train    0.000275\n",
              "17  objectThrownOrDropped    0.000228\n",
              "24            slipOrFlood    0.000200\n",
              "22              roadworks    0.000190\n",
              "23              schoolBus    0.000138"
            ],
            "text/html": [
              "\n",
              "  <div id=\"df-14d2260a-d1ae-4428-9549-0c2950e7d5af\">\n",
              "    <div class=\"colab-df-container\">\n",
              "      <div>\n",
              "<style scoped>\n",
              "    .dataframe tbody tr th:only-of-type {\n",
              "        vertical-align: middle;\n",
              "    }\n",
              "\n",
              "    .dataframe tbody tr th {\n",
              "        vertical-align: top;\n",
              "    }\n",
              "\n",
              "    .dataframe thead th {\n",
              "        text-align: right;\n",
              "    }\n",
              "</style>\n",
              "<table border=\"1\" class=\"dataframe\">\n",
              "  <thead>\n",
              "    <tr style=\"text-align: right;\">\n",
              "      <th></th>\n",
              "      <th>columns</th>\n",
              "      <th>importance</th>\n",
              "    </tr>\n",
              "  </thead>\n",
              "  <tbody>\n",
              "    <tr>\n",
              "      <th>0</th>\n",
              "      <td>bicycle</td>\n",
              "      <td>0.236324</td>\n",
              "    </tr>\n",
              "    <tr>\n",
              "      <th>15</th>\n",
              "      <td>motorcycle</td>\n",
              "      <td>0.230877</td>\n",
              "    </tr>\n",
              "    <tr>\n",
              "      <th>3</th>\n",
              "      <td>carStationWagon</td>\n",
              "      <td>0.140008</td>\n",
              "    </tr>\n",
              "    <tr>\n",
              "      <th>25</th>\n",
              "      <td>speedLimit</td>\n",
              "      <td>0.059927</td>\n",
              "    </tr>\n",
              "    <tr>\n",
              "      <th>14</th>\n",
              "      <td>moped</td>\n",
              "      <td>0.052439</td>\n",
              "    </tr>\n",
              "    <tr>\n",
              "      <th>34</th>\n",
              "      <td>urban</td>\n",
              "      <td>0.049076</td>\n",
              "    </tr>\n",
              "    <tr>\n",
              "      <th>5</th>\n",
              "      <td>crashFinancialYear</td>\n",
              "      <td>0.041703</td>\n",
              "    </tr>\n",
              "    <tr>\n",
              "      <th>21</th>\n",
              "      <td>parkedVehicle</td>\n",
              "      <td>0.033814</td>\n",
              "    </tr>\n",
              "    <tr>\n",
              "      <th>16</th>\n",
              "      <td>NumberOfLanes</td>\n",
              "      <td>0.023938</td>\n",
              "    </tr>\n",
              "    <tr>\n",
              "      <th>32</th>\n",
              "      <td>tree</td>\n",
              "      <td>0.018611</td>\n",
              "    </tr>\n",
              "    <tr>\n",
              "      <th>13</th>\n",
              "      <td>light</td>\n",
              "      <td>0.015884</td>\n",
              "    </tr>\n",
              "    <tr>\n",
              "      <th>4</th>\n",
              "      <td>cliffBank</td>\n",
              "      <td>0.014982</td>\n",
              "    </tr>\n",
              "    <tr>\n",
              "      <th>33</th>\n",
              "      <td>truck</td>\n",
              "      <td>0.012807</td>\n",
              "    </tr>\n",
              "    <tr>\n",
              "      <th>30</th>\n",
              "      <td>trafficControl</td>\n",
              "      <td>0.012071</td>\n",
              "    </tr>\n",
              "    <tr>\n",
              "      <th>8</th>\n",
              "      <td>fence</td>\n",
              "      <td>0.012047</td>\n",
              "    </tr>\n",
              "    <tr>\n",
              "      <th>27</th>\n",
              "      <td>suv</td>\n",
              "      <td>0.011097</td>\n",
              "    </tr>\n",
              "    <tr>\n",
              "      <th>9</th>\n",
              "      <td>flatHill</td>\n",
              "      <td>0.009504</td>\n",
              "    </tr>\n",
              "    <tr>\n",
              "      <th>7</th>\n",
              "      <td>ditch</td>\n",
              "      <td>0.003817</td>\n",
              "    </tr>\n",
              "    <tr>\n",
              "      <th>20</th>\n",
              "      <td>overBank</td>\n",
              "      <td>0.003628</td>\n",
              "    </tr>\n",
              "    <tr>\n",
              "      <th>10</th>\n",
              "      <td>guardRail</td>\n",
              "      <td>0.003346</td>\n",
              "    </tr>\n",
              "    <tr>\n",
              "      <th>29</th>\n",
              "      <td>trafficSign</td>\n",
              "      <td>0.002626</td>\n",
              "    </tr>\n",
              "    <tr>\n",
              "      <th>2</th>\n",
              "      <td>bus</td>\n",
              "      <td>0.001824</td>\n",
              "    </tr>\n",
              "    <tr>\n",
              "      <th>11</th>\n",
              "      <td>houseOrBuilding</td>\n",
              "      <td>0.001765</td>\n",
              "    </tr>\n",
              "    <tr>\n",
              "      <th>12</th>\n",
              "      <td>kerb</td>\n",
              "      <td>0.001348</td>\n",
              "    </tr>\n",
              "    <tr>\n",
              "      <th>18</th>\n",
              "      <td>otherObject</td>\n",
              "      <td>0.001109</td>\n",
              "    </tr>\n",
              "    <tr>\n",
              "      <th>35</th>\n",
              "      <td>vehicle</td>\n",
              "      <td>0.001083</td>\n",
              "    </tr>\n",
              "    <tr>\n",
              "      <th>1</th>\n",
              "      <td>bridge</td>\n",
              "      <td>0.000911</td>\n",
              "    </tr>\n",
              "    <tr>\n",
              "      <th>6</th>\n",
              "      <td>debris</td>\n",
              "      <td>0.000866</td>\n",
              "    </tr>\n",
              "    <tr>\n",
              "      <th>26</th>\n",
              "      <td>strayAnimal</td>\n",
              "      <td>0.000515</td>\n",
              "    </tr>\n",
              "    <tr>\n",
              "      <th>28</th>\n",
              "      <td>taxi</td>\n",
              "      <td>0.000512</td>\n",
              "    </tr>\n",
              "    <tr>\n",
              "      <th>19</th>\n",
              "      <td>otherVehicleType</td>\n",
              "      <td>0.000509</td>\n",
              "    </tr>\n",
              "    <tr>\n",
              "      <th>31</th>\n",
              "      <td>train</td>\n",
              "      <td>0.000275</td>\n",
              "    </tr>\n",
              "    <tr>\n",
              "      <th>17</th>\n",
              "      <td>objectThrownOrDropped</td>\n",
              "      <td>0.000228</td>\n",
              "    </tr>\n",
              "    <tr>\n",
              "      <th>24</th>\n",
              "      <td>slipOrFlood</td>\n",
              "      <td>0.000200</td>\n",
              "    </tr>\n",
              "    <tr>\n",
              "      <th>22</th>\n",
              "      <td>roadworks</td>\n",
              "      <td>0.000190</td>\n",
              "    </tr>\n",
              "    <tr>\n",
              "      <th>23</th>\n",
              "      <td>schoolBus</td>\n",
              "      <td>0.000138</td>\n",
              "    </tr>\n",
              "  </tbody>\n",
              "</table>\n",
              "</div>\n",
              "      <button class=\"colab-df-convert\" onclick=\"convertToInteractive('df-14d2260a-d1ae-4428-9549-0c2950e7d5af')\"\n",
              "              title=\"Convert this dataframe to an interactive table.\"\n",
              "              style=\"display:none;\">\n",
              "        \n",
              "  <svg xmlns=\"http://www.w3.org/2000/svg\" height=\"24px\"viewBox=\"0 0 24 24\"\n",
              "       width=\"24px\">\n",
              "    <path d=\"M0 0h24v24H0V0z\" fill=\"none\"/>\n",
              "    <path d=\"M18.56 5.44l.94 2.06.94-2.06 2.06-.94-2.06-.94-.94-2.06-.94 2.06-2.06.94zm-11 1L8.5 8.5l.94-2.06 2.06-.94-2.06-.94L8.5 2.5l-.94 2.06-2.06.94zm10 10l.94 2.06.94-2.06 2.06-.94-2.06-.94-.94-2.06-.94 2.06-2.06.94z\"/><path d=\"M17.41 7.96l-1.37-1.37c-.4-.4-.92-.59-1.43-.59-.52 0-1.04.2-1.43.59L10.3 9.45l-7.72 7.72c-.78.78-.78 2.05 0 2.83L4 21.41c.39.39.9.59 1.41.59.51 0 1.02-.2 1.41-.59l7.78-7.78 2.81-2.81c.8-.78.8-2.07 0-2.86zM5.41 20L4 18.59l7.72-7.72 1.47 1.35L5.41 20z\"/>\n",
              "  </svg>\n",
              "      </button>\n",
              "      \n",
              "  <style>\n",
              "    .colab-df-container {\n",
              "      display:flex;\n",
              "      flex-wrap:wrap;\n",
              "      gap: 12px;\n",
              "    }\n",
              "\n",
              "    .colab-df-convert {\n",
              "      background-color: #E8F0FE;\n",
              "      border: none;\n",
              "      border-radius: 50%;\n",
              "      cursor: pointer;\n",
              "      display: none;\n",
              "      fill: #1967D2;\n",
              "      height: 32px;\n",
              "      padding: 0 0 0 0;\n",
              "      width: 32px;\n",
              "    }\n",
              "\n",
              "    .colab-df-convert:hover {\n",
              "      background-color: #E2EBFA;\n",
              "      box-shadow: 0px 1px 2px rgba(60, 64, 67, 0.3), 0px 1px 3px 1px rgba(60, 64, 67, 0.15);\n",
              "      fill: #174EA6;\n",
              "    }\n",
              "\n",
              "    [theme=dark] .colab-df-convert {\n",
              "      background-color: #3B4455;\n",
              "      fill: #D2E3FC;\n",
              "    }\n",
              "\n",
              "    [theme=dark] .colab-df-convert:hover {\n",
              "      background-color: #434B5C;\n",
              "      box-shadow: 0px 1px 3px 1px rgba(0, 0, 0, 0.15);\n",
              "      filter: drop-shadow(0px 1px 2px rgba(0, 0, 0, 0.3));\n",
              "      fill: #FFFFFF;\n",
              "    }\n",
              "  </style>\n",
              "\n",
              "      <script>\n",
              "        const buttonEl =\n",
              "          document.querySelector('#df-14d2260a-d1ae-4428-9549-0c2950e7d5af button.colab-df-convert');\n",
              "        buttonEl.style.display =\n",
              "          google.colab.kernel.accessAllowed ? 'block' : 'none';\n",
              "\n",
              "        async function convertToInteractive(key) {\n",
              "          const element = document.querySelector('#df-14d2260a-d1ae-4428-9549-0c2950e7d5af');\n",
              "          const dataTable =\n",
              "            await google.colab.kernel.invokeFunction('convertToInteractive',\n",
              "                                                     [key], {});\n",
              "          if (!dataTable) return;\n",
              "\n",
              "          const docLinkHtml = 'Like what you see? Visit the ' +\n",
              "            '<a target=\"_blank\" href=https://colab.research.google.com/notebooks/data_table.ipynb>data table notebook</a>'\n",
              "            + ' to learn more about interactive tables.';\n",
              "          element.innerHTML = '';\n",
              "          dataTable['output_type'] = 'display_data';\n",
              "          await google.colab.output.renderOutput(dataTable, element);\n",
              "          const docLink = document.createElement('div');\n",
              "          docLink.innerHTML = docLinkHtml;\n",
              "          element.appendChild(docLink);\n",
              "        }\n",
              "      </script>\n",
              "    </div>\n",
              "  </div>\n",
              "  "
            ]
          },
          "metadata": {},
          "execution_count": 120
        }
      ]
    },
    {
      "cell_type": "code",
      "source": [
        "from sklearn.metrics import confusion_matrix"
      ],
      "metadata": {
        "id": "wKcvH0dEbY8M"
      },
      "execution_count": 121,
      "outputs": []
    },
    {
      "cell_type": "code",
      "source": [
        "y_pred = rfc1.predict(x_test)\n",
        "cm = confusion_matrix(y_test,y_pred)"
      ],
      "metadata": {
        "id": "eTAEudhrbZ1T"
      },
      "execution_count": 122,
      "outputs": []
    },
    {
      "cell_type": "code",
      "source": [
        "cm"
      ],
      "metadata": {
        "id": "im084R2DbasK",
        "colab": {
          "base_uri": "https://localhost:8080/"
        },
        "outputId": "83bb4a29-cdaa-4b68-9ea4-37abd0a84184"
      },
      "execution_count": 123,
      "outputs": [
        {
          "output_type": "execute_result",
          "data": {
            "text/plain": [
              "array([[51728,  1445],\n",
              "       [18183,  4445]])"
            ]
          },
          "metadata": {},
          "execution_count": 123
        }
      ]
    },
    {
      "cell_type": "code",
      "source": [
        "from sklearn.metrics import precision_score,recall_score,f1_score\n",
        "from sklearn.metrics import classification_report"
      ],
      "metadata": {
        "id": "jzvYIh0fbbmU"
      },
      "execution_count": 124,
      "outputs": []
    },
    {
      "cell_type": "code",
      "source": [
        "print(\"precision_score: \"+ str(precision_score(y_test,y_pred,average=\"micro\")))\n",
        "print(\"recall_score: \"+ str(recall_score(y_test,y_pred,average=\"micro\")))\n",
        "print(\"f1_score: \"+ str(f1_score(y_test,y_pred,average=\"micro\")))"
      ],
      "metadata": {
        "id": "_F8k8xyabcmT",
        "colab": {
          "base_uri": "https://localhost:8080/"
        },
        "outputId": "739e6a36-35ff-4e35-c1d3-6efb7e46a3dd"
      },
      "execution_count": 125,
      "outputs": [
        {
          "output_type": "stream",
          "name": "stdout",
          "text": [
            "precision_score: 0.7410588250814633\n",
            "recall_score: 0.7410588250814633\n",
            "f1_score: 0.7410588250814633\n"
          ]
        }
      ]
    },
    {
      "cell_type": "code",
      "source": [
        "print(classification_report(y_test, y_pred, target_names=[\"injury\", \"non-injury\"]))"
      ],
      "metadata": {
        "id": "bbzQNA-cbduq",
        "colab": {
          "base_uri": "https://localhost:8080/"
        },
        "outputId": "47f959e0-ce88-4595-b99f-606df27c404c"
      },
      "execution_count": 126,
      "outputs": [
        {
          "output_type": "stream",
          "name": "stdout",
          "text": [
            "              precision    recall  f1-score   support\n",
            "\n",
            "      injury       0.74      0.97      0.84     53173\n",
            "  non-injury       0.75      0.20      0.31     22628\n",
            "\n",
            "    accuracy                           0.74     75801\n",
            "   macro avg       0.75      0.58      0.58     75801\n",
            "weighted avg       0.74      0.74      0.68     75801\n",
            "\n"
          ]
        }
      ]
    },
    {
      "cell_type": "code",
      "source": [
        "print(\"precision_score: \"+ str(precision_score(y_test,y_pred,average=\"macro\")))\n",
        "print(\"recall_score: \"+ str(recall_score(y_test,y_pred,average=\"macro\")))\n",
        "print(\"f1_score: \"+ str(f1_score(y_test,y_pred,average=\"macro\")))"
      ],
      "metadata": {
        "id": "Mue-l5QnbeoY",
        "colab": {
          "base_uri": "https://localhost:8080/"
        },
        "outputId": "35aff84c-9680-4cbd-984e-c6930f971af9"
      },
      "execution_count": 127,
      "outputs": [
        {
          "output_type": "stream",
          "name": "stdout",
          "text": [
            "precision_score: 0.7472905522201778\n",
            "recall_score: 0.5846312975897935\n",
            "f1_score: 0.576132305013964\n"
          ]
        }
      ]
    }
  ]
}